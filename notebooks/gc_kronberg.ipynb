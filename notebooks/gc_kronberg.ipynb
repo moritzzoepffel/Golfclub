{
 "cells": [
  {
   "cell_type": "code",
   "execution_count": null,
   "metadata": {},
   "outputs": [],
   "source": [
    "import pandas as pd \n",
    "import numpy as np\n",
    "import plotly.express as px\n",
    "import matplotlib.pyplot as plt\n",
    "import seaborn as sns\n",
    "import plotly.graph_objects as go"
   ]
  },
  {
   "cell_type": "code",
   "execution_count": null,
   "metadata": {},
   "outputs": [],
   "source": [
    "data = pd.read_csv('../data/golfclub_data.csv', sep=';', decimal=',')"
   ]
  },
  {
   "cell_type": "code",
   "execution_count": null,
   "metadata": {},
   "outputs": [],
   "source": [
    "data.info()"
   ]
  },
  {
   "cell_type": "code",
   "execution_count": null,
   "metadata": {},
   "outputs": [],
   "source": [
    "data['Datum'] = pd.to_datetime(data['Datum'], format='%d.%m.%y')\n",
    "data[\"time\"] = data[\"Startzeit\"].apply(lambda x: x.split(\" -\")[0])\n",
    "\n",
    "# add time to Datum column\n",
    "data[\"Datum\"] = data[\"Datum\"].astype(str) + \" \" + data[\"time\"]\n",
    "data[\"Datum\"] = pd.to_datetime(data[\"Datum\"], format='%Y-%m-%d %H:%M:%S')"
   ]
  },
  {
   "cell_type": "code",
   "execution_count": null,
   "metadata": {},
   "outputs": [],
   "source": [
    "data"
   ]
  },
  {
   "cell_type": "code",
   "execution_count": null,
   "metadata": {},
   "outputs": [],
   "source": [
    "data[\"Auslastung Gesamt\"] = data[\"Auslastung %\"].replace(\",\", \".\")\n",
    "data[\"Auslastung Gäste\"] = data[\"Gäste\"]/4\n",
    "data[\"Auslastung MGL Gesa.\"] = data[\"MGL Gesa.\"]/4\n",
    "data[\"Auslastung MGL Jugend\"] = data[\"Jugend\"]/4\n",
    "data[\"Auslastung MGL 18-40\"] = data[\"MGL 18-40\"]/4\n",
    "data[\"Auslastung MGL 40-50\"] = data[\"MGL 40-50\"]/4\n",
    "data[\"Auslastung MGL 50-65\"] = data[\"MGL 50-65\"]/4\n",
    "data[\"Auslastung MGL 65+\"] = data[\"MGL 65+\"]/4"
   ]
  },
  {
   "cell_type": "code",
   "execution_count": null,
   "metadata": {},
   "outputs": [],
   "source": [
    "data.drop(columns=['Tage Saison'], inplace=True)"
   ]
  },
  {
   "cell_type": "code",
   "execution_count": null,
   "metadata": {},
   "outputs": [],
   "source": [
    "data.describe()"
   ]
  },
  {
   "cell_type": "code",
   "execution_count": null,
   "metadata": {},
   "outputs": [],
   "source": [
    "data['Jahr'] = data['Datum'].dt.year\n",
    "data['Monat'] = data['Datum'].dt.month\n",
    "data['Tag'] = data['Datum'].dt.day\n",
    "data['Wochentag'] = data['Datum'].dt.dayofweek\n",
    "data['Weekend'] = data['Wochentag'].apply(lambda x: 1 if x > 4 else 0)\n",
    "data['Stunde'] = data['Datum'].dt.hour\n",
    "data['Minute'] = data['Datum'].dt.minute\n",
    "data.drop(columns=['Datum', 'Startzeit'], inplace=True)"
   ]
  },
  {
   "cell_type": "code",
   "execution_count": null,
   "metadata": {},
   "outputs": [],
   "source": [
    "wochentag = {0: 'Mo', 1: 'Di', 2: 'Mi', 3: 'Do', 4: 'Fr', 5: 'Sa', 6: 'So'}\n",
    "data['Wochentag'] = data['Wochentag'].map(wochentag)\n",
    "\n",
    "saison = {4: 'April - Mai', 5: 'April - Mai', 6: 'Juni - Juli', 7: 'Juni - Juli', 8: 'August - September', 9: 'August - September', 10: 'Oktober'}\n",
    "data['Saison'] = data['Monat'].map(saison)"
   ]
  },
  {
   "cell_type": "code",
   "execution_count": null,
   "metadata": {},
   "outputs": [],
   "source": [
    "# show monat and saison\n",
    "data[['Monat', 'Saison']].sort_values(by='Monat').drop_duplicates()"
   ]
  },
  {
   "cell_type": "code",
   "execution_count": null,
   "metadata": {},
   "outputs": [],
   "source": [
    "data = data.astype({\n",
    "    'Auslastung %': 'float',\n",
    "    'Jahr': 'int',\n",
    "    'Monat': 'int',\n",
    "    'Tag': 'int',\n",
    "    'Weekend': 'bool'\n",
    "})"
   ]
  },
  {
   "cell_type": "code",
   "execution_count": null,
   "metadata": {},
   "outputs": [],
   "source": [
    "data.sort_values(by=\"Monat\")[['Monat', 'Auslastung %']]"
   ]
  },
  {
   "cell_type": "code",
   "execution_count": null,
   "metadata": {},
   "outputs": [],
   "source": [
    "import os\n",
    "os.makedirs('../plots/gc_kronberg_barplots/', exist_ok=True)\n",
    "os.makedirs('../plots/gc_kronberg_jahr_wochentag/', exist_ok=True)\n",
    "os.makedirs('../plots/gc_kronberg_saison_wochentag/', exist_ok=True)\n",
    "os.makedirs('../plots/gc_kronberg_jahr_startzeit/', exist_ok=True)\n",
    "os.makedirs('../plots/gc_kronberg_saison_startzeit/', exist_ok=True)\n",
    "os.makedirs('../plots/gc_kronberg_jahr_stunde/', exist_ok=True)\n",
    "os.makedirs('../plots/gc_kronberg_saison_stunde/', exist_ok=True)\n",
    "os.makedirs('../plots/gc_kronberg_jahr_monat/', exist_ok=True)"
   ]
  },
  {
   "cell_type": "code",
   "execution_count": null,
   "metadata": {},
   "outputs": [],
   "source": [
    "columns = ['davon freie Kap', 'Auslastung %', 'Internet', 'time', 'Auslastung Gesamt',\n",
    "       'Auslastung Gäste', 'Auslastung MGL Gesa.', 'Auslastung MGL Jugend',\n",
    "       'Auslastung MGL 18-40', 'Auslastung MGL 40-50', 'Auslastung MGL 50-65',\n",
    "       'Auslastung MGL 65+', 'Jahr', 'Monat', 'Tag', 'Weekend', 'Saison',\n",
    "       'Stunde', 'Minute']\n",
    "\n",
    "monate = {\n",
    "    1: \"Jan\",\n",
    "    2: \"Feb\",\n",
    "    3: \"Mär\",\n",
    "    4: \"Apr\",\n",
    "    5: \"Mai\",\n",
    "    6: \"Jun\",\n",
    "    7: \"Jul\",\n",
    "    8: \"Aug\",\n",
    "    9: \"Sep\",\n",
    "    10: \"Okt\",\n",
    "    11: \"Nov\",\n",
    "    12: \"Dez\"\n",
    "}\n",
    "\n",
    "data[\"monat_text\"] = data[\"Monat\"].map(monate)\n",
    "\n",
    "data[columns].describe()"
   ]
  },
  {
   "cell_type": "code",
   "execution_count": null,
   "metadata": {
    "collapsed": false
   },
   "outputs": [],
   "source": [
    "data.to_csv('../data/gc_kronberg_cleaned.csv', index=False)\n",
    "data.to_csv('../streamlit/gc_kronberg_cleaned.csv', index=False)"
   ]
  },
  {
   "cell_type": "code",
   "execution_count": null,
   "metadata": {
    "collapsed": false
   },
   "outputs": [],
   "source": [
    "data"
   ]
  },
  {
   "cell_type": "code",
   "execution_count": null,
   "metadata": {},
   "outputs": [],
   "source": [
    "data.groupby([\"Jahr\", \"Monat\", \"Stunde\"])[\"Auslastung Gesamt\"].describe().sort_values(by=\"mean\", ascending=True).head(20)"
   ]
  },
  {
   "cell_type": "code",
   "execution_count": null,
   "metadata": {},
   "outputs": [],
   "source": [
    "for col in data.columns:\n",
    "        if col in ['Jahr', 'Monat', 'Wochentag', 'Saison', 'Stunde', 'Minute']:\n",
    "            sns.countplot(x=col, data=data, hue=\"Gesamt\")\n",
    "            plt.title(f'Flightgröße nach {col}')\n",
    "            plt.savefig(f'../plots/gc_kronberg_barplots/{col}.png')\n",
    "            plt.show()"
   ]
  },
  {
   "cell_type": "code",
   "execution_count": null,
   "metadata": {},
   "outputs": [],
   "source": [
    "for col in data.columns:\n",
    "    if col not in [\"Auslastung %\", \"Gesamt\", 'Jahr', 'Monat', 'Tag', 'Wochentag', 'Saison', 'Max Kap', 'Sperrung.', 'Internet', 'Weekend', 'Stunde', 'Minute', 'time', \"davon freie Kap\", \"Gäste\", \"MGL Gesa.\", \"Jugend\", \"MGL 18-40\", \"MGL 40-50\", \"MGL 50-65\", \"MGL 65+\", \"monat_text\"]:\n",
    "        data2 = data.groupby(['Jahr', \"Monat\"])[col].mean()\n",
    "        data2 = data2.reset_index()\n",
    "        fig = px.line(data2, x='Monat', y=col, color='Jahr', title=f'Auslastung GC Kronberg {col} in % pro Monat und Jahr 2021 - 2022', labels={'Monat': 'Monat', 'Jahr': 'Jahr', col: 'Auslastung in %'})\n",
    "        \n",
    "        #plot data in the same graph\n",
    "        data3 = data.groupby([\"Monat\"])[col].mean()\n",
    "        data3 = data3.reset_index()\n",
    "       # fig.add_trace(go.Scatter(x=data3[\"Wochentag\"], y=data3[col], mode=\"lines\", name=\"Durchschnitt\", marker=dict(color=\"Black\", size=10)))\n",
    "        fig.layout.yaxis.tickformat = ',.0%'\n",
    "        \n",
    "        fig.update_xaxes(tickvals=[1,2,3,4,5,6,7,8,9,10,11,12], ticktext=['Januar', 'Februar', 'März', 'April', 'Mai', 'Juni', 'Juli', 'August', 'September', 'Oktober', 'November', 'Dezember'])\n",
    "        \n",
    "        fig.update_layout(width=1600)\n",
    "        \n",
    "        data2_2021 = data2[data2[\"Jahr\"] == 2021]\n",
    "        data2_2022 = data2[data2[\"Jahr\"] == 2022]\n",
    "        \n",
    "        # markiere max und min für jedes Jahr\n",
    "        fig.add_trace(go.Scatter(x=[data2_2021[data2_2021[col] == data2_2021[col].max()][\"Monat\"].values[0]], y=[data2_2021[col].max()], mode=\"markers\", name=\"Höchste Auslastung 2021\", marker=dict(color=\"Green\", size=10)))\n",
    "        fig.add_trace(go.Scatter(x=[data2_2021[data2_2021[col] == data2_2021[col].min()][\"Monat\"].values[0]], y=[data2_2021[col].min()], mode=\"markers\", name=\"Geringste Auslastung 2021\", marker=dict(color=\"Orange\", size=10)))\n",
    "        fig.add_trace(go.Scatter(x=[data2_2022[data2_2022[col] == data2_2022[col].max()][\"Monat\"].values[0]], y=[data2_2022[col].max()], mode=\"markers\", name=\"Höchste Auslastung 2022\", marker=dict(color=\"Red\", size=10)))\n",
    "        fig.add_trace(go.Scatter(x=[data2_2022[data2_2022[col] == data2_2022[col].min()][\"Monat\"].values[0]], y=[data2_2022[col].min()], mode=\"markers\", name=\"Geringste Auslastung 2022\", marker=dict(color=\"Purple\", size=10)))\n",
    "           \n",
    "        fig.write_image(f\"../plots/gc_kronberg_jahr_monat/{col}.png\")\n",
    "        fig.show()\n"
   ]
  },
  {
   "cell_type": "code",
   "execution_count": 45,
   "metadata": {},
   "outputs": [
    {
     "data": {
      "application/vnd.plotly.v1+json": {
       "config": {
        "plotlyServerURL": "https://plot.ly"
       },
       "data": [
        {
         "line": {
          "width": 5
         },
         "marker": {
          "color": "Red",
          "size": 10
         },
         "mode": "lines",
         "name": "2021",
         "type": "scatter",
         "x": [
          "Mo",
          "Di",
          "Mi",
          "Do",
          "Fr",
          "Sa",
          "So"
         ],
         "y": [
          0.16289080199365655,
          0.1473429951690821,
          0.14191176470588235,
          0.13305464926590538,
          0.2361111111111111,
          0.2112315875613748,
          0.266199649737303
         ]
        },
        {
         "line": {
          "width": 5
         },
         "marker": {
          "color": "Blue",
          "size": 10
         },
         "mode": "lines",
         "name": "2022",
         "type": "scatter",
         "x": [
          "Mo",
          "Di",
          "Mi",
          "Do",
          "Fr",
          "Sa",
          "So"
         ],
         "y": [
          0.12987012987012986,
          0.08052708638360176,
          0.10595238095238095,
          0.09222140492828246,
          0.16051888457465585,
          0.14549325762952448,
          0.15981291916696083
         ]
        },
        {
         "marker": {
          "color": "Green",
          "size": 10
         },
         "mode": "markers",
         "name": "Höchste Auslastung 2021",
         "type": "scatter",
         "x": [
          "So"
         ],
         "y": [
          0.266199649737303
         ]
        },
        {
         "marker": {
          "color": "Orange",
          "size": 10
         },
         "mode": "markers",
         "name": "Geringste Auslastung 2021",
         "type": "scatter",
         "x": [
          "Do"
         ],
         "y": [
          0.13305464926590538
         ]
        },
        {
         "marker": {
          "color": "Red",
          "size": 10
         },
         "mode": "markers",
         "name": "Höchste Auslastung 2022",
         "type": "scatter",
         "x": [
          "Fr"
         ],
         "y": [
          0.16051888457465585
         ]
        },
        {
         "marker": {
          "color": "Purple",
          "size": 10
         },
         "mode": "markers",
         "name": "Geringste Auslastung 2022",
         "type": "scatter",
         "x": [
          "Di"
         ],
         "y": [
          0.08052708638360176
         ]
        }
       ],
       "layout": {
        "font": {
         "size": 24
        },
        "template": {
         "data": {
          "bar": [
           {
            "error_x": {
             "color": "#2a3f5f"
            },
            "error_y": {
             "color": "#2a3f5f"
            },
            "marker": {
             "line": {
              "color": "#E5ECF6",
              "width": 0.5
             },
             "pattern": {
              "fillmode": "overlay",
              "size": 10,
              "solidity": 0.2
             }
            },
            "type": "bar"
           }
          ],
          "barpolar": [
           {
            "marker": {
             "line": {
              "color": "#E5ECF6",
              "width": 0.5
             },
             "pattern": {
              "fillmode": "overlay",
              "size": 10,
              "solidity": 0.2
             }
            },
            "type": "barpolar"
           }
          ],
          "carpet": [
           {
            "aaxis": {
             "endlinecolor": "#2a3f5f",
             "gridcolor": "white",
             "linecolor": "white",
             "minorgridcolor": "white",
             "startlinecolor": "#2a3f5f"
            },
            "baxis": {
             "endlinecolor": "#2a3f5f",
             "gridcolor": "white",
             "linecolor": "white",
             "minorgridcolor": "white",
             "startlinecolor": "#2a3f5f"
            },
            "type": "carpet"
           }
          ],
          "choropleth": [
           {
            "colorbar": {
             "outlinewidth": 0,
             "ticks": ""
            },
            "type": "choropleth"
           }
          ],
          "contour": [
           {
            "colorbar": {
             "outlinewidth": 0,
             "ticks": ""
            },
            "colorscale": [
             [
              0,
              "#0d0887"
             ],
             [
              0.1111111111111111,
              "#46039f"
             ],
             [
              0.2222222222222222,
              "#7201a8"
             ],
             [
              0.3333333333333333,
              "#9c179e"
             ],
             [
              0.4444444444444444,
              "#bd3786"
             ],
             [
              0.5555555555555556,
              "#d8576b"
             ],
             [
              0.6666666666666666,
              "#ed7953"
             ],
             [
              0.7777777777777778,
              "#fb9f3a"
             ],
             [
              0.8888888888888888,
              "#fdca26"
             ],
             [
              1,
              "#f0f921"
             ]
            ],
            "type": "contour"
           }
          ],
          "contourcarpet": [
           {
            "colorbar": {
             "outlinewidth": 0,
             "ticks": ""
            },
            "type": "contourcarpet"
           }
          ],
          "heatmap": [
           {
            "colorbar": {
             "outlinewidth": 0,
             "ticks": ""
            },
            "colorscale": [
             [
              0,
              "#0d0887"
             ],
             [
              0.1111111111111111,
              "#46039f"
             ],
             [
              0.2222222222222222,
              "#7201a8"
             ],
             [
              0.3333333333333333,
              "#9c179e"
             ],
             [
              0.4444444444444444,
              "#bd3786"
             ],
             [
              0.5555555555555556,
              "#d8576b"
             ],
             [
              0.6666666666666666,
              "#ed7953"
             ],
             [
              0.7777777777777778,
              "#fb9f3a"
             ],
             [
              0.8888888888888888,
              "#fdca26"
             ],
             [
              1,
              "#f0f921"
             ]
            ],
            "type": "heatmap"
           }
          ],
          "heatmapgl": [
           {
            "colorbar": {
             "outlinewidth": 0,
             "ticks": ""
            },
            "colorscale": [
             [
              0,
              "#0d0887"
             ],
             [
              0.1111111111111111,
              "#46039f"
             ],
             [
              0.2222222222222222,
              "#7201a8"
             ],
             [
              0.3333333333333333,
              "#9c179e"
             ],
             [
              0.4444444444444444,
              "#bd3786"
             ],
             [
              0.5555555555555556,
              "#d8576b"
             ],
             [
              0.6666666666666666,
              "#ed7953"
             ],
             [
              0.7777777777777778,
              "#fb9f3a"
             ],
             [
              0.8888888888888888,
              "#fdca26"
             ],
             [
              1,
              "#f0f921"
             ]
            ],
            "type": "heatmapgl"
           }
          ],
          "histogram": [
           {
            "marker": {
             "pattern": {
              "fillmode": "overlay",
              "size": 10,
              "solidity": 0.2
             }
            },
            "type": "histogram"
           }
          ],
          "histogram2d": [
           {
            "colorbar": {
             "outlinewidth": 0,
             "ticks": ""
            },
            "colorscale": [
             [
              0,
              "#0d0887"
             ],
             [
              0.1111111111111111,
              "#46039f"
             ],
             [
              0.2222222222222222,
              "#7201a8"
             ],
             [
              0.3333333333333333,
              "#9c179e"
             ],
             [
              0.4444444444444444,
              "#bd3786"
             ],
             [
              0.5555555555555556,
              "#d8576b"
             ],
             [
              0.6666666666666666,
              "#ed7953"
             ],
             [
              0.7777777777777778,
              "#fb9f3a"
             ],
             [
              0.8888888888888888,
              "#fdca26"
             ],
             [
              1,
              "#f0f921"
             ]
            ],
            "type": "histogram2d"
           }
          ],
          "histogram2dcontour": [
           {
            "colorbar": {
             "outlinewidth": 0,
             "ticks": ""
            },
            "colorscale": [
             [
              0,
              "#0d0887"
             ],
             [
              0.1111111111111111,
              "#46039f"
             ],
             [
              0.2222222222222222,
              "#7201a8"
             ],
             [
              0.3333333333333333,
              "#9c179e"
             ],
             [
              0.4444444444444444,
              "#bd3786"
             ],
             [
              0.5555555555555556,
              "#d8576b"
             ],
             [
              0.6666666666666666,
              "#ed7953"
             ],
             [
              0.7777777777777778,
              "#fb9f3a"
             ],
             [
              0.8888888888888888,
              "#fdca26"
             ],
             [
              1,
              "#f0f921"
             ]
            ],
            "type": "histogram2dcontour"
           }
          ],
          "mesh3d": [
           {
            "colorbar": {
             "outlinewidth": 0,
             "ticks": ""
            },
            "type": "mesh3d"
           }
          ],
          "parcoords": [
           {
            "line": {
             "colorbar": {
              "outlinewidth": 0,
              "ticks": ""
             }
            },
            "type": "parcoords"
           }
          ],
          "pie": [
           {
            "automargin": true,
            "type": "pie"
           }
          ],
          "scatter": [
           {
            "fillpattern": {
             "fillmode": "overlay",
             "size": 10,
             "solidity": 0.2
            },
            "type": "scatter"
           }
          ],
          "scatter3d": [
           {
            "line": {
             "colorbar": {
              "outlinewidth": 0,
              "ticks": ""
             }
            },
            "marker": {
             "colorbar": {
              "outlinewidth": 0,
              "ticks": ""
             }
            },
            "type": "scatter3d"
           }
          ],
          "scattercarpet": [
           {
            "marker": {
             "colorbar": {
              "outlinewidth": 0,
              "ticks": ""
             }
            },
            "type": "scattercarpet"
           }
          ],
          "scattergeo": [
           {
            "marker": {
             "colorbar": {
              "outlinewidth": 0,
              "ticks": ""
             }
            },
            "type": "scattergeo"
           }
          ],
          "scattergl": [
           {
            "marker": {
             "colorbar": {
              "outlinewidth": 0,
              "ticks": ""
             }
            },
            "type": "scattergl"
           }
          ],
          "scattermapbox": [
           {
            "marker": {
             "colorbar": {
              "outlinewidth": 0,
              "ticks": ""
             }
            },
            "type": "scattermapbox"
           }
          ],
          "scatterpolar": [
           {
            "marker": {
             "colorbar": {
              "outlinewidth": 0,
              "ticks": ""
             }
            },
            "type": "scatterpolar"
           }
          ],
          "scatterpolargl": [
           {
            "marker": {
             "colorbar": {
              "outlinewidth": 0,
              "ticks": ""
             }
            },
            "type": "scatterpolargl"
           }
          ],
          "scatterternary": [
           {
            "marker": {
             "colorbar": {
              "outlinewidth": 0,
              "ticks": ""
             }
            },
            "type": "scatterternary"
           }
          ],
          "surface": [
           {
            "colorbar": {
             "outlinewidth": 0,
             "ticks": ""
            },
            "colorscale": [
             [
              0,
              "#0d0887"
             ],
             [
              0.1111111111111111,
              "#46039f"
             ],
             [
              0.2222222222222222,
              "#7201a8"
             ],
             [
              0.3333333333333333,
              "#9c179e"
             ],
             [
              0.4444444444444444,
              "#bd3786"
             ],
             [
              0.5555555555555556,
              "#d8576b"
             ],
             [
              0.6666666666666666,
              "#ed7953"
             ],
             [
              0.7777777777777778,
              "#fb9f3a"
             ],
             [
              0.8888888888888888,
              "#fdca26"
             ],
             [
              1,
              "#f0f921"
             ]
            ],
            "type": "surface"
           }
          ],
          "table": [
           {
            "cells": {
             "fill": {
              "color": "#EBF0F8"
             },
             "line": {
              "color": "white"
             }
            },
            "header": {
             "fill": {
              "color": "#C8D4E3"
             },
             "line": {
              "color": "white"
             }
            },
            "type": "table"
           }
          ]
         },
         "layout": {
          "annotationdefaults": {
           "arrowcolor": "#2a3f5f",
           "arrowhead": 0,
           "arrowwidth": 1
          },
          "autotypenumbers": "strict",
          "coloraxis": {
           "colorbar": {
            "outlinewidth": 0,
            "ticks": ""
           }
          },
          "colorscale": {
           "diverging": [
            [
             0,
             "#8e0152"
            ],
            [
             0.1,
             "#c51b7d"
            ],
            [
             0.2,
             "#de77ae"
            ],
            [
             0.3,
             "#f1b6da"
            ],
            [
             0.4,
             "#fde0ef"
            ],
            [
             0.5,
             "#f7f7f7"
            ],
            [
             0.6,
             "#e6f5d0"
            ],
            [
             0.7,
             "#b8e186"
            ],
            [
             0.8,
             "#7fbc41"
            ],
            [
             0.9,
             "#4d9221"
            ],
            [
             1,
             "#276419"
            ]
           ],
           "sequential": [
            [
             0,
             "#0d0887"
            ],
            [
             0.1111111111111111,
             "#46039f"
            ],
            [
             0.2222222222222222,
             "#7201a8"
            ],
            [
             0.3333333333333333,
             "#9c179e"
            ],
            [
             0.4444444444444444,
             "#bd3786"
            ],
            [
             0.5555555555555556,
             "#d8576b"
            ],
            [
             0.6666666666666666,
             "#ed7953"
            ],
            [
             0.7777777777777778,
             "#fb9f3a"
            ],
            [
             0.8888888888888888,
             "#fdca26"
            ],
            [
             1,
             "#f0f921"
            ]
           ],
           "sequentialminus": [
            [
             0,
             "#0d0887"
            ],
            [
             0.1111111111111111,
             "#46039f"
            ],
            [
             0.2222222222222222,
             "#7201a8"
            ],
            [
             0.3333333333333333,
             "#9c179e"
            ],
            [
             0.4444444444444444,
             "#bd3786"
            ],
            [
             0.5555555555555556,
             "#d8576b"
            ],
            [
             0.6666666666666666,
             "#ed7953"
            ],
            [
             0.7777777777777778,
             "#fb9f3a"
            ],
            [
             0.8888888888888888,
             "#fdca26"
            ],
            [
             1,
             "#f0f921"
            ]
           ]
          },
          "colorway": [
           "#636efa",
           "#EF553B",
           "#00cc96",
           "#ab63fa",
           "#FFA15A",
           "#19d3f3",
           "#FF6692",
           "#B6E880",
           "#FF97FF",
           "#FECB52"
          ],
          "font": {
           "color": "#2a3f5f"
          },
          "geo": {
           "bgcolor": "white",
           "lakecolor": "white",
           "landcolor": "#E5ECF6",
           "showlakes": true,
           "showland": true,
           "subunitcolor": "white"
          },
          "hoverlabel": {
           "align": "left"
          },
          "hovermode": "closest",
          "mapbox": {
           "style": "light"
          },
          "paper_bgcolor": "white",
          "plot_bgcolor": "#E5ECF6",
          "polar": {
           "angularaxis": {
            "gridcolor": "white",
            "linecolor": "white",
            "ticks": ""
           },
           "bgcolor": "#E5ECF6",
           "radialaxis": {
            "gridcolor": "white",
            "linecolor": "white",
            "ticks": ""
           }
          },
          "scene": {
           "xaxis": {
            "backgroundcolor": "#E5ECF6",
            "gridcolor": "white",
            "gridwidth": 2,
            "linecolor": "white",
            "showbackground": true,
            "ticks": "",
            "zerolinecolor": "white"
           },
           "yaxis": {
            "backgroundcolor": "#E5ECF6",
            "gridcolor": "white",
            "gridwidth": 2,
            "linecolor": "white",
            "showbackground": true,
            "ticks": "",
            "zerolinecolor": "white"
           },
           "zaxis": {
            "backgroundcolor": "#E5ECF6",
            "gridcolor": "white",
            "gridwidth": 2,
            "linecolor": "white",
            "showbackground": true,
            "ticks": "",
            "zerolinecolor": "white"
           }
          },
          "shapedefaults": {
           "line": {
            "color": "#2a3f5f"
           }
          },
          "ternary": {
           "aaxis": {
            "gridcolor": "white",
            "linecolor": "white",
            "ticks": ""
           },
           "baxis": {
            "gridcolor": "white",
            "linecolor": "white",
            "ticks": ""
           },
           "bgcolor": "#E5ECF6",
           "caxis": {
            "gridcolor": "white",
            "linecolor": "white",
            "ticks": ""
           }
          },
          "title": {
           "x": 0.05
          },
          "xaxis": {
           "automargin": true,
           "gridcolor": "white",
           "linecolor": "white",
           "ticks": "",
           "title": {
            "standoff": 15
           },
           "zerolinecolor": "white",
           "zerolinewidth": 2
          },
          "yaxis": {
           "automargin": true,
           "gridcolor": "white",
           "linecolor": "white",
           "ticks": "",
           "title": {
            "standoff": 15
           },
           "zerolinecolor": "white",
           "zerolinewidth": 2
          }
         }
        },
        "title": {
         "text": "Auslastung GC Kronberg Auslastung Gesamt in % pro Wochentag für 2021 und 2022"
        },
        "width": 1600,
        "xaxis": {
         "title": {
          "text": "Wochentag"
         }
        },
        "yaxis": {
         "tickformat": ",.0%",
         "title": {
          "text": "Auslastung in %"
         }
        }
       }
      }
     },
     "metadata": {},
     "output_type": "display_data"
    },
    {
     "data": {
      "application/vnd.plotly.v1+json": {
       "config": {
        "plotlyServerURL": "https://plot.ly"
       },
       "data": [
        {
         "line": {
          "width": 5
         },
         "marker": {
          "color": "Red",
          "size": 10
         },
         "mode": "lines",
         "name": "2021",
         "type": "scatter",
         "x": [
          "Mo",
          "Di",
          "Mi",
          "Do",
          "Fr",
          "Sa",
          "So"
         ],
         "y": [
          0.023448119619392842,
          0.020092226613965744,
          0.019432773109243698,
          0.020799347471451877,
          0.047926447574334896,
          0.025981996726677576,
          0.017841506129597198
         ]
        },
        {
         "line": {
          "width": 5
         },
         "marker": {
          "color": "Blue",
          "size": 10
         },
         "mode": "lines",
         "name": "2022",
         "type": "scatter",
         "x": [
          "Mo",
          "Di",
          "Mi",
          "Do",
          "Fr",
          "Sa",
          "So"
         ],
         "y": [
          0.02527202527202527,
          0.017752562225475842,
          0.02197802197802198,
          0.021331371827877896,
          0.048535121779032825,
          0.02989709013484741,
          0.016854924108718673
         ]
        },
        {
         "marker": {
          "color": "Green",
          "size": 10
         },
         "mode": "markers",
         "name": "Höchste Auslastung 2021",
         "type": "scatter",
         "x": [
          "Fr"
         ],
         "y": [
          0.047926447574334896
         ]
        },
        {
         "marker": {
          "color": "Orange",
          "size": 10
         },
         "mode": "markers",
         "name": "Geringste Auslastung 2021",
         "type": "scatter",
         "x": [
          "So"
         ],
         "y": [
          0.017841506129597198
         ]
        },
        {
         "marker": {
          "color": "Red",
          "size": 10
         },
         "mode": "markers",
         "name": "Höchste Auslastung 2022",
         "type": "scatter",
         "x": [
          "Fr"
         ],
         "y": [
          0.048535121779032825
         ]
        },
        {
         "marker": {
          "color": "Purple",
          "size": 10
         },
         "mode": "markers",
         "name": "Geringste Auslastung 2022",
         "type": "scatter",
         "x": [
          "So"
         ],
         "y": [
          0.016854924108718673
         ]
        }
       ],
       "layout": {
        "font": {
         "size": 24
        },
        "template": {
         "data": {
          "bar": [
           {
            "error_x": {
             "color": "#2a3f5f"
            },
            "error_y": {
             "color": "#2a3f5f"
            },
            "marker": {
             "line": {
              "color": "#E5ECF6",
              "width": 0.5
             },
             "pattern": {
              "fillmode": "overlay",
              "size": 10,
              "solidity": 0.2
             }
            },
            "type": "bar"
           }
          ],
          "barpolar": [
           {
            "marker": {
             "line": {
              "color": "#E5ECF6",
              "width": 0.5
             },
             "pattern": {
              "fillmode": "overlay",
              "size": 10,
              "solidity": 0.2
             }
            },
            "type": "barpolar"
           }
          ],
          "carpet": [
           {
            "aaxis": {
             "endlinecolor": "#2a3f5f",
             "gridcolor": "white",
             "linecolor": "white",
             "minorgridcolor": "white",
             "startlinecolor": "#2a3f5f"
            },
            "baxis": {
             "endlinecolor": "#2a3f5f",
             "gridcolor": "white",
             "linecolor": "white",
             "minorgridcolor": "white",
             "startlinecolor": "#2a3f5f"
            },
            "type": "carpet"
           }
          ],
          "choropleth": [
           {
            "colorbar": {
             "outlinewidth": 0,
             "ticks": ""
            },
            "type": "choropleth"
           }
          ],
          "contour": [
           {
            "colorbar": {
             "outlinewidth": 0,
             "ticks": ""
            },
            "colorscale": [
             [
              0,
              "#0d0887"
             ],
             [
              0.1111111111111111,
              "#46039f"
             ],
             [
              0.2222222222222222,
              "#7201a8"
             ],
             [
              0.3333333333333333,
              "#9c179e"
             ],
             [
              0.4444444444444444,
              "#bd3786"
             ],
             [
              0.5555555555555556,
              "#d8576b"
             ],
             [
              0.6666666666666666,
              "#ed7953"
             ],
             [
              0.7777777777777778,
              "#fb9f3a"
             ],
             [
              0.8888888888888888,
              "#fdca26"
             ],
             [
              1,
              "#f0f921"
             ]
            ],
            "type": "contour"
           }
          ],
          "contourcarpet": [
           {
            "colorbar": {
             "outlinewidth": 0,
             "ticks": ""
            },
            "type": "contourcarpet"
           }
          ],
          "heatmap": [
           {
            "colorbar": {
             "outlinewidth": 0,
             "ticks": ""
            },
            "colorscale": [
             [
              0,
              "#0d0887"
             ],
             [
              0.1111111111111111,
              "#46039f"
             ],
             [
              0.2222222222222222,
              "#7201a8"
             ],
             [
              0.3333333333333333,
              "#9c179e"
             ],
             [
              0.4444444444444444,
              "#bd3786"
             ],
             [
              0.5555555555555556,
              "#d8576b"
             ],
             [
              0.6666666666666666,
              "#ed7953"
             ],
             [
              0.7777777777777778,
              "#fb9f3a"
             ],
             [
              0.8888888888888888,
              "#fdca26"
             ],
             [
              1,
              "#f0f921"
             ]
            ],
            "type": "heatmap"
           }
          ],
          "heatmapgl": [
           {
            "colorbar": {
             "outlinewidth": 0,
             "ticks": ""
            },
            "colorscale": [
             [
              0,
              "#0d0887"
             ],
             [
              0.1111111111111111,
              "#46039f"
             ],
             [
              0.2222222222222222,
              "#7201a8"
             ],
             [
              0.3333333333333333,
              "#9c179e"
             ],
             [
              0.4444444444444444,
              "#bd3786"
             ],
             [
              0.5555555555555556,
              "#d8576b"
             ],
             [
              0.6666666666666666,
              "#ed7953"
             ],
             [
              0.7777777777777778,
              "#fb9f3a"
             ],
             [
              0.8888888888888888,
              "#fdca26"
             ],
             [
              1,
              "#f0f921"
             ]
            ],
            "type": "heatmapgl"
           }
          ],
          "histogram": [
           {
            "marker": {
             "pattern": {
              "fillmode": "overlay",
              "size": 10,
              "solidity": 0.2
             }
            },
            "type": "histogram"
           }
          ],
          "histogram2d": [
           {
            "colorbar": {
             "outlinewidth": 0,
             "ticks": ""
            },
            "colorscale": [
             [
              0,
              "#0d0887"
             ],
             [
              0.1111111111111111,
              "#46039f"
             ],
             [
              0.2222222222222222,
              "#7201a8"
             ],
             [
              0.3333333333333333,
              "#9c179e"
             ],
             [
              0.4444444444444444,
              "#bd3786"
             ],
             [
              0.5555555555555556,
              "#d8576b"
             ],
             [
              0.6666666666666666,
              "#ed7953"
             ],
             [
              0.7777777777777778,
              "#fb9f3a"
             ],
             [
              0.8888888888888888,
              "#fdca26"
             ],
             [
              1,
              "#f0f921"
             ]
            ],
            "type": "histogram2d"
           }
          ],
          "histogram2dcontour": [
           {
            "colorbar": {
             "outlinewidth": 0,
             "ticks": ""
            },
            "colorscale": [
             [
              0,
              "#0d0887"
             ],
             [
              0.1111111111111111,
              "#46039f"
             ],
             [
              0.2222222222222222,
              "#7201a8"
             ],
             [
              0.3333333333333333,
              "#9c179e"
             ],
             [
              0.4444444444444444,
              "#bd3786"
             ],
             [
              0.5555555555555556,
              "#d8576b"
             ],
             [
              0.6666666666666666,
              "#ed7953"
             ],
             [
              0.7777777777777778,
              "#fb9f3a"
             ],
             [
              0.8888888888888888,
              "#fdca26"
             ],
             [
              1,
              "#f0f921"
             ]
            ],
            "type": "histogram2dcontour"
           }
          ],
          "mesh3d": [
           {
            "colorbar": {
             "outlinewidth": 0,
             "ticks": ""
            },
            "type": "mesh3d"
           }
          ],
          "parcoords": [
           {
            "line": {
             "colorbar": {
              "outlinewidth": 0,
              "ticks": ""
             }
            },
            "type": "parcoords"
           }
          ],
          "pie": [
           {
            "automargin": true,
            "type": "pie"
           }
          ],
          "scatter": [
           {
            "fillpattern": {
             "fillmode": "overlay",
             "size": 10,
             "solidity": 0.2
            },
            "type": "scatter"
           }
          ],
          "scatter3d": [
           {
            "line": {
             "colorbar": {
              "outlinewidth": 0,
              "ticks": ""
             }
            },
            "marker": {
             "colorbar": {
              "outlinewidth": 0,
              "ticks": ""
             }
            },
            "type": "scatter3d"
           }
          ],
          "scattercarpet": [
           {
            "marker": {
             "colorbar": {
              "outlinewidth": 0,
              "ticks": ""
             }
            },
            "type": "scattercarpet"
           }
          ],
          "scattergeo": [
           {
            "marker": {
             "colorbar": {
              "outlinewidth": 0,
              "ticks": ""
             }
            },
            "type": "scattergeo"
           }
          ],
          "scattergl": [
           {
            "marker": {
             "colorbar": {
              "outlinewidth": 0,
              "ticks": ""
             }
            },
            "type": "scattergl"
           }
          ],
          "scattermapbox": [
           {
            "marker": {
             "colorbar": {
              "outlinewidth": 0,
              "ticks": ""
             }
            },
            "type": "scattermapbox"
           }
          ],
          "scatterpolar": [
           {
            "marker": {
             "colorbar": {
              "outlinewidth": 0,
              "ticks": ""
             }
            },
            "type": "scatterpolar"
           }
          ],
          "scatterpolargl": [
           {
            "marker": {
             "colorbar": {
              "outlinewidth": 0,
              "ticks": ""
             }
            },
            "type": "scatterpolargl"
           }
          ],
          "scatterternary": [
           {
            "marker": {
             "colorbar": {
              "outlinewidth": 0,
              "ticks": ""
             }
            },
            "type": "scatterternary"
           }
          ],
          "surface": [
           {
            "colorbar": {
             "outlinewidth": 0,
             "ticks": ""
            },
            "colorscale": [
             [
              0,
              "#0d0887"
             ],
             [
              0.1111111111111111,
              "#46039f"
             ],
             [
              0.2222222222222222,
              "#7201a8"
             ],
             [
              0.3333333333333333,
              "#9c179e"
             ],
             [
              0.4444444444444444,
              "#bd3786"
             ],
             [
              0.5555555555555556,
              "#d8576b"
             ],
             [
              0.6666666666666666,
              "#ed7953"
             ],
             [
              0.7777777777777778,
              "#fb9f3a"
             ],
             [
              0.8888888888888888,
              "#fdca26"
             ],
             [
              1,
              "#f0f921"
             ]
            ],
            "type": "surface"
           }
          ],
          "table": [
           {
            "cells": {
             "fill": {
              "color": "#EBF0F8"
             },
             "line": {
              "color": "white"
             }
            },
            "header": {
             "fill": {
              "color": "#C8D4E3"
             },
             "line": {
              "color": "white"
             }
            },
            "type": "table"
           }
          ]
         },
         "layout": {
          "annotationdefaults": {
           "arrowcolor": "#2a3f5f",
           "arrowhead": 0,
           "arrowwidth": 1
          },
          "autotypenumbers": "strict",
          "coloraxis": {
           "colorbar": {
            "outlinewidth": 0,
            "ticks": ""
           }
          },
          "colorscale": {
           "diverging": [
            [
             0,
             "#8e0152"
            ],
            [
             0.1,
             "#c51b7d"
            ],
            [
             0.2,
             "#de77ae"
            ],
            [
             0.3,
             "#f1b6da"
            ],
            [
             0.4,
             "#fde0ef"
            ],
            [
             0.5,
             "#f7f7f7"
            ],
            [
             0.6,
             "#e6f5d0"
            ],
            [
             0.7,
             "#b8e186"
            ],
            [
             0.8,
             "#7fbc41"
            ],
            [
             0.9,
             "#4d9221"
            ],
            [
             1,
             "#276419"
            ]
           ],
           "sequential": [
            [
             0,
             "#0d0887"
            ],
            [
             0.1111111111111111,
             "#46039f"
            ],
            [
             0.2222222222222222,
             "#7201a8"
            ],
            [
             0.3333333333333333,
             "#9c179e"
            ],
            [
             0.4444444444444444,
             "#bd3786"
            ],
            [
             0.5555555555555556,
             "#d8576b"
            ],
            [
             0.6666666666666666,
             "#ed7953"
            ],
            [
             0.7777777777777778,
             "#fb9f3a"
            ],
            [
             0.8888888888888888,
             "#fdca26"
            ],
            [
             1,
             "#f0f921"
            ]
           ],
           "sequentialminus": [
            [
             0,
             "#0d0887"
            ],
            [
             0.1111111111111111,
             "#46039f"
            ],
            [
             0.2222222222222222,
             "#7201a8"
            ],
            [
             0.3333333333333333,
             "#9c179e"
            ],
            [
             0.4444444444444444,
             "#bd3786"
            ],
            [
             0.5555555555555556,
             "#d8576b"
            ],
            [
             0.6666666666666666,
             "#ed7953"
            ],
            [
             0.7777777777777778,
             "#fb9f3a"
            ],
            [
             0.8888888888888888,
             "#fdca26"
            ],
            [
             1,
             "#f0f921"
            ]
           ]
          },
          "colorway": [
           "#636efa",
           "#EF553B",
           "#00cc96",
           "#ab63fa",
           "#FFA15A",
           "#19d3f3",
           "#FF6692",
           "#B6E880",
           "#FF97FF",
           "#FECB52"
          ],
          "font": {
           "color": "#2a3f5f"
          },
          "geo": {
           "bgcolor": "white",
           "lakecolor": "white",
           "landcolor": "#E5ECF6",
           "showlakes": true,
           "showland": true,
           "subunitcolor": "white"
          },
          "hoverlabel": {
           "align": "left"
          },
          "hovermode": "closest",
          "mapbox": {
           "style": "light"
          },
          "paper_bgcolor": "white",
          "plot_bgcolor": "#E5ECF6",
          "polar": {
           "angularaxis": {
            "gridcolor": "white",
            "linecolor": "white",
            "ticks": ""
           },
           "bgcolor": "#E5ECF6",
           "radialaxis": {
            "gridcolor": "white",
            "linecolor": "white",
            "ticks": ""
           }
          },
          "scene": {
           "xaxis": {
            "backgroundcolor": "#E5ECF6",
            "gridcolor": "white",
            "gridwidth": 2,
            "linecolor": "white",
            "showbackground": true,
            "ticks": "",
            "zerolinecolor": "white"
           },
           "yaxis": {
            "backgroundcolor": "#E5ECF6",
            "gridcolor": "white",
            "gridwidth": 2,
            "linecolor": "white",
            "showbackground": true,
            "ticks": "",
            "zerolinecolor": "white"
           },
           "zaxis": {
            "backgroundcolor": "#E5ECF6",
            "gridcolor": "white",
            "gridwidth": 2,
            "linecolor": "white",
            "showbackground": true,
            "ticks": "",
            "zerolinecolor": "white"
           }
          },
          "shapedefaults": {
           "line": {
            "color": "#2a3f5f"
           }
          },
          "ternary": {
           "aaxis": {
            "gridcolor": "white",
            "linecolor": "white",
            "ticks": ""
           },
           "baxis": {
            "gridcolor": "white",
            "linecolor": "white",
            "ticks": ""
           },
           "bgcolor": "#E5ECF6",
           "caxis": {
            "gridcolor": "white",
            "linecolor": "white",
            "ticks": ""
           }
          },
          "title": {
           "x": 0.05
          },
          "xaxis": {
           "automargin": true,
           "gridcolor": "white",
           "linecolor": "white",
           "ticks": "",
           "title": {
            "standoff": 15
           },
           "zerolinecolor": "white",
           "zerolinewidth": 2
          },
          "yaxis": {
           "automargin": true,
           "gridcolor": "white",
           "linecolor": "white",
           "ticks": "",
           "title": {
            "standoff": 15
           },
           "zerolinecolor": "white",
           "zerolinewidth": 2
          }
         }
        },
        "title": {
         "text": "Auslastung GC Kronberg Auslastung Gäste in % pro Wochentag für 2021 und 2022"
        },
        "width": 1600,
        "xaxis": {
         "title": {
          "text": "Wochentag"
         }
        },
        "yaxis": {
         "tickformat": ",.0%",
         "title": {
          "text": "Auslastung in %"
         }
        }
       }
      }
     },
     "metadata": {},
     "output_type": "display_data"
    },
    {
     "data": {
      "application/vnd.plotly.v1+json": {
       "config": {
        "plotlyServerURL": "https://plot.ly"
       },
       "data": [
        {
         "line": {
          "width": 5
         },
         "marker": {
          "color": "Red",
          "size": 10
         },
         "mode": "lines",
         "name": "2021",
         "type": "scatter",
         "x": [
          "Mo",
          "Di",
          "Mi",
          "Do",
          "Fr",
          "Sa",
          "So"
         ],
         "y": [
          0.13944268237426372,
          0.12725076855511638,
          0.12247899159663865,
          0.1122553017944535,
          0.1881846635367762,
          0.18524959083469722,
          0.24835814360770578
         ]
        },
        {
         "line": {
          "width": 5
         },
         "marker": {
          "color": "Blue",
          "size": 10
         },
         "mode": "lines",
         "name": "2022",
         "type": "scatter",
         "x": [
          "Mo",
          "Di",
          "Mi",
          "Do",
          "Fr",
          "Sa",
          "So"
         ],
         "y": [
          0.1045981045981046,
          0.06277452415812591,
          0.08397435897435897,
          0.07089003310040456,
          0.11198376279562301,
          0.11559616749467708,
          0.14295799505824214
         ]
        },
        {
         "marker": {
          "color": "Green",
          "size": 10
         },
         "mode": "markers",
         "name": "Höchste Auslastung 2021",
         "type": "scatter",
         "x": [
          "So"
         ],
         "y": [
          0.24835814360770578
         ]
        },
        {
         "marker": {
          "color": "Orange",
          "size": 10
         },
         "mode": "markers",
         "name": "Geringste Auslastung 2021",
         "type": "scatter",
         "x": [
          "Do"
         ],
         "y": [
          0.1122553017944535
         ]
        },
        {
         "marker": {
          "color": "Red",
          "size": 10
         },
         "mode": "markers",
         "name": "Höchste Auslastung 2022",
         "type": "scatter",
         "x": [
          "So"
         ],
         "y": [
          0.14295799505824214
         ]
        },
        {
         "marker": {
          "color": "Purple",
          "size": 10
         },
         "mode": "markers",
         "name": "Geringste Auslastung 2022",
         "type": "scatter",
         "x": [
          "Di"
         ],
         "y": [
          0.06277452415812591
         ]
        }
       ],
       "layout": {
        "font": {
         "size": 24
        },
        "template": {
         "data": {
          "bar": [
           {
            "error_x": {
             "color": "#2a3f5f"
            },
            "error_y": {
             "color": "#2a3f5f"
            },
            "marker": {
             "line": {
              "color": "#E5ECF6",
              "width": 0.5
             },
             "pattern": {
              "fillmode": "overlay",
              "size": 10,
              "solidity": 0.2
             }
            },
            "type": "bar"
           }
          ],
          "barpolar": [
           {
            "marker": {
             "line": {
              "color": "#E5ECF6",
              "width": 0.5
             },
             "pattern": {
              "fillmode": "overlay",
              "size": 10,
              "solidity": 0.2
             }
            },
            "type": "barpolar"
           }
          ],
          "carpet": [
           {
            "aaxis": {
             "endlinecolor": "#2a3f5f",
             "gridcolor": "white",
             "linecolor": "white",
             "minorgridcolor": "white",
             "startlinecolor": "#2a3f5f"
            },
            "baxis": {
             "endlinecolor": "#2a3f5f",
             "gridcolor": "white",
             "linecolor": "white",
             "minorgridcolor": "white",
             "startlinecolor": "#2a3f5f"
            },
            "type": "carpet"
           }
          ],
          "choropleth": [
           {
            "colorbar": {
             "outlinewidth": 0,
             "ticks": ""
            },
            "type": "choropleth"
           }
          ],
          "contour": [
           {
            "colorbar": {
             "outlinewidth": 0,
             "ticks": ""
            },
            "colorscale": [
             [
              0,
              "#0d0887"
             ],
             [
              0.1111111111111111,
              "#46039f"
             ],
             [
              0.2222222222222222,
              "#7201a8"
             ],
             [
              0.3333333333333333,
              "#9c179e"
             ],
             [
              0.4444444444444444,
              "#bd3786"
             ],
             [
              0.5555555555555556,
              "#d8576b"
             ],
             [
              0.6666666666666666,
              "#ed7953"
             ],
             [
              0.7777777777777778,
              "#fb9f3a"
             ],
             [
              0.8888888888888888,
              "#fdca26"
             ],
             [
              1,
              "#f0f921"
             ]
            ],
            "type": "contour"
           }
          ],
          "contourcarpet": [
           {
            "colorbar": {
             "outlinewidth": 0,
             "ticks": ""
            },
            "type": "contourcarpet"
           }
          ],
          "heatmap": [
           {
            "colorbar": {
             "outlinewidth": 0,
             "ticks": ""
            },
            "colorscale": [
             [
              0,
              "#0d0887"
             ],
             [
              0.1111111111111111,
              "#46039f"
             ],
             [
              0.2222222222222222,
              "#7201a8"
             ],
             [
              0.3333333333333333,
              "#9c179e"
             ],
             [
              0.4444444444444444,
              "#bd3786"
             ],
             [
              0.5555555555555556,
              "#d8576b"
             ],
             [
              0.6666666666666666,
              "#ed7953"
             ],
             [
              0.7777777777777778,
              "#fb9f3a"
             ],
             [
              0.8888888888888888,
              "#fdca26"
             ],
             [
              1,
              "#f0f921"
             ]
            ],
            "type": "heatmap"
           }
          ],
          "heatmapgl": [
           {
            "colorbar": {
             "outlinewidth": 0,
             "ticks": ""
            },
            "colorscale": [
             [
              0,
              "#0d0887"
             ],
             [
              0.1111111111111111,
              "#46039f"
             ],
             [
              0.2222222222222222,
              "#7201a8"
             ],
             [
              0.3333333333333333,
              "#9c179e"
             ],
             [
              0.4444444444444444,
              "#bd3786"
             ],
             [
              0.5555555555555556,
              "#d8576b"
             ],
             [
              0.6666666666666666,
              "#ed7953"
             ],
             [
              0.7777777777777778,
              "#fb9f3a"
             ],
             [
              0.8888888888888888,
              "#fdca26"
             ],
             [
              1,
              "#f0f921"
             ]
            ],
            "type": "heatmapgl"
           }
          ],
          "histogram": [
           {
            "marker": {
             "pattern": {
              "fillmode": "overlay",
              "size": 10,
              "solidity": 0.2
             }
            },
            "type": "histogram"
           }
          ],
          "histogram2d": [
           {
            "colorbar": {
             "outlinewidth": 0,
             "ticks": ""
            },
            "colorscale": [
             [
              0,
              "#0d0887"
             ],
             [
              0.1111111111111111,
              "#46039f"
             ],
             [
              0.2222222222222222,
              "#7201a8"
             ],
             [
              0.3333333333333333,
              "#9c179e"
             ],
             [
              0.4444444444444444,
              "#bd3786"
             ],
             [
              0.5555555555555556,
              "#d8576b"
             ],
             [
              0.6666666666666666,
              "#ed7953"
             ],
             [
              0.7777777777777778,
              "#fb9f3a"
             ],
             [
              0.8888888888888888,
              "#fdca26"
             ],
             [
              1,
              "#f0f921"
             ]
            ],
            "type": "histogram2d"
           }
          ],
          "histogram2dcontour": [
           {
            "colorbar": {
             "outlinewidth": 0,
             "ticks": ""
            },
            "colorscale": [
             [
              0,
              "#0d0887"
             ],
             [
              0.1111111111111111,
              "#46039f"
             ],
             [
              0.2222222222222222,
              "#7201a8"
             ],
             [
              0.3333333333333333,
              "#9c179e"
             ],
             [
              0.4444444444444444,
              "#bd3786"
             ],
             [
              0.5555555555555556,
              "#d8576b"
             ],
             [
              0.6666666666666666,
              "#ed7953"
             ],
             [
              0.7777777777777778,
              "#fb9f3a"
             ],
             [
              0.8888888888888888,
              "#fdca26"
             ],
             [
              1,
              "#f0f921"
             ]
            ],
            "type": "histogram2dcontour"
           }
          ],
          "mesh3d": [
           {
            "colorbar": {
             "outlinewidth": 0,
             "ticks": ""
            },
            "type": "mesh3d"
           }
          ],
          "parcoords": [
           {
            "line": {
             "colorbar": {
              "outlinewidth": 0,
              "ticks": ""
             }
            },
            "type": "parcoords"
           }
          ],
          "pie": [
           {
            "automargin": true,
            "type": "pie"
           }
          ],
          "scatter": [
           {
            "fillpattern": {
             "fillmode": "overlay",
             "size": 10,
             "solidity": 0.2
            },
            "type": "scatter"
           }
          ],
          "scatter3d": [
           {
            "line": {
             "colorbar": {
              "outlinewidth": 0,
              "ticks": ""
             }
            },
            "marker": {
             "colorbar": {
              "outlinewidth": 0,
              "ticks": ""
             }
            },
            "type": "scatter3d"
           }
          ],
          "scattercarpet": [
           {
            "marker": {
             "colorbar": {
              "outlinewidth": 0,
              "ticks": ""
             }
            },
            "type": "scattercarpet"
           }
          ],
          "scattergeo": [
           {
            "marker": {
             "colorbar": {
              "outlinewidth": 0,
              "ticks": ""
             }
            },
            "type": "scattergeo"
           }
          ],
          "scattergl": [
           {
            "marker": {
             "colorbar": {
              "outlinewidth": 0,
              "ticks": ""
             }
            },
            "type": "scattergl"
           }
          ],
          "scattermapbox": [
           {
            "marker": {
             "colorbar": {
              "outlinewidth": 0,
              "ticks": ""
             }
            },
            "type": "scattermapbox"
           }
          ],
          "scatterpolar": [
           {
            "marker": {
             "colorbar": {
              "outlinewidth": 0,
              "ticks": ""
             }
            },
            "type": "scatterpolar"
           }
          ],
          "scatterpolargl": [
           {
            "marker": {
             "colorbar": {
              "outlinewidth": 0,
              "ticks": ""
             }
            },
            "type": "scatterpolargl"
           }
          ],
          "scatterternary": [
           {
            "marker": {
             "colorbar": {
              "outlinewidth": 0,
              "ticks": ""
             }
            },
            "type": "scatterternary"
           }
          ],
          "surface": [
           {
            "colorbar": {
             "outlinewidth": 0,
             "ticks": ""
            },
            "colorscale": [
             [
              0,
              "#0d0887"
             ],
             [
              0.1111111111111111,
              "#46039f"
             ],
             [
              0.2222222222222222,
              "#7201a8"
             ],
             [
              0.3333333333333333,
              "#9c179e"
             ],
             [
              0.4444444444444444,
              "#bd3786"
             ],
             [
              0.5555555555555556,
              "#d8576b"
             ],
             [
              0.6666666666666666,
              "#ed7953"
             ],
             [
              0.7777777777777778,
              "#fb9f3a"
             ],
             [
              0.8888888888888888,
              "#fdca26"
             ],
             [
              1,
              "#f0f921"
             ]
            ],
            "type": "surface"
           }
          ],
          "table": [
           {
            "cells": {
             "fill": {
              "color": "#EBF0F8"
             },
             "line": {
              "color": "white"
             }
            },
            "header": {
             "fill": {
              "color": "#C8D4E3"
             },
             "line": {
              "color": "white"
             }
            },
            "type": "table"
           }
          ]
         },
         "layout": {
          "annotationdefaults": {
           "arrowcolor": "#2a3f5f",
           "arrowhead": 0,
           "arrowwidth": 1
          },
          "autotypenumbers": "strict",
          "coloraxis": {
           "colorbar": {
            "outlinewidth": 0,
            "ticks": ""
           }
          },
          "colorscale": {
           "diverging": [
            [
             0,
             "#8e0152"
            ],
            [
             0.1,
             "#c51b7d"
            ],
            [
             0.2,
             "#de77ae"
            ],
            [
             0.3,
             "#f1b6da"
            ],
            [
             0.4,
             "#fde0ef"
            ],
            [
             0.5,
             "#f7f7f7"
            ],
            [
             0.6,
             "#e6f5d0"
            ],
            [
             0.7,
             "#b8e186"
            ],
            [
             0.8,
             "#7fbc41"
            ],
            [
             0.9,
             "#4d9221"
            ],
            [
             1,
             "#276419"
            ]
           ],
           "sequential": [
            [
             0,
             "#0d0887"
            ],
            [
             0.1111111111111111,
             "#46039f"
            ],
            [
             0.2222222222222222,
             "#7201a8"
            ],
            [
             0.3333333333333333,
             "#9c179e"
            ],
            [
             0.4444444444444444,
             "#bd3786"
            ],
            [
             0.5555555555555556,
             "#d8576b"
            ],
            [
             0.6666666666666666,
             "#ed7953"
            ],
            [
             0.7777777777777778,
             "#fb9f3a"
            ],
            [
             0.8888888888888888,
             "#fdca26"
            ],
            [
             1,
             "#f0f921"
            ]
           ],
           "sequentialminus": [
            [
             0,
             "#0d0887"
            ],
            [
             0.1111111111111111,
             "#46039f"
            ],
            [
             0.2222222222222222,
             "#7201a8"
            ],
            [
             0.3333333333333333,
             "#9c179e"
            ],
            [
             0.4444444444444444,
             "#bd3786"
            ],
            [
             0.5555555555555556,
             "#d8576b"
            ],
            [
             0.6666666666666666,
             "#ed7953"
            ],
            [
             0.7777777777777778,
             "#fb9f3a"
            ],
            [
             0.8888888888888888,
             "#fdca26"
            ],
            [
             1,
             "#f0f921"
            ]
           ]
          },
          "colorway": [
           "#636efa",
           "#EF553B",
           "#00cc96",
           "#ab63fa",
           "#FFA15A",
           "#19d3f3",
           "#FF6692",
           "#B6E880",
           "#FF97FF",
           "#FECB52"
          ],
          "font": {
           "color": "#2a3f5f"
          },
          "geo": {
           "bgcolor": "white",
           "lakecolor": "white",
           "landcolor": "#E5ECF6",
           "showlakes": true,
           "showland": true,
           "subunitcolor": "white"
          },
          "hoverlabel": {
           "align": "left"
          },
          "hovermode": "closest",
          "mapbox": {
           "style": "light"
          },
          "paper_bgcolor": "white",
          "plot_bgcolor": "#E5ECF6",
          "polar": {
           "angularaxis": {
            "gridcolor": "white",
            "linecolor": "white",
            "ticks": ""
           },
           "bgcolor": "#E5ECF6",
           "radialaxis": {
            "gridcolor": "white",
            "linecolor": "white",
            "ticks": ""
           }
          },
          "scene": {
           "xaxis": {
            "backgroundcolor": "#E5ECF6",
            "gridcolor": "white",
            "gridwidth": 2,
            "linecolor": "white",
            "showbackground": true,
            "ticks": "",
            "zerolinecolor": "white"
           },
           "yaxis": {
            "backgroundcolor": "#E5ECF6",
            "gridcolor": "white",
            "gridwidth": 2,
            "linecolor": "white",
            "showbackground": true,
            "ticks": "",
            "zerolinecolor": "white"
           },
           "zaxis": {
            "backgroundcolor": "#E5ECF6",
            "gridcolor": "white",
            "gridwidth": 2,
            "linecolor": "white",
            "showbackground": true,
            "ticks": "",
            "zerolinecolor": "white"
           }
          },
          "shapedefaults": {
           "line": {
            "color": "#2a3f5f"
           }
          },
          "ternary": {
           "aaxis": {
            "gridcolor": "white",
            "linecolor": "white",
            "ticks": ""
           },
           "baxis": {
            "gridcolor": "white",
            "linecolor": "white",
            "ticks": ""
           },
           "bgcolor": "#E5ECF6",
           "caxis": {
            "gridcolor": "white",
            "linecolor": "white",
            "ticks": ""
           }
          },
          "title": {
           "x": 0.05
          },
          "xaxis": {
           "automargin": true,
           "gridcolor": "white",
           "linecolor": "white",
           "ticks": "",
           "title": {
            "standoff": 15
           },
           "zerolinecolor": "white",
           "zerolinewidth": 2
          },
          "yaxis": {
           "automargin": true,
           "gridcolor": "white",
           "linecolor": "white",
           "ticks": "",
           "title": {
            "standoff": 15
           },
           "zerolinecolor": "white",
           "zerolinewidth": 2
          }
         }
        },
        "title": {
         "text": "Auslastung GC Kronberg Auslastung MGL Gesa. in % pro Wochentag für 2021 und 2022"
        },
        "width": 1600,
        "xaxis": {
         "title": {
          "text": "Wochentag"
         }
        },
        "yaxis": {
         "tickformat": ",.0%",
         "title": {
          "text": "Auslastung in %"
         }
        }
       }
      }
     },
     "metadata": {},
     "output_type": "display_data"
    },
    {
     "data": {
      "application/vnd.plotly.v1+json": {
       "config": {
        "plotlyServerURL": "https://plot.ly"
       },
       "data": [
        {
         "line": {
          "width": 5
         },
         "marker": {
          "color": "Red",
          "size": 10
         },
         "mode": "lines",
         "name": "2021",
         "type": "scatter",
         "x": [
          "Mo",
          "Di",
          "Mi",
          "Do",
          "Fr",
          "Sa",
          "So"
         ],
         "y": [
          0.006116900770276394,
          0.009003074220465524,
          0.0058823529411764705,
          0.008360522022838499,
          0.016823161189358372,
          0.018821603927986905,
          0.018607705779334502
         ]
        },
        {
         "line": {
          "width": 5
         },
         "marker": {
          "color": "Blue",
          "size": 10
         },
         "mode": "lines",
         "name": "2022",
         "type": "scatter",
         "x": [
          "Mo",
          "Di",
          "Mi",
          "Do",
          "Fr",
          "Sa",
          "So"
         ],
         "y": [
          0.002808002808002808,
          0.0023792093704245974,
          0.003205128205128205,
          0.004965060684075028,
          0.007765619484645252,
          0.01392831795599716,
          0.009707024355806565
         ]
        },
        {
         "marker": {
          "color": "Green",
          "size": 10
         },
         "mode": "markers",
         "name": "Höchste Auslastung 2021",
         "type": "scatter",
         "x": [
          "Sa"
         ],
         "y": [
          0.018821603927986905
         ]
        },
        {
         "marker": {
          "color": "Orange",
          "size": 10
         },
         "mode": "markers",
         "name": "Geringste Auslastung 2021",
         "type": "scatter",
         "x": [
          "Mi"
         ],
         "y": [
          0.0058823529411764705
         ]
        },
        {
         "marker": {
          "color": "Red",
          "size": 10
         },
         "mode": "markers",
         "name": "Höchste Auslastung 2022",
         "type": "scatter",
         "x": [
          "Sa"
         ],
         "y": [
          0.01392831795599716
         ]
        },
        {
         "marker": {
          "color": "Purple",
          "size": 10
         },
         "mode": "markers",
         "name": "Geringste Auslastung 2022",
         "type": "scatter",
         "x": [
          "Di"
         ],
         "y": [
          0.0023792093704245974
         ]
        }
       ],
       "layout": {
        "font": {
         "size": 24
        },
        "template": {
         "data": {
          "bar": [
           {
            "error_x": {
             "color": "#2a3f5f"
            },
            "error_y": {
             "color": "#2a3f5f"
            },
            "marker": {
             "line": {
              "color": "#E5ECF6",
              "width": 0.5
             },
             "pattern": {
              "fillmode": "overlay",
              "size": 10,
              "solidity": 0.2
             }
            },
            "type": "bar"
           }
          ],
          "barpolar": [
           {
            "marker": {
             "line": {
              "color": "#E5ECF6",
              "width": 0.5
             },
             "pattern": {
              "fillmode": "overlay",
              "size": 10,
              "solidity": 0.2
             }
            },
            "type": "barpolar"
           }
          ],
          "carpet": [
           {
            "aaxis": {
             "endlinecolor": "#2a3f5f",
             "gridcolor": "white",
             "linecolor": "white",
             "minorgridcolor": "white",
             "startlinecolor": "#2a3f5f"
            },
            "baxis": {
             "endlinecolor": "#2a3f5f",
             "gridcolor": "white",
             "linecolor": "white",
             "minorgridcolor": "white",
             "startlinecolor": "#2a3f5f"
            },
            "type": "carpet"
           }
          ],
          "choropleth": [
           {
            "colorbar": {
             "outlinewidth": 0,
             "ticks": ""
            },
            "type": "choropleth"
           }
          ],
          "contour": [
           {
            "colorbar": {
             "outlinewidth": 0,
             "ticks": ""
            },
            "colorscale": [
             [
              0,
              "#0d0887"
             ],
             [
              0.1111111111111111,
              "#46039f"
             ],
             [
              0.2222222222222222,
              "#7201a8"
             ],
             [
              0.3333333333333333,
              "#9c179e"
             ],
             [
              0.4444444444444444,
              "#bd3786"
             ],
             [
              0.5555555555555556,
              "#d8576b"
             ],
             [
              0.6666666666666666,
              "#ed7953"
             ],
             [
              0.7777777777777778,
              "#fb9f3a"
             ],
             [
              0.8888888888888888,
              "#fdca26"
             ],
             [
              1,
              "#f0f921"
             ]
            ],
            "type": "contour"
           }
          ],
          "contourcarpet": [
           {
            "colorbar": {
             "outlinewidth": 0,
             "ticks": ""
            },
            "type": "contourcarpet"
           }
          ],
          "heatmap": [
           {
            "colorbar": {
             "outlinewidth": 0,
             "ticks": ""
            },
            "colorscale": [
             [
              0,
              "#0d0887"
             ],
             [
              0.1111111111111111,
              "#46039f"
             ],
             [
              0.2222222222222222,
              "#7201a8"
             ],
             [
              0.3333333333333333,
              "#9c179e"
             ],
             [
              0.4444444444444444,
              "#bd3786"
             ],
             [
              0.5555555555555556,
              "#d8576b"
             ],
             [
              0.6666666666666666,
              "#ed7953"
             ],
             [
              0.7777777777777778,
              "#fb9f3a"
             ],
             [
              0.8888888888888888,
              "#fdca26"
             ],
             [
              1,
              "#f0f921"
             ]
            ],
            "type": "heatmap"
           }
          ],
          "heatmapgl": [
           {
            "colorbar": {
             "outlinewidth": 0,
             "ticks": ""
            },
            "colorscale": [
             [
              0,
              "#0d0887"
             ],
             [
              0.1111111111111111,
              "#46039f"
             ],
             [
              0.2222222222222222,
              "#7201a8"
             ],
             [
              0.3333333333333333,
              "#9c179e"
             ],
             [
              0.4444444444444444,
              "#bd3786"
             ],
             [
              0.5555555555555556,
              "#d8576b"
             ],
             [
              0.6666666666666666,
              "#ed7953"
             ],
             [
              0.7777777777777778,
              "#fb9f3a"
             ],
             [
              0.8888888888888888,
              "#fdca26"
             ],
             [
              1,
              "#f0f921"
             ]
            ],
            "type": "heatmapgl"
           }
          ],
          "histogram": [
           {
            "marker": {
             "pattern": {
              "fillmode": "overlay",
              "size": 10,
              "solidity": 0.2
             }
            },
            "type": "histogram"
           }
          ],
          "histogram2d": [
           {
            "colorbar": {
             "outlinewidth": 0,
             "ticks": ""
            },
            "colorscale": [
             [
              0,
              "#0d0887"
             ],
             [
              0.1111111111111111,
              "#46039f"
             ],
             [
              0.2222222222222222,
              "#7201a8"
             ],
             [
              0.3333333333333333,
              "#9c179e"
             ],
             [
              0.4444444444444444,
              "#bd3786"
             ],
             [
              0.5555555555555556,
              "#d8576b"
             ],
             [
              0.6666666666666666,
              "#ed7953"
             ],
             [
              0.7777777777777778,
              "#fb9f3a"
             ],
             [
              0.8888888888888888,
              "#fdca26"
             ],
             [
              1,
              "#f0f921"
             ]
            ],
            "type": "histogram2d"
           }
          ],
          "histogram2dcontour": [
           {
            "colorbar": {
             "outlinewidth": 0,
             "ticks": ""
            },
            "colorscale": [
             [
              0,
              "#0d0887"
             ],
             [
              0.1111111111111111,
              "#46039f"
             ],
             [
              0.2222222222222222,
              "#7201a8"
             ],
             [
              0.3333333333333333,
              "#9c179e"
             ],
             [
              0.4444444444444444,
              "#bd3786"
             ],
             [
              0.5555555555555556,
              "#d8576b"
             ],
             [
              0.6666666666666666,
              "#ed7953"
             ],
             [
              0.7777777777777778,
              "#fb9f3a"
             ],
             [
              0.8888888888888888,
              "#fdca26"
             ],
             [
              1,
              "#f0f921"
             ]
            ],
            "type": "histogram2dcontour"
           }
          ],
          "mesh3d": [
           {
            "colorbar": {
             "outlinewidth": 0,
             "ticks": ""
            },
            "type": "mesh3d"
           }
          ],
          "parcoords": [
           {
            "line": {
             "colorbar": {
              "outlinewidth": 0,
              "ticks": ""
             }
            },
            "type": "parcoords"
           }
          ],
          "pie": [
           {
            "automargin": true,
            "type": "pie"
           }
          ],
          "scatter": [
           {
            "fillpattern": {
             "fillmode": "overlay",
             "size": 10,
             "solidity": 0.2
            },
            "type": "scatter"
           }
          ],
          "scatter3d": [
           {
            "line": {
             "colorbar": {
              "outlinewidth": 0,
              "ticks": ""
             }
            },
            "marker": {
             "colorbar": {
              "outlinewidth": 0,
              "ticks": ""
             }
            },
            "type": "scatter3d"
           }
          ],
          "scattercarpet": [
           {
            "marker": {
             "colorbar": {
              "outlinewidth": 0,
              "ticks": ""
             }
            },
            "type": "scattercarpet"
           }
          ],
          "scattergeo": [
           {
            "marker": {
             "colorbar": {
              "outlinewidth": 0,
              "ticks": ""
             }
            },
            "type": "scattergeo"
           }
          ],
          "scattergl": [
           {
            "marker": {
             "colorbar": {
              "outlinewidth": 0,
              "ticks": ""
             }
            },
            "type": "scattergl"
           }
          ],
          "scattermapbox": [
           {
            "marker": {
             "colorbar": {
              "outlinewidth": 0,
              "ticks": ""
             }
            },
            "type": "scattermapbox"
           }
          ],
          "scatterpolar": [
           {
            "marker": {
             "colorbar": {
              "outlinewidth": 0,
              "ticks": ""
             }
            },
            "type": "scatterpolar"
           }
          ],
          "scatterpolargl": [
           {
            "marker": {
             "colorbar": {
              "outlinewidth": 0,
              "ticks": ""
             }
            },
            "type": "scatterpolargl"
           }
          ],
          "scatterternary": [
           {
            "marker": {
             "colorbar": {
              "outlinewidth": 0,
              "ticks": ""
             }
            },
            "type": "scatterternary"
           }
          ],
          "surface": [
           {
            "colorbar": {
             "outlinewidth": 0,
             "ticks": ""
            },
            "colorscale": [
             [
              0,
              "#0d0887"
             ],
             [
              0.1111111111111111,
              "#46039f"
             ],
             [
              0.2222222222222222,
              "#7201a8"
             ],
             [
              0.3333333333333333,
              "#9c179e"
             ],
             [
              0.4444444444444444,
              "#bd3786"
             ],
             [
              0.5555555555555556,
              "#d8576b"
             ],
             [
              0.6666666666666666,
              "#ed7953"
             ],
             [
              0.7777777777777778,
              "#fb9f3a"
             ],
             [
              0.8888888888888888,
              "#fdca26"
             ],
             [
              1,
              "#f0f921"
             ]
            ],
            "type": "surface"
           }
          ],
          "table": [
           {
            "cells": {
             "fill": {
              "color": "#EBF0F8"
             },
             "line": {
              "color": "white"
             }
            },
            "header": {
             "fill": {
              "color": "#C8D4E3"
             },
             "line": {
              "color": "white"
             }
            },
            "type": "table"
           }
          ]
         },
         "layout": {
          "annotationdefaults": {
           "arrowcolor": "#2a3f5f",
           "arrowhead": 0,
           "arrowwidth": 1
          },
          "autotypenumbers": "strict",
          "coloraxis": {
           "colorbar": {
            "outlinewidth": 0,
            "ticks": ""
           }
          },
          "colorscale": {
           "diverging": [
            [
             0,
             "#8e0152"
            ],
            [
             0.1,
             "#c51b7d"
            ],
            [
             0.2,
             "#de77ae"
            ],
            [
             0.3,
             "#f1b6da"
            ],
            [
             0.4,
             "#fde0ef"
            ],
            [
             0.5,
             "#f7f7f7"
            ],
            [
             0.6,
             "#e6f5d0"
            ],
            [
             0.7,
             "#b8e186"
            ],
            [
             0.8,
             "#7fbc41"
            ],
            [
             0.9,
             "#4d9221"
            ],
            [
             1,
             "#276419"
            ]
           ],
           "sequential": [
            [
             0,
             "#0d0887"
            ],
            [
             0.1111111111111111,
             "#46039f"
            ],
            [
             0.2222222222222222,
             "#7201a8"
            ],
            [
             0.3333333333333333,
             "#9c179e"
            ],
            [
             0.4444444444444444,
             "#bd3786"
            ],
            [
             0.5555555555555556,
             "#d8576b"
            ],
            [
             0.6666666666666666,
             "#ed7953"
            ],
            [
             0.7777777777777778,
             "#fb9f3a"
            ],
            [
             0.8888888888888888,
             "#fdca26"
            ],
            [
             1,
             "#f0f921"
            ]
           ],
           "sequentialminus": [
            [
             0,
             "#0d0887"
            ],
            [
             0.1111111111111111,
             "#46039f"
            ],
            [
             0.2222222222222222,
             "#7201a8"
            ],
            [
             0.3333333333333333,
             "#9c179e"
            ],
            [
             0.4444444444444444,
             "#bd3786"
            ],
            [
             0.5555555555555556,
             "#d8576b"
            ],
            [
             0.6666666666666666,
             "#ed7953"
            ],
            [
             0.7777777777777778,
             "#fb9f3a"
            ],
            [
             0.8888888888888888,
             "#fdca26"
            ],
            [
             1,
             "#f0f921"
            ]
           ]
          },
          "colorway": [
           "#636efa",
           "#EF553B",
           "#00cc96",
           "#ab63fa",
           "#FFA15A",
           "#19d3f3",
           "#FF6692",
           "#B6E880",
           "#FF97FF",
           "#FECB52"
          ],
          "font": {
           "color": "#2a3f5f"
          },
          "geo": {
           "bgcolor": "white",
           "lakecolor": "white",
           "landcolor": "#E5ECF6",
           "showlakes": true,
           "showland": true,
           "subunitcolor": "white"
          },
          "hoverlabel": {
           "align": "left"
          },
          "hovermode": "closest",
          "mapbox": {
           "style": "light"
          },
          "paper_bgcolor": "white",
          "plot_bgcolor": "#E5ECF6",
          "polar": {
           "angularaxis": {
            "gridcolor": "white",
            "linecolor": "white",
            "ticks": ""
           },
           "bgcolor": "#E5ECF6",
           "radialaxis": {
            "gridcolor": "white",
            "linecolor": "white",
            "ticks": ""
           }
          },
          "scene": {
           "xaxis": {
            "backgroundcolor": "#E5ECF6",
            "gridcolor": "white",
            "gridwidth": 2,
            "linecolor": "white",
            "showbackground": true,
            "ticks": "",
            "zerolinecolor": "white"
           },
           "yaxis": {
            "backgroundcolor": "#E5ECF6",
            "gridcolor": "white",
            "gridwidth": 2,
            "linecolor": "white",
            "showbackground": true,
            "ticks": "",
            "zerolinecolor": "white"
           },
           "zaxis": {
            "backgroundcolor": "#E5ECF6",
            "gridcolor": "white",
            "gridwidth": 2,
            "linecolor": "white",
            "showbackground": true,
            "ticks": "",
            "zerolinecolor": "white"
           }
          },
          "shapedefaults": {
           "line": {
            "color": "#2a3f5f"
           }
          },
          "ternary": {
           "aaxis": {
            "gridcolor": "white",
            "linecolor": "white",
            "ticks": ""
           },
           "baxis": {
            "gridcolor": "white",
            "linecolor": "white",
            "ticks": ""
           },
           "bgcolor": "#E5ECF6",
           "caxis": {
            "gridcolor": "white",
            "linecolor": "white",
            "ticks": ""
           }
          },
          "title": {
           "x": 0.05
          },
          "xaxis": {
           "automargin": true,
           "gridcolor": "white",
           "linecolor": "white",
           "ticks": "",
           "title": {
            "standoff": 15
           },
           "zerolinecolor": "white",
           "zerolinewidth": 2
          },
          "yaxis": {
           "automargin": true,
           "gridcolor": "white",
           "linecolor": "white",
           "ticks": "",
           "title": {
            "standoff": 15
           },
           "zerolinecolor": "white",
           "zerolinewidth": 2
          }
         }
        },
        "title": {
         "text": "Auslastung GC Kronberg Auslastung MGL Jugend in % pro Wochentag für 2021 und 2022"
        },
        "width": 1600,
        "xaxis": {
         "title": {
          "text": "Wochentag"
         }
        },
        "yaxis": {
         "tickformat": ",.0%",
         "title": {
          "text": "Auslastung in %"
         }
        }
       }
      }
     },
     "metadata": {},
     "output_type": "display_data"
    },
    {
     "data": {
      "application/vnd.plotly.v1+json": {
       "config": {
        "plotlyServerURL": "https://plot.ly"
       },
       "data": [
        {
         "line": {
          "width": 5
         },
         "marker": {
          "color": "Red",
          "size": 10
         },
         "mode": "lines",
         "name": "2021",
         "type": "scatter",
         "x": [
          "Mo",
          "Di",
          "Mi",
          "Do",
          "Fr",
          "Sa",
          "So"
         ],
         "y": [
          0.009288627095604893,
          0.012077294685990338,
          0.00703781512605042,
          0.009787928221859706,
          0.013204225352112676,
          0.01605973813420622,
          0.023314360770577934
         ]
        },
        {
         "line": {
          "width": 5
         },
         "marker": {
          "color": "Blue",
          "size": 10
         },
         "mode": "lines",
         "name": "2022",
         "type": "scatter",
         "x": [
          "Mo",
          "Di",
          "Mi",
          "Do",
          "Fr",
          "Sa",
          "So"
         ],
         "y": [
          0.004212004212004212,
          0.003019765739385066,
          0.0035714285714285713,
          0.0039536594336153,
          0.005824214613483939,
          0.007540809084457062,
          0.008559830568302153
         ]
        },
        {
         "marker": {
          "color": "Green",
          "size": 10
         },
         "mode": "markers",
         "name": "Höchste Auslastung 2021",
         "type": "scatter",
         "x": [
          "So"
         ],
         "y": [
          0.023314360770577934
         ]
        },
        {
         "marker": {
          "color": "Orange",
          "size": 10
         },
         "mode": "markers",
         "name": "Geringste Auslastung 2021",
         "type": "scatter",
         "x": [
          "Mi"
         ],
         "y": [
          0.00703781512605042
         ]
        },
        {
         "marker": {
          "color": "Red",
          "size": 10
         },
         "mode": "markers",
         "name": "Höchste Auslastung 2022",
         "type": "scatter",
         "x": [
          "So"
         ],
         "y": [
          0.008559830568302153
         ]
        },
        {
         "marker": {
          "color": "Purple",
          "size": 10
         },
         "mode": "markers",
         "name": "Geringste Auslastung 2022",
         "type": "scatter",
         "x": [
          "Di"
         ],
         "y": [
          0.003019765739385066
         ]
        }
       ],
       "layout": {
        "font": {
         "size": 24
        },
        "template": {
         "data": {
          "bar": [
           {
            "error_x": {
             "color": "#2a3f5f"
            },
            "error_y": {
             "color": "#2a3f5f"
            },
            "marker": {
             "line": {
              "color": "#E5ECF6",
              "width": 0.5
             },
             "pattern": {
              "fillmode": "overlay",
              "size": 10,
              "solidity": 0.2
             }
            },
            "type": "bar"
           }
          ],
          "barpolar": [
           {
            "marker": {
             "line": {
              "color": "#E5ECF6",
              "width": 0.5
             },
             "pattern": {
              "fillmode": "overlay",
              "size": 10,
              "solidity": 0.2
             }
            },
            "type": "barpolar"
           }
          ],
          "carpet": [
           {
            "aaxis": {
             "endlinecolor": "#2a3f5f",
             "gridcolor": "white",
             "linecolor": "white",
             "minorgridcolor": "white",
             "startlinecolor": "#2a3f5f"
            },
            "baxis": {
             "endlinecolor": "#2a3f5f",
             "gridcolor": "white",
             "linecolor": "white",
             "minorgridcolor": "white",
             "startlinecolor": "#2a3f5f"
            },
            "type": "carpet"
           }
          ],
          "choropleth": [
           {
            "colorbar": {
             "outlinewidth": 0,
             "ticks": ""
            },
            "type": "choropleth"
           }
          ],
          "contour": [
           {
            "colorbar": {
             "outlinewidth": 0,
             "ticks": ""
            },
            "colorscale": [
             [
              0,
              "#0d0887"
             ],
             [
              0.1111111111111111,
              "#46039f"
             ],
             [
              0.2222222222222222,
              "#7201a8"
             ],
             [
              0.3333333333333333,
              "#9c179e"
             ],
             [
              0.4444444444444444,
              "#bd3786"
             ],
             [
              0.5555555555555556,
              "#d8576b"
             ],
             [
              0.6666666666666666,
              "#ed7953"
             ],
             [
              0.7777777777777778,
              "#fb9f3a"
             ],
             [
              0.8888888888888888,
              "#fdca26"
             ],
             [
              1,
              "#f0f921"
             ]
            ],
            "type": "contour"
           }
          ],
          "contourcarpet": [
           {
            "colorbar": {
             "outlinewidth": 0,
             "ticks": ""
            },
            "type": "contourcarpet"
           }
          ],
          "heatmap": [
           {
            "colorbar": {
             "outlinewidth": 0,
             "ticks": ""
            },
            "colorscale": [
             [
              0,
              "#0d0887"
             ],
             [
              0.1111111111111111,
              "#46039f"
             ],
             [
              0.2222222222222222,
              "#7201a8"
             ],
             [
              0.3333333333333333,
              "#9c179e"
             ],
             [
              0.4444444444444444,
              "#bd3786"
             ],
             [
              0.5555555555555556,
              "#d8576b"
             ],
             [
              0.6666666666666666,
              "#ed7953"
             ],
             [
              0.7777777777777778,
              "#fb9f3a"
             ],
             [
              0.8888888888888888,
              "#fdca26"
             ],
             [
              1,
              "#f0f921"
             ]
            ],
            "type": "heatmap"
           }
          ],
          "heatmapgl": [
           {
            "colorbar": {
             "outlinewidth": 0,
             "ticks": ""
            },
            "colorscale": [
             [
              0,
              "#0d0887"
             ],
             [
              0.1111111111111111,
              "#46039f"
             ],
             [
              0.2222222222222222,
              "#7201a8"
             ],
             [
              0.3333333333333333,
              "#9c179e"
             ],
             [
              0.4444444444444444,
              "#bd3786"
             ],
             [
              0.5555555555555556,
              "#d8576b"
             ],
             [
              0.6666666666666666,
              "#ed7953"
             ],
             [
              0.7777777777777778,
              "#fb9f3a"
             ],
             [
              0.8888888888888888,
              "#fdca26"
             ],
             [
              1,
              "#f0f921"
             ]
            ],
            "type": "heatmapgl"
           }
          ],
          "histogram": [
           {
            "marker": {
             "pattern": {
              "fillmode": "overlay",
              "size": 10,
              "solidity": 0.2
             }
            },
            "type": "histogram"
           }
          ],
          "histogram2d": [
           {
            "colorbar": {
             "outlinewidth": 0,
             "ticks": ""
            },
            "colorscale": [
             [
              0,
              "#0d0887"
             ],
             [
              0.1111111111111111,
              "#46039f"
             ],
             [
              0.2222222222222222,
              "#7201a8"
             ],
             [
              0.3333333333333333,
              "#9c179e"
             ],
             [
              0.4444444444444444,
              "#bd3786"
             ],
             [
              0.5555555555555556,
              "#d8576b"
             ],
             [
              0.6666666666666666,
              "#ed7953"
             ],
             [
              0.7777777777777778,
              "#fb9f3a"
             ],
             [
              0.8888888888888888,
              "#fdca26"
             ],
             [
              1,
              "#f0f921"
             ]
            ],
            "type": "histogram2d"
           }
          ],
          "histogram2dcontour": [
           {
            "colorbar": {
             "outlinewidth": 0,
             "ticks": ""
            },
            "colorscale": [
             [
              0,
              "#0d0887"
             ],
             [
              0.1111111111111111,
              "#46039f"
             ],
             [
              0.2222222222222222,
              "#7201a8"
             ],
             [
              0.3333333333333333,
              "#9c179e"
             ],
             [
              0.4444444444444444,
              "#bd3786"
             ],
             [
              0.5555555555555556,
              "#d8576b"
             ],
             [
              0.6666666666666666,
              "#ed7953"
             ],
             [
              0.7777777777777778,
              "#fb9f3a"
             ],
             [
              0.8888888888888888,
              "#fdca26"
             ],
             [
              1,
              "#f0f921"
             ]
            ],
            "type": "histogram2dcontour"
           }
          ],
          "mesh3d": [
           {
            "colorbar": {
             "outlinewidth": 0,
             "ticks": ""
            },
            "type": "mesh3d"
           }
          ],
          "parcoords": [
           {
            "line": {
             "colorbar": {
              "outlinewidth": 0,
              "ticks": ""
             }
            },
            "type": "parcoords"
           }
          ],
          "pie": [
           {
            "automargin": true,
            "type": "pie"
           }
          ],
          "scatter": [
           {
            "fillpattern": {
             "fillmode": "overlay",
             "size": 10,
             "solidity": 0.2
            },
            "type": "scatter"
           }
          ],
          "scatter3d": [
           {
            "line": {
             "colorbar": {
              "outlinewidth": 0,
              "ticks": ""
             }
            },
            "marker": {
             "colorbar": {
              "outlinewidth": 0,
              "ticks": ""
             }
            },
            "type": "scatter3d"
           }
          ],
          "scattercarpet": [
           {
            "marker": {
             "colorbar": {
              "outlinewidth": 0,
              "ticks": ""
             }
            },
            "type": "scattercarpet"
           }
          ],
          "scattergeo": [
           {
            "marker": {
             "colorbar": {
              "outlinewidth": 0,
              "ticks": ""
             }
            },
            "type": "scattergeo"
           }
          ],
          "scattergl": [
           {
            "marker": {
             "colorbar": {
              "outlinewidth": 0,
              "ticks": ""
             }
            },
            "type": "scattergl"
           }
          ],
          "scattermapbox": [
           {
            "marker": {
             "colorbar": {
              "outlinewidth": 0,
              "ticks": ""
             }
            },
            "type": "scattermapbox"
           }
          ],
          "scatterpolar": [
           {
            "marker": {
             "colorbar": {
              "outlinewidth": 0,
              "ticks": ""
             }
            },
            "type": "scatterpolar"
           }
          ],
          "scatterpolargl": [
           {
            "marker": {
             "colorbar": {
              "outlinewidth": 0,
              "ticks": ""
             }
            },
            "type": "scatterpolargl"
           }
          ],
          "scatterternary": [
           {
            "marker": {
             "colorbar": {
              "outlinewidth": 0,
              "ticks": ""
             }
            },
            "type": "scatterternary"
           }
          ],
          "surface": [
           {
            "colorbar": {
             "outlinewidth": 0,
             "ticks": ""
            },
            "colorscale": [
             [
              0,
              "#0d0887"
             ],
             [
              0.1111111111111111,
              "#46039f"
             ],
             [
              0.2222222222222222,
              "#7201a8"
             ],
             [
              0.3333333333333333,
              "#9c179e"
             ],
             [
              0.4444444444444444,
              "#bd3786"
             ],
             [
              0.5555555555555556,
              "#d8576b"
             ],
             [
              0.6666666666666666,
              "#ed7953"
             ],
             [
              0.7777777777777778,
              "#fb9f3a"
             ],
             [
              0.8888888888888888,
              "#fdca26"
             ],
             [
              1,
              "#f0f921"
             ]
            ],
            "type": "surface"
           }
          ],
          "table": [
           {
            "cells": {
             "fill": {
              "color": "#EBF0F8"
             },
             "line": {
              "color": "white"
             }
            },
            "header": {
             "fill": {
              "color": "#C8D4E3"
             },
             "line": {
              "color": "white"
             }
            },
            "type": "table"
           }
          ]
         },
         "layout": {
          "annotationdefaults": {
           "arrowcolor": "#2a3f5f",
           "arrowhead": 0,
           "arrowwidth": 1
          },
          "autotypenumbers": "strict",
          "coloraxis": {
           "colorbar": {
            "outlinewidth": 0,
            "ticks": ""
           }
          },
          "colorscale": {
           "diverging": [
            [
             0,
             "#8e0152"
            ],
            [
             0.1,
             "#c51b7d"
            ],
            [
             0.2,
             "#de77ae"
            ],
            [
             0.3,
             "#f1b6da"
            ],
            [
             0.4,
             "#fde0ef"
            ],
            [
             0.5,
             "#f7f7f7"
            ],
            [
             0.6,
             "#e6f5d0"
            ],
            [
             0.7,
             "#b8e186"
            ],
            [
             0.8,
             "#7fbc41"
            ],
            [
             0.9,
             "#4d9221"
            ],
            [
             1,
             "#276419"
            ]
           ],
           "sequential": [
            [
             0,
             "#0d0887"
            ],
            [
             0.1111111111111111,
             "#46039f"
            ],
            [
             0.2222222222222222,
             "#7201a8"
            ],
            [
             0.3333333333333333,
             "#9c179e"
            ],
            [
             0.4444444444444444,
             "#bd3786"
            ],
            [
             0.5555555555555556,
             "#d8576b"
            ],
            [
             0.6666666666666666,
             "#ed7953"
            ],
            [
             0.7777777777777778,
             "#fb9f3a"
            ],
            [
             0.8888888888888888,
             "#fdca26"
            ],
            [
             1,
             "#f0f921"
            ]
           ],
           "sequentialminus": [
            [
             0,
             "#0d0887"
            ],
            [
             0.1111111111111111,
             "#46039f"
            ],
            [
             0.2222222222222222,
             "#7201a8"
            ],
            [
             0.3333333333333333,
             "#9c179e"
            ],
            [
             0.4444444444444444,
             "#bd3786"
            ],
            [
             0.5555555555555556,
             "#d8576b"
            ],
            [
             0.6666666666666666,
             "#ed7953"
            ],
            [
             0.7777777777777778,
             "#fb9f3a"
            ],
            [
             0.8888888888888888,
             "#fdca26"
            ],
            [
             1,
             "#f0f921"
            ]
           ]
          },
          "colorway": [
           "#636efa",
           "#EF553B",
           "#00cc96",
           "#ab63fa",
           "#FFA15A",
           "#19d3f3",
           "#FF6692",
           "#B6E880",
           "#FF97FF",
           "#FECB52"
          ],
          "font": {
           "color": "#2a3f5f"
          },
          "geo": {
           "bgcolor": "white",
           "lakecolor": "white",
           "landcolor": "#E5ECF6",
           "showlakes": true,
           "showland": true,
           "subunitcolor": "white"
          },
          "hoverlabel": {
           "align": "left"
          },
          "hovermode": "closest",
          "mapbox": {
           "style": "light"
          },
          "paper_bgcolor": "white",
          "plot_bgcolor": "#E5ECF6",
          "polar": {
           "angularaxis": {
            "gridcolor": "white",
            "linecolor": "white",
            "ticks": ""
           },
           "bgcolor": "#E5ECF6",
           "radialaxis": {
            "gridcolor": "white",
            "linecolor": "white",
            "ticks": ""
           }
          },
          "scene": {
           "xaxis": {
            "backgroundcolor": "#E5ECF6",
            "gridcolor": "white",
            "gridwidth": 2,
            "linecolor": "white",
            "showbackground": true,
            "ticks": "",
            "zerolinecolor": "white"
           },
           "yaxis": {
            "backgroundcolor": "#E5ECF6",
            "gridcolor": "white",
            "gridwidth": 2,
            "linecolor": "white",
            "showbackground": true,
            "ticks": "",
            "zerolinecolor": "white"
           },
           "zaxis": {
            "backgroundcolor": "#E5ECF6",
            "gridcolor": "white",
            "gridwidth": 2,
            "linecolor": "white",
            "showbackground": true,
            "ticks": "",
            "zerolinecolor": "white"
           }
          },
          "shapedefaults": {
           "line": {
            "color": "#2a3f5f"
           }
          },
          "ternary": {
           "aaxis": {
            "gridcolor": "white",
            "linecolor": "white",
            "ticks": ""
           },
           "baxis": {
            "gridcolor": "white",
            "linecolor": "white",
            "ticks": ""
           },
           "bgcolor": "#E5ECF6",
           "caxis": {
            "gridcolor": "white",
            "linecolor": "white",
            "ticks": ""
           }
          },
          "title": {
           "x": 0.05
          },
          "xaxis": {
           "automargin": true,
           "gridcolor": "white",
           "linecolor": "white",
           "ticks": "",
           "title": {
            "standoff": 15
           },
           "zerolinecolor": "white",
           "zerolinewidth": 2
          },
          "yaxis": {
           "automargin": true,
           "gridcolor": "white",
           "linecolor": "white",
           "ticks": "",
           "title": {
            "standoff": 15
           },
           "zerolinecolor": "white",
           "zerolinewidth": 2
          }
         }
        },
        "title": {
         "text": "Auslastung GC Kronberg Auslastung MGL 18-40 in % pro Wochentag für 2021 und 2022"
        },
        "width": 1600,
        "xaxis": {
         "title": {
          "text": "Wochentag"
         }
        },
        "yaxis": {
         "tickformat": ",.0%",
         "title": {
          "text": "Auslastung in %"
         }
        }
       }
      }
     },
     "metadata": {},
     "output_type": "display_data"
    },
    {
     "data": {
      "application/vnd.plotly.v1+json": {
       "config": {
        "plotlyServerURL": "https://plot.ly"
       },
       "data": [
        {
         "line": {
          "width": 5
         },
         "marker": {
          "color": "Red",
          "size": 10
         },
         "mode": "lines",
         "name": "2021",
         "type": "scatter",
         "x": [
          "Mo",
          "Di",
          "Mi",
          "Do",
          "Fr",
          "Sa",
          "So"
         ],
         "y": [
          0.004531037607612143,
          0.007356170399648661,
          0.009453781512605041,
          0.009176182707993474,
          0.018290297339593115,
          0.018105564648117838,
          0.021672504378283712
         ]
        },
        {
         "line": {
          "width": 5
         },
         "marker": {
          "color": "Blue",
          "size": 10
         },
         "mode": "lines",
         "name": "2022",
         "type": "scatter",
         "x": [
          "Mo",
          "Di",
          "Mi",
          "Do",
          "Fr",
          "Sa",
          "So"
         ],
         "y": [
          0.0029835029835029833,
          0.004209370424597365,
          0.006684981684981685,
          0.004229496138286134,
          0.01200141193081539,
          0.012331440738112136,
          0.013148605718319802
         ]
        },
        {
         "marker": {
          "color": "Green",
          "size": 10
         },
         "mode": "markers",
         "name": "Höchste Auslastung 2021",
         "type": "scatter",
         "x": [
          "So"
         ],
         "y": [
          0.021672504378283712
         ]
        },
        {
         "marker": {
          "color": "Orange",
          "size": 10
         },
         "mode": "markers",
         "name": "Geringste Auslastung 2021",
         "type": "scatter",
         "x": [
          "Mo"
         ],
         "y": [
          0.004531037607612143
         ]
        },
        {
         "marker": {
          "color": "Red",
          "size": 10
         },
         "mode": "markers",
         "name": "Höchste Auslastung 2022",
         "type": "scatter",
         "x": [
          "So"
         ],
         "y": [
          0.013148605718319802
         ]
        },
        {
         "marker": {
          "color": "Purple",
          "size": 10
         },
         "mode": "markers",
         "name": "Geringste Auslastung 2022",
         "type": "scatter",
         "x": [
          "Mo"
         ],
         "y": [
          0.0029835029835029833
         ]
        }
       ],
       "layout": {
        "font": {
         "size": 24
        },
        "template": {
         "data": {
          "bar": [
           {
            "error_x": {
             "color": "#2a3f5f"
            },
            "error_y": {
             "color": "#2a3f5f"
            },
            "marker": {
             "line": {
              "color": "#E5ECF6",
              "width": 0.5
             },
             "pattern": {
              "fillmode": "overlay",
              "size": 10,
              "solidity": 0.2
             }
            },
            "type": "bar"
           }
          ],
          "barpolar": [
           {
            "marker": {
             "line": {
              "color": "#E5ECF6",
              "width": 0.5
             },
             "pattern": {
              "fillmode": "overlay",
              "size": 10,
              "solidity": 0.2
             }
            },
            "type": "barpolar"
           }
          ],
          "carpet": [
           {
            "aaxis": {
             "endlinecolor": "#2a3f5f",
             "gridcolor": "white",
             "linecolor": "white",
             "minorgridcolor": "white",
             "startlinecolor": "#2a3f5f"
            },
            "baxis": {
             "endlinecolor": "#2a3f5f",
             "gridcolor": "white",
             "linecolor": "white",
             "minorgridcolor": "white",
             "startlinecolor": "#2a3f5f"
            },
            "type": "carpet"
           }
          ],
          "choropleth": [
           {
            "colorbar": {
             "outlinewidth": 0,
             "ticks": ""
            },
            "type": "choropleth"
           }
          ],
          "contour": [
           {
            "colorbar": {
             "outlinewidth": 0,
             "ticks": ""
            },
            "colorscale": [
             [
              0,
              "#0d0887"
             ],
             [
              0.1111111111111111,
              "#46039f"
             ],
             [
              0.2222222222222222,
              "#7201a8"
             ],
             [
              0.3333333333333333,
              "#9c179e"
             ],
             [
              0.4444444444444444,
              "#bd3786"
             ],
             [
              0.5555555555555556,
              "#d8576b"
             ],
             [
              0.6666666666666666,
              "#ed7953"
             ],
             [
              0.7777777777777778,
              "#fb9f3a"
             ],
             [
              0.8888888888888888,
              "#fdca26"
             ],
             [
              1,
              "#f0f921"
             ]
            ],
            "type": "contour"
           }
          ],
          "contourcarpet": [
           {
            "colorbar": {
             "outlinewidth": 0,
             "ticks": ""
            },
            "type": "contourcarpet"
           }
          ],
          "heatmap": [
           {
            "colorbar": {
             "outlinewidth": 0,
             "ticks": ""
            },
            "colorscale": [
             [
              0,
              "#0d0887"
             ],
             [
              0.1111111111111111,
              "#46039f"
             ],
             [
              0.2222222222222222,
              "#7201a8"
             ],
             [
              0.3333333333333333,
              "#9c179e"
             ],
             [
              0.4444444444444444,
              "#bd3786"
             ],
             [
              0.5555555555555556,
              "#d8576b"
             ],
             [
              0.6666666666666666,
              "#ed7953"
             ],
             [
              0.7777777777777778,
              "#fb9f3a"
             ],
             [
              0.8888888888888888,
              "#fdca26"
             ],
             [
              1,
              "#f0f921"
             ]
            ],
            "type": "heatmap"
           }
          ],
          "heatmapgl": [
           {
            "colorbar": {
             "outlinewidth": 0,
             "ticks": ""
            },
            "colorscale": [
             [
              0,
              "#0d0887"
             ],
             [
              0.1111111111111111,
              "#46039f"
             ],
             [
              0.2222222222222222,
              "#7201a8"
             ],
             [
              0.3333333333333333,
              "#9c179e"
             ],
             [
              0.4444444444444444,
              "#bd3786"
             ],
             [
              0.5555555555555556,
              "#d8576b"
             ],
             [
              0.6666666666666666,
              "#ed7953"
             ],
             [
              0.7777777777777778,
              "#fb9f3a"
             ],
             [
              0.8888888888888888,
              "#fdca26"
             ],
             [
              1,
              "#f0f921"
             ]
            ],
            "type": "heatmapgl"
           }
          ],
          "histogram": [
           {
            "marker": {
             "pattern": {
              "fillmode": "overlay",
              "size": 10,
              "solidity": 0.2
             }
            },
            "type": "histogram"
           }
          ],
          "histogram2d": [
           {
            "colorbar": {
             "outlinewidth": 0,
             "ticks": ""
            },
            "colorscale": [
             [
              0,
              "#0d0887"
             ],
             [
              0.1111111111111111,
              "#46039f"
             ],
             [
              0.2222222222222222,
              "#7201a8"
             ],
             [
              0.3333333333333333,
              "#9c179e"
             ],
             [
              0.4444444444444444,
              "#bd3786"
             ],
             [
              0.5555555555555556,
              "#d8576b"
             ],
             [
              0.6666666666666666,
              "#ed7953"
             ],
             [
              0.7777777777777778,
              "#fb9f3a"
             ],
             [
              0.8888888888888888,
              "#fdca26"
             ],
             [
              1,
              "#f0f921"
             ]
            ],
            "type": "histogram2d"
           }
          ],
          "histogram2dcontour": [
           {
            "colorbar": {
             "outlinewidth": 0,
             "ticks": ""
            },
            "colorscale": [
             [
              0,
              "#0d0887"
             ],
             [
              0.1111111111111111,
              "#46039f"
             ],
             [
              0.2222222222222222,
              "#7201a8"
             ],
             [
              0.3333333333333333,
              "#9c179e"
             ],
             [
              0.4444444444444444,
              "#bd3786"
             ],
             [
              0.5555555555555556,
              "#d8576b"
             ],
             [
              0.6666666666666666,
              "#ed7953"
             ],
             [
              0.7777777777777778,
              "#fb9f3a"
             ],
             [
              0.8888888888888888,
              "#fdca26"
             ],
             [
              1,
              "#f0f921"
             ]
            ],
            "type": "histogram2dcontour"
           }
          ],
          "mesh3d": [
           {
            "colorbar": {
             "outlinewidth": 0,
             "ticks": ""
            },
            "type": "mesh3d"
           }
          ],
          "parcoords": [
           {
            "line": {
             "colorbar": {
              "outlinewidth": 0,
              "ticks": ""
             }
            },
            "type": "parcoords"
           }
          ],
          "pie": [
           {
            "automargin": true,
            "type": "pie"
           }
          ],
          "scatter": [
           {
            "fillpattern": {
             "fillmode": "overlay",
             "size": 10,
             "solidity": 0.2
            },
            "type": "scatter"
           }
          ],
          "scatter3d": [
           {
            "line": {
             "colorbar": {
              "outlinewidth": 0,
              "ticks": ""
             }
            },
            "marker": {
             "colorbar": {
              "outlinewidth": 0,
              "ticks": ""
             }
            },
            "type": "scatter3d"
           }
          ],
          "scattercarpet": [
           {
            "marker": {
             "colorbar": {
              "outlinewidth": 0,
              "ticks": ""
             }
            },
            "type": "scattercarpet"
           }
          ],
          "scattergeo": [
           {
            "marker": {
             "colorbar": {
              "outlinewidth": 0,
              "ticks": ""
             }
            },
            "type": "scattergeo"
           }
          ],
          "scattergl": [
           {
            "marker": {
             "colorbar": {
              "outlinewidth": 0,
              "ticks": ""
             }
            },
            "type": "scattergl"
           }
          ],
          "scattermapbox": [
           {
            "marker": {
             "colorbar": {
              "outlinewidth": 0,
              "ticks": ""
             }
            },
            "type": "scattermapbox"
           }
          ],
          "scatterpolar": [
           {
            "marker": {
             "colorbar": {
              "outlinewidth": 0,
              "ticks": ""
             }
            },
            "type": "scatterpolar"
           }
          ],
          "scatterpolargl": [
           {
            "marker": {
             "colorbar": {
              "outlinewidth": 0,
              "ticks": ""
             }
            },
            "type": "scatterpolargl"
           }
          ],
          "scatterternary": [
           {
            "marker": {
             "colorbar": {
              "outlinewidth": 0,
              "ticks": ""
             }
            },
            "type": "scatterternary"
           }
          ],
          "surface": [
           {
            "colorbar": {
             "outlinewidth": 0,
             "ticks": ""
            },
            "colorscale": [
             [
              0,
              "#0d0887"
             ],
             [
              0.1111111111111111,
              "#46039f"
             ],
             [
              0.2222222222222222,
              "#7201a8"
             ],
             [
              0.3333333333333333,
              "#9c179e"
             ],
             [
              0.4444444444444444,
              "#bd3786"
             ],
             [
              0.5555555555555556,
              "#d8576b"
             ],
             [
              0.6666666666666666,
              "#ed7953"
             ],
             [
              0.7777777777777778,
              "#fb9f3a"
             ],
             [
              0.8888888888888888,
              "#fdca26"
             ],
             [
              1,
              "#f0f921"
             ]
            ],
            "type": "surface"
           }
          ],
          "table": [
           {
            "cells": {
             "fill": {
              "color": "#EBF0F8"
             },
             "line": {
              "color": "white"
             }
            },
            "header": {
             "fill": {
              "color": "#C8D4E3"
             },
             "line": {
              "color": "white"
             }
            },
            "type": "table"
           }
          ]
         },
         "layout": {
          "annotationdefaults": {
           "arrowcolor": "#2a3f5f",
           "arrowhead": 0,
           "arrowwidth": 1
          },
          "autotypenumbers": "strict",
          "coloraxis": {
           "colorbar": {
            "outlinewidth": 0,
            "ticks": ""
           }
          },
          "colorscale": {
           "diverging": [
            [
             0,
             "#8e0152"
            ],
            [
             0.1,
             "#c51b7d"
            ],
            [
             0.2,
             "#de77ae"
            ],
            [
             0.3,
             "#f1b6da"
            ],
            [
             0.4,
             "#fde0ef"
            ],
            [
             0.5,
             "#f7f7f7"
            ],
            [
             0.6,
             "#e6f5d0"
            ],
            [
             0.7,
             "#b8e186"
            ],
            [
             0.8,
             "#7fbc41"
            ],
            [
             0.9,
             "#4d9221"
            ],
            [
             1,
             "#276419"
            ]
           ],
           "sequential": [
            [
             0,
             "#0d0887"
            ],
            [
             0.1111111111111111,
             "#46039f"
            ],
            [
             0.2222222222222222,
             "#7201a8"
            ],
            [
             0.3333333333333333,
             "#9c179e"
            ],
            [
             0.4444444444444444,
             "#bd3786"
            ],
            [
             0.5555555555555556,
             "#d8576b"
            ],
            [
             0.6666666666666666,
             "#ed7953"
            ],
            [
             0.7777777777777778,
             "#fb9f3a"
            ],
            [
             0.8888888888888888,
             "#fdca26"
            ],
            [
             1,
             "#f0f921"
            ]
           ],
           "sequentialminus": [
            [
             0,
             "#0d0887"
            ],
            [
             0.1111111111111111,
             "#46039f"
            ],
            [
             0.2222222222222222,
             "#7201a8"
            ],
            [
             0.3333333333333333,
             "#9c179e"
            ],
            [
             0.4444444444444444,
             "#bd3786"
            ],
            [
             0.5555555555555556,
             "#d8576b"
            ],
            [
             0.6666666666666666,
             "#ed7953"
            ],
            [
             0.7777777777777778,
             "#fb9f3a"
            ],
            [
             0.8888888888888888,
             "#fdca26"
            ],
            [
             1,
             "#f0f921"
            ]
           ]
          },
          "colorway": [
           "#636efa",
           "#EF553B",
           "#00cc96",
           "#ab63fa",
           "#FFA15A",
           "#19d3f3",
           "#FF6692",
           "#B6E880",
           "#FF97FF",
           "#FECB52"
          ],
          "font": {
           "color": "#2a3f5f"
          },
          "geo": {
           "bgcolor": "white",
           "lakecolor": "white",
           "landcolor": "#E5ECF6",
           "showlakes": true,
           "showland": true,
           "subunitcolor": "white"
          },
          "hoverlabel": {
           "align": "left"
          },
          "hovermode": "closest",
          "mapbox": {
           "style": "light"
          },
          "paper_bgcolor": "white",
          "plot_bgcolor": "#E5ECF6",
          "polar": {
           "angularaxis": {
            "gridcolor": "white",
            "linecolor": "white",
            "ticks": ""
           },
           "bgcolor": "#E5ECF6",
           "radialaxis": {
            "gridcolor": "white",
            "linecolor": "white",
            "ticks": ""
           }
          },
          "scene": {
           "xaxis": {
            "backgroundcolor": "#E5ECF6",
            "gridcolor": "white",
            "gridwidth": 2,
            "linecolor": "white",
            "showbackground": true,
            "ticks": "",
            "zerolinecolor": "white"
           },
           "yaxis": {
            "backgroundcolor": "#E5ECF6",
            "gridcolor": "white",
            "gridwidth": 2,
            "linecolor": "white",
            "showbackground": true,
            "ticks": "",
            "zerolinecolor": "white"
           },
           "zaxis": {
            "backgroundcolor": "#E5ECF6",
            "gridcolor": "white",
            "gridwidth": 2,
            "linecolor": "white",
            "showbackground": true,
            "ticks": "",
            "zerolinecolor": "white"
           }
          },
          "shapedefaults": {
           "line": {
            "color": "#2a3f5f"
           }
          },
          "ternary": {
           "aaxis": {
            "gridcolor": "white",
            "linecolor": "white",
            "ticks": ""
           },
           "baxis": {
            "gridcolor": "white",
            "linecolor": "white",
            "ticks": ""
           },
           "bgcolor": "#E5ECF6",
           "caxis": {
            "gridcolor": "white",
            "linecolor": "white",
            "ticks": ""
           }
          },
          "title": {
           "x": 0.05
          },
          "xaxis": {
           "automargin": true,
           "gridcolor": "white",
           "linecolor": "white",
           "ticks": "",
           "title": {
            "standoff": 15
           },
           "zerolinecolor": "white",
           "zerolinewidth": 2
          },
          "yaxis": {
           "automargin": true,
           "gridcolor": "white",
           "linecolor": "white",
           "ticks": "",
           "title": {
            "standoff": 15
           },
           "zerolinecolor": "white",
           "zerolinewidth": 2
          }
         }
        },
        "title": {
         "text": "Auslastung GC Kronberg Auslastung MGL 40-50 in % pro Wochentag für 2021 und 2022"
        },
        "width": 1600,
        "xaxis": {
         "title": {
          "text": "Wochentag"
         }
        },
        "yaxis": {
         "tickformat": ",.0%",
         "title": {
          "text": "Auslastung in %"
         }
        }
       }
      }
     },
     "metadata": {},
     "output_type": "display_data"
    },
    {
     "data": {
      "application/vnd.plotly.v1+json": {
       "config": {
        "plotlyServerURL": "https://plot.ly"
       },
       "data": [
        {
         "line": {
          "width": 5
         },
         "marker": {
          "color": "Red",
          "size": 10
         },
         "mode": "lines",
         "name": "2021",
         "type": "scatter",
         "x": [
          "Mo",
          "Di",
          "Mi",
          "Do",
          "Fr",
          "Sa",
          "So"
         ],
         "y": [
          0.02061622111463525,
          0.03458498023715415,
          0.03476890756302521,
          0.03507340946166395,
          0.05897887323943662,
          0.06311374795417349,
          0.08471978984238179
         ]
        },
        {
         "line": {
          "width": 5
         },
         "marker": {
          "color": "Blue",
          "size": 10
         },
         "mode": "lines",
         "name": "2022",
         "type": "scatter",
         "x": [
          "Mo",
          "Di",
          "Mi",
          "Do",
          "Fr",
          "Sa",
          "So"
         ],
         "y": [
          0.017813267813267815,
          0.018118594436310396,
          0.02435897435897436,
          0.01940051489518205,
          0.037327920931874335,
          0.03956706884315117,
          0.055594775855983054
         ]
        },
        {
         "marker": {
          "color": "Green",
          "size": 10
         },
         "mode": "markers",
         "name": "Höchste Auslastung 2021",
         "type": "scatter",
         "x": [
          "So"
         ],
         "y": [
          0.08471978984238179
         ]
        },
        {
         "marker": {
          "color": "Orange",
          "size": 10
         },
         "mode": "markers",
         "name": "Geringste Auslastung 2021",
         "type": "scatter",
         "x": [
          "Mo"
         ],
         "y": [
          0.02061622111463525
         ]
        },
        {
         "marker": {
          "color": "Red",
          "size": 10
         },
         "mode": "markers",
         "name": "Höchste Auslastung 2022",
         "type": "scatter",
         "x": [
          "So"
         ],
         "y": [
          0.055594775855983054
         ]
        },
        {
         "marker": {
          "color": "Purple",
          "size": 10
         },
         "mode": "markers",
         "name": "Geringste Auslastung 2022",
         "type": "scatter",
         "x": [
          "Mo"
         ],
         "y": [
          0.017813267813267815
         ]
        }
       ],
       "layout": {
        "font": {
         "size": 24
        },
        "template": {
         "data": {
          "bar": [
           {
            "error_x": {
             "color": "#2a3f5f"
            },
            "error_y": {
             "color": "#2a3f5f"
            },
            "marker": {
             "line": {
              "color": "#E5ECF6",
              "width": 0.5
             },
             "pattern": {
              "fillmode": "overlay",
              "size": 10,
              "solidity": 0.2
             }
            },
            "type": "bar"
           }
          ],
          "barpolar": [
           {
            "marker": {
             "line": {
              "color": "#E5ECF6",
              "width": 0.5
             },
             "pattern": {
              "fillmode": "overlay",
              "size": 10,
              "solidity": 0.2
             }
            },
            "type": "barpolar"
           }
          ],
          "carpet": [
           {
            "aaxis": {
             "endlinecolor": "#2a3f5f",
             "gridcolor": "white",
             "linecolor": "white",
             "minorgridcolor": "white",
             "startlinecolor": "#2a3f5f"
            },
            "baxis": {
             "endlinecolor": "#2a3f5f",
             "gridcolor": "white",
             "linecolor": "white",
             "minorgridcolor": "white",
             "startlinecolor": "#2a3f5f"
            },
            "type": "carpet"
           }
          ],
          "choropleth": [
           {
            "colorbar": {
             "outlinewidth": 0,
             "ticks": ""
            },
            "type": "choropleth"
           }
          ],
          "contour": [
           {
            "colorbar": {
             "outlinewidth": 0,
             "ticks": ""
            },
            "colorscale": [
             [
              0,
              "#0d0887"
             ],
             [
              0.1111111111111111,
              "#46039f"
             ],
             [
              0.2222222222222222,
              "#7201a8"
             ],
             [
              0.3333333333333333,
              "#9c179e"
             ],
             [
              0.4444444444444444,
              "#bd3786"
             ],
             [
              0.5555555555555556,
              "#d8576b"
             ],
             [
              0.6666666666666666,
              "#ed7953"
             ],
             [
              0.7777777777777778,
              "#fb9f3a"
             ],
             [
              0.8888888888888888,
              "#fdca26"
             ],
             [
              1,
              "#f0f921"
             ]
            ],
            "type": "contour"
           }
          ],
          "contourcarpet": [
           {
            "colorbar": {
             "outlinewidth": 0,
             "ticks": ""
            },
            "type": "contourcarpet"
           }
          ],
          "heatmap": [
           {
            "colorbar": {
             "outlinewidth": 0,
             "ticks": ""
            },
            "colorscale": [
             [
              0,
              "#0d0887"
             ],
             [
              0.1111111111111111,
              "#46039f"
             ],
             [
              0.2222222222222222,
              "#7201a8"
             ],
             [
              0.3333333333333333,
              "#9c179e"
             ],
             [
              0.4444444444444444,
              "#bd3786"
             ],
             [
              0.5555555555555556,
              "#d8576b"
             ],
             [
              0.6666666666666666,
              "#ed7953"
             ],
             [
              0.7777777777777778,
              "#fb9f3a"
             ],
             [
              0.8888888888888888,
              "#fdca26"
             ],
             [
              1,
              "#f0f921"
             ]
            ],
            "type": "heatmap"
           }
          ],
          "heatmapgl": [
           {
            "colorbar": {
             "outlinewidth": 0,
             "ticks": ""
            },
            "colorscale": [
             [
              0,
              "#0d0887"
             ],
             [
              0.1111111111111111,
              "#46039f"
             ],
             [
              0.2222222222222222,
              "#7201a8"
             ],
             [
              0.3333333333333333,
              "#9c179e"
             ],
             [
              0.4444444444444444,
              "#bd3786"
             ],
             [
              0.5555555555555556,
              "#d8576b"
             ],
             [
              0.6666666666666666,
              "#ed7953"
             ],
             [
              0.7777777777777778,
              "#fb9f3a"
             ],
             [
              0.8888888888888888,
              "#fdca26"
             ],
             [
              1,
              "#f0f921"
             ]
            ],
            "type": "heatmapgl"
           }
          ],
          "histogram": [
           {
            "marker": {
             "pattern": {
              "fillmode": "overlay",
              "size": 10,
              "solidity": 0.2
             }
            },
            "type": "histogram"
           }
          ],
          "histogram2d": [
           {
            "colorbar": {
             "outlinewidth": 0,
             "ticks": ""
            },
            "colorscale": [
             [
              0,
              "#0d0887"
             ],
             [
              0.1111111111111111,
              "#46039f"
             ],
             [
              0.2222222222222222,
              "#7201a8"
             ],
             [
              0.3333333333333333,
              "#9c179e"
             ],
             [
              0.4444444444444444,
              "#bd3786"
             ],
             [
              0.5555555555555556,
              "#d8576b"
             ],
             [
              0.6666666666666666,
              "#ed7953"
             ],
             [
              0.7777777777777778,
              "#fb9f3a"
             ],
             [
              0.8888888888888888,
              "#fdca26"
             ],
             [
              1,
              "#f0f921"
             ]
            ],
            "type": "histogram2d"
           }
          ],
          "histogram2dcontour": [
           {
            "colorbar": {
             "outlinewidth": 0,
             "ticks": ""
            },
            "colorscale": [
             [
              0,
              "#0d0887"
             ],
             [
              0.1111111111111111,
              "#46039f"
             ],
             [
              0.2222222222222222,
              "#7201a8"
             ],
             [
              0.3333333333333333,
              "#9c179e"
             ],
             [
              0.4444444444444444,
              "#bd3786"
             ],
             [
              0.5555555555555556,
              "#d8576b"
             ],
             [
              0.6666666666666666,
              "#ed7953"
             ],
             [
              0.7777777777777778,
              "#fb9f3a"
             ],
             [
              0.8888888888888888,
              "#fdca26"
             ],
             [
              1,
              "#f0f921"
             ]
            ],
            "type": "histogram2dcontour"
           }
          ],
          "mesh3d": [
           {
            "colorbar": {
             "outlinewidth": 0,
             "ticks": ""
            },
            "type": "mesh3d"
           }
          ],
          "parcoords": [
           {
            "line": {
             "colorbar": {
              "outlinewidth": 0,
              "ticks": ""
             }
            },
            "type": "parcoords"
           }
          ],
          "pie": [
           {
            "automargin": true,
            "type": "pie"
           }
          ],
          "scatter": [
           {
            "fillpattern": {
             "fillmode": "overlay",
             "size": 10,
             "solidity": 0.2
            },
            "type": "scatter"
           }
          ],
          "scatter3d": [
           {
            "line": {
             "colorbar": {
              "outlinewidth": 0,
              "ticks": ""
             }
            },
            "marker": {
             "colorbar": {
              "outlinewidth": 0,
              "ticks": ""
             }
            },
            "type": "scatter3d"
           }
          ],
          "scattercarpet": [
           {
            "marker": {
             "colorbar": {
              "outlinewidth": 0,
              "ticks": ""
             }
            },
            "type": "scattercarpet"
           }
          ],
          "scattergeo": [
           {
            "marker": {
             "colorbar": {
              "outlinewidth": 0,
              "ticks": ""
             }
            },
            "type": "scattergeo"
           }
          ],
          "scattergl": [
           {
            "marker": {
             "colorbar": {
              "outlinewidth": 0,
              "ticks": ""
             }
            },
            "type": "scattergl"
           }
          ],
          "scattermapbox": [
           {
            "marker": {
             "colorbar": {
              "outlinewidth": 0,
              "ticks": ""
             }
            },
            "type": "scattermapbox"
           }
          ],
          "scatterpolar": [
           {
            "marker": {
             "colorbar": {
              "outlinewidth": 0,
              "ticks": ""
             }
            },
            "type": "scatterpolar"
           }
          ],
          "scatterpolargl": [
           {
            "marker": {
             "colorbar": {
              "outlinewidth": 0,
              "ticks": ""
             }
            },
            "type": "scatterpolargl"
           }
          ],
          "scatterternary": [
           {
            "marker": {
             "colorbar": {
              "outlinewidth": 0,
              "ticks": ""
             }
            },
            "type": "scatterternary"
           }
          ],
          "surface": [
           {
            "colorbar": {
             "outlinewidth": 0,
             "ticks": ""
            },
            "colorscale": [
             [
              0,
              "#0d0887"
             ],
             [
              0.1111111111111111,
              "#46039f"
             ],
             [
              0.2222222222222222,
              "#7201a8"
             ],
             [
              0.3333333333333333,
              "#9c179e"
             ],
             [
              0.4444444444444444,
              "#bd3786"
             ],
             [
              0.5555555555555556,
              "#d8576b"
             ],
             [
              0.6666666666666666,
              "#ed7953"
             ],
             [
              0.7777777777777778,
              "#fb9f3a"
             ],
             [
              0.8888888888888888,
              "#fdca26"
             ],
             [
              1,
              "#f0f921"
             ]
            ],
            "type": "surface"
           }
          ],
          "table": [
           {
            "cells": {
             "fill": {
              "color": "#EBF0F8"
             },
             "line": {
              "color": "white"
             }
            },
            "header": {
             "fill": {
              "color": "#C8D4E3"
             },
             "line": {
              "color": "white"
             }
            },
            "type": "table"
           }
          ]
         },
         "layout": {
          "annotationdefaults": {
           "arrowcolor": "#2a3f5f",
           "arrowhead": 0,
           "arrowwidth": 1
          },
          "autotypenumbers": "strict",
          "coloraxis": {
           "colorbar": {
            "outlinewidth": 0,
            "ticks": ""
           }
          },
          "colorscale": {
           "diverging": [
            [
             0,
             "#8e0152"
            ],
            [
             0.1,
             "#c51b7d"
            ],
            [
             0.2,
             "#de77ae"
            ],
            [
             0.3,
             "#f1b6da"
            ],
            [
             0.4,
             "#fde0ef"
            ],
            [
             0.5,
             "#f7f7f7"
            ],
            [
             0.6,
             "#e6f5d0"
            ],
            [
             0.7,
             "#b8e186"
            ],
            [
             0.8,
             "#7fbc41"
            ],
            [
             0.9,
             "#4d9221"
            ],
            [
             1,
             "#276419"
            ]
           ],
           "sequential": [
            [
             0,
             "#0d0887"
            ],
            [
             0.1111111111111111,
             "#46039f"
            ],
            [
             0.2222222222222222,
             "#7201a8"
            ],
            [
             0.3333333333333333,
             "#9c179e"
            ],
            [
             0.4444444444444444,
             "#bd3786"
            ],
            [
             0.5555555555555556,
             "#d8576b"
            ],
            [
             0.6666666666666666,
             "#ed7953"
            ],
            [
             0.7777777777777778,
             "#fb9f3a"
            ],
            [
             0.8888888888888888,
             "#fdca26"
            ],
            [
             1,
             "#f0f921"
            ]
           ],
           "sequentialminus": [
            [
             0,
             "#0d0887"
            ],
            [
             0.1111111111111111,
             "#46039f"
            ],
            [
             0.2222222222222222,
             "#7201a8"
            ],
            [
             0.3333333333333333,
             "#9c179e"
            ],
            [
             0.4444444444444444,
             "#bd3786"
            ],
            [
             0.5555555555555556,
             "#d8576b"
            ],
            [
             0.6666666666666666,
             "#ed7953"
            ],
            [
             0.7777777777777778,
             "#fb9f3a"
            ],
            [
             0.8888888888888888,
             "#fdca26"
            ],
            [
             1,
             "#f0f921"
            ]
           ]
          },
          "colorway": [
           "#636efa",
           "#EF553B",
           "#00cc96",
           "#ab63fa",
           "#FFA15A",
           "#19d3f3",
           "#FF6692",
           "#B6E880",
           "#FF97FF",
           "#FECB52"
          ],
          "font": {
           "color": "#2a3f5f"
          },
          "geo": {
           "bgcolor": "white",
           "lakecolor": "white",
           "landcolor": "#E5ECF6",
           "showlakes": true,
           "showland": true,
           "subunitcolor": "white"
          },
          "hoverlabel": {
           "align": "left"
          },
          "hovermode": "closest",
          "mapbox": {
           "style": "light"
          },
          "paper_bgcolor": "white",
          "plot_bgcolor": "#E5ECF6",
          "polar": {
           "angularaxis": {
            "gridcolor": "white",
            "linecolor": "white",
            "ticks": ""
           },
           "bgcolor": "#E5ECF6",
           "radialaxis": {
            "gridcolor": "white",
            "linecolor": "white",
            "ticks": ""
           }
          },
          "scene": {
           "xaxis": {
            "backgroundcolor": "#E5ECF6",
            "gridcolor": "white",
            "gridwidth": 2,
            "linecolor": "white",
            "showbackground": true,
            "ticks": "",
            "zerolinecolor": "white"
           },
           "yaxis": {
            "backgroundcolor": "#E5ECF6",
            "gridcolor": "white",
            "gridwidth": 2,
            "linecolor": "white",
            "showbackground": true,
            "ticks": "",
            "zerolinecolor": "white"
           },
           "zaxis": {
            "backgroundcolor": "#E5ECF6",
            "gridcolor": "white",
            "gridwidth": 2,
            "linecolor": "white",
            "showbackground": true,
            "ticks": "",
            "zerolinecolor": "white"
           }
          },
          "shapedefaults": {
           "line": {
            "color": "#2a3f5f"
           }
          },
          "ternary": {
           "aaxis": {
            "gridcolor": "white",
            "linecolor": "white",
            "ticks": ""
           },
           "baxis": {
            "gridcolor": "white",
            "linecolor": "white",
            "ticks": ""
           },
           "bgcolor": "#E5ECF6",
           "caxis": {
            "gridcolor": "white",
            "linecolor": "white",
            "ticks": ""
           }
          },
          "title": {
           "x": 0.05
          },
          "xaxis": {
           "automargin": true,
           "gridcolor": "white",
           "linecolor": "white",
           "ticks": "",
           "title": {
            "standoff": 15
           },
           "zerolinecolor": "white",
           "zerolinewidth": 2
          },
          "yaxis": {
           "automargin": true,
           "gridcolor": "white",
           "linecolor": "white",
           "ticks": "",
           "title": {
            "standoff": 15
           },
           "zerolinecolor": "white",
           "zerolinewidth": 2
          }
         }
        },
        "title": {
         "text": "Auslastung GC Kronberg Auslastung MGL 50-65 in % pro Wochentag für 2021 und 2022"
        },
        "width": 1600,
        "xaxis": {
         "title": {
          "text": "Wochentag"
         }
        },
        "yaxis": {
         "tickformat": ",.0%",
         "title": {
          "text": "Auslastung in %"
         }
        }
       }
      }
     },
     "metadata": {},
     "output_type": "display_data"
    },
    {
     "data": {
      "application/vnd.plotly.v1+json": {
       "config": {
        "plotlyServerURL": "https://plot.ly"
       },
       "data": [
        {
         "line": {
          "width": 5
         },
         "marker": {
          "color": "Red",
          "size": 10
         },
         "mode": "lines",
         "name": "2021",
         "type": "scatter",
         "x": [
          "Mo",
          "Di",
          "Mi",
          "Do",
          "Fr",
          "Sa",
          "So"
         ],
         "y": [
          0.09888989578613502,
          0.06422924901185771,
          0.06533613445378152,
          0.04985725938009788,
          0.08088810641627543,
          0.06914893617021277,
          0.10004378283712785
         ]
        },
        {
         "line": {
          "width": 5
         },
         "marker": {
          "color": "Blue",
          "size": 10
         },
         "mode": "lines",
         "name": "2022",
         "type": "scatter",
         "x": [
          "Mo",
          "Di",
          "Mi",
          "Do",
          "Fr",
          "Sa",
          "So"
         ],
         "y": [
          0.07678132678132678,
          0.03504758418740849,
          0.046153846153846156,
          0.038341301949246044,
          0.049064595834804096,
          0.042228530872959545,
          0.05594775855983057
         ]
        },
        {
         "marker": {
          "color": "Green",
          "size": 10
         },
         "mode": "markers",
         "name": "Höchste Auslastung 2021",
         "type": "scatter",
         "x": [
          "So"
         ],
         "y": [
          0.10004378283712785
         ]
        },
        {
         "marker": {
          "color": "Orange",
          "size": 10
         },
         "mode": "markers",
         "name": "Geringste Auslastung 2021",
         "type": "scatter",
         "x": [
          "Do"
         ],
         "y": [
          0.04985725938009788
         ]
        },
        {
         "marker": {
          "color": "Red",
          "size": 10
         },
         "mode": "markers",
         "name": "Höchste Auslastung 2022",
         "type": "scatter",
         "x": [
          "Mo"
         ],
         "y": [
          0.07678132678132678
         ]
        },
        {
         "marker": {
          "color": "Purple",
          "size": 10
         },
         "mode": "markers",
         "name": "Geringste Auslastung 2022",
         "type": "scatter",
         "x": [
          "Di"
         ],
         "y": [
          0.03504758418740849
         ]
        }
       ],
       "layout": {
        "font": {
         "size": 24
        },
        "template": {
         "data": {
          "bar": [
           {
            "error_x": {
             "color": "#2a3f5f"
            },
            "error_y": {
             "color": "#2a3f5f"
            },
            "marker": {
             "line": {
              "color": "#E5ECF6",
              "width": 0.5
             },
             "pattern": {
              "fillmode": "overlay",
              "size": 10,
              "solidity": 0.2
             }
            },
            "type": "bar"
           }
          ],
          "barpolar": [
           {
            "marker": {
             "line": {
              "color": "#E5ECF6",
              "width": 0.5
             },
             "pattern": {
              "fillmode": "overlay",
              "size": 10,
              "solidity": 0.2
             }
            },
            "type": "barpolar"
           }
          ],
          "carpet": [
           {
            "aaxis": {
             "endlinecolor": "#2a3f5f",
             "gridcolor": "white",
             "linecolor": "white",
             "minorgridcolor": "white",
             "startlinecolor": "#2a3f5f"
            },
            "baxis": {
             "endlinecolor": "#2a3f5f",
             "gridcolor": "white",
             "linecolor": "white",
             "minorgridcolor": "white",
             "startlinecolor": "#2a3f5f"
            },
            "type": "carpet"
           }
          ],
          "choropleth": [
           {
            "colorbar": {
             "outlinewidth": 0,
             "ticks": ""
            },
            "type": "choropleth"
           }
          ],
          "contour": [
           {
            "colorbar": {
             "outlinewidth": 0,
             "ticks": ""
            },
            "colorscale": [
             [
              0,
              "#0d0887"
             ],
             [
              0.1111111111111111,
              "#46039f"
             ],
             [
              0.2222222222222222,
              "#7201a8"
             ],
             [
              0.3333333333333333,
              "#9c179e"
             ],
             [
              0.4444444444444444,
              "#bd3786"
             ],
             [
              0.5555555555555556,
              "#d8576b"
             ],
             [
              0.6666666666666666,
              "#ed7953"
             ],
             [
              0.7777777777777778,
              "#fb9f3a"
             ],
             [
              0.8888888888888888,
              "#fdca26"
             ],
             [
              1,
              "#f0f921"
             ]
            ],
            "type": "contour"
           }
          ],
          "contourcarpet": [
           {
            "colorbar": {
             "outlinewidth": 0,
             "ticks": ""
            },
            "type": "contourcarpet"
           }
          ],
          "heatmap": [
           {
            "colorbar": {
             "outlinewidth": 0,
             "ticks": ""
            },
            "colorscale": [
             [
              0,
              "#0d0887"
             ],
             [
              0.1111111111111111,
              "#46039f"
             ],
             [
              0.2222222222222222,
              "#7201a8"
             ],
             [
              0.3333333333333333,
              "#9c179e"
             ],
             [
              0.4444444444444444,
              "#bd3786"
             ],
             [
              0.5555555555555556,
              "#d8576b"
             ],
             [
              0.6666666666666666,
              "#ed7953"
             ],
             [
              0.7777777777777778,
              "#fb9f3a"
             ],
             [
              0.8888888888888888,
              "#fdca26"
             ],
             [
              1,
              "#f0f921"
             ]
            ],
            "type": "heatmap"
           }
          ],
          "heatmapgl": [
           {
            "colorbar": {
             "outlinewidth": 0,
             "ticks": ""
            },
            "colorscale": [
             [
              0,
              "#0d0887"
             ],
             [
              0.1111111111111111,
              "#46039f"
             ],
             [
              0.2222222222222222,
              "#7201a8"
             ],
             [
              0.3333333333333333,
              "#9c179e"
             ],
             [
              0.4444444444444444,
              "#bd3786"
             ],
             [
              0.5555555555555556,
              "#d8576b"
             ],
             [
              0.6666666666666666,
              "#ed7953"
             ],
             [
              0.7777777777777778,
              "#fb9f3a"
             ],
             [
              0.8888888888888888,
              "#fdca26"
             ],
             [
              1,
              "#f0f921"
             ]
            ],
            "type": "heatmapgl"
           }
          ],
          "histogram": [
           {
            "marker": {
             "pattern": {
              "fillmode": "overlay",
              "size": 10,
              "solidity": 0.2
             }
            },
            "type": "histogram"
           }
          ],
          "histogram2d": [
           {
            "colorbar": {
             "outlinewidth": 0,
             "ticks": ""
            },
            "colorscale": [
             [
              0,
              "#0d0887"
             ],
             [
              0.1111111111111111,
              "#46039f"
             ],
             [
              0.2222222222222222,
              "#7201a8"
             ],
             [
              0.3333333333333333,
              "#9c179e"
             ],
             [
              0.4444444444444444,
              "#bd3786"
             ],
             [
              0.5555555555555556,
              "#d8576b"
             ],
             [
              0.6666666666666666,
              "#ed7953"
             ],
             [
              0.7777777777777778,
              "#fb9f3a"
             ],
             [
              0.8888888888888888,
              "#fdca26"
             ],
             [
              1,
              "#f0f921"
             ]
            ],
            "type": "histogram2d"
           }
          ],
          "histogram2dcontour": [
           {
            "colorbar": {
             "outlinewidth": 0,
             "ticks": ""
            },
            "colorscale": [
             [
              0,
              "#0d0887"
             ],
             [
              0.1111111111111111,
              "#46039f"
             ],
             [
              0.2222222222222222,
              "#7201a8"
             ],
             [
              0.3333333333333333,
              "#9c179e"
             ],
             [
              0.4444444444444444,
              "#bd3786"
             ],
             [
              0.5555555555555556,
              "#d8576b"
             ],
             [
              0.6666666666666666,
              "#ed7953"
             ],
             [
              0.7777777777777778,
              "#fb9f3a"
             ],
             [
              0.8888888888888888,
              "#fdca26"
             ],
             [
              1,
              "#f0f921"
             ]
            ],
            "type": "histogram2dcontour"
           }
          ],
          "mesh3d": [
           {
            "colorbar": {
             "outlinewidth": 0,
             "ticks": ""
            },
            "type": "mesh3d"
           }
          ],
          "parcoords": [
           {
            "line": {
             "colorbar": {
              "outlinewidth": 0,
              "ticks": ""
             }
            },
            "type": "parcoords"
           }
          ],
          "pie": [
           {
            "automargin": true,
            "type": "pie"
           }
          ],
          "scatter": [
           {
            "fillpattern": {
             "fillmode": "overlay",
             "size": 10,
             "solidity": 0.2
            },
            "type": "scatter"
           }
          ],
          "scatter3d": [
           {
            "line": {
             "colorbar": {
              "outlinewidth": 0,
              "ticks": ""
             }
            },
            "marker": {
             "colorbar": {
              "outlinewidth": 0,
              "ticks": ""
             }
            },
            "type": "scatter3d"
           }
          ],
          "scattercarpet": [
           {
            "marker": {
             "colorbar": {
              "outlinewidth": 0,
              "ticks": ""
             }
            },
            "type": "scattercarpet"
           }
          ],
          "scattergeo": [
           {
            "marker": {
             "colorbar": {
              "outlinewidth": 0,
              "ticks": ""
             }
            },
            "type": "scattergeo"
           }
          ],
          "scattergl": [
           {
            "marker": {
             "colorbar": {
              "outlinewidth": 0,
              "ticks": ""
             }
            },
            "type": "scattergl"
           }
          ],
          "scattermapbox": [
           {
            "marker": {
             "colorbar": {
              "outlinewidth": 0,
              "ticks": ""
             }
            },
            "type": "scattermapbox"
           }
          ],
          "scatterpolar": [
           {
            "marker": {
             "colorbar": {
              "outlinewidth": 0,
              "ticks": ""
             }
            },
            "type": "scatterpolar"
           }
          ],
          "scatterpolargl": [
           {
            "marker": {
             "colorbar": {
              "outlinewidth": 0,
              "ticks": ""
             }
            },
            "type": "scatterpolargl"
           }
          ],
          "scatterternary": [
           {
            "marker": {
             "colorbar": {
              "outlinewidth": 0,
              "ticks": ""
             }
            },
            "type": "scatterternary"
           }
          ],
          "surface": [
           {
            "colorbar": {
             "outlinewidth": 0,
             "ticks": ""
            },
            "colorscale": [
             [
              0,
              "#0d0887"
             ],
             [
              0.1111111111111111,
              "#46039f"
             ],
             [
              0.2222222222222222,
              "#7201a8"
             ],
             [
              0.3333333333333333,
              "#9c179e"
             ],
             [
              0.4444444444444444,
              "#bd3786"
             ],
             [
              0.5555555555555556,
              "#d8576b"
             ],
             [
              0.6666666666666666,
              "#ed7953"
             ],
             [
              0.7777777777777778,
              "#fb9f3a"
             ],
             [
              0.8888888888888888,
              "#fdca26"
             ],
             [
              1,
              "#f0f921"
             ]
            ],
            "type": "surface"
           }
          ],
          "table": [
           {
            "cells": {
             "fill": {
              "color": "#EBF0F8"
             },
             "line": {
              "color": "white"
             }
            },
            "header": {
             "fill": {
              "color": "#C8D4E3"
             },
             "line": {
              "color": "white"
             }
            },
            "type": "table"
           }
          ]
         },
         "layout": {
          "annotationdefaults": {
           "arrowcolor": "#2a3f5f",
           "arrowhead": 0,
           "arrowwidth": 1
          },
          "autotypenumbers": "strict",
          "coloraxis": {
           "colorbar": {
            "outlinewidth": 0,
            "ticks": ""
           }
          },
          "colorscale": {
           "diverging": [
            [
             0,
             "#8e0152"
            ],
            [
             0.1,
             "#c51b7d"
            ],
            [
             0.2,
             "#de77ae"
            ],
            [
             0.3,
             "#f1b6da"
            ],
            [
             0.4,
             "#fde0ef"
            ],
            [
             0.5,
             "#f7f7f7"
            ],
            [
             0.6,
             "#e6f5d0"
            ],
            [
             0.7,
             "#b8e186"
            ],
            [
             0.8,
             "#7fbc41"
            ],
            [
             0.9,
             "#4d9221"
            ],
            [
             1,
             "#276419"
            ]
           ],
           "sequential": [
            [
             0,
             "#0d0887"
            ],
            [
             0.1111111111111111,
             "#46039f"
            ],
            [
             0.2222222222222222,
             "#7201a8"
            ],
            [
             0.3333333333333333,
             "#9c179e"
            ],
            [
             0.4444444444444444,
             "#bd3786"
            ],
            [
             0.5555555555555556,
             "#d8576b"
            ],
            [
             0.6666666666666666,
             "#ed7953"
            ],
            [
             0.7777777777777778,
             "#fb9f3a"
            ],
            [
             0.8888888888888888,
             "#fdca26"
            ],
            [
             1,
             "#f0f921"
            ]
           ],
           "sequentialminus": [
            [
             0,
             "#0d0887"
            ],
            [
             0.1111111111111111,
             "#46039f"
            ],
            [
             0.2222222222222222,
             "#7201a8"
            ],
            [
             0.3333333333333333,
             "#9c179e"
            ],
            [
             0.4444444444444444,
             "#bd3786"
            ],
            [
             0.5555555555555556,
             "#d8576b"
            ],
            [
             0.6666666666666666,
             "#ed7953"
            ],
            [
             0.7777777777777778,
             "#fb9f3a"
            ],
            [
             0.8888888888888888,
             "#fdca26"
            ],
            [
             1,
             "#f0f921"
            ]
           ]
          },
          "colorway": [
           "#636efa",
           "#EF553B",
           "#00cc96",
           "#ab63fa",
           "#FFA15A",
           "#19d3f3",
           "#FF6692",
           "#B6E880",
           "#FF97FF",
           "#FECB52"
          ],
          "font": {
           "color": "#2a3f5f"
          },
          "geo": {
           "bgcolor": "white",
           "lakecolor": "white",
           "landcolor": "#E5ECF6",
           "showlakes": true,
           "showland": true,
           "subunitcolor": "white"
          },
          "hoverlabel": {
           "align": "left"
          },
          "hovermode": "closest",
          "mapbox": {
           "style": "light"
          },
          "paper_bgcolor": "white",
          "plot_bgcolor": "#E5ECF6",
          "polar": {
           "angularaxis": {
            "gridcolor": "white",
            "linecolor": "white",
            "ticks": ""
           },
           "bgcolor": "#E5ECF6",
           "radialaxis": {
            "gridcolor": "white",
            "linecolor": "white",
            "ticks": ""
           }
          },
          "scene": {
           "xaxis": {
            "backgroundcolor": "#E5ECF6",
            "gridcolor": "white",
            "gridwidth": 2,
            "linecolor": "white",
            "showbackground": true,
            "ticks": "",
            "zerolinecolor": "white"
           },
           "yaxis": {
            "backgroundcolor": "#E5ECF6",
            "gridcolor": "white",
            "gridwidth": 2,
            "linecolor": "white",
            "showbackground": true,
            "ticks": "",
            "zerolinecolor": "white"
           },
           "zaxis": {
            "backgroundcolor": "#E5ECF6",
            "gridcolor": "white",
            "gridwidth": 2,
            "linecolor": "white",
            "showbackground": true,
            "ticks": "",
            "zerolinecolor": "white"
           }
          },
          "shapedefaults": {
           "line": {
            "color": "#2a3f5f"
           }
          },
          "ternary": {
           "aaxis": {
            "gridcolor": "white",
            "linecolor": "white",
            "ticks": ""
           },
           "baxis": {
            "gridcolor": "white",
            "linecolor": "white",
            "ticks": ""
           },
           "bgcolor": "#E5ECF6",
           "caxis": {
            "gridcolor": "white",
            "linecolor": "white",
            "ticks": ""
           }
          },
          "title": {
           "x": 0.05
          },
          "xaxis": {
           "automargin": true,
           "gridcolor": "white",
           "linecolor": "white",
           "ticks": "",
           "title": {
            "standoff": 15
           },
           "zerolinecolor": "white",
           "zerolinewidth": 2
          },
          "yaxis": {
           "automargin": true,
           "gridcolor": "white",
           "linecolor": "white",
           "ticks": "",
           "title": {
            "standoff": 15
           },
           "zerolinecolor": "white",
           "zerolinewidth": 2
          }
         }
        },
        "title": {
         "text": "Auslastung GC Kronberg Auslastung MGL 65+ in % pro Wochentag für 2021 und 2022"
        },
        "width": 1600,
        "xaxis": {
         "title": {
          "text": "Wochentag"
         }
        },
        "yaxis": {
         "tickformat": ",.0%",
         "title": {
          "text": "Auslastung in %"
         }
        }
       }
      }
     },
     "metadata": {},
     "output_type": "display_data"
    }
   ],
   "source": [
    "import plotly.graph_objects as go\n",
    "\n",
    "for col in data.columns:\n",
    "    if col not in [\"Auslastung %\", \"Gesamt\", 'Jahr', 'Monat', 'Tag', 'Wochentag', 'Saison', 'Max Kap', 'Sperrung.', 'Internet', 'Weekend', 'Stunde', 'Minute', 'time', \"davon freie Kap\", \"Gäste\", \"MGL Gesa.\", \"Jugend\", \"MGL 18-40\", \"MGL 40-50\", \"MGL 50-65\", \"MGL 65+\", \"monat_text\"]:\n",
    "        data2 = data.groupby(['Jahr', \"Wochentag\"])[col].mean()\n",
    "        data2 = data2.reset_index()\n",
    "        weekday_order = [\"Mo\", \"Di\", \"Mi\", \"Do\", \"Fr\", \"Sa\", \"So\"]\n",
    "        data2[\"Wochentag\"] = pd.Categorical(data2[\"Wochentag\"], categories=weekday_order, ordered=True)\n",
    "        data2 = data2.sort_values(by=[\"Wochentag\"])\n",
    "        fig = go.Figure()\n",
    "        # fig = px.line(data2, x='Wochentag', y=col, color='Jahr', title=f'Auslastung GC Kronberg {col} in % pro Wochentag für 2021 und 2022', labels={'Wochentag': 'Wochentag', 'value': 'Auslastung in %', 'Jahr': 'Jahr'})\n",
    "        fig.add_trace(go.Scatter(x=data2[data2[\"Jahr\"] == 2021][\"Wochentag\"], y=data2[data2[\"Jahr\"] == 2021][col], mode=\"lines\", name=\"2021\", marker=dict(color=\"Red\", size=10), line=dict(width=5)))\n",
    "        fig.add_trace(go.Scatter(x=data2[data2[\"Jahr\"] == 2022][\"Wochentag\"], y=data2[data2[\"Jahr\"] == 2022][col], mode=\"lines\", name=\"2022\", marker=dict(color=\"Blue\", size=10), line=dict(width=5)))\n",
    "       \n",
    "        #add title\n",
    "        fig.update_layout(title=f'Auslastung GC Kronberg {col} in % pro Wochentag für 2021 und 2022', xaxis_title=\"Wochentag\", yaxis_title=\"Auslastung in %\")\n",
    "        #plot data in the same graph\n",
    "        data3 = data.groupby([\"Wochentag\"])[col].mean()\n",
    "        data3 = data3.reset_index()\n",
    "       # fig.add_trace(go.Scatter(x=data3[\"Wochentag\"], y=data3[col], mode=\"lines\", name=\"Durchschnitt\", marker=dict(color=\"Black\", size=10)))\n",
    "        fig.layout.yaxis.tickformat = ',.0%'\n",
    "        fig.update_layout(font=dict(size=24))\n",
    "        \n",
    "        fig.update_layout(width=1600)\n",
    "        \n",
    "        data2_2021 = data2[data2[\"Jahr\"] == 2021]\n",
    "        data2_2022 = data2[data2[\"Jahr\"] == 2022]\n",
    "        \n",
    "        # markiere max und min für jedes Jahr\n",
    "        fig.add_trace(go.Scatter(x=[data2_2021[data2_2021[col] == data2_2021[col].max()][\"Wochentag\"].values[0]], y=[data2_2021[col].max()], mode=\"markers\", name=\"Höchste Auslastung 2021\", marker=dict(color=\"Green\", size=10)))\n",
    "        fig.add_trace(go.Scatter(x=[data2_2021[data2_2021[col] == data2_2021[col].min()][\"Wochentag\"].values[0]], y=[data2_2021[col].min()], mode=\"markers\", name=\"Geringste Auslastung 2021\", marker=dict(color=\"Orange\", size=10)))\n",
    "        fig.add_trace(go.Scatter(x=[data2_2022[data2_2022[col] == data2_2022[col].max()][\"Wochentag\"].values[0]], y=[data2_2022[col].max()], mode=\"markers\", name=\"Höchste Auslastung 2022\", marker=dict(color=\"Red\", size=10)))\n",
    "        fig.add_trace(go.Scatter(x=[data2_2022[data2_2022[col] == data2_2022[col].min()][\"Wochentag\"].values[0]], y=[data2_2022[col].min()], mode=\"markers\", name=\"Geringste Auslastung 2022\", marker=dict(color=\"Purple\", size=10)))\n",
    "           \n",
    "       # fig.add_trace(go.Scatter(x=[data3[data3[col] == data3[col].max()][\"Wochentag\"].values[0]], y=[data3[col].max()], mode=\"markers\", name=\"Höchste Auslastung 21/22\", marker=dict(color=\"Black\", size=10)))\n",
    "       # fig.add_trace(go.Scatter(x=[data3[data3[col] == data3[col].min()][\"Wochentag\"].values[0]], y=[data3[col].min()], mode=\"markers\", name=\"Geringste Auslastung 21/22\", marker=dict(color=\"Yellow\", size=10)))\n",
    "     \n",
    "        fig.write_image(f\"../plots/gc_kronberg_jahr_wochentag/{col}.png\")\n",
    "        fig.show()\n",
    "        fig.add_shape(type=\"line\", x0=0, y0=1, x1=max(data2[\"Wochentag\"]), y1=1, line=dict(color=\"Red\", width=2))\n",
    "        fig.write_image(f\"../plots/gc_kronberg_jahr_wochentag/{col}_with_max.png\")\n",
    "       # fig.show()"
   ]
  },
  {
   "cell_type": "code",
   "execution_count": null,
   "metadata": {},
   "outputs": [],
   "source": [
    "for col in data.columns:\n",
    "    if col not in [\"Auslastung %\", \"Gesamt\", 'Jahr', 'Monat', 'Tag', 'Wochentag', 'Saison', 'Max Kap', 'Sperrung.', 'Internet', 'Weekend', 'Stunde', 'Minute', 'time', \"davon freie Kap\", \"Gäste\", \"MGL Gesa.\", \"Jugend\", \"MGL 18-40\", \"MGL 40-50\", \"MGL 50-65\", \"MGL 65+\"]:\n",
    "        data2 = data.groupby(['Saison', \"Wochentag\"])[col].mean()\n",
    "        data2 = data2.reset_index()\n",
    "        weekday_order = [\"Mo\", \"Di\", \"Mi\", \"Do\", \"Fr\", \"Sa\", \"So\"]\n",
    "        data2[\"Wochentag\"] = pd.Categorical(data2[\"Wochentag\"], categories=weekday_order, ordered=True)\n",
    "        saison_order = [\"April - Mai\", \"Juni - Juli\", \"August - September\", \"Oktober\"]\n",
    "        data2[\"Saison\"] = pd.Categorical(data2[\"Saison\"], categories=saison_order, ordered=True)\n",
    "        data2 = data2.sort_values(by=[\"Saison\", \"Wochentag\"])\n",
    "        fig = px.line(data2, x='Wochentag', y=col, color='Saison', title=f'Auslastung GC Kronberg {col} in % pro Wochentag für Jahreszeiten in 2021 und 2022', labels={'Wochentag': 'Wochentag', col: 'Auslastung in %', 'Saison': 'Saison'})\n",
    "        \n",
    "        #plot data in the same graph\n",
    "        data3 = data.groupby([\"Wochentag\"])[col].mean()\n",
    "        data3 = data3.reset_index()\n",
    "        \n",
    "        # fig.add_trace(go.Scatter(x=data3[\"Wochentag\"], y=data3[col], mode=\"lines\", name=\"Durchschnitt\", marker=dict(color=\"Black\", size=10)))\n",
    "        fig.layout.yaxis.tickformat = ',.0%'\n",
    "        \n",
    "        fig.update_layout(width=1600)\n",
    "        \n",
    "        data2_apr_mai = data2[data2[\"Saison\"] == \"April - Mai\"]\n",
    "        data2_juni_juli = data2[data2[\"Saison\"] == \"Juni - Juli\"]\n",
    "        data2_aug_sept = data2[data2[\"Saison\"] == \"August - September\"]\n",
    "        data2_okt = data2[data2[\"Saison\"] == \"Oktober\"]\n",
    "        \n",
    "        # markiere max und min für jedes Jahr\n",
    "        fig.add_trace(go.Scatter(x=[data2_apr_mai[data2_apr_mai[col] == data2_apr_mai[col].max()][\"Wochentag\"].values[0]], y=[data2_apr_mai[col].max()], mode=\"markers\", name=\"Höchste Auslastung April - Mai\", marker=dict(color=\"Green\", size=10)))\n",
    "        fig.add_trace(go.Scatter(x=[data2_apr_mai[data2_apr_mai[col] == data2_apr_mai[col].min()][\"Wochentag\"].values[0]], y=[data2_apr_mai[col].min()], mode=\"markers\", name=\"Geringste Auslastung April - Mai\", marker=dict(color=\"Orange\", size=10)))\n",
    "        fig.add_trace(go.Scatter(x=[data2_juni_juli[data2_juni_juli[col] == data2_juni_juli[col].max()][\"Wochentag\"].values[0]], y=[data2_juni_juli[col].max()], mode=\"markers\", name=\"Höchste Auslastung Juni - Juli\", marker=dict(color=\"Red\", size=10)))\n",
    "        fig.add_trace(go.Scatter(x=[data2_juni_juli[data2_juni_juli[col] == data2_juni_juli[col].min()][\"Wochentag\"].values[0]], y=[data2_juni_juli[col].min()], mode=\"markers\", name=\"Geringste Auslastung Juni - Juli\", marker=dict(color=\"Purple\", size=10)))\n",
    "        fig.add_trace(go.Scatter(x=[data2_aug_sept[data2_aug_sept[col] == data2_aug_sept[col].max()][\"Wochentag\"].values[0]], y=[data2_aug_sept[col].max()], mode=\"markers\", name=\"Höchste Auslastung August - September\", marker=dict(color=\"Blue\", size=10))) \n",
    "        fig.add_trace(go.Scatter(x=[data2_aug_sept[data2_aug_sept[col] == data2_aug_sept[col].min()][\"Wochentag\"].values[0]], y=[data2_aug_sept[col].min()], mode=\"markers\", name=\"Geringste Auslastung August - September\", marker=dict(color=\"Pink\", size=10)))\n",
    "        fig.add_trace(go.Scatter(x=[data2_okt[data2_okt[col] == data2_okt[col].max()][\"Wochentag\"].values[0]], y=[data2_okt[col].max()], mode=\"markers\", name=\"Höchste Auslastung Oktober\", marker=dict(color=\"Brown\", size=10)))\n",
    "        fig.add_trace(go.Scatter(x=[data2_okt[data2_okt[col] == data2_okt[col].min()][\"Wochentag\"].values[0]], y=[data2_okt[col].min()], mode=\"markers\", name=\"Geringste Auslastung Oktober\", marker=dict(color=\"Grey\", size=10)))\n",
    "         \n",
    "        #fig.add_trace(go.Scatter(x=[data3[data3[col] == data3[col].max()][\"Wochentag\"].values[0]], y=[data3[col].max()], mode=\"markers\", name=\"Höchste Auslastung 21/22\", marker=dict(color=\"Black\", size=10)))\n",
    "        #fig.add_trace(go.Scatter(x=[data3[data3[col] == data3[col].min()][\"Wochentag\"].values[0]], y=[data3[col].min()], mode=\"markers\", name=\"Geringste Auslastung 21/22\", marker=dict(color=\"Yellow\", size=10)))\n",
    "     \n",
    "        fig.write_image(f\"../plots/gc_kronberg_saison_wochentag/{col}.png\")\n",
    "        fig.show()\n",
    "        fig.add_shape(type=\"line\", x0=0, y0=1, x1=max(data2[\"Wochentag\"]), y1=1, line=dict(color=\"Red\", width=2))\n",
    "        fig.write_image(f\"../plots/gc_kronberg_saison_wochentag/{col}_with_max.png\")\n",
    "       # fig.show()"
   ]
  },
  {
   "cell_type": "code",
   "execution_count": 46,
   "metadata": {},
   "outputs": [
    {
     "data": {
      "application/vnd.plotly.v1+json": {
       "config": {
        "plotlyServerURL": "https://plot.ly"
       },
       "data": [
        {
         "line": {
          "width": 5
         },
         "marker": {
          "color": "Red",
          "size": 10
         },
         "mode": "lines",
         "name": "2021",
         "type": "scatter",
         "x": [
          "00:00",
          "06:00",
          "06:10",
          "06:20",
          "06:30",
          "06:40",
          "06:50",
          "07:00",
          "07:10",
          "07:20",
          "07:30",
          "07:40",
          "07:50",
          "08:00",
          "08:10",
          "08:20",
          "08:30",
          "08:40",
          "08:50",
          "09:00",
          "09:10",
          "09:20",
          "09:30",
          "09:40",
          "09:50",
          "10:00",
          "10:10",
          "10:20",
          "10:30",
          "10:40",
          "10:50",
          "11:00",
          "11:10",
          "11:20",
          "11:30",
          "11:40",
          "11:50",
          "12:00",
          "12:10",
          "12:20",
          "12:30",
          "12:40",
          "12:50",
          "13:00",
          "13:10",
          "13:20",
          "13:30",
          "13:40",
          "13:50",
          "14:00",
          "14:10",
          "14:20",
          "14:30",
          "14:40",
          "14:50",
          "15:00",
          "15:10",
          "15:20",
          "15:30",
          "15:40",
          "15:50",
          "16:00",
          "16:10",
          "16:20",
          "16:30",
          "16:40",
          "16:50",
          "17:00",
          "17:10",
          "17:20",
          "17:30",
          "17:40",
          "17:50",
          "18:00",
          "18:10",
          "18:20",
          "18:30",
          "18:40",
          "18:50",
          "19:00",
          "19:10",
          "19:20",
          "19:30",
          "19:40",
          "19:50",
          "20:00",
          "20:10",
          "20:20",
          "20:30",
          "20:40",
          "20:50",
          "21:00"
         ],
         "y": [
          0.012430939226519336,
          0.04395604395604396,
          0.028846153846153848,
          0.09340659340659341,
          0,
          0,
          0,
          0,
          0,
          0.005494505494505495,
          0.21153846153846154,
          0.10851648351648352,
          0.13324175824175824,
          0.16201117318435754,
          0.11878453038674033,
          0.13121546961325967,
          0.20027624309392264,
          0.14385474860335196,
          0.13736263736263737,
          0.24719101123595505,
          0.17737430167597765,
          0.1864406779661017,
          0.2634730538922156,
          0.23285714285714285,
          0.25137362637362637,
          0.30124223602484473,
          0.2603550295857988,
          0.2443502824858757,
          0.2276536312849162,
          0.21089385474860337,
          0.1986111111111111,
          0.33848314606741575,
          0.2861111111111111,
          0.2803867403314917,
          0.3090659340659341,
          0.30833333333333335,
          0.27209944751381215,
          0.30662983425414364,
          0.25416666666666665,
          0.20165745856353592,
          0.2554945054945055,
          0.21978021978021978,
          0.22790055248618785,
          0.31857142857142856,
          0.3013888888888889,
          0.26785714285714285,
          0.3036723163841808,
          0.2706043956043956,
          0.28296703296703296,
          0.33189655172413796,
          0.3076923076923077,
          0.25828729281767954,
          0.29305555555555557,
          0.26373626373626374,
          0.24861878453038674,
          0.33379120879120877,
          0.25277777777777777,
          0.28434065934065933,
          0.3111111111111111,
          0.29972375690607733,
          0.25828729281767954,
          0.3011049723756906,
          0.2803867403314917,
          0.2638121546961326,
          0.3021978021978022,
          0.26519337016574585,
          0.22527472527472528,
          0.30357142857142855,
          0.2651098901098901,
          0.21703296703296704,
          0.2472375690607735,
          0.22115384615384615,
          0.1978021978021978,
          0.22939560439560439,
          0.19642857142857142,
          0.14285714285714285,
          0.17445054945054944,
          0.10576923076923077,
          0.08516483516483517,
          0.11126373626373626,
          0.061813186813186816,
          0.054945054945054944,
          0.06868131868131869,
          0.02197802197802198,
          0.016483516483516484,
          0.012362637362637362,
          0.012362637362637362,
          0.0013736263736263737,
          0,
          0,
          0,
          0
         ]
        },
        {
         "line": {
          "width": 5
         },
         "marker": {
          "color": "Blue",
          "size": 10
         },
         "mode": "lines",
         "name": "2022",
         "type": "scatter",
         "x": [
          "00:00",
          "06:00",
          "06:10",
          "06:20",
          "06:30",
          "06:40",
          "06:50",
          "07:00",
          "07:10",
          "07:20",
          "07:30",
          "07:40",
          "07:50",
          "08:00",
          "08:10",
          "08:20",
          "08:30",
          "08:40",
          "08:50",
          "09:00",
          "09:10",
          "09:20",
          "09:30",
          "09:40",
          "09:50",
          "10:00",
          "10:10",
          "10:20",
          "10:30",
          "10:40",
          "10:50",
          "11:00",
          "11:10",
          "11:20",
          "11:30",
          "11:40",
          "11:50",
          "12:00",
          "12:10",
          "12:20",
          "12:30",
          "12:40",
          "12:50",
          "13:00",
          "13:10",
          "13:20",
          "13:30",
          "13:40",
          "13:50",
          "14:00",
          "14:10",
          "14:20",
          "14:30",
          "14:40",
          "14:50",
          "15:00",
          "15:10",
          "15:20",
          "15:30",
          "15:40",
          "15:50",
          "16:00",
          "16:10",
          "16:20",
          "16:30",
          "16:40",
          "16:50",
          "17:00",
          "17:10",
          "17:20",
          "17:30",
          "17:40",
          "17:50",
          "18:00",
          "18:10",
          "18:20",
          "18:30",
          "18:40",
          "18:50",
          "19:00",
          "19:10",
          "19:20",
          "19:30",
          "19:40",
          "19:50",
          "20:00",
          "20:10",
          "20:20",
          "20:30",
          "20:40",
          "20:50",
          "21:00"
         ],
         "y": [
          0.015476190476190477,
          0.029205607476635514,
          0.030373831775700934,
          0.10397196261682243,
          0,
          0,
          0,
          0.002336448598130841,
          0,
          0,
          0.12967289719626168,
          0.05516431924882629,
          0.06425233644859812,
          0.10966981132075472,
          0.05868544600938967,
          0.07547169811320754,
          0.12382075471698113,
          0.10915492957746478,
          0.10747663551401869,
          0.22652582159624413,
          0.16627358490566038,
          0.2069377990430622,
          0.24869791666666666,
          0.22274881516587677,
          0.2119047619047619,
          0.25921052631578945,
          0.24630541871921183,
          0.18544600938967137,
          0.20400943396226415,
          0.15683962264150944,
          0.14268867924528303,
          0.25600961538461536,
          0.20422535211267606,
          0.16355140186915887,
          0.22887323943661972,
          0.20518867924528303,
          0.1647196261682243,
          0.25239234449760767,
          0.1792452830188679,
          0.13262910798122066,
          0.19248826291079812,
          0.11737089201877934,
          0.1588785046728972,
          0.2779126213592233,
          0.2334123222748815,
          0.2132701421800948,
          0.24639423076923078,
          0.18779342723004694,
          0.21226415094339623,
          0.30310880829015546,
          0.19312796208530805,
          0.17172897196261683,
          0.22535211267605634,
          0.15375586854460094,
          0.1378504672897196,
          0.2535377358490566,
          0.17570754716981132,
          0.15771028037383178,
          0.21009389671361503,
          0.1366822429906542,
          0.13145539906103287,
          0.23826291079812206,
          0.1643192488262911,
          0.1366822429906542,
          0.2007042253521127,
          0.10630841121495327,
          0.10981308411214953,
          0.2136150234741784,
          0.11910377358490566,
          0.09345794392523364,
          0.1619718309859155,
          0.0911214953271028,
          0.07126168224299065,
          0.14485981308411214,
          0.08644859813084112,
          0.07242990654205607,
          0.07476635514018691,
          0.04322429906542056,
          0.012850467289719626,
          0.038551401869158876,
          0.012850467289719626,
          0.01985981308411215,
          0.018691588785046728,
          0.008177570093457943,
          0.005841121495327103,
          0.007009345794392523,
          0,
          0,
          0,
          0,
          0,
          0
         ]
        },
        {
         "marker": {
          "color": "Green",
          "size": 10
         },
         "mode": "markers",
         "name": "Höchste Auslastung 2021",
         "type": "scatter",
         "x": [
          "11:00"
         ],
         "y": [
          0.33848314606741575
         ]
        },
        {
         "marker": {
          "color": "Orange",
          "size": 10
         },
         "mode": "markers",
         "name": "Geringste Auslastung 2021",
         "type": "scatter",
         "x": [
          "06:30"
         ],
         "y": [
          0
         ]
        },
        {
         "marker": {
          "color": "Red",
          "size": 10
         },
         "mode": "markers",
         "name": "Höchste Auslastung 2022",
         "type": "scatter",
         "x": [
          "14:00"
         ],
         "y": [
          0.30310880829015546
         ]
        },
        {
         "marker": {
          "color": "Purple",
          "size": 10
         },
         "mode": "markers",
         "name": "Geringste Auslastung 2022",
         "type": "scatter",
         "x": [
          "06:30"
         ],
         "y": [
          0
         ]
        }
       ],
       "layout": {
        "font": {
         "size": 25
        },
        "template": {
         "data": {
          "bar": [
           {
            "error_x": {
             "color": "#2a3f5f"
            },
            "error_y": {
             "color": "#2a3f5f"
            },
            "marker": {
             "line": {
              "color": "#E5ECF6",
              "width": 0.5
             },
             "pattern": {
              "fillmode": "overlay",
              "size": 10,
              "solidity": 0.2
             }
            },
            "type": "bar"
           }
          ],
          "barpolar": [
           {
            "marker": {
             "line": {
              "color": "#E5ECF6",
              "width": 0.5
             },
             "pattern": {
              "fillmode": "overlay",
              "size": 10,
              "solidity": 0.2
             }
            },
            "type": "barpolar"
           }
          ],
          "carpet": [
           {
            "aaxis": {
             "endlinecolor": "#2a3f5f",
             "gridcolor": "white",
             "linecolor": "white",
             "minorgridcolor": "white",
             "startlinecolor": "#2a3f5f"
            },
            "baxis": {
             "endlinecolor": "#2a3f5f",
             "gridcolor": "white",
             "linecolor": "white",
             "minorgridcolor": "white",
             "startlinecolor": "#2a3f5f"
            },
            "type": "carpet"
           }
          ],
          "choropleth": [
           {
            "colorbar": {
             "outlinewidth": 0,
             "ticks": ""
            },
            "type": "choropleth"
           }
          ],
          "contour": [
           {
            "colorbar": {
             "outlinewidth": 0,
             "ticks": ""
            },
            "colorscale": [
             [
              0,
              "#0d0887"
             ],
             [
              0.1111111111111111,
              "#46039f"
             ],
             [
              0.2222222222222222,
              "#7201a8"
             ],
             [
              0.3333333333333333,
              "#9c179e"
             ],
             [
              0.4444444444444444,
              "#bd3786"
             ],
             [
              0.5555555555555556,
              "#d8576b"
             ],
             [
              0.6666666666666666,
              "#ed7953"
             ],
             [
              0.7777777777777778,
              "#fb9f3a"
             ],
             [
              0.8888888888888888,
              "#fdca26"
             ],
             [
              1,
              "#f0f921"
             ]
            ],
            "type": "contour"
           }
          ],
          "contourcarpet": [
           {
            "colorbar": {
             "outlinewidth": 0,
             "ticks": ""
            },
            "type": "contourcarpet"
           }
          ],
          "heatmap": [
           {
            "colorbar": {
             "outlinewidth": 0,
             "ticks": ""
            },
            "colorscale": [
             [
              0,
              "#0d0887"
             ],
             [
              0.1111111111111111,
              "#46039f"
             ],
             [
              0.2222222222222222,
              "#7201a8"
             ],
             [
              0.3333333333333333,
              "#9c179e"
             ],
             [
              0.4444444444444444,
              "#bd3786"
             ],
             [
              0.5555555555555556,
              "#d8576b"
             ],
             [
              0.6666666666666666,
              "#ed7953"
             ],
             [
              0.7777777777777778,
              "#fb9f3a"
             ],
             [
              0.8888888888888888,
              "#fdca26"
             ],
             [
              1,
              "#f0f921"
             ]
            ],
            "type": "heatmap"
           }
          ],
          "heatmapgl": [
           {
            "colorbar": {
             "outlinewidth": 0,
             "ticks": ""
            },
            "colorscale": [
             [
              0,
              "#0d0887"
             ],
             [
              0.1111111111111111,
              "#46039f"
             ],
             [
              0.2222222222222222,
              "#7201a8"
             ],
             [
              0.3333333333333333,
              "#9c179e"
             ],
             [
              0.4444444444444444,
              "#bd3786"
             ],
             [
              0.5555555555555556,
              "#d8576b"
             ],
             [
              0.6666666666666666,
              "#ed7953"
             ],
             [
              0.7777777777777778,
              "#fb9f3a"
             ],
             [
              0.8888888888888888,
              "#fdca26"
             ],
             [
              1,
              "#f0f921"
             ]
            ],
            "type": "heatmapgl"
           }
          ],
          "histogram": [
           {
            "marker": {
             "pattern": {
              "fillmode": "overlay",
              "size": 10,
              "solidity": 0.2
             }
            },
            "type": "histogram"
           }
          ],
          "histogram2d": [
           {
            "colorbar": {
             "outlinewidth": 0,
             "ticks": ""
            },
            "colorscale": [
             [
              0,
              "#0d0887"
             ],
             [
              0.1111111111111111,
              "#46039f"
             ],
             [
              0.2222222222222222,
              "#7201a8"
             ],
             [
              0.3333333333333333,
              "#9c179e"
             ],
             [
              0.4444444444444444,
              "#bd3786"
             ],
             [
              0.5555555555555556,
              "#d8576b"
             ],
             [
              0.6666666666666666,
              "#ed7953"
             ],
             [
              0.7777777777777778,
              "#fb9f3a"
             ],
             [
              0.8888888888888888,
              "#fdca26"
             ],
             [
              1,
              "#f0f921"
             ]
            ],
            "type": "histogram2d"
           }
          ],
          "histogram2dcontour": [
           {
            "colorbar": {
             "outlinewidth": 0,
             "ticks": ""
            },
            "colorscale": [
             [
              0,
              "#0d0887"
             ],
             [
              0.1111111111111111,
              "#46039f"
             ],
             [
              0.2222222222222222,
              "#7201a8"
             ],
             [
              0.3333333333333333,
              "#9c179e"
             ],
             [
              0.4444444444444444,
              "#bd3786"
             ],
             [
              0.5555555555555556,
              "#d8576b"
             ],
             [
              0.6666666666666666,
              "#ed7953"
             ],
             [
              0.7777777777777778,
              "#fb9f3a"
             ],
             [
              0.8888888888888888,
              "#fdca26"
             ],
             [
              1,
              "#f0f921"
             ]
            ],
            "type": "histogram2dcontour"
           }
          ],
          "mesh3d": [
           {
            "colorbar": {
             "outlinewidth": 0,
             "ticks": ""
            },
            "type": "mesh3d"
           }
          ],
          "parcoords": [
           {
            "line": {
             "colorbar": {
              "outlinewidth": 0,
              "ticks": ""
             }
            },
            "type": "parcoords"
           }
          ],
          "pie": [
           {
            "automargin": true,
            "type": "pie"
           }
          ],
          "scatter": [
           {
            "fillpattern": {
             "fillmode": "overlay",
             "size": 10,
             "solidity": 0.2
            },
            "type": "scatter"
           }
          ],
          "scatter3d": [
           {
            "line": {
             "colorbar": {
              "outlinewidth": 0,
              "ticks": ""
             }
            },
            "marker": {
             "colorbar": {
              "outlinewidth": 0,
              "ticks": ""
             }
            },
            "type": "scatter3d"
           }
          ],
          "scattercarpet": [
           {
            "marker": {
             "colorbar": {
              "outlinewidth": 0,
              "ticks": ""
             }
            },
            "type": "scattercarpet"
           }
          ],
          "scattergeo": [
           {
            "marker": {
             "colorbar": {
              "outlinewidth": 0,
              "ticks": ""
             }
            },
            "type": "scattergeo"
           }
          ],
          "scattergl": [
           {
            "marker": {
             "colorbar": {
              "outlinewidth": 0,
              "ticks": ""
             }
            },
            "type": "scattergl"
           }
          ],
          "scattermapbox": [
           {
            "marker": {
             "colorbar": {
              "outlinewidth": 0,
              "ticks": ""
             }
            },
            "type": "scattermapbox"
           }
          ],
          "scatterpolar": [
           {
            "marker": {
             "colorbar": {
              "outlinewidth": 0,
              "ticks": ""
             }
            },
            "type": "scatterpolar"
           }
          ],
          "scatterpolargl": [
           {
            "marker": {
             "colorbar": {
              "outlinewidth": 0,
              "ticks": ""
             }
            },
            "type": "scatterpolargl"
           }
          ],
          "scatterternary": [
           {
            "marker": {
             "colorbar": {
              "outlinewidth": 0,
              "ticks": ""
             }
            },
            "type": "scatterternary"
           }
          ],
          "surface": [
           {
            "colorbar": {
             "outlinewidth": 0,
             "ticks": ""
            },
            "colorscale": [
             [
              0,
              "#0d0887"
             ],
             [
              0.1111111111111111,
              "#46039f"
             ],
             [
              0.2222222222222222,
              "#7201a8"
             ],
             [
              0.3333333333333333,
              "#9c179e"
             ],
             [
              0.4444444444444444,
              "#bd3786"
             ],
             [
              0.5555555555555556,
              "#d8576b"
             ],
             [
              0.6666666666666666,
              "#ed7953"
             ],
             [
              0.7777777777777778,
              "#fb9f3a"
             ],
             [
              0.8888888888888888,
              "#fdca26"
             ],
             [
              1,
              "#f0f921"
             ]
            ],
            "type": "surface"
           }
          ],
          "table": [
           {
            "cells": {
             "fill": {
              "color": "#EBF0F8"
             },
             "line": {
              "color": "white"
             }
            },
            "header": {
             "fill": {
              "color": "#C8D4E3"
             },
             "line": {
              "color": "white"
             }
            },
            "type": "table"
           }
          ]
         },
         "layout": {
          "annotationdefaults": {
           "arrowcolor": "#2a3f5f",
           "arrowhead": 0,
           "arrowwidth": 1
          },
          "autotypenumbers": "strict",
          "coloraxis": {
           "colorbar": {
            "outlinewidth": 0,
            "ticks": ""
           }
          },
          "colorscale": {
           "diverging": [
            [
             0,
             "#8e0152"
            ],
            [
             0.1,
             "#c51b7d"
            ],
            [
             0.2,
             "#de77ae"
            ],
            [
             0.3,
             "#f1b6da"
            ],
            [
             0.4,
             "#fde0ef"
            ],
            [
             0.5,
             "#f7f7f7"
            ],
            [
             0.6,
             "#e6f5d0"
            ],
            [
             0.7,
             "#b8e186"
            ],
            [
             0.8,
             "#7fbc41"
            ],
            [
             0.9,
             "#4d9221"
            ],
            [
             1,
             "#276419"
            ]
           ],
           "sequential": [
            [
             0,
             "#0d0887"
            ],
            [
             0.1111111111111111,
             "#46039f"
            ],
            [
             0.2222222222222222,
             "#7201a8"
            ],
            [
             0.3333333333333333,
             "#9c179e"
            ],
            [
             0.4444444444444444,
             "#bd3786"
            ],
            [
             0.5555555555555556,
             "#d8576b"
            ],
            [
             0.6666666666666666,
             "#ed7953"
            ],
            [
             0.7777777777777778,
             "#fb9f3a"
            ],
            [
             0.8888888888888888,
             "#fdca26"
            ],
            [
             1,
             "#f0f921"
            ]
           ],
           "sequentialminus": [
            [
             0,
             "#0d0887"
            ],
            [
             0.1111111111111111,
             "#46039f"
            ],
            [
             0.2222222222222222,
             "#7201a8"
            ],
            [
             0.3333333333333333,
             "#9c179e"
            ],
            [
             0.4444444444444444,
             "#bd3786"
            ],
            [
             0.5555555555555556,
             "#d8576b"
            ],
            [
             0.6666666666666666,
             "#ed7953"
            ],
            [
             0.7777777777777778,
             "#fb9f3a"
            ],
            [
             0.8888888888888888,
             "#fdca26"
            ],
            [
             1,
             "#f0f921"
            ]
           ]
          },
          "colorway": [
           "#636efa",
           "#EF553B",
           "#00cc96",
           "#ab63fa",
           "#FFA15A",
           "#19d3f3",
           "#FF6692",
           "#B6E880",
           "#FF97FF",
           "#FECB52"
          ],
          "font": {
           "color": "#2a3f5f"
          },
          "geo": {
           "bgcolor": "white",
           "lakecolor": "white",
           "landcolor": "#E5ECF6",
           "showlakes": true,
           "showland": true,
           "subunitcolor": "white"
          },
          "hoverlabel": {
           "align": "left"
          },
          "hovermode": "closest",
          "mapbox": {
           "style": "light"
          },
          "paper_bgcolor": "white",
          "plot_bgcolor": "#E5ECF6",
          "polar": {
           "angularaxis": {
            "gridcolor": "white",
            "linecolor": "white",
            "ticks": ""
           },
           "bgcolor": "#E5ECF6",
           "radialaxis": {
            "gridcolor": "white",
            "linecolor": "white",
            "ticks": ""
           }
          },
          "scene": {
           "xaxis": {
            "backgroundcolor": "#E5ECF6",
            "gridcolor": "white",
            "gridwidth": 2,
            "linecolor": "white",
            "showbackground": true,
            "ticks": "",
            "zerolinecolor": "white"
           },
           "yaxis": {
            "backgroundcolor": "#E5ECF6",
            "gridcolor": "white",
            "gridwidth": 2,
            "linecolor": "white",
            "showbackground": true,
            "ticks": "",
            "zerolinecolor": "white"
           },
           "zaxis": {
            "backgroundcolor": "#E5ECF6",
            "gridcolor": "white",
            "gridwidth": 2,
            "linecolor": "white",
            "showbackground": true,
            "ticks": "",
            "zerolinecolor": "white"
           }
          },
          "shapedefaults": {
           "line": {
            "color": "#2a3f5f"
           }
          },
          "ternary": {
           "aaxis": {
            "gridcolor": "white",
            "linecolor": "white",
            "ticks": ""
           },
           "baxis": {
            "gridcolor": "white",
            "linecolor": "white",
            "ticks": ""
           },
           "bgcolor": "#E5ECF6",
           "caxis": {
            "gridcolor": "white",
            "linecolor": "white",
            "ticks": ""
           }
          },
          "title": {
           "x": 0.05
          },
          "xaxis": {
           "automargin": true,
           "gridcolor": "white",
           "linecolor": "white",
           "ticks": "",
           "title": {
            "standoff": 15
           },
           "zerolinecolor": "white",
           "zerolinewidth": 2
          },
          "yaxis": {
           "automargin": true,
           "gridcolor": "white",
           "linecolor": "white",
           "ticks": "",
           "title": {
            "standoff": 15
           },
           "zerolinecolor": "white",
           "zerolinewidth": 2
          }
         }
        },
        "title": {
         "text": "Auslastung GC Kronberg Auslastung Gesamt in % pro Startzeit für 2021 und 2022"
        },
        "width": 1600,
        "yaxis": {
         "tickformat": ",.0%"
        }
       }
      }
     },
     "metadata": {},
     "output_type": "display_data"
    },
    {
     "data": {
      "application/vnd.plotly.v1+json": {
       "config": {
        "plotlyServerURL": "https://plot.ly"
       },
       "data": [
        {
         "line": {
          "width": 5
         },
         "marker": {
          "color": "Red",
          "size": 10
         },
         "mode": "lines",
         "name": "2021",
         "type": "scatter",
         "x": [
          "00:00",
          "06:00",
          "06:10",
          "06:20",
          "06:30",
          "06:40",
          "06:50",
          "07:00",
          "07:10",
          "07:20",
          "07:30",
          "07:40",
          "07:50",
          "08:00",
          "08:10",
          "08:20",
          "08:30",
          "08:40",
          "08:50",
          "09:00",
          "09:10",
          "09:20",
          "09:30",
          "09:40",
          "09:50",
          "10:00",
          "10:10",
          "10:20",
          "10:30",
          "10:40",
          "10:50",
          "11:00",
          "11:10",
          "11:20",
          "11:30",
          "11:40",
          "11:50",
          "12:00",
          "12:10",
          "12:20",
          "12:30",
          "12:40",
          "12:50",
          "13:00",
          "13:10",
          "13:20",
          "13:30",
          "13:40",
          "13:50",
          "14:00",
          "14:10",
          "14:20",
          "14:30",
          "14:40",
          "14:50",
          "15:00",
          "15:10",
          "15:20",
          "15:30",
          "15:40",
          "15:50",
          "16:00",
          "16:10",
          "16:20",
          "16:30",
          "16:40",
          "16:50",
          "17:00",
          "17:10",
          "17:20",
          "17:30",
          "17:40",
          "17:50",
          "18:00",
          "18:10",
          "18:20",
          "18:30",
          "18:40",
          "18:50",
          "19:00",
          "19:10",
          "19:20",
          "19:30",
          "19:40",
          "19:50",
          "20:00",
          "20:10",
          "20:20",
          "20:30",
          "20:40",
          "20:50",
          "21:00"
         ],
         "y": [
          0.0027624309392265192,
          0,
          0.0013736263736263737,
          0.005494505494505495,
          0,
          0,
          0,
          0,
          0,
          0,
          0.01098901098901099,
          0.01510989010989011,
          0.012362637362637362,
          0.01675977653631285,
          0.006906077348066298,
          0.027624309392265192,
          0.03729281767955801,
          0.023743016759776536,
          0.016483516483516484,
          0.0351123595505618,
          0.027932960893854747,
          0.031073446327683617,
          0.05688622754491018,
          0.03,
          0.024725274725274724,
          0.05745341614906832,
          0.03106508875739645,
          0.026836158192090395,
          0.04189944134078212,
          0.029329608938547486,
          0.02361111111111111,
          0.0702247191011236,
          0.06388888888888888,
          0.058011049723756904,
          0.06868131868131869,
          0.05555555555555555,
          0.052486187845303865,
          0.07734806629834254,
          0.04583333333333333,
          0.024861878453038673,
          0.06043956043956044,
          0.042582417582417584,
          0.04419889502762431,
          0.07714285714285714,
          0.05416666666666667,
          0.028846153846153848,
          0.05084745762711865,
          0.013736263736263736,
          0.0260989010989011,
          0.06609195402298851,
          0.03021978021978022,
          0.017955801104972375,
          0.05277777777777778,
          0.02197802197802198,
          0.03314917127071823,
          0.057692307692307696,
          0.0375,
          0.028846153846153848,
          0.03611111111111111,
          0.024861878453038673,
          0.022099447513812154,
          0.03729281767955801,
          0.03038674033149171,
          0.04143646408839779,
          0.028846153846153848,
          0.011049723756906077,
          0.020604395604395604,
          0.02197802197802198,
          0.013736263736263736,
          0.02197802197802198,
          0.023480662983425413,
          0.027472527472527472,
          0.013736263736263736,
          0.03021978021978022,
          0.03296703296703297,
          0.0027472527472527475,
          0.013736263736263736,
          0.01510989010989011,
          0.008241758241758242,
          0.009615384615384616,
          0.005494505494505495,
          0.0013736263736263737,
          0.0027472527472527475,
          0,
          0,
          0,
          0,
          0,
          0,
          0,
          0,
          0
         ]
        },
        {
         "line": {
          "width": 5
         },
         "marker": {
          "color": "Blue",
          "size": 10
         },
         "mode": "lines",
         "name": "2022",
         "type": "scatter",
         "x": [
          "00:00",
          "06:00",
          "06:10",
          "06:20",
          "06:30",
          "06:40",
          "06:50",
          "07:00",
          "07:10",
          "07:20",
          "07:30",
          "07:40",
          "07:50",
          "08:00",
          "08:10",
          "08:20",
          "08:30",
          "08:40",
          "08:50",
          "09:00",
          "09:10",
          "09:20",
          "09:30",
          "09:40",
          "09:50",
          "10:00",
          "10:10",
          "10:20",
          "10:30",
          "10:40",
          "10:50",
          "11:00",
          "11:10",
          "11:20",
          "11:30",
          "11:40",
          "11:50",
          "12:00",
          "12:10",
          "12:20",
          "12:30",
          "12:40",
          "12:50",
          "13:00",
          "13:10",
          "13:20",
          "13:30",
          "13:40",
          "13:50",
          "14:00",
          "14:10",
          "14:20",
          "14:30",
          "14:40",
          "14:50",
          "15:00",
          "15:10",
          "15:20",
          "15:30",
          "15:40",
          "15:50",
          "16:00",
          "16:10",
          "16:20",
          "16:30",
          "16:40",
          "16:50",
          "17:00",
          "17:10",
          "17:20",
          "17:30",
          "17:40",
          "17:50",
          "18:00",
          "18:10",
          "18:20",
          "18:30",
          "18:40",
          "18:50",
          "19:00",
          "19:10",
          "19:20",
          "19:30",
          "19:40",
          "19:50",
          "20:00",
          "20:10",
          "20:20",
          "20:30",
          "20:40",
          "20:50",
          "21:00"
         ],
         "y": [
          0.0011904761904761906,
          0.0035046728971962616,
          0.0011682242990654205,
          0.002336448598130841,
          0,
          0,
          0,
          0.0011682242990654205,
          0,
          0,
          0.014018691588785047,
          0.012910798122065728,
          0.008177570093457943,
          0.03419811320754717,
          0.017605633802816902,
          0.036556603773584904,
          0.025943396226415096,
          0.02464788732394366,
          0.02102803738317757,
          0.06103286384976526,
          0.03773584905660377,
          0.03229665071770335,
          0.07161458333333333,
          0.0509478672985782,
          0.04642857142857143,
          0.08026315789473684,
          0.04926108374384237,
          0.03873239436619718,
          0.05188679245283019,
          0.05778301886792453,
          0.027122641509433963,
          0.0733173076923077,
          0.05868544600938967,
          0.04672897196261682,
          0.062206572769953054,
          0.054245283018867926,
          0.0455607476635514,
          0.09210526315789473,
          0.04834905660377359,
          0.035211267605633804,
          0.06455399061032864,
          0.03286384976525822,
          0.03271028037383177,
          0.06432038834951456,
          0.061611374407582936,
          0.023696682464454975,
          0.05889423076923077,
          0.015258215962441314,
          0.02358490566037736,
          0.08419689119170984,
          0.04028436018957346,
          0.03271028037383177,
          0.05868544600938967,
          0.014084507042253521,
          0.015186915887850467,
          0.05188679245283019,
          0.01179245283018868,
          0.011682242990654205,
          0.02699530516431925,
          0.015186915887850467,
          0.022300469483568074,
          0.051643192488262914,
          0.01995305164319249,
          0.017523364485981307,
          0.01995305164319249,
          0.014018691588785047,
          0.014018691588785047,
          0.023474178403755867,
          0.01179245283018868,
          0.008177570093457943,
          0.015258215962441314,
          0.008177570093457943,
          0.012850467289719626,
          0.04789719626168224,
          0.02102803738317757,
          0.011682242990654205,
          0.014018691588785047,
          0.007009345794392523,
          0.004672897196261682,
          0.005841121495327103,
          0.0011682242990654205,
          0.002336448598130841,
          0,
          0,
          0,
          0,
          0,
          0,
          0,
          0,
          0,
          0
         ]
        },
        {
         "marker": {
          "color": "Green",
          "size": 10
         },
         "mode": "markers",
         "name": "Höchste Auslastung 2021",
         "type": "scatter",
         "x": [
          "12:00"
         ],
         "y": [
          0.07734806629834254
         ]
        },
        {
         "marker": {
          "color": "Orange",
          "size": 10
         },
         "mode": "markers",
         "name": "Geringste Auslastung 2021",
         "type": "scatter",
         "x": [
          "06:00"
         ],
         "y": [
          0
         ]
        },
        {
         "marker": {
          "color": "Red",
          "size": 10
         },
         "mode": "markers",
         "name": "Höchste Auslastung 2022",
         "type": "scatter",
         "x": [
          "12:00"
         ],
         "y": [
          0.09210526315789473
         ]
        },
        {
         "marker": {
          "color": "Purple",
          "size": 10
         },
         "mode": "markers",
         "name": "Geringste Auslastung 2022",
         "type": "scatter",
         "x": [
          "06:30"
         ],
         "y": [
          0
         ]
        }
       ],
       "layout": {
        "font": {
         "size": 25
        },
        "template": {
         "data": {
          "bar": [
           {
            "error_x": {
             "color": "#2a3f5f"
            },
            "error_y": {
             "color": "#2a3f5f"
            },
            "marker": {
             "line": {
              "color": "#E5ECF6",
              "width": 0.5
             },
             "pattern": {
              "fillmode": "overlay",
              "size": 10,
              "solidity": 0.2
             }
            },
            "type": "bar"
           }
          ],
          "barpolar": [
           {
            "marker": {
             "line": {
              "color": "#E5ECF6",
              "width": 0.5
             },
             "pattern": {
              "fillmode": "overlay",
              "size": 10,
              "solidity": 0.2
             }
            },
            "type": "barpolar"
           }
          ],
          "carpet": [
           {
            "aaxis": {
             "endlinecolor": "#2a3f5f",
             "gridcolor": "white",
             "linecolor": "white",
             "minorgridcolor": "white",
             "startlinecolor": "#2a3f5f"
            },
            "baxis": {
             "endlinecolor": "#2a3f5f",
             "gridcolor": "white",
             "linecolor": "white",
             "minorgridcolor": "white",
             "startlinecolor": "#2a3f5f"
            },
            "type": "carpet"
           }
          ],
          "choropleth": [
           {
            "colorbar": {
             "outlinewidth": 0,
             "ticks": ""
            },
            "type": "choropleth"
           }
          ],
          "contour": [
           {
            "colorbar": {
             "outlinewidth": 0,
             "ticks": ""
            },
            "colorscale": [
             [
              0,
              "#0d0887"
             ],
             [
              0.1111111111111111,
              "#46039f"
             ],
             [
              0.2222222222222222,
              "#7201a8"
             ],
             [
              0.3333333333333333,
              "#9c179e"
             ],
             [
              0.4444444444444444,
              "#bd3786"
             ],
             [
              0.5555555555555556,
              "#d8576b"
             ],
             [
              0.6666666666666666,
              "#ed7953"
             ],
             [
              0.7777777777777778,
              "#fb9f3a"
             ],
             [
              0.8888888888888888,
              "#fdca26"
             ],
             [
              1,
              "#f0f921"
             ]
            ],
            "type": "contour"
           }
          ],
          "contourcarpet": [
           {
            "colorbar": {
             "outlinewidth": 0,
             "ticks": ""
            },
            "type": "contourcarpet"
           }
          ],
          "heatmap": [
           {
            "colorbar": {
             "outlinewidth": 0,
             "ticks": ""
            },
            "colorscale": [
             [
              0,
              "#0d0887"
             ],
             [
              0.1111111111111111,
              "#46039f"
             ],
             [
              0.2222222222222222,
              "#7201a8"
             ],
             [
              0.3333333333333333,
              "#9c179e"
             ],
             [
              0.4444444444444444,
              "#bd3786"
             ],
             [
              0.5555555555555556,
              "#d8576b"
             ],
             [
              0.6666666666666666,
              "#ed7953"
             ],
             [
              0.7777777777777778,
              "#fb9f3a"
             ],
             [
              0.8888888888888888,
              "#fdca26"
             ],
             [
              1,
              "#f0f921"
             ]
            ],
            "type": "heatmap"
           }
          ],
          "heatmapgl": [
           {
            "colorbar": {
             "outlinewidth": 0,
             "ticks": ""
            },
            "colorscale": [
             [
              0,
              "#0d0887"
             ],
             [
              0.1111111111111111,
              "#46039f"
             ],
             [
              0.2222222222222222,
              "#7201a8"
             ],
             [
              0.3333333333333333,
              "#9c179e"
             ],
             [
              0.4444444444444444,
              "#bd3786"
             ],
             [
              0.5555555555555556,
              "#d8576b"
             ],
             [
              0.6666666666666666,
              "#ed7953"
             ],
             [
              0.7777777777777778,
              "#fb9f3a"
             ],
             [
              0.8888888888888888,
              "#fdca26"
             ],
             [
              1,
              "#f0f921"
             ]
            ],
            "type": "heatmapgl"
           }
          ],
          "histogram": [
           {
            "marker": {
             "pattern": {
              "fillmode": "overlay",
              "size": 10,
              "solidity": 0.2
             }
            },
            "type": "histogram"
           }
          ],
          "histogram2d": [
           {
            "colorbar": {
             "outlinewidth": 0,
             "ticks": ""
            },
            "colorscale": [
             [
              0,
              "#0d0887"
             ],
             [
              0.1111111111111111,
              "#46039f"
             ],
             [
              0.2222222222222222,
              "#7201a8"
             ],
             [
              0.3333333333333333,
              "#9c179e"
             ],
             [
              0.4444444444444444,
              "#bd3786"
             ],
             [
              0.5555555555555556,
              "#d8576b"
             ],
             [
              0.6666666666666666,
              "#ed7953"
             ],
             [
              0.7777777777777778,
              "#fb9f3a"
             ],
             [
              0.8888888888888888,
              "#fdca26"
             ],
             [
              1,
              "#f0f921"
             ]
            ],
            "type": "histogram2d"
           }
          ],
          "histogram2dcontour": [
           {
            "colorbar": {
             "outlinewidth": 0,
             "ticks": ""
            },
            "colorscale": [
             [
              0,
              "#0d0887"
             ],
             [
              0.1111111111111111,
              "#46039f"
             ],
             [
              0.2222222222222222,
              "#7201a8"
             ],
             [
              0.3333333333333333,
              "#9c179e"
             ],
             [
              0.4444444444444444,
              "#bd3786"
             ],
             [
              0.5555555555555556,
              "#d8576b"
             ],
             [
              0.6666666666666666,
              "#ed7953"
             ],
             [
              0.7777777777777778,
              "#fb9f3a"
             ],
             [
              0.8888888888888888,
              "#fdca26"
             ],
             [
              1,
              "#f0f921"
             ]
            ],
            "type": "histogram2dcontour"
           }
          ],
          "mesh3d": [
           {
            "colorbar": {
             "outlinewidth": 0,
             "ticks": ""
            },
            "type": "mesh3d"
           }
          ],
          "parcoords": [
           {
            "line": {
             "colorbar": {
              "outlinewidth": 0,
              "ticks": ""
             }
            },
            "type": "parcoords"
           }
          ],
          "pie": [
           {
            "automargin": true,
            "type": "pie"
           }
          ],
          "scatter": [
           {
            "fillpattern": {
             "fillmode": "overlay",
             "size": 10,
             "solidity": 0.2
            },
            "type": "scatter"
           }
          ],
          "scatter3d": [
           {
            "line": {
             "colorbar": {
              "outlinewidth": 0,
              "ticks": ""
             }
            },
            "marker": {
             "colorbar": {
              "outlinewidth": 0,
              "ticks": ""
             }
            },
            "type": "scatter3d"
           }
          ],
          "scattercarpet": [
           {
            "marker": {
             "colorbar": {
              "outlinewidth": 0,
              "ticks": ""
             }
            },
            "type": "scattercarpet"
           }
          ],
          "scattergeo": [
           {
            "marker": {
             "colorbar": {
              "outlinewidth": 0,
              "ticks": ""
             }
            },
            "type": "scattergeo"
           }
          ],
          "scattergl": [
           {
            "marker": {
             "colorbar": {
              "outlinewidth": 0,
              "ticks": ""
             }
            },
            "type": "scattergl"
           }
          ],
          "scattermapbox": [
           {
            "marker": {
             "colorbar": {
              "outlinewidth": 0,
              "ticks": ""
             }
            },
            "type": "scattermapbox"
           }
          ],
          "scatterpolar": [
           {
            "marker": {
             "colorbar": {
              "outlinewidth": 0,
              "ticks": ""
             }
            },
            "type": "scatterpolar"
           }
          ],
          "scatterpolargl": [
           {
            "marker": {
             "colorbar": {
              "outlinewidth": 0,
              "ticks": ""
             }
            },
            "type": "scatterpolargl"
           }
          ],
          "scatterternary": [
           {
            "marker": {
             "colorbar": {
              "outlinewidth": 0,
              "ticks": ""
             }
            },
            "type": "scatterternary"
           }
          ],
          "surface": [
           {
            "colorbar": {
             "outlinewidth": 0,
             "ticks": ""
            },
            "colorscale": [
             [
              0,
              "#0d0887"
             ],
             [
              0.1111111111111111,
              "#46039f"
             ],
             [
              0.2222222222222222,
              "#7201a8"
             ],
             [
              0.3333333333333333,
              "#9c179e"
             ],
             [
              0.4444444444444444,
              "#bd3786"
             ],
             [
              0.5555555555555556,
              "#d8576b"
             ],
             [
              0.6666666666666666,
              "#ed7953"
             ],
             [
              0.7777777777777778,
              "#fb9f3a"
             ],
             [
              0.8888888888888888,
              "#fdca26"
             ],
             [
              1,
              "#f0f921"
             ]
            ],
            "type": "surface"
           }
          ],
          "table": [
           {
            "cells": {
             "fill": {
              "color": "#EBF0F8"
             },
             "line": {
              "color": "white"
             }
            },
            "header": {
             "fill": {
              "color": "#C8D4E3"
             },
             "line": {
              "color": "white"
             }
            },
            "type": "table"
           }
          ]
         },
         "layout": {
          "annotationdefaults": {
           "arrowcolor": "#2a3f5f",
           "arrowhead": 0,
           "arrowwidth": 1
          },
          "autotypenumbers": "strict",
          "coloraxis": {
           "colorbar": {
            "outlinewidth": 0,
            "ticks": ""
           }
          },
          "colorscale": {
           "diverging": [
            [
             0,
             "#8e0152"
            ],
            [
             0.1,
             "#c51b7d"
            ],
            [
             0.2,
             "#de77ae"
            ],
            [
             0.3,
             "#f1b6da"
            ],
            [
             0.4,
             "#fde0ef"
            ],
            [
             0.5,
             "#f7f7f7"
            ],
            [
             0.6,
             "#e6f5d0"
            ],
            [
             0.7,
             "#b8e186"
            ],
            [
             0.8,
             "#7fbc41"
            ],
            [
             0.9,
             "#4d9221"
            ],
            [
             1,
             "#276419"
            ]
           ],
           "sequential": [
            [
             0,
             "#0d0887"
            ],
            [
             0.1111111111111111,
             "#46039f"
            ],
            [
             0.2222222222222222,
             "#7201a8"
            ],
            [
             0.3333333333333333,
             "#9c179e"
            ],
            [
             0.4444444444444444,
             "#bd3786"
            ],
            [
             0.5555555555555556,
             "#d8576b"
            ],
            [
             0.6666666666666666,
             "#ed7953"
            ],
            [
             0.7777777777777778,
             "#fb9f3a"
            ],
            [
             0.8888888888888888,
             "#fdca26"
            ],
            [
             1,
             "#f0f921"
            ]
           ],
           "sequentialminus": [
            [
             0,
             "#0d0887"
            ],
            [
             0.1111111111111111,
             "#46039f"
            ],
            [
             0.2222222222222222,
             "#7201a8"
            ],
            [
             0.3333333333333333,
             "#9c179e"
            ],
            [
             0.4444444444444444,
             "#bd3786"
            ],
            [
             0.5555555555555556,
             "#d8576b"
            ],
            [
             0.6666666666666666,
             "#ed7953"
            ],
            [
             0.7777777777777778,
             "#fb9f3a"
            ],
            [
             0.8888888888888888,
             "#fdca26"
            ],
            [
             1,
             "#f0f921"
            ]
           ]
          },
          "colorway": [
           "#636efa",
           "#EF553B",
           "#00cc96",
           "#ab63fa",
           "#FFA15A",
           "#19d3f3",
           "#FF6692",
           "#B6E880",
           "#FF97FF",
           "#FECB52"
          ],
          "font": {
           "color": "#2a3f5f"
          },
          "geo": {
           "bgcolor": "white",
           "lakecolor": "white",
           "landcolor": "#E5ECF6",
           "showlakes": true,
           "showland": true,
           "subunitcolor": "white"
          },
          "hoverlabel": {
           "align": "left"
          },
          "hovermode": "closest",
          "mapbox": {
           "style": "light"
          },
          "paper_bgcolor": "white",
          "plot_bgcolor": "#E5ECF6",
          "polar": {
           "angularaxis": {
            "gridcolor": "white",
            "linecolor": "white",
            "ticks": ""
           },
           "bgcolor": "#E5ECF6",
           "radialaxis": {
            "gridcolor": "white",
            "linecolor": "white",
            "ticks": ""
           }
          },
          "scene": {
           "xaxis": {
            "backgroundcolor": "#E5ECF6",
            "gridcolor": "white",
            "gridwidth": 2,
            "linecolor": "white",
            "showbackground": true,
            "ticks": "",
            "zerolinecolor": "white"
           },
           "yaxis": {
            "backgroundcolor": "#E5ECF6",
            "gridcolor": "white",
            "gridwidth": 2,
            "linecolor": "white",
            "showbackground": true,
            "ticks": "",
            "zerolinecolor": "white"
           },
           "zaxis": {
            "backgroundcolor": "#E5ECF6",
            "gridcolor": "white",
            "gridwidth": 2,
            "linecolor": "white",
            "showbackground": true,
            "ticks": "",
            "zerolinecolor": "white"
           }
          },
          "shapedefaults": {
           "line": {
            "color": "#2a3f5f"
           }
          },
          "ternary": {
           "aaxis": {
            "gridcolor": "white",
            "linecolor": "white",
            "ticks": ""
           },
           "baxis": {
            "gridcolor": "white",
            "linecolor": "white",
            "ticks": ""
           },
           "bgcolor": "#E5ECF6",
           "caxis": {
            "gridcolor": "white",
            "linecolor": "white",
            "ticks": ""
           }
          },
          "title": {
           "x": 0.05
          },
          "xaxis": {
           "automargin": true,
           "gridcolor": "white",
           "linecolor": "white",
           "ticks": "",
           "title": {
            "standoff": 15
           },
           "zerolinecolor": "white",
           "zerolinewidth": 2
          },
          "yaxis": {
           "automargin": true,
           "gridcolor": "white",
           "linecolor": "white",
           "ticks": "",
           "title": {
            "standoff": 15
           },
           "zerolinecolor": "white",
           "zerolinewidth": 2
          }
         }
        },
        "title": {
         "text": "Auslastung GC Kronberg Auslastung Gäste in % pro Startzeit für 2021 und 2022"
        },
        "width": 1600,
        "yaxis": {
         "tickformat": ",.0%"
        }
       }
      }
     },
     "metadata": {},
     "output_type": "display_data"
    },
    {
     "data": {
      "application/vnd.plotly.v1+json": {
       "config": {
        "plotlyServerURL": "https://plot.ly"
       },
       "data": [
        {
         "line": {
          "width": 5
         },
         "marker": {
          "color": "Red",
          "size": 10
         },
         "mode": "lines",
         "name": "2021",
         "type": "scatter",
         "x": [
          "00:00",
          "06:00",
          "06:10",
          "06:20",
          "06:30",
          "06:40",
          "06:50",
          "07:00",
          "07:10",
          "07:20",
          "07:30",
          "07:40",
          "07:50",
          "08:00",
          "08:10",
          "08:20",
          "08:30",
          "08:40",
          "08:50",
          "09:00",
          "09:10",
          "09:20",
          "09:30",
          "09:40",
          "09:50",
          "10:00",
          "10:10",
          "10:20",
          "10:30",
          "10:40",
          "10:50",
          "11:00",
          "11:10",
          "11:20",
          "11:30",
          "11:40",
          "11:50",
          "12:00",
          "12:10",
          "12:20",
          "12:30",
          "12:40",
          "12:50",
          "13:00",
          "13:10",
          "13:20",
          "13:30",
          "13:40",
          "13:50",
          "14:00",
          "14:10",
          "14:20",
          "14:30",
          "14:40",
          "14:50",
          "15:00",
          "15:10",
          "15:20",
          "15:30",
          "15:40",
          "15:50",
          "16:00",
          "16:10",
          "16:20",
          "16:30",
          "16:40",
          "16:50",
          "17:00",
          "17:10",
          "17:20",
          "17:30",
          "17:40",
          "17:50",
          "18:00",
          "18:10",
          "18:20",
          "18:30",
          "18:40",
          "18:50",
          "19:00",
          "19:10",
          "19:20",
          "19:30",
          "19:40",
          "19:50",
          "20:00",
          "20:10",
          "20:20",
          "20:30",
          "20:40",
          "20:50",
          "21:00"
         ],
         "y": [
          0.009668508287292817,
          0.04395604395604396,
          0.027472527472527472,
          0.08791208791208792,
          0,
          0,
          0,
          0,
          0,
          0.005494505494505495,
          0.20054945054945056,
          0.09340659340659341,
          0.12087912087912088,
          0.1452513966480447,
          0.11187845303867404,
          0.10359116022099447,
          0.16298342541436464,
          0.12011173184357542,
          0.12087912087912088,
          0.21207865168539325,
          0.1494413407821229,
          0.1553672316384181,
          0.20658682634730538,
          0.20285714285714285,
          0.22664835164835165,
          0.24378881987577639,
          0.22928994082840237,
          0.2175141242937853,
          0.1857541899441341,
          0.18156424581005587,
          0.175,
          0.26825842696629215,
          0.2222222222222222,
          0.2223756906077348,
          0.2403846153846154,
          0.25277777777777777,
          0.21961325966850828,
          0.2292817679558011,
          0.20833333333333334,
          0.17679558011049723,
          0.19505494505494506,
          0.1771978021978022,
          0.18370165745856354,
          0.24142857142857144,
          0.24722222222222223,
          0.23901098901098902,
          0.2528248587570621,
          0.25686813186813184,
          0.25686813186813184,
          0.26580459770114945,
          0.2774725274725275,
          0.24033149171270718,
          0.24027777777777778,
          0.24175824175824176,
          0.2154696132596685,
          0.2760989010989011,
          0.2152777777777778,
          0.2554945054945055,
          0.275,
          0.27486187845303867,
          0.2361878453038674,
          0.2638121546961326,
          0.25,
          0.2223756906077348,
          0.2733516483516483,
          0.2541436464088398,
          0.20467032967032966,
          0.2815934065934066,
          0.25137362637362637,
          0.19505494505494506,
          0.22375690607734808,
          0.1936813186813187,
          0.18406593406593408,
          0.19917582417582416,
          0.16346153846153846,
          0.1401098901098901,
          0.16071428571428573,
          0.09065934065934066,
          0.07692307692307693,
          0.10164835164835165,
          0.05631868131868132,
          0.05357142857142857,
          0.06593406593406594,
          0.02197802197802198,
          0.016483516483516484,
          0.012362637362637362,
          0.012362637362637362,
          0.0013736263736263737,
          0,
          0,
          0,
          0
         ]
        },
        {
         "line": {
          "width": 5
         },
         "marker": {
          "color": "Blue",
          "size": 10
         },
         "mode": "lines",
         "name": "2022",
         "type": "scatter",
         "x": [
          "00:00",
          "06:00",
          "06:10",
          "06:20",
          "06:30",
          "06:40",
          "06:50",
          "07:00",
          "07:10",
          "07:20",
          "07:30",
          "07:40",
          "07:50",
          "08:00",
          "08:10",
          "08:20",
          "08:30",
          "08:40",
          "08:50",
          "09:00",
          "09:10",
          "09:20",
          "09:30",
          "09:40",
          "09:50",
          "10:00",
          "10:10",
          "10:20",
          "10:30",
          "10:40",
          "10:50",
          "11:00",
          "11:10",
          "11:20",
          "11:30",
          "11:40",
          "11:50",
          "12:00",
          "12:10",
          "12:20",
          "12:30",
          "12:40",
          "12:50",
          "13:00",
          "13:10",
          "13:20",
          "13:30",
          "13:40",
          "13:50",
          "14:00",
          "14:10",
          "14:20",
          "14:30",
          "14:40",
          "14:50",
          "15:00",
          "15:10",
          "15:20",
          "15:30",
          "15:40",
          "15:50",
          "16:00",
          "16:10",
          "16:20",
          "16:30",
          "16:40",
          "16:50",
          "17:00",
          "17:10",
          "17:20",
          "17:30",
          "17:40",
          "17:50",
          "18:00",
          "18:10",
          "18:20",
          "18:30",
          "18:40",
          "18:50",
          "19:00",
          "19:10",
          "19:20",
          "19:30",
          "19:40",
          "19:50",
          "20:00",
          "20:10",
          "20:20",
          "20:30",
          "20:40",
          "20:50",
          "21:00"
         ],
         "y": [
          0.014285714285714285,
          0.02570093457943925,
          0.029205607476635514,
          0.10163551401869159,
          0,
          0,
          0,
          0.0011682242990654205,
          0,
          0,
          0.11565420560747663,
          0.04225352112676056,
          0.056074766355140186,
          0.07547169811320754,
          0.04107981220657277,
          0.03891509433962264,
          0.09787735849056604,
          0.08450704225352113,
          0.08644859813084112,
          0.16549295774647887,
          0.12853773584905662,
          0.17464114832535885,
          0.17708333333333334,
          0.17180094786729858,
          0.16547619047619047,
          0.17894736842105263,
          0.19704433497536947,
          0.1467136150234742,
          0.15212264150943397,
          0.09905660377358491,
          0.11556603773584906,
          0.18269230769230768,
          0.14553990610328638,
          0.11682242990654206,
          0.16666666666666666,
          0.1509433962264151,
          0.1191588785046729,
          0.16028708133971292,
          0.13089622641509435,
          0.09741784037558686,
          0.12793427230046947,
          0.08450704225352113,
          0.1261682242990654,
          0.21359223300970873,
          0.17180094786729858,
          0.1895734597156398,
          0.1875,
          0.17253521126760563,
          0.18867924528301888,
          0.2189119170984456,
          0.1528436018957346,
          0.13901869158878505,
          0.16666666666666666,
          0.1396713615023474,
          0.12266355140186916,
          0.2016509433962264,
          0.16391509433962265,
          0.14602803738317757,
          0.18309859154929578,
          0.12149532710280374,
          0.10915492957746478,
          0.18661971830985916,
          0.1443661971830986,
          0.1191588785046729,
          0.1807511737089202,
          0.09228971962616822,
          0.09579439252336448,
          0.19014084507042253,
          0.10731132075471699,
          0.0852803738317757,
          0.1467136150234742,
          0.08294392523364486,
          0.05841121495327103,
          0.0969626168224299,
          0.06542056074766354,
          0.06074766355140187,
          0.06074766355140187,
          0.036214953271028034,
          0.008177570093457943,
          0.03271028037383177,
          0.011682242990654205,
          0.017523364485981307,
          0.018691588785046728,
          0.008177570093457943,
          0.005841121495327103,
          0.007009345794392523,
          0,
          0,
          0,
          0,
          0,
          0
         ]
        },
        {
         "marker": {
          "color": "Green",
          "size": 10
         },
         "mode": "markers",
         "name": "Höchste Auslastung 2021",
         "type": "scatter",
         "x": [
          "17:00"
         ],
         "y": [
          0.2815934065934066
         ]
        },
        {
         "marker": {
          "color": "Orange",
          "size": 10
         },
         "mode": "markers",
         "name": "Geringste Auslastung 2021",
         "type": "scatter",
         "x": [
          "06:30"
         ],
         "y": [
          0
         ]
        },
        {
         "marker": {
          "color": "Red",
          "size": 10
         },
         "mode": "markers",
         "name": "Höchste Auslastung 2022",
         "type": "scatter",
         "x": [
          "14:00"
         ],
         "y": [
          0.2189119170984456
         ]
        },
        {
         "marker": {
          "color": "Purple",
          "size": 10
         },
         "mode": "markers",
         "name": "Geringste Auslastung 2022",
         "type": "scatter",
         "x": [
          "06:30"
         ],
         "y": [
          0
         ]
        }
       ],
       "layout": {
        "font": {
         "size": 25
        },
        "template": {
         "data": {
          "bar": [
           {
            "error_x": {
             "color": "#2a3f5f"
            },
            "error_y": {
             "color": "#2a3f5f"
            },
            "marker": {
             "line": {
              "color": "#E5ECF6",
              "width": 0.5
             },
             "pattern": {
              "fillmode": "overlay",
              "size": 10,
              "solidity": 0.2
             }
            },
            "type": "bar"
           }
          ],
          "barpolar": [
           {
            "marker": {
             "line": {
              "color": "#E5ECF6",
              "width": 0.5
             },
             "pattern": {
              "fillmode": "overlay",
              "size": 10,
              "solidity": 0.2
             }
            },
            "type": "barpolar"
           }
          ],
          "carpet": [
           {
            "aaxis": {
             "endlinecolor": "#2a3f5f",
             "gridcolor": "white",
             "linecolor": "white",
             "minorgridcolor": "white",
             "startlinecolor": "#2a3f5f"
            },
            "baxis": {
             "endlinecolor": "#2a3f5f",
             "gridcolor": "white",
             "linecolor": "white",
             "minorgridcolor": "white",
             "startlinecolor": "#2a3f5f"
            },
            "type": "carpet"
           }
          ],
          "choropleth": [
           {
            "colorbar": {
             "outlinewidth": 0,
             "ticks": ""
            },
            "type": "choropleth"
           }
          ],
          "contour": [
           {
            "colorbar": {
             "outlinewidth": 0,
             "ticks": ""
            },
            "colorscale": [
             [
              0,
              "#0d0887"
             ],
             [
              0.1111111111111111,
              "#46039f"
             ],
             [
              0.2222222222222222,
              "#7201a8"
             ],
             [
              0.3333333333333333,
              "#9c179e"
             ],
             [
              0.4444444444444444,
              "#bd3786"
             ],
             [
              0.5555555555555556,
              "#d8576b"
             ],
             [
              0.6666666666666666,
              "#ed7953"
             ],
             [
              0.7777777777777778,
              "#fb9f3a"
             ],
             [
              0.8888888888888888,
              "#fdca26"
             ],
             [
              1,
              "#f0f921"
             ]
            ],
            "type": "contour"
           }
          ],
          "contourcarpet": [
           {
            "colorbar": {
             "outlinewidth": 0,
             "ticks": ""
            },
            "type": "contourcarpet"
           }
          ],
          "heatmap": [
           {
            "colorbar": {
             "outlinewidth": 0,
             "ticks": ""
            },
            "colorscale": [
             [
              0,
              "#0d0887"
             ],
             [
              0.1111111111111111,
              "#46039f"
             ],
             [
              0.2222222222222222,
              "#7201a8"
             ],
             [
              0.3333333333333333,
              "#9c179e"
             ],
             [
              0.4444444444444444,
              "#bd3786"
             ],
             [
              0.5555555555555556,
              "#d8576b"
             ],
             [
              0.6666666666666666,
              "#ed7953"
             ],
             [
              0.7777777777777778,
              "#fb9f3a"
             ],
             [
              0.8888888888888888,
              "#fdca26"
             ],
             [
              1,
              "#f0f921"
             ]
            ],
            "type": "heatmap"
           }
          ],
          "heatmapgl": [
           {
            "colorbar": {
             "outlinewidth": 0,
             "ticks": ""
            },
            "colorscale": [
             [
              0,
              "#0d0887"
             ],
             [
              0.1111111111111111,
              "#46039f"
             ],
             [
              0.2222222222222222,
              "#7201a8"
             ],
             [
              0.3333333333333333,
              "#9c179e"
             ],
             [
              0.4444444444444444,
              "#bd3786"
             ],
             [
              0.5555555555555556,
              "#d8576b"
             ],
             [
              0.6666666666666666,
              "#ed7953"
             ],
             [
              0.7777777777777778,
              "#fb9f3a"
             ],
             [
              0.8888888888888888,
              "#fdca26"
             ],
             [
              1,
              "#f0f921"
             ]
            ],
            "type": "heatmapgl"
           }
          ],
          "histogram": [
           {
            "marker": {
             "pattern": {
              "fillmode": "overlay",
              "size": 10,
              "solidity": 0.2
             }
            },
            "type": "histogram"
           }
          ],
          "histogram2d": [
           {
            "colorbar": {
             "outlinewidth": 0,
             "ticks": ""
            },
            "colorscale": [
             [
              0,
              "#0d0887"
             ],
             [
              0.1111111111111111,
              "#46039f"
             ],
             [
              0.2222222222222222,
              "#7201a8"
             ],
             [
              0.3333333333333333,
              "#9c179e"
             ],
             [
              0.4444444444444444,
              "#bd3786"
             ],
             [
              0.5555555555555556,
              "#d8576b"
             ],
             [
              0.6666666666666666,
              "#ed7953"
             ],
             [
              0.7777777777777778,
              "#fb9f3a"
             ],
             [
              0.8888888888888888,
              "#fdca26"
             ],
             [
              1,
              "#f0f921"
             ]
            ],
            "type": "histogram2d"
           }
          ],
          "histogram2dcontour": [
           {
            "colorbar": {
             "outlinewidth": 0,
             "ticks": ""
            },
            "colorscale": [
             [
              0,
              "#0d0887"
             ],
             [
              0.1111111111111111,
              "#46039f"
             ],
             [
              0.2222222222222222,
              "#7201a8"
             ],
             [
              0.3333333333333333,
              "#9c179e"
             ],
             [
              0.4444444444444444,
              "#bd3786"
             ],
             [
              0.5555555555555556,
              "#d8576b"
             ],
             [
              0.6666666666666666,
              "#ed7953"
             ],
             [
              0.7777777777777778,
              "#fb9f3a"
             ],
             [
              0.8888888888888888,
              "#fdca26"
             ],
             [
              1,
              "#f0f921"
             ]
            ],
            "type": "histogram2dcontour"
           }
          ],
          "mesh3d": [
           {
            "colorbar": {
             "outlinewidth": 0,
             "ticks": ""
            },
            "type": "mesh3d"
           }
          ],
          "parcoords": [
           {
            "line": {
             "colorbar": {
              "outlinewidth": 0,
              "ticks": ""
             }
            },
            "type": "parcoords"
           }
          ],
          "pie": [
           {
            "automargin": true,
            "type": "pie"
           }
          ],
          "scatter": [
           {
            "fillpattern": {
             "fillmode": "overlay",
             "size": 10,
             "solidity": 0.2
            },
            "type": "scatter"
           }
          ],
          "scatter3d": [
           {
            "line": {
             "colorbar": {
              "outlinewidth": 0,
              "ticks": ""
             }
            },
            "marker": {
             "colorbar": {
              "outlinewidth": 0,
              "ticks": ""
             }
            },
            "type": "scatter3d"
           }
          ],
          "scattercarpet": [
           {
            "marker": {
             "colorbar": {
              "outlinewidth": 0,
              "ticks": ""
             }
            },
            "type": "scattercarpet"
           }
          ],
          "scattergeo": [
           {
            "marker": {
             "colorbar": {
              "outlinewidth": 0,
              "ticks": ""
             }
            },
            "type": "scattergeo"
           }
          ],
          "scattergl": [
           {
            "marker": {
             "colorbar": {
              "outlinewidth": 0,
              "ticks": ""
             }
            },
            "type": "scattergl"
           }
          ],
          "scattermapbox": [
           {
            "marker": {
             "colorbar": {
              "outlinewidth": 0,
              "ticks": ""
             }
            },
            "type": "scattermapbox"
           }
          ],
          "scatterpolar": [
           {
            "marker": {
             "colorbar": {
              "outlinewidth": 0,
              "ticks": ""
             }
            },
            "type": "scatterpolar"
           }
          ],
          "scatterpolargl": [
           {
            "marker": {
             "colorbar": {
              "outlinewidth": 0,
              "ticks": ""
             }
            },
            "type": "scatterpolargl"
           }
          ],
          "scatterternary": [
           {
            "marker": {
             "colorbar": {
              "outlinewidth": 0,
              "ticks": ""
             }
            },
            "type": "scatterternary"
           }
          ],
          "surface": [
           {
            "colorbar": {
             "outlinewidth": 0,
             "ticks": ""
            },
            "colorscale": [
             [
              0,
              "#0d0887"
             ],
             [
              0.1111111111111111,
              "#46039f"
             ],
             [
              0.2222222222222222,
              "#7201a8"
             ],
             [
              0.3333333333333333,
              "#9c179e"
             ],
             [
              0.4444444444444444,
              "#bd3786"
             ],
             [
              0.5555555555555556,
              "#d8576b"
             ],
             [
              0.6666666666666666,
              "#ed7953"
             ],
             [
              0.7777777777777778,
              "#fb9f3a"
             ],
             [
              0.8888888888888888,
              "#fdca26"
             ],
             [
              1,
              "#f0f921"
             ]
            ],
            "type": "surface"
           }
          ],
          "table": [
           {
            "cells": {
             "fill": {
              "color": "#EBF0F8"
             },
             "line": {
              "color": "white"
             }
            },
            "header": {
             "fill": {
              "color": "#C8D4E3"
             },
             "line": {
              "color": "white"
             }
            },
            "type": "table"
           }
          ]
         },
         "layout": {
          "annotationdefaults": {
           "arrowcolor": "#2a3f5f",
           "arrowhead": 0,
           "arrowwidth": 1
          },
          "autotypenumbers": "strict",
          "coloraxis": {
           "colorbar": {
            "outlinewidth": 0,
            "ticks": ""
           }
          },
          "colorscale": {
           "diverging": [
            [
             0,
             "#8e0152"
            ],
            [
             0.1,
             "#c51b7d"
            ],
            [
             0.2,
             "#de77ae"
            ],
            [
             0.3,
             "#f1b6da"
            ],
            [
             0.4,
             "#fde0ef"
            ],
            [
             0.5,
             "#f7f7f7"
            ],
            [
             0.6,
             "#e6f5d0"
            ],
            [
             0.7,
             "#b8e186"
            ],
            [
             0.8,
             "#7fbc41"
            ],
            [
             0.9,
             "#4d9221"
            ],
            [
             1,
             "#276419"
            ]
           ],
           "sequential": [
            [
             0,
             "#0d0887"
            ],
            [
             0.1111111111111111,
             "#46039f"
            ],
            [
             0.2222222222222222,
             "#7201a8"
            ],
            [
             0.3333333333333333,
             "#9c179e"
            ],
            [
             0.4444444444444444,
             "#bd3786"
            ],
            [
             0.5555555555555556,
             "#d8576b"
            ],
            [
             0.6666666666666666,
             "#ed7953"
            ],
            [
             0.7777777777777778,
             "#fb9f3a"
            ],
            [
             0.8888888888888888,
             "#fdca26"
            ],
            [
             1,
             "#f0f921"
            ]
           ],
           "sequentialminus": [
            [
             0,
             "#0d0887"
            ],
            [
             0.1111111111111111,
             "#46039f"
            ],
            [
             0.2222222222222222,
             "#7201a8"
            ],
            [
             0.3333333333333333,
             "#9c179e"
            ],
            [
             0.4444444444444444,
             "#bd3786"
            ],
            [
             0.5555555555555556,
             "#d8576b"
            ],
            [
             0.6666666666666666,
             "#ed7953"
            ],
            [
             0.7777777777777778,
             "#fb9f3a"
            ],
            [
             0.8888888888888888,
             "#fdca26"
            ],
            [
             1,
             "#f0f921"
            ]
           ]
          },
          "colorway": [
           "#636efa",
           "#EF553B",
           "#00cc96",
           "#ab63fa",
           "#FFA15A",
           "#19d3f3",
           "#FF6692",
           "#B6E880",
           "#FF97FF",
           "#FECB52"
          ],
          "font": {
           "color": "#2a3f5f"
          },
          "geo": {
           "bgcolor": "white",
           "lakecolor": "white",
           "landcolor": "#E5ECF6",
           "showlakes": true,
           "showland": true,
           "subunitcolor": "white"
          },
          "hoverlabel": {
           "align": "left"
          },
          "hovermode": "closest",
          "mapbox": {
           "style": "light"
          },
          "paper_bgcolor": "white",
          "plot_bgcolor": "#E5ECF6",
          "polar": {
           "angularaxis": {
            "gridcolor": "white",
            "linecolor": "white",
            "ticks": ""
           },
           "bgcolor": "#E5ECF6",
           "radialaxis": {
            "gridcolor": "white",
            "linecolor": "white",
            "ticks": ""
           }
          },
          "scene": {
           "xaxis": {
            "backgroundcolor": "#E5ECF6",
            "gridcolor": "white",
            "gridwidth": 2,
            "linecolor": "white",
            "showbackground": true,
            "ticks": "",
            "zerolinecolor": "white"
           },
           "yaxis": {
            "backgroundcolor": "#E5ECF6",
            "gridcolor": "white",
            "gridwidth": 2,
            "linecolor": "white",
            "showbackground": true,
            "ticks": "",
            "zerolinecolor": "white"
           },
           "zaxis": {
            "backgroundcolor": "#E5ECF6",
            "gridcolor": "white",
            "gridwidth": 2,
            "linecolor": "white",
            "showbackground": true,
            "ticks": "",
            "zerolinecolor": "white"
           }
          },
          "shapedefaults": {
           "line": {
            "color": "#2a3f5f"
           }
          },
          "ternary": {
           "aaxis": {
            "gridcolor": "white",
            "linecolor": "white",
            "ticks": ""
           },
           "baxis": {
            "gridcolor": "white",
            "linecolor": "white",
            "ticks": ""
           },
           "bgcolor": "#E5ECF6",
           "caxis": {
            "gridcolor": "white",
            "linecolor": "white",
            "ticks": ""
           }
          },
          "title": {
           "x": 0.05
          },
          "xaxis": {
           "automargin": true,
           "gridcolor": "white",
           "linecolor": "white",
           "ticks": "",
           "title": {
            "standoff": 15
           },
           "zerolinecolor": "white",
           "zerolinewidth": 2
          },
          "yaxis": {
           "automargin": true,
           "gridcolor": "white",
           "linecolor": "white",
           "ticks": "",
           "title": {
            "standoff": 15
           },
           "zerolinecolor": "white",
           "zerolinewidth": 2
          }
         }
        },
        "title": {
         "text": "Auslastung GC Kronberg Auslastung MGL Gesa. in % pro Startzeit für 2021 und 2022"
        },
        "width": 1600,
        "yaxis": {
         "tickformat": ",.0%"
        }
       }
      }
     },
     "metadata": {},
     "output_type": "display_data"
    },
    {
     "data": {
      "application/vnd.plotly.v1+json": {
       "config": {
        "plotlyServerURL": "https://plot.ly"
       },
       "data": [
        {
         "line": {
          "width": 5
         },
         "marker": {
          "color": "Red",
          "size": 10
         },
         "mode": "lines",
         "name": "2021",
         "type": "scatter",
         "x": [
          "00:00",
          "06:00",
          "06:10",
          "06:20",
          "06:30",
          "06:40",
          "06:50",
          "07:00",
          "07:10",
          "07:20",
          "07:30",
          "07:40",
          "07:50",
          "08:00",
          "08:10",
          "08:20",
          "08:30",
          "08:40",
          "08:50",
          "09:00",
          "09:10",
          "09:20",
          "09:30",
          "09:40",
          "09:50",
          "10:00",
          "10:10",
          "10:20",
          "10:30",
          "10:40",
          "10:50",
          "11:00",
          "11:10",
          "11:20",
          "11:30",
          "11:40",
          "11:50",
          "12:00",
          "12:10",
          "12:20",
          "12:30",
          "12:40",
          "12:50",
          "13:00",
          "13:10",
          "13:20",
          "13:30",
          "13:40",
          "13:50",
          "14:00",
          "14:10",
          "14:20",
          "14:30",
          "14:40",
          "14:50",
          "15:00",
          "15:10",
          "15:20",
          "15:30",
          "15:40",
          "15:50",
          "16:00",
          "16:10",
          "16:20",
          "16:30",
          "16:40",
          "16:50",
          "17:00",
          "17:10",
          "17:20",
          "17:30",
          "17:40",
          "17:50",
          "18:00",
          "18:10",
          "18:20",
          "18:30",
          "18:40",
          "18:50",
          "19:00",
          "19:10",
          "19:20",
          "19:30",
          "19:40",
          "19:50",
          "20:00",
          "20:10",
          "20:20",
          "20:30",
          "20:40",
          "20:50",
          "21:00"
         ],
         "y": [
          0,
          0.0013736263736263737,
          0,
          0,
          0,
          0,
          0,
          0,
          0,
          0,
          0,
          0,
          0,
          0.00558659217877095,
          0.009668508287292817,
          0.0013812154696132596,
          0.015193370165745856,
          0.008379888268156424,
          0.006868131868131868,
          0.012640449438202247,
          0.0111731843575419,
          0.007062146892655367,
          0.014970059880239521,
          0.011428571428571429,
          0.009615384615384616,
          0.018633540372670808,
          0.01775147928994083,
          0.02401129943502825,
          0.01675977653631285,
          0.015363128491620111,
          0.011111111111111112,
          0.012640449438202247,
          0.0125,
          0.017955801104972375,
          0.017857142857142856,
          0.0125,
          0.012430939226519336,
          0.008287292817679558,
          0.013888888888888888,
          0.008287292817679558,
          0.008241758241758242,
          0.013736263736263736,
          0.011049723756906077,
          0.014285714285714285,
          0.015277777777777777,
          0.012362637362637362,
          0.00847457627118644,
          0.009615384615384616,
          0.01510989010989011,
          0.011494252873563218,
          0.016483516483516484,
          0.015193370165745856,
          0.013888888888888888,
          0.024725274725274724,
          0.029005524861878452,
          0.017857142857142856,
          0.016666666666666666,
          0.024725274725274724,
          0.02361111111111111,
          0.031767955801104975,
          0.017955801104972375,
          0.008287292817679558,
          0.022099447513812154,
          0.031767955801104975,
          0.0260989010989011,
          0.03314917127071823,
          0.028846153846153848,
          0.027472527472527472,
          0.03983516483516483,
          0.01510989010989011,
          0.017955801104972375,
          0.023351648351648352,
          0.028846153846153848,
          0.013736263736263736,
          0.0260989010989011,
          0.01510989010989011,
          0.01098901098901099,
          0.01098901098901099,
          0.013736263736263736,
          0.006868131868131868,
          0.005494505494505495,
          0.006868131868131868,
          0.006868131868131868,
          0,
          0.0027472527472527475,
          0.0013736263736263737,
          0,
          0,
          0,
          0,
          0,
          0
         ]
        },
        {
         "line": {
          "width": 5
         },
         "marker": {
          "color": "Blue",
          "size": 10
         },
         "mode": "lines",
         "name": "2022",
         "type": "scatter",
         "x": [
          "00:00",
          "06:00",
          "06:10",
          "06:20",
          "06:30",
          "06:40",
          "06:50",
          "07:00",
          "07:10",
          "07:20",
          "07:30",
          "07:40",
          "07:50",
          "08:00",
          "08:10",
          "08:20",
          "08:30",
          "08:40",
          "08:50",
          "09:00",
          "09:10",
          "09:20",
          "09:30",
          "09:40",
          "09:50",
          "10:00",
          "10:10",
          "10:20",
          "10:30",
          "10:40",
          "10:50",
          "11:00",
          "11:10",
          "11:20",
          "11:30",
          "11:40",
          "11:50",
          "12:00",
          "12:10",
          "12:20",
          "12:30",
          "12:40",
          "12:50",
          "13:00",
          "13:10",
          "13:20",
          "13:30",
          "13:40",
          "13:50",
          "14:00",
          "14:10",
          "14:20",
          "14:30",
          "14:40",
          "14:50",
          "15:00",
          "15:10",
          "15:20",
          "15:30",
          "15:40",
          "15:50",
          "16:00",
          "16:10",
          "16:20",
          "16:30",
          "16:40",
          "16:50",
          "17:00",
          "17:10",
          "17:20",
          "17:30",
          "17:40",
          "17:50",
          "18:00",
          "18:10",
          "18:20",
          "18:30",
          "18:40",
          "18:50",
          "19:00",
          "19:10",
          "19:20",
          "19:30",
          "19:40",
          "19:50",
          "20:00",
          "20:10",
          "20:20",
          "20:30",
          "20:40",
          "20:50",
          "21:00"
         ],
         "y": [
          0.0011904761904761906,
          0,
          0,
          0.0011682242990654205,
          0,
          0,
          0,
          0,
          0,
          0,
          0,
          0.002347417840375587,
          0.0035046728971962616,
          0.0023584905660377358,
          0,
          0.0023584905660377358,
          0.00589622641509434,
          0.005868544600938967,
          0.007009345794392523,
          0.015258215962441314,
          0.007075471698113208,
          0.011961722488038277,
          0.010416666666666666,
          0.013033175355450236,
          0.011904761904761904,
          0.007894736842105263,
          0.013546798029556651,
          0.01056338028169014,
          0.01061320754716981,
          0.0047169811320754715,
          0.00589622641509434,
          0.013221153846153846,
          0.012910798122065728,
          0.004672897196261682,
          0.005868544600938967,
          0.003537735849056604,
          0.005841121495327103,
          0.009569377990430622,
          0.00589622641509434,
          0.002347417840375587,
          0.0035211267605633804,
          0,
          0.0035046728971962616,
          0.009708737864077669,
          0.016587677725118485,
          0.011848341232227487,
          0.016826923076923076,
          0.015258215962441314,
          0.01179245283018868,
          0.018134715025906734,
          0.004739336492890996,
          0.016355140186915886,
          0.009389671361502348,
          0.007042253521126761,
          0.015186915887850467,
          0.01179245283018868,
          0.01650943396226415,
          0.017523364485981307,
          0.011737089201877934,
          0.004672897196261682,
          0.005868544600938967,
          0.01995305164319249,
          0.009389671361502348,
          0.005841121495327103,
          0.011737089201877934,
          0.011682242990654205,
          0.005841121495327103,
          0.02112676056338028,
          0.003537735849056604,
          0.009345794392523364,
          0.017605633802816902,
          0.008177570093457943,
          0.0011682242990654205,
          0.005841121495327103,
          0.0035046728971962616,
          0.0035046728971962616,
          0.002336448598130841,
          0.0035046728971962616,
          0,
          0,
          0,
          0.0011682242990654205,
          0.0011682242990654205,
          0,
          0,
          0.002336448598130841,
          0,
          0,
          0,
          0,
          0,
          0
         ]
        },
        {
         "marker": {
          "color": "Green",
          "size": 10
         },
         "mode": "markers",
         "name": "Höchste Auslastung 2021",
         "type": "scatter",
         "x": [
          "17:10"
         ],
         "y": [
          0.03983516483516483
         ]
        },
        {
         "marker": {
          "color": "Orange",
          "size": 10
         },
         "mode": "markers",
         "name": "Geringste Auslastung 2021",
         "type": "scatter",
         "x": [
          "00:00"
         ],
         "y": [
          0
         ]
        },
        {
         "marker": {
          "color": "Red",
          "size": 10
         },
         "mode": "markers",
         "name": "Höchste Auslastung 2022",
         "type": "scatter",
         "x": [
          "17:00"
         ],
         "y": [
          0.02112676056338028
         ]
        },
        {
         "marker": {
          "color": "Purple",
          "size": 10
         },
         "mode": "markers",
         "name": "Geringste Auslastung 2022",
         "type": "scatter",
         "x": [
          "06:00"
         ],
         "y": [
          0
         ]
        }
       ],
       "layout": {
        "font": {
         "size": 25
        },
        "template": {
         "data": {
          "bar": [
           {
            "error_x": {
             "color": "#2a3f5f"
            },
            "error_y": {
             "color": "#2a3f5f"
            },
            "marker": {
             "line": {
              "color": "#E5ECF6",
              "width": 0.5
             },
             "pattern": {
              "fillmode": "overlay",
              "size": 10,
              "solidity": 0.2
             }
            },
            "type": "bar"
           }
          ],
          "barpolar": [
           {
            "marker": {
             "line": {
              "color": "#E5ECF6",
              "width": 0.5
             },
             "pattern": {
              "fillmode": "overlay",
              "size": 10,
              "solidity": 0.2
             }
            },
            "type": "barpolar"
           }
          ],
          "carpet": [
           {
            "aaxis": {
             "endlinecolor": "#2a3f5f",
             "gridcolor": "white",
             "linecolor": "white",
             "minorgridcolor": "white",
             "startlinecolor": "#2a3f5f"
            },
            "baxis": {
             "endlinecolor": "#2a3f5f",
             "gridcolor": "white",
             "linecolor": "white",
             "minorgridcolor": "white",
             "startlinecolor": "#2a3f5f"
            },
            "type": "carpet"
           }
          ],
          "choropleth": [
           {
            "colorbar": {
             "outlinewidth": 0,
             "ticks": ""
            },
            "type": "choropleth"
           }
          ],
          "contour": [
           {
            "colorbar": {
             "outlinewidth": 0,
             "ticks": ""
            },
            "colorscale": [
             [
              0,
              "#0d0887"
             ],
             [
              0.1111111111111111,
              "#46039f"
             ],
             [
              0.2222222222222222,
              "#7201a8"
             ],
             [
              0.3333333333333333,
              "#9c179e"
             ],
             [
              0.4444444444444444,
              "#bd3786"
             ],
             [
              0.5555555555555556,
              "#d8576b"
             ],
             [
              0.6666666666666666,
              "#ed7953"
             ],
             [
              0.7777777777777778,
              "#fb9f3a"
             ],
             [
              0.8888888888888888,
              "#fdca26"
             ],
             [
              1,
              "#f0f921"
             ]
            ],
            "type": "contour"
           }
          ],
          "contourcarpet": [
           {
            "colorbar": {
             "outlinewidth": 0,
             "ticks": ""
            },
            "type": "contourcarpet"
           }
          ],
          "heatmap": [
           {
            "colorbar": {
             "outlinewidth": 0,
             "ticks": ""
            },
            "colorscale": [
             [
              0,
              "#0d0887"
             ],
             [
              0.1111111111111111,
              "#46039f"
             ],
             [
              0.2222222222222222,
              "#7201a8"
             ],
             [
              0.3333333333333333,
              "#9c179e"
             ],
             [
              0.4444444444444444,
              "#bd3786"
             ],
             [
              0.5555555555555556,
              "#d8576b"
             ],
             [
              0.6666666666666666,
              "#ed7953"
             ],
             [
              0.7777777777777778,
              "#fb9f3a"
             ],
             [
              0.8888888888888888,
              "#fdca26"
             ],
             [
              1,
              "#f0f921"
             ]
            ],
            "type": "heatmap"
           }
          ],
          "heatmapgl": [
           {
            "colorbar": {
             "outlinewidth": 0,
             "ticks": ""
            },
            "colorscale": [
             [
              0,
              "#0d0887"
             ],
             [
              0.1111111111111111,
              "#46039f"
             ],
             [
              0.2222222222222222,
              "#7201a8"
             ],
             [
              0.3333333333333333,
              "#9c179e"
             ],
             [
              0.4444444444444444,
              "#bd3786"
             ],
             [
              0.5555555555555556,
              "#d8576b"
             ],
             [
              0.6666666666666666,
              "#ed7953"
             ],
             [
              0.7777777777777778,
              "#fb9f3a"
             ],
             [
              0.8888888888888888,
              "#fdca26"
             ],
             [
              1,
              "#f0f921"
             ]
            ],
            "type": "heatmapgl"
           }
          ],
          "histogram": [
           {
            "marker": {
             "pattern": {
              "fillmode": "overlay",
              "size": 10,
              "solidity": 0.2
             }
            },
            "type": "histogram"
           }
          ],
          "histogram2d": [
           {
            "colorbar": {
             "outlinewidth": 0,
             "ticks": ""
            },
            "colorscale": [
             [
              0,
              "#0d0887"
             ],
             [
              0.1111111111111111,
              "#46039f"
             ],
             [
              0.2222222222222222,
              "#7201a8"
             ],
             [
              0.3333333333333333,
              "#9c179e"
             ],
             [
              0.4444444444444444,
              "#bd3786"
             ],
             [
              0.5555555555555556,
              "#d8576b"
             ],
             [
              0.6666666666666666,
              "#ed7953"
             ],
             [
              0.7777777777777778,
              "#fb9f3a"
             ],
             [
              0.8888888888888888,
              "#fdca26"
             ],
             [
              1,
              "#f0f921"
             ]
            ],
            "type": "histogram2d"
           }
          ],
          "histogram2dcontour": [
           {
            "colorbar": {
             "outlinewidth": 0,
             "ticks": ""
            },
            "colorscale": [
             [
              0,
              "#0d0887"
             ],
             [
              0.1111111111111111,
              "#46039f"
             ],
             [
              0.2222222222222222,
              "#7201a8"
             ],
             [
              0.3333333333333333,
              "#9c179e"
             ],
             [
              0.4444444444444444,
              "#bd3786"
             ],
             [
              0.5555555555555556,
              "#d8576b"
             ],
             [
              0.6666666666666666,
              "#ed7953"
             ],
             [
              0.7777777777777778,
              "#fb9f3a"
             ],
             [
              0.8888888888888888,
              "#fdca26"
             ],
             [
              1,
              "#f0f921"
             ]
            ],
            "type": "histogram2dcontour"
           }
          ],
          "mesh3d": [
           {
            "colorbar": {
             "outlinewidth": 0,
             "ticks": ""
            },
            "type": "mesh3d"
           }
          ],
          "parcoords": [
           {
            "line": {
             "colorbar": {
              "outlinewidth": 0,
              "ticks": ""
             }
            },
            "type": "parcoords"
           }
          ],
          "pie": [
           {
            "automargin": true,
            "type": "pie"
           }
          ],
          "scatter": [
           {
            "fillpattern": {
             "fillmode": "overlay",
             "size": 10,
             "solidity": 0.2
            },
            "type": "scatter"
           }
          ],
          "scatter3d": [
           {
            "line": {
             "colorbar": {
              "outlinewidth": 0,
              "ticks": ""
             }
            },
            "marker": {
             "colorbar": {
              "outlinewidth": 0,
              "ticks": ""
             }
            },
            "type": "scatter3d"
           }
          ],
          "scattercarpet": [
           {
            "marker": {
             "colorbar": {
              "outlinewidth": 0,
              "ticks": ""
             }
            },
            "type": "scattercarpet"
           }
          ],
          "scattergeo": [
           {
            "marker": {
             "colorbar": {
              "outlinewidth": 0,
              "ticks": ""
             }
            },
            "type": "scattergeo"
           }
          ],
          "scattergl": [
           {
            "marker": {
             "colorbar": {
              "outlinewidth": 0,
              "ticks": ""
             }
            },
            "type": "scattergl"
           }
          ],
          "scattermapbox": [
           {
            "marker": {
             "colorbar": {
              "outlinewidth": 0,
              "ticks": ""
             }
            },
            "type": "scattermapbox"
           }
          ],
          "scatterpolar": [
           {
            "marker": {
             "colorbar": {
              "outlinewidth": 0,
              "ticks": ""
             }
            },
            "type": "scatterpolar"
           }
          ],
          "scatterpolargl": [
           {
            "marker": {
             "colorbar": {
              "outlinewidth": 0,
              "ticks": ""
             }
            },
            "type": "scatterpolargl"
           }
          ],
          "scatterternary": [
           {
            "marker": {
             "colorbar": {
              "outlinewidth": 0,
              "ticks": ""
             }
            },
            "type": "scatterternary"
           }
          ],
          "surface": [
           {
            "colorbar": {
             "outlinewidth": 0,
             "ticks": ""
            },
            "colorscale": [
             [
              0,
              "#0d0887"
             ],
             [
              0.1111111111111111,
              "#46039f"
             ],
             [
              0.2222222222222222,
              "#7201a8"
             ],
             [
              0.3333333333333333,
              "#9c179e"
             ],
             [
              0.4444444444444444,
              "#bd3786"
             ],
             [
              0.5555555555555556,
              "#d8576b"
             ],
             [
              0.6666666666666666,
              "#ed7953"
             ],
             [
              0.7777777777777778,
              "#fb9f3a"
             ],
             [
              0.8888888888888888,
              "#fdca26"
             ],
             [
              1,
              "#f0f921"
             ]
            ],
            "type": "surface"
           }
          ],
          "table": [
           {
            "cells": {
             "fill": {
              "color": "#EBF0F8"
             },
             "line": {
              "color": "white"
             }
            },
            "header": {
             "fill": {
              "color": "#C8D4E3"
             },
             "line": {
              "color": "white"
             }
            },
            "type": "table"
           }
          ]
         },
         "layout": {
          "annotationdefaults": {
           "arrowcolor": "#2a3f5f",
           "arrowhead": 0,
           "arrowwidth": 1
          },
          "autotypenumbers": "strict",
          "coloraxis": {
           "colorbar": {
            "outlinewidth": 0,
            "ticks": ""
           }
          },
          "colorscale": {
           "diverging": [
            [
             0,
             "#8e0152"
            ],
            [
             0.1,
             "#c51b7d"
            ],
            [
             0.2,
             "#de77ae"
            ],
            [
             0.3,
             "#f1b6da"
            ],
            [
             0.4,
             "#fde0ef"
            ],
            [
             0.5,
             "#f7f7f7"
            ],
            [
             0.6,
             "#e6f5d0"
            ],
            [
             0.7,
             "#b8e186"
            ],
            [
             0.8,
             "#7fbc41"
            ],
            [
             0.9,
             "#4d9221"
            ],
            [
             1,
             "#276419"
            ]
           ],
           "sequential": [
            [
             0,
             "#0d0887"
            ],
            [
             0.1111111111111111,
             "#46039f"
            ],
            [
             0.2222222222222222,
             "#7201a8"
            ],
            [
             0.3333333333333333,
             "#9c179e"
            ],
            [
             0.4444444444444444,
             "#bd3786"
            ],
            [
             0.5555555555555556,
             "#d8576b"
            ],
            [
             0.6666666666666666,
             "#ed7953"
            ],
            [
             0.7777777777777778,
             "#fb9f3a"
            ],
            [
             0.8888888888888888,
             "#fdca26"
            ],
            [
             1,
             "#f0f921"
            ]
           ],
           "sequentialminus": [
            [
             0,
             "#0d0887"
            ],
            [
             0.1111111111111111,
             "#46039f"
            ],
            [
             0.2222222222222222,
             "#7201a8"
            ],
            [
             0.3333333333333333,
             "#9c179e"
            ],
            [
             0.4444444444444444,
             "#bd3786"
            ],
            [
             0.5555555555555556,
             "#d8576b"
            ],
            [
             0.6666666666666666,
             "#ed7953"
            ],
            [
             0.7777777777777778,
             "#fb9f3a"
            ],
            [
             0.8888888888888888,
             "#fdca26"
            ],
            [
             1,
             "#f0f921"
            ]
           ]
          },
          "colorway": [
           "#636efa",
           "#EF553B",
           "#00cc96",
           "#ab63fa",
           "#FFA15A",
           "#19d3f3",
           "#FF6692",
           "#B6E880",
           "#FF97FF",
           "#FECB52"
          ],
          "font": {
           "color": "#2a3f5f"
          },
          "geo": {
           "bgcolor": "white",
           "lakecolor": "white",
           "landcolor": "#E5ECF6",
           "showlakes": true,
           "showland": true,
           "subunitcolor": "white"
          },
          "hoverlabel": {
           "align": "left"
          },
          "hovermode": "closest",
          "mapbox": {
           "style": "light"
          },
          "paper_bgcolor": "white",
          "plot_bgcolor": "#E5ECF6",
          "polar": {
           "angularaxis": {
            "gridcolor": "white",
            "linecolor": "white",
            "ticks": ""
           },
           "bgcolor": "#E5ECF6",
           "radialaxis": {
            "gridcolor": "white",
            "linecolor": "white",
            "ticks": ""
           }
          },
          "scene": {
           "xaxis": {
            "backgroundcolor": "#E5ECF6",
            "gridcolor": "white",
            "gridwidth": 2,
            "linecolor": "white",
            "showbackground": true,
            "ticks": "",
            "zerolinecolor": "white"
           },
           "yaxis": {
            "backgroundcolor": "#E5ECF6",
            "gridcolor": "white",
            "gridwidth": 2,
            "linecolor": "white",
            "showbackground": true,
            "ticks": "",
            "zerolinecolor": "white"
           },
           "zaxis": {
            "backgroundcolor": "#E5ECF6",
            "gridcolor": "white",
            "gridwidth": 2,
            "linecolor": "white",
            "showbackground": true,
            "ticks": "",
            "zerolinecolor": "white"
           }
          },
          "shapedefaults": {
           "line": {
            "color": "#2a3f5f"
           }
          },
          "ternary": {
           "aaxis": {
            "gridcolor": "white",
            "linecolor": "white",
            "ticks": ""
           },
           "baxis": {
            "gridcolor": "white",
            "linecolor": "white",
            "ticks": ""
           },
           "bgcolor": "#E5ECF6",
           "caxis": {
            "gridcolor": "white",
            "linecolor": "white",
            "ticks": ""
           }
          },
          "title": {
           "x": 0.05
          },
          "xaxis": {
           "automargin": true,
           "gridcolor": "white",
           "linecolor": "white",
           "ticks": "",
           "title": {
            "standoff": 15
           },
           "zerolinecolor": "white",
           "zerolinewidth": 2
          },
          "yaxis": {
           "automargin": true,
           "gridcolor": "white",
           "linecolor": "white",
           "ticks": "",
           "title": {
            "standoff": 15
           },
           "zerolinecolor": "white",
           "zerolinewidth": 2
          }
         }
        },
        "title": {
         "text": "Auslastung GC Kronberg Auslastung MGL Jugend in % pro Startzeit für 2021 und 2022"
        },
        "width": 1600,
        "yaxis": {
         "tickformat": ",.0%"
        }
       }
      }
     },
     "metadata": {},
     "output_type": "display_data"
    },
    {
     "data": {
      "application/vnd.plotly.v1+json": {
       "config": {
        "plotlyServerURL": "https://plot.ly"
       },
       "data": [
        {
         "line": {
          "width": 5
         },
         "marker": {
          "color": "Red",
          "size": 10
         },
         "mode": "lines",
         "name": "2021",
         "type": "scatter",
         "x": [
          "00:00",
          "06:00",
          "06:10",
          "06:20",
          "06:30",
          "06:40",
          "06:50",
          "07:00",
          "07:10",
          "07:20",
          "07:30",
          "07:40",
          "07:50",
          "08:00",
          "08:10",
          "08:20",
          "08:30",
          "08:40",
          "08:50",
          "09:00",
          "09:10",
          "09:20",
          "09:30",
          "09:40",
          "09:50",
          "10:00",
          "10:10",
          "10:20",
          "10:30",
          "10:40",
          "10:50",
          "11:00",
          "11:10",
          "11:20",
          "11:30",
          "11:40",
          "11:50",
          "12:00",
          "12:10",
          "12:20",
          "12:30",
          "12:40",
          "12:50",
          "13:00",
          "13:10",
          "13:20",
          "13:30",
          "13:40",
          "13:50",
          "14:00",
          "14:10",
          "14:20",
          "14:30",
          "14:40",
          "14:50",
          "15:00",
          "15:10",
          "15:20",
          "15:30",
          "15:40",
          "15:50",
          "16:00",
          "16:10",
          "16:20",
          "16:30",
          "16:40",
          "16:50",
          "17:00",
          "17:10",
          "17:20",
          "17:30",
          "17:40",
          "17:50",
          "18:00",
          "18:10",
          "18:20",
          "18:30",
          "18:40",
          "18:50",
          "19:00",
          "19:10",
          "19:20",
          "19:30",
          "19:40",
          "19:50",
          "20:00",
          "20:10",
          "20:20",
          "20:30",
          "20:40",
          "20:50",
          "21:00"
         ],
         "y": [
          0,
          0.0013736263736263737,
          0.0013736263736263737,
          0,
          0,
          0,
          0,
          0,
          0,
          0,
          0.004120879120879121,
          0.005494505494505495,
          0.0027472527472527475,
          0.006983240223463687,
          0.013812154696132596,
          0.008287292817679558,
          0.012430939226519336,
          0.002793296089385475,
          0.005494505494505495,
          0.01544943820224719,
          0.013966480446927373,
          0.009887005649717515,
          0.010479041916167664,
          0.014285714285714285,
          0.008241758241758242,
          0.023291925465838508,
          0.01775147928994083,
          0.018361581920903956,
          0.0111731843575419,
          0.013966480446927373,
          0.005555555555555556,
          0.011235955056179775,
          0.004166666666666667,
          0.008287292817679558,
          0.01098901098901099,
          0.006944444444444444,
          0.016574585635359115,
          0.015193370165745856,
          0.008333333333333333,
          0.012430939226519336,
          0.017857142857142856,
          0.02197802197802198,
          0.013812154696132596,
          0.012857142857142857,
          0.016666666666666666,
          0.006868131868131868,
          0.031073446327683617,
          0.008241758241758242,
          0.019230769230769232,
          0.010057471264367816,
          0.019230769230769232,
          0.016574585635359115,
          0.027777777777777776,
          0.017857142857142856,
          0.015193370165745856,
          0.016483516483516484,
          0.0125,
          0.017857142857142856,
          0.009722222222222222,
          0.029005524861878452,
          0.03038674033149171,
          0.029005524861878452,
          0.03591160220994475,
          0.04143646408839779,
          0.019230769230769232,
          0.03729281767955801,
          0.020604395604395604,
          0.020604395604395604,
          0.023351648351648352,
          0.012362637362637362,
          0.027624309392265192,
          0.03296703296703297,
          0.019230769230769232,
          0.0260989010989011,
          0.01510989010989011,
          0.016483516483516484,
          0.02197802197802198,
          0.013736263736263736,
          0.009615384615384616,
          0.017857142857142856,
          0.005494505494505495,
          0.019230769230769232,
          0.02197802197802198,
          0.004120879120879121,
          0.0013736263736263737,
          0.004120879120879121,
          0.004120879120879121,
          0,
          0,
          0,
          0,
          0
         ]
        },
        {
         "line": {
          "width": 5
         },
         "marker": {
          "color": "Blue",
          "size": 10
         },
         "mode": "lines",
         "name": "2022",
         "type": "scatter",
         "x": [
          "00:00",
          "06:00",
          "06:10",
          "06:20",
          "06:30",
          "06:40",
          "06:50",
          "07:00",
          "07:10",
          "07:20",
          "07:30",
          "07:40",
          "07:50",
          "08:00",
          "08:10",
          "08:20",
          "08:30",
          "08:40",
          "08:50",
          "09:00",
          "09:10",
          "09:20",
          "09:30",
          "09:40",
          "09:50",
          "10:00",
          "10:10",
          "10:20",
          "10:30",
          "10:40",
          "10:50",
          "11:00",
          "11:10",
          "11:20",
          "11:30",
          "11:40",
          "11:50",
          "12:00",
          "12:10",
          "12:20",
          "12:30",
          "12:40",
          "12:50",
          "13:00",
          "13:10",
          "13:20",
          "13:30",
          "13:40",
          "13:50",
          "14:00",
          "14:10",
          "14:20",
          "14:30",
          "14:40",
          "14:50",
          "15:00",
          "15:10",
          "15:20",
          "15:30",
          "15:40",
          "15:50",
          "16:00",
          "16:10",
          "16:20",
          "16:30",
          "16:40",
          "16:50",
          "17:00",
          "17:10",
          "17:20",
          "17:30",
          "17:40",
          "17:50",
          "18:00",
          "18:10",
          "18:20",
          "18:30",
          "18:40",
          "18:50",
          "19:00",
          "19:10",
          "19:20",
          "19:30",
          "19:40",
          "19:50",
          "20:00",
          "20:10",
          "20:20",
          "20:30",
          "20:40",
          "20:50",
          "21:00"
         ],
         "y": [
          0.0011904761904761906,
          0.002336448598130841,
          0,
          0.0011682242990654205,
          0,
          0,
          0,
          0,
          0,
          0,
          0.005841121495327103,
          0,
          0.0011682242990654205,
          0.00589622641509434,
          0,
          0.0023584905660377358,
          0.007075471698113208,
          0.002347417840375587,
          0.004672897196261682,
          0.011737089201877934,
          0.007075471698113208,
          0.0035885167464114833,
          0.005208333333333333,
          0.008293838862559242,
          0.004761904761904762,
          0.009210526315789473,
          0.0049261083743842365,
          0.004694835680751174,
          0.007075471698113208,
          0.0047169811320754715,
          0.01061320754716981,
          0.009615384615384616,
          0.0011737089201877935,
          0.002336448598130841,
          0.009389671361502348,
          0.01179245283018868,
          0.005841121495327103,
          0.0023923444976076554,
          0.007075471698113208,
          0.008215962441314555,
          0.002347417840375587,
          0.0035211267605633804,
          0.005841121495327103,
          0.012135922330097087,
          0.008293838862559242,
          0.008293838862559242,
          0.008413461538461538,
          0.005868544600938967,
          0.007075471698113208,
          0.011658031088082901,
          0.008293838862559242,
          0.008177570093457943,
          0.005868544600938967,
          0.009389671361502348,
          0.009345794392523364,
          0.008254716981132075,
          0.015330188679245283,
          0.008177570093457943,
          0.01643192488262911,
          0.0035046728971962616,
          0.007042253521126761,
          0.012910798122065728,
          0.008215962441314555,
          0.002336448598130841,
          0.022300469483568074,
          0.0011682242990654205,
          0.014018691588785047,
          0.014084507042253521,
          0.00589622641509434,
          0.004672897196261682,
          0.007042253521126761,
          0.010514018691588784,
          0.0035046728971962616,
          0.008177570093457943,
          0.002336448598130841,
          0.004672897196261682,
          0.002336448598130841,
          0.007009345794392523,
          0.002336448598130841,
          0.0035046728971962616,
          0.0011682242990654205,
          0.0011682242990654205,
          0,
          0,
          0,
          0,
          0,
          0,
          0,
          0,
          0,
          0
         ]
        },
        {
         "marker": {
          "color": "Green",
          "size": 10
         },
         "mode": "markers",
         "name": "Höchste Auslastung 2021",
         "type": "scatter",
         "x": [
          "16:20"
         ],
         "y": [
          0.04143646408839779
         ]
        },
        {
         "marker": {
          "color": "Orange",
          "size": 10
         },
         "mode": "markers",
         "name": "Geringste Auslastung 2021",
         "type": "scatter",
         "x": [
          "00:00"
         ],
         "y": [
          0
         ]
        },
        {
         "marker": {
          "color": "Red",
          "size": 10
         },
         "mode": "markers",
         "name": "Höchste Auslastung 2022",
         "type": "scatter",
         "x": [
          "16:30"
         ],
         "y": [
          0.022300469483568074
         ]
        },
        {
         "marker": {
          "color": "Purple",
          "size": 10
         },
         "mode": "markers",
         "name": "Geringste Auslastung 2022",
         "type": "scatter",
         "x": [
          "06:10"
         ],
         "y": [
          0
         ]
        }
       ],
       "layout": {
        "font": {
         "size": 25
        },
        "template": {
         "data": {
          "bar": [
           {
            "error_x": {
             "color": "#2a3f5f"
            },
            "error_y": {
             "color": "#2a3f5f"
            },
            "marker": {
             "line": {
              "color": "#E5ECF6",
              "width": 0.5
             },
             "pattern": {
              "fillmode": "overlay",
              "size": 10,
              "solidity": 0.2
             }
            },
            "type": "bar"
           }
          ],
          "barpolar": [
           {
            "marker": {
             "line": {
              "color": "#E5ECF6",
              "width": 0.5
             },
             "pattern": {
              "fillmode": "overlay",
              "size": 10,
              "solidity": 0.2
             }
            },
            "type": "barpolar"
           }
          ],
          "carpet": [
           {
            "aaxis": {
             "endlinecolor": "#2a3f5f",
             "gridcolor": "white",
             "linecolor": "white",
             "minorgridcolor": "white",
             "startlinecolor": "#2a3f5f"
            },
            "baxis": {
             "endlinecolor": "#2a3f5f",
             "gridcolor": "white",
             "linecolor": "white",
             "minorgridcolor": "white",
             "startlinecolor": "#2a3f5f"
            },
            "type": "carpet"
           }
          ],
          "choropleth": [
           {
            "colorbar": {
             "outlinewidth": 0,
             "ticks": ""
            },
            "type": "choropleth"
           }
          ],
          "contour": [
           {
            "colorbar": {
             "outlinewidth": 0,
             "ticks": ""
            },
            "colorscale": [
             [
              0,
              "#0d0887"
             ],
             [
              0.1111111111111111,
              "#46039f"
             ],
             [
              0.2222222222222222,
              "#7201a8"
             ],
             [
              0.3333333333333333,
              "#9c179e"
             ],
             [
              0.4444444444444444,
              "#bd3786"
             ],
             [
              0.5555555555555556,
              "#d8576b"
             ],
             [
              0.6666666666666666,
              "#ed7953"
             ],
             [
              0.7777777777777778,
              "#fb9f3a"
             ],
             [
              0.8888888888888888,
              "#fdca26"
             ],
             [
              1,
              "#f0f921"
             ]
            ],
            "type": "contour"
           }
          ],
          "contourcarpet": [
           {
            "colorbar": {
             "outlinewidth": 0,
             "ticks": ""
            },
            "type": "contourcarpet"
           }
          ],
          "heatmap": [
           {
            "colorbar": {
             "outlinewidth": 0,
             "ticks": ""
            },
            "colorscale": [
             [
              0,
              "#0d0887"
             ],
             [
              0.1111111111111111,
              "#46039f"
             ],
             [
              0.2222222222222222,
              "#7201a8"
             ],
             [
              0.3333333333333333,
              "#9c179e"
             ],
             [
              0.4444444444444444,
              "#bd3786"
             ],
             [
              0.5555555555555556,
              "#d8576b"
             ],
             [
              0.6666666666666666,
              "#ed7953"
             ],
             [
              0.7777777777777778,
              "#fb9f3a"
             ],
             [
              0.8888888888888888,
              "#fdca26"
             ],
             [
              1,
              "#f0f921"
             ]
            ],
            "type": "heatmap"
           }
          ],
          "heatmapgl": [
           {
            "colorbar": {
             "outlinewidth": 0,
             "ticks": ""
            },
            "colorscale": [
             [
              0,
              "#0d0887"
             ],
             [
              0.1111111111111111,
              "#46039f"
             ],
             [
              0.2222222222222222,
              "#7201a8"
             ],
             [
              0.3333333333333333,
              "#9c179e"
             ],
             [
              0.4444444444444444,
              "#bd3786"
             ],
             [
              0.5555555555555556,
              "#d8576b"
             ],
             [
              0.6666666666666666,
              "#ed7953"
             ],
             [
              0.7777777777777778,
              "#fb9f3a"
             ],
             [
              0.8888888888888888,
              "#fdca26"
             ],
             [
              1,
              "#f0f921"
             ]
            ],
            "type": "heatmapgl"
           }
          ],
          "histogram": [
           {
            "marker": {
             "pattern": {
              "fillmode": "overlay",
              "size": 10,
              "solidity": 0.2
             }
            },
            "type": "histogram"
           }
          ],
          "histogram2d": [
           {
            "colorbar": {
             "outlinewidth": 0,
             "ticks": ""
            },
            "colorscale": [
             [
              0,
              "#0d0887"
             ],
             [
              0.1111111111111111,
              "#46039f"
             ],
             [
              0.2222222222222222,
              "#7201a8"
             ],
             [
              0.3333333333333333,
              "#9c179e"
             ],
             [
              0.4444444444444444,
              "#bd3786"
             ],
             [
              0.5555555555555556,
              "#d8576b"
             ],
             [
              0.6666666666666666,
              "#ed7953"
             ],
             [
              0.7777777777777778,
              "#fb9f3a"
             ],
             [
              0.8888888888888888,
              "#fdca26"
             ],
             [
              1,
              "#f0f921"
             ]
            ],
            "type": "histogram2d"
           }
          ],
          "histogram2dcontour": [
           {
            "colorbar": {
             "outlinewidth": 0,
             "ticks": ""
            },
            "colorscale": [
             [
              0,
              "#0d0887"
             ],
             [
              0.1111111111111111,
              "#46039f"
             ],
             [
              0.2222222222222222,
              "#7201a8"
             ],
             [
              0.3333333333333333,
              "#9c179e"
             ],
             [
              0.4444444444444444,
              "#bd3786"
             ],
             [
              0.5555555555555556,
              "#d8576b"
             ],
             [
              0.6666666666666666,
              "#ed7953"
             ],
             [
              0.7777777777777778,
              "#fb9f3a"
             ],
             [
              0.8888888888888888,
              "#fdca26"
             ],
             [
              1,
              "#f0f921"
             ]
            ],
            "type": "histogram2dcontour"
           }
          ],
          "mesh3d": [
           {
            "colorbar": {
             "outlinewidth": 0,
             "ticks": ""
            },
            "type": "mesh3d"
           }
          ],
          "parcoords": [
           {
            "line": {
             "colorbar": {
              "outlinewidth": 0,
              "ticks": ""
             }
            },
            "type": "parcoords"
           }
          ],
          "pie": [
           {
            "automargin": true,
            "type": "pie"
           }
          ],
          "scatter": [
           {
            "fillpattern": {
             "fillmode": "overlay",
             "size": 10,
             "solidity": 0.2
            },
            "type": "scatter"
           }
          ],
          "scatter3d": [
           {
            "line": {
             "colorbar": {
              "outlinewidth": 0,
              "ticks": ""
             }
            },
            "marker": {
             "colorbar": {
              "outlinewidth": 0,
              "ticks": ""
             }
            },
            "type": "scatter3d"
           }
          ],
          "scattercarpet": [
           {
            "marker": {
             "colorbar": {
              "outlinewidth": 0,
              "ticks": ""
             }
            },
            "type": "scattercarpet"
           }
          ],
          "scattergeo": [
           {
            "marker": {
             "colorbar": {
              "outlinewidth": 0,
              "ticks": ""
             }
            },
            "type": "scattergeo"
           }
          ],
          "scattergl": [
           {
            "marker": {
             "colorbar": {
              "outlinewidth": 0,
              "ticks": ""
             }
            },
            "type": "scattergl"
           }
          ],
          "scattermapbox": [
           {
            "marker": {
             "colorbar": {
              "outlinewidth": 0,
              "ticks": ""
             }
            },
            "type": "scattermapbox"
           }
          ],
          "scatterpolar": [
           {
            "marker": {
             "colorbar": {
              "outlinewidth": 0,
              "ticks": ""
             }
            },
            "type": "scatterpolar"
           }
          ],
          "scatterpolargl": [
           {
            "marker": {
             "colorbar": {
              "outlinewidth": 0,
              "ticks": ""
             }
            },
            "type": "scatterpolargl"
           }
          ],
          "scatterternary": [
           {
            "marker": {
             "colorbar": {
              "outlinewidth": 0,
              "ticks": ""
             }
            },
            "type": "scatterternary"
           }
          ],
          "surface": [
           {
            "colorbar": {
             "outlinewidth": 0,
             "ticks": ""
            },
            "colorscale": [
             [
              0,
              "#0d0887"
             ],
             [
              0.1111111111111111,
              "#46039f"
             ],
             [
              0.2222222222222222,
              "#7201a8"
             ],
             [
              0.3333333333333333,
              "#9c179e"
             ],
             [
              0.4444444444444444,
              "#bd3786"
             ],
             [
              0.5555555555555556,
              "#d8576b"
             ],
             [
              0.6666666666666666,
              "#ed7953"
             ],
             [
              0.7777777777777778,
              "#fb9f3a"
             ],
             [
              0.8888888888888888,
              "#fdca26"
             ],
             [
              1,
              "#f0f921"
             ]
            ],
            "type": "surface"
           }
          ],
          "table": [
           {
            "cells": {
             "fill": {
              "color": "#EBF0F8"
             },
             "line": {
              "color": "white"
             }
            },
            "header": {
             "fill": {
              "color": "#C8D4E3"
             },
             "line": {
              "color": "white"
             }
            },
            "type": "table"
           }
          ]
         },
         "layout": {
          "annotationdefaults": {
           "arrowcolor": "#2a3f5f",
           "arrowhead": 0,
           "arrowwidth": 1
          },
          "autotypenumbers": "strict",
          "coloraxis": {
           "colorbar": {
            "outlinewidth": 0,
            "ticks": ""
           }
          },
          "colorscale": {
           "diverging": [
            [
             0,
             "#8e0152"
            ],
            [
             0.1,
             "#c51b7d"
            ],
            [
             0.2,
             "#de77ae"
            ],
            [
             0.3,
             "#f1b6da"
            ],
            [
             0.4,
             "#fde0ef"
            ],
            [
             0.5,
             "#f7f7f7"
            ],
            [
             0.6,
             "#e6f5d0"
            ],
            [
             0.7,
             "#b8e186"
            ],
            [
             0.8,
             "#7fbc41"
            ],
            [
             0.9,
             "#4d9221"
            ],
            [
             1,
             "#276419"
            ]
           ],
           "sequential": [
            [
             0,
             "#0d0887"
            ],
            [
             0.1111111111111111,
             "#46039f"
            ],
            [
             0.2222222222222222,
             "#7201a8"
            ],
            [
             0.3333333333333333,
             "#9c179e"
            ],
            [
             0.4444444444444444,
             "#bd3786"
            ],
            [
             0.5555555555555556,
             "#d8576b"
            ],
            [
             0.6666666666666666,
             "#ed7953"
            ],
            [
             0.7777777777777778,
             "#fb9f3a"
            ],
            [
             0.8888888888888888,
             "#fdca26"
            ],
            [
             1,
             "#f0f921"
            ]
           ],
           "sequentialminus": [
            [
             0,
             "#0d0887"
            ],
            [
             0.1111111111111111,
             "#46039f"
            ],
            [
             0.2222222222222222,
             "#7201a8"
            ],
            [
             0.3333333333333333,
             "#9c179e"
            ],
            [
             0.4444444444444444,
             "#bd3786"
            ],
            [
             0.5555555555555556,
             "#d8576b"
            ],
            [
             0.6666666666666666,
             "#ed7953"
            ],
            [
             0.7777777777777778,
             "#fb9f3a"
            ],
            [
             0.8888888888888888,
             "#fdca26"
            ],
            [
             1,
             "#f0f921"
            ]
           ]
          },
          "colorway": [
           "#636efa",
           "#EF553B",
           "#00cc96",
           "#ab63fa",
           "#FFA15A",
           "#19d3f3",
           "#FF6692",
           "#B6E880",
           "#FF97FF",
           "#FECB52"
          ],
          "font": {
           "color": "#2a3f5f"
          },
          "geo": {
           "bgcolor": "white",
           "lakecolor": "white",
           "landcolor": "#E5ECF6",
           "showlakes": true,
           "showland": true,
           "subunitcolor": "white"
          },
          "hoverlabel": {
           "align": "left"
          },
          "hovermode": "closest",
          "mapbox": {
           "style": "light"
          },
          "paper_bgcolor": "white",
          "plot_bgcolor": "#E5ECF6",
          "polar": {
           "angularaxis": {
            "gridcolor": "white",
            "linecolor": "white",
            "ticks": ""
           },
           "bgcolor": "#E5ECF6",
           "radialaxis": {
            "gridcolor": "white",
            "linecolor": "white",
            "ticks": ""
           }
          },
          "scene": {
           "xaxis": {
            "backgroundcolor": "#E5ECF6",
            "gridcolor": "white",
            "gridwidth": 2,
            "linecolor": "white",
            "showbackground": true,
            "ticks": "",
            "zerolinecolor": "white"
           },
           "yaxis": {
            "backgroundcolor": "#E5ECF6",
            "gridcolor": "white",
            "gridwidth": 2,
            "linecolor": "white",
            "showbackground": true,
            "ticks": "",
            "zerolinecolor": "white"
           },
           "zaxis": {
            "backgroundcolor": "#E5ECF6",
            "gridcolor": "white",
            "gridwidth": 2,
            "linecolor": "white",
            "showbackground": true,
            "ticks": "",
            "zerolinecolor": "white"
           }
          },
          "shapedefaults": {
           "line": {
            "color": "#2a3f5f"
           }
          },
          "ternary": {
           "aaxis": {
            "gridcolor": "white",
            "linecolor": "white",
            "ticks": ""
           },
           "baxis": {
            "gridcolor": "white",
            "linecolor": "white",
            "ticks": ""
           },
           "bgcolor": "#E5ECF6",
           "caxis": {
            "gridcolor": "white",
            "linecolor": "white",
            "ticks": ""
           }
          },
          "title": {
           "x": 0.05
          },
          "xaxis": {
           "automargin": true,
           "gridcolor": "white",
           "linecolor": "white",
           "ticks": "",
           "title": {
            "standoff": 15
           },
           "zerolinecolor": "white",
           "zerolinewidth": 2
          },
          "yaxis": {
           "automargin": true,
           "gridcolor": "white",
           "linecolor": "white",
           "ticks": "",
           "title": {
            "standoff": 15
           },
           "zerolinecolor": "white",
           "zerolinewidth": 2
          }
         }
        },
        "title": {
         "text": "Auslastung GC Kronberg Auslastung MGL 18-40 in % pro Startzeit für 2021 und 2022"
        },
        "width": 1600,
        "yaxis": {
         "tickformat": ",.0%"
        }
       }
      }
     },
     "metadata": {},
     "output_type": "display_data"
    },
    {
     "data": {
      "application/vnd.plotly.v1+json": {
       "config": {
        "plotlyServerURL": "https://plot.ly"
       },
       "data": [
        {
         "line": {
          "width": 5
         },
         "marker": {
          "color": "Red",
          "size": 10
         },
         "mode": "lines",
         "name": "2021",
         "type": "scatter",
         "x": [
          "00:00",
          "06:00",
          "06:10",
          "06:20",
          "06:30",
          "06:40",
          "06:50",
          "07:00",
          "07:10",
          "07:20",
          "07:30",
          "07:40",
          "07:50",
          "08:00",
          "08:10",
          "08:20",
          "08:30",
          "08:40",
          "08:50",
          "09:00",
          "09:10",
          "09:20",
          "09:30",
          "09:40",
          "09:50",
          "10:00",
          "10:10",
          "10:20",
          "10:30",
          "10:40",
          "10:50",
          "11:00",
          "11:10",
          "11:20",
          "11:30",
          "11:40",
          "11:50",
          "12:00",
          "12:10",
          "12:20",
          "12:30",
          "12:40",
          "12:50",
          "13:00",
          "13:10",
          "13:20",
          "13:30",
          "13:40",
          "13:50",
          "14:00",
          "14:10",
          "14:20",
          "14:30",
          "14:40",
          "14:50",
          "15:00",
          "15:10",
          "15:20",
          "15:30",
          "15:40",
          "15:50",
          "16:00",
          "16:10",
          "16:20",
          "16:30",
          "16:40",
          "16:50",
          "17:00",
          "17:10",
          "17:20",
          "17:30",
          "17:40",
          "17:50",
          "18:00",
          "18:10",
          "18:20",
          "18:30",
          "18:40",
          "18:50",
          "19:00",
          "19:10",
          "19:20",
          "19:30",
          "19:40",
          "19:50",
          "20:00",
          "20:10",
          "20:20",
          "20:30",
          "20:40",
          "20:50",
          "21:00"
         ],
         "y": [
          0,
          0,
          0.004120879120879121,
          0.0260989010989011,
          0,
          0,
          0,
          0,
          0,
          0,
          0.03021978021978022,
          0.02197802197802198,
          0.008241758241758242,
          0.023743016759776536,
          0.011049723756906077,
          0.015193370165745856,
          0.023480662983425413,
          0.013966480446927373,
          0.013736263736263736,
          0.028089887640449437,
          0.006983240223463687,
          0.011299435028248588,
          0.023952095808383235,
          0.02857142857142857,
          0.020604395604395604,
          0.012422360248447204,
          0.011834319526627219,
          0.01977401129943503,
          0.01675977653631285,
          0.009776536312849162,
          0.011111111111111112,
          0.009831460674157303,
          0.015277777777777777,
          0.006906077348066298,
          0.01098901098901099,
          0.013888888888888888,
          0.006906077348066298,
          0.0055248618784530384,
          0.013888888888888888,
          0.008287292817679558,
          0.01098901098901099,
          0.0027472527472527475,
          0.006906077348066298,
          0.015714285714285715,
          0.013888888888888888,
          0.006868131868131868,
          0.00423728813559322,
          0.0013736263736263737,
          0.009615384615384616,
          0.008620689655172414,
          0.016483516483516484,
          0.016574585635359115,
          0.004166666666666667,
          0.012362637362637362,
          0.015193370165745856,
          0.009615384615384616,
          0.019444444444444445,
          0.01510989010989011,
          0.022222222222222223,
          0.017955801104972375,
          0.017955801104972375,
          0.020718232044198894,
          0.016574585635359115,
          0.027624309392265192,
          0.03571428571428571,
          0.027624309392265192,
          0.016483516483516484,
          0.03571428571428571,
          0.024725274725274724,
          0.024725274725274724,
          0.024861878453038673,
          0.016483516483516484,
          0.02197802197802198,
          0.02197802197802198,
          0.023351648351648352,
          0.01098901098901099,
          0.03021978021978022,
          0.019230769230769232,
          0.005494505494505495,
          0.013736263736263736,
          0.005494505494505495,
          0.0027472527472527475,
          0.01098901098901099,
          0.005494505494505495,
          0.0013736263736263737,
          0,
          0.0013736263736263737,
          0,
          0,
          0,
          0,
          0
         ]
        },
        {
         "line": {
          "width": 5
         },
         "marker": {
          "color": "Blue",
          "size": 10
         },
         "mode": "lines",
         "name": "2022",
         "type": "scatter",
         "x": [
          "00:00",
          "06:00",
          "06:10",
          "06:20",
          "06:30",
          "06:40",
          "06:50",
          "07:00",
          "07:10",
          "07:20",
          "07:30",
          "07:40",
          "07:50",
          "08:00",
          "08:10",
          "08:20",
          "08:30",
          "08:40",
          "08:50",
          "09:00",
          "09:10",
          "09:20",
          "09:30",
          "09:40",
          "09:50",
          "10:00",
          "10:10",
          "10:20",
          "10:30",
          "10:40",
          "10:50",
          "11:00",
          "11:10",
          "11:20",
          "11:30",
          "11:40",
          "11:50",
          "12:00",
          "12:10",
          "12:20",
          "12:30",
          "12:40",
          "12:50",
          "13:00",
          "13:10",
          "13:20",
          "13:30",
          "13:40",
          "13:50",
          "14:00",
          "14:10",
          "14:20",
          "14:30",
          "14:40",
          "14:50",
          "15:00",
          "15:10",
          "15:20",
          "15:30",
          "15:40",
          "15:50",
          "16:00",
          "16:10",
          "16:20",
          "16:30",
          "16:40",
          "16:50",
          "17:00",
          "17:10",
          "17:20",
          "17:30",
          "17:40",
          "17:50",
          "18:00",
          "18:10",
          "18:20",
          "18:30",
          "18:40",
          "18:50",
          "19:00",
          "19:10",
          "19:20",
          "19:30",
          "19:40",
          "19:50",
          "20:00",
          "20:10",
          "20:20",
          "20:30",
          "20:40",
          "20:50",
          "21:00"
         ],
         "y": [
          0.0011904761904761906,
          0.0011682242990654205,
          0,
          0.009345794392523364,
          0,
          0,
          0,
          0.0011682242990654205,
          0,
          0,
          0.015186915887850467,
          0.005868544600938967,
          0,
          0.0047169811320754715,
          0.0035211267605633804,
          0.003537735849056604,
          0.009433962264150943,
          0.01056338028169014,
          0.008177570093457943,
          0.02699530516431925,
          0.015330188679245283,
          0.019138755980861243,
          0.00390625,
          0.022511848341232227,
          0.007142857142857143,
          0.015789473684210527,
          0.012315270935960592,
          0.009389671361502348,
          0.012971698113207548,
          0.007075471698113208,
          0.01061320754716981,
          0.01201923076923077,
          0.01056338028169014,
          0.016355140186915886,
          0.004694835680751174,
          0.009433962264150943,
          0.010514018691588784,
          0.013157894736842105,
          0.015330188679245283,
          0.005868544600938967,
          0.0011737089201877935,
          0,
          0.004672897196261682,
          0.00849514563106796,
          0.005924170616113744,
          0.004739336492890996,
          0.004807692307692308,
          0.0035211267605633804,
          0.00589622641509434,
          0.009067357512953367,
          0.009478672985781991,
          0.009345794392523364,
          0.011737089201877934,
          0.008215962441314555,
          0.012850467289719626,
          0.014150943396226415,
          0.02358490566037736,
          0.008177570093457943,
          0.012910798122065728,
          0.008177570093457943,
          0.011737089201877934,
          0.012910798122065728,
          0.009389671361502348,
          0.007009345794392523,
          0.01995305164319249,
          0.009345794392523364,
          0.010514018691588784,
          0.02464788732394366,
          0.014150943396226415,
          0.009345794392523364,
          0.012910798122065728,
          0.015186915887850467,
          0.005841121495327103,
          0.008177570093457943,
          0.009345794392523364,
          0.010514018691588784,
          0.011682242990654205,
          0.004672897196261682,
          0.002336448598130841,
          0.004672897196261682,
          0.0035046728971962616,
          0.004672897196261682,
          0.008177570093457943,
          0.0011682242990654205,
          0.002336448598130841,
          0,
          0,
          0,
          0,
          0,
          0,
          0
         ]
        },
        {
         "marker": {
          "color": "Green",
          "size": 10
         },
         "mode": "markers",
         "name": "Höchste Auslastung 2021",
         "type": "scatter",
         "x": [
          "16:30"
         ],
         "y": [
          0.03571428571428571
         ]
        },
        {
         "marker": {
          "color": "Orange",
          "size": 10
         },
         "mode": "markers",
         "name": "Geringste Auslastung 2021",
         "type": "scatter",
         "x": [
          "00:00"
         ],
         "y": [
          0
         ]
        },
        {
         "marker": {
          "color": "Red",
          "size": 10
         },
         "mode": "markers",
         "name": "Höchste Auslastung 2022",
         "type": "scatter",
         "x": [
          "09:00"
         ],
         "y": [
          0.02699530516431925
         ]
        },
        {
         "marker": {
          "color": "Purple",
          "size": 10
         },
         "mode": "markers",
         "name": "Geringste Auslastung 2022",
         "type": "scatter",
         "x": [
          "06:10"
         ],
         "y": [
          0
         ]
        }
       ],
       "layout": {
        "font": {
         "size": 25
        },
        "template": {
         "data": {
          "bar": [
           {
            "error_x": {
             "color": "#2a3f5f"
            },
            "error_y": {
             "color": "#2a3f5f"
            },
            "marker": {
             "line": {
              "color": "#E5ECF6",
              "width": 0.5
             },
             "pattern": {
              "fillmode": "overlay",
              "size": 10,
              "solidity": 0.2
             }
            },
            "type": "bar"
           }
          ],
          "barpolar": [
           {
            "marker": {
             "line": {
              "color": "#E5ECF6",
              "width": 0.5
             },
             "pattern": {
              "fillmode": "overlay",
              "size": 10,
              "solidity": 0.2
             }
            },
            "type": "barpolar"
           }
          ],
          "carpet": [
           {
            "aaxis": {
             "endlinecolor": "#2a3f5f",
             "gridcolor": "white",
             "linecolor": "white",
             "minorgridcolor": "white",
             "startlinecolor": "#2a3f5f"
            },
            "baxis": {
             "endlinecolor": "#2a3f5f",
             "gridcolor": "white",
             "linecolor": "white",
             "minorgridcolor": "white",
             "startlinecolor": "#2a3f5f"
            },
            "type": "carpet"
           }
          ],
          "choropleth": [
           {
            "colorbar": {
             "outlinewidth": 0,
             "ticks": ""
            },
            "type": "choropleth"
           }
          ],
          "contour": [
           {
            "colorbar": {
             "outlinewidth": 0,
             "ticks": ""
            },
            "colorscale": [
             [
              0,
              "#0d0887"
             ],
             [
              0.1111111111111111,
              "#46039f"
             ],
             [
              0.2222222222222222,
              "#7201a8"
             ],
             [
              0.3333333333333333,
              "#9c179e"
             ],
             [
              0.4444444444444444,
              "#bd3786"
             ],
             [
              0.5555555555555556,
              "#d8576b"
             ],
             [
              0.6666666666666666,
              "#ed7953"
             ],
             [
              0.7777777777777778,
              "#fb9f3a"
             ],
             [
              0.8888888888888888,
              "#fdca26"
             ],
             [
              1,
              "#f0f921"
             ]
            ],
            "type": "contour"
           }
          ],
          "contourcarpet": [
           {
            "colorbar": {
             "outlinewidth": 0,
             "ticks": ""
            },
            "type": "contourcarpet"
           }
          ],
          "heatmap": [
           {
            "colorbar": {
             "outlinewidth": 0,
             "ticks": ""
            },
            "colorscale": [
             [
              0,
              "#0d0887"
             ],
             [
              0.1111111111111111,
              "#46039f"
             ],
             [
              0.2222222222222222,
              "#7201a8"
             ],
             [
              0.3333333333333333,
              "#9c179e"
             ],
             [
              0.4444444444444444,
              "#bd3786"
             ],
             [
              0.5555555555555556,
              "#d8576b"
             ],
             [
              0.6666666666666666,
              "#ed7953"
             ],
             [
              0.7777777777777778,
              "#fb9f3a"
             ],
             [
              0.8888888888888888,
              "#fdca26"
             ],
             [
              1,
              "#f0f921"
             ]
            ],
            "type": "heatmap"
           }
          ],
          "heatmapgl": [
           {
            "colorbar": {
             "outlinewidth": 0,
             "ticks": ""
            },
            "colorscale": [
             [
              0,
              "#0d0887"
             ],
             [
              0.1111111111111111,
              "#46039f"
             ],
             [
              0.2222222222222222,
              "#7201a8"
             ],
             [
              0.3333333333333333,
              "#9c179e"
             ],
             [
              0.4444444444444444,
              "#bd3786"
             ],
             [
              0.5555555555555556,
              "#d8576b"
             ],
             [
              0.6666666666666666,
              "#ed7953"
             ],
             [
              0.7777777777777778,
              "#fb9f3a"
             ],
             [
              0.8888888888888888,
              "#fdca26"
             ],
             [
              1,
              "#f0f921"
             ]
            ],
            "type": "heatmapgl"
           }
          ],
          "histogram": [
           {
            "marker": {
             "pattern": {
              "fillmode": "overlay",
              "size": 10,
              "solidity": 0.2
             }
            },
            "type": "histogram"
           }
          ],
          "histogram2d": [
           {
            "colorbar": {
             "outlinewidth": 0,
             "ticks": ""
            },
            "colorscale": [
             [
              0,
              "#0d0887"
             ],
             [
              0.1111111111111111,
              "#46039f"
             ],
             [
              0.2222222222222222,
              "#7201a8"
             ],
             [
              0.3333333333333333,
              "#9c179e"
             ],
             [
              0.4444444444444444,
              "#bd3786"
             ],
             [
              0.5555555555555556,
              "#d8576b"
             ],
             [
              0.6666666666666666,
              "#ed7953"
             ],
             [
              0.7777777777777778,
              "#fb9f3a"
             ],
             [
              0.8888888888888888,
              "#fdca26"
             ],
             [
              1,
              "#f0f921"
             ]
            ],
            "type": "histogram2d"
           }
          ],
          "histogram2dcontour": [
           {
            "colorbar": {
             "outlinewidth": 0,
             "ticks": ""
            },
            "colorscale": [
             [
              0,
              "#0d0887"
             ],
             [
              0.1111111111111111,
              "#46039f"
             ],
             [
              0.2222222222222222,
              "#7201a8"
             ],
             [
              0.3333333333333333,
              "#9c179e"
             ],
             [
              0.4444444444444444,
              "#bd3786"
             ],
             [
              0.5555555555555556,
              "#d8576b"
             ],
             [
              0.6666666666666666,
              "#ed7953"
             ],
             [
              0.7777777777777778,
              "#fb9f3a"
             ],
             [
              0.8888888888888888,
              "#fdca26"
             ],
             [
              1,
              "#f0f921"
             ]
            ],
            "type": "histogram2dcontour"
           }
          ],
          "mesh3d": [
           {
            "colorbar": {
             "outlinewidth": 0,
             "ticks": ""
            },
            "type": "mesh3d"
           }
          ],
          "parcoords": [
           {
            "line": {
             "colorbar": {
              "outlinewidth": 0,
              "ticks": ""
             }
            },
            "type": "parcoords"
           }
          ],
          "pie": [
           {
            "automargin": true,
            "type": "pie"
           }
          ],
          "scatter": [
           {
            "fillpattern": {
             "fillmode": "overlay",
             "size": 10,
             "solidity": 0.2
            },
            "type": "scatter"
           }
          ],
          "scatter3d": [
           {
            "line": {
             "colorbar": {
              "outlinewidth": 0,
              "ticks": ""
             }
            },
            "marker": {
             "colorbar": {
              "outlinewidth": 0,
              "ticks": ""
             }
            },
            "type": "scatter3d"
           }
          ],
          "scattercarpet": [
           {
            "marker": {
             "colorbar": {
              "outlinewidth": 0,
              "ticks": ""
             }
            },
            "type": "scattercarpet"
           }
          ],
          "scattergeo": [
           {
            "marker": {
             "colorbar": {
              "outlinewidth": 0,
              "ticks": ""
             }
            },
            "type": "scattergeo"
           }
          ],
          "scattergl": [
           {
            "marker": {
             "colorbar": {
              "outlinewidth": 0,
              "ticks": ""
             }
            },
            "type": "scattergl"
           }
          ],
          "scattermapbox": [
           {
            "marker": {
             "colorbar": {
              "outlinewidth": 0,
              "ticks": ""
             }
            },
            "type": "scattermapbox"
           }
          ],
          "scatterpolar": [
           {
            "marker": {
             "colorbar": {
              "outlinewidth": 0,
              "ticks": ""
             }
            },
            "type": "scatterpolar"
           }
          ],
          "scatterpolargl": [
           {
            "marker": {
             "colorbar": {
              "outlinewidth": 0,
              "ticks": ""
             }
            },
            "type": "scatterpolargl"
           }
          ],
          "scatterternary": [
           {
            "marker": {
             "colorbar": {
              "outlinewidth": 0,
              "ticks": ""
             }
            },
            "type": "scatterternary"
           }
          ],
          "surface": [
           {
            "colorbar": {
             "outlinewidth": 0,
             "ticks": ""
            },
            "colorscale": [
             [
              0,
              "#0d0887"
             ],
             [
              0.1111111111111111,
              "#46039f"
             ],
             [
              0.2222222222222222,
              "#7201a8"
             ],
             [
              0.3333333333333333,
              "#9c179e"
             ],
             [
              0.4444444444444444,
              "#bd3786"
             ],
             [
              0.5555555555555556,
              "#d8576b"
             ],
             [
              0.6666666666666666,
              "#ed7953"
             ],
             [
              0.7777777777777778,
              "#fb9f3a"
             ],
             [
              0.8888888888888888,
              "#fdca26"
             ],
             [
              1,
              "#f0f921"
             ]
            ],
            "type": "surface"
           }
          ],
          "table": [
           {
            "cells": {
             "fill": {
              "color": "#EBF0F8"
             },
             "line": {
              "color": "white"
             }
            },
            "header": {
             "fill": {
              "color": "#C8D4E3"
             },
             "line": {
              "color": "white"
             }
            },
            "type": "table"
           }
          ]
         },
         "layout": {
          "annotationdefaults": {
           "arrowcolor": "#2a3f5f",
           "arrowhead": 0,
           "arrowwidth": 1
          },
          "autotypenumbers": "strict",
          "coloraxis": {
           "colorbar": {
            "outlinewidth": 0,
            "ticks": ""
           }
          },
          "colorscale": {
           "diverging": [
            [
             0,
             "#8e0152"
            ],
            [
             0.1,
             "#c51b7d"
            ],
            [
             0.2,
             "#de77ae"
            ],
            [
             0.3,
             "#f1b6da"
            ],
            [
             0.4,
             "#fde0ef"
            ],
            [
             0.5,
             "#f7f7f7"
            ],
            [
             0.6,
             "#e6f5d0"
            ],
            [
             0.7,
             "#b8e186"
            ],
            [
             0.8,
             "#7fbc41"
            ],
            [
             0.9,
             "#4d9221"
            ],
            [
             1,
             "#276419"
            ]
           ],
           "sequential": [
            [
             0,
             "#0d0887"
            ],
            [
             0.1111111111111111,
             "#46039f"
            ],
            [
             0.2222222222222222,
             "#7201a8"
            ],
            [
             0.3333333333333333,
             "#9c179e"
            ],
            [
             0.4444444444444444,
             "#bd3786"
            ],
            [
             0.5555555555555556,
             "#d8576b"
            ],
            [
             0.6666666666666666,
             "#ed7953"
            ],
            [
             0.7777777777777778,
             "#fb9f3a"
            ],
            [
             0.8888888888888888,
             "#fdca26"
            ],
            [
             1,
             "#f0f921"
            ]
           ],
           "sequentialminus": [
            [
             0,
             "#0d0887"
            ],
            [
             0.1111111111111111,
             "#46039f"
            ],
            [
             0.2222222222222222,
             "#7201a8"
            ],
            [
             0.3333333333333333,
             "#9c179e"
            ],
            [
             0.4444444444444444,
             "#bd3786"
            ],
            [
             0.5555555555555556,
             "#d8576b"
            ],
            [
             0.6666666666666666,
             "#ed7953"
            ],
            [
             0.7777777777777778,
             "#fb9f3a"
            ],
            [
             0.8888888888888888,
             "#fdca26"
            ],
            [
             1,
             "#f0f921"
            ]
           ]
          },
          "colorway": [
           "#636efa",
           "#EF553B",
           "#00cc96",
           "#ab63fa",
           "#FFA15A",
           "#19d3f3",
           "#FF6692",
           "#B6E880",
           "#FF97FF",
           "#FECB52"
          ],
          "font": {
           "color": "#2a3f5f"
          },
          "geo": {
           "bgcolor": "white",
           "lakecolor": "white",
           "landcolor": "#E5ECF6",
           "showlakes": true,
           "showland": true,
           "subunitcolor": "white"
          },
          "hoverlabel": {
           "align": "left"
          },
          "hovermode": "closest",
          "mapbox": {
           "style": "light"
          },
          "paper_bgcolor": "white",
          "plot_bgcolor": "#E5ECF6",
          "polar": {
           "angularaxis": {
            "gridcolor": "white",
            "linecolor": "white",
            "ticks": ""
           },
           "bgcolor": "#E5ECF6",
           "radialaxis": {
            "gridcolor": "white",
            "linecolor": "white",
            "ticks": ""
           }
          },
          "scene": {
           "xaxis": {
            "backgroundcolor": "#E5ECF6",
            "gridcolor": "white",
            "gridwidth": 2,
            "linecolor": "white",
            "showbackground": true,
            "ticks": "",
            "zerolinecolor": "white"
           },
           "yaxis": {
            "backgroundcolor": "#E5ECF6",
            "gridcolor": "white",
            "gridwidth": 2,
            "linecolor": "white",
            "showbackground": true,
            "ticks": "",
            "zerolinecolor": "white"
           },
           "zaxis": {
            "backgroundcolor": "#E5ECF6",
            "gridcolor": "white",
            "gridwidth": 2,
            "linecolor": "white",
            "showbackground": true,
            "ticks": "",
            "zerolinecolor": "white"
           }
          },
          "shapedefaults": {
           "line": {
            "color": "#2a3f5f"
           }
          },
          "ternary": {
           "aaxis": {
            "gridcolor": "white",
            "linecolor": "white",
            "ticks": ""
           },
           "baxis": {
            "gridcolor": "white",
            "linecolor": "white",
            "ticks": ""
           },
           "bgcolor": "#E5ECF6",
           "caxis": {
            "gridcolor": "white",
            "linecolor": "white",
            "ticks": ""
           }
          },
          "title": {
           "x": 0.05
          },
          "xaxis": {
           "automargin": true,
           "gridcolor": "white",
           "linecolor": "white",
           "ticks": "",
           "title": {
            "standoff": 15
           },
           "zerolinecolor": "white",
           "zerolinewidth": 2
          },
          "yaxis": {
           "automargin": true,
           "gridcolor": "white",
           "linecolor": "white",
           "ticks": "",
           "title": {
            "standoff": 15
           },
           "zerolinecolor": "white",
           "zerolinewidth": 2
          }
         }
        },
        "title": {
         "text": "Auslastung GC Kronberg Auslastung MGL 40-50 in % pro Startzeit für 2021 und 2022"
        },
        "width": 1600,
        "yaxis": {
         "tickformat": ",.0%"
        }
       }
      }
     },
     "metadata": {},
     "output_type": "display_data"
    },
    {
     "data": {
      "application/vnd.plotly.v1+json": {
       "config": {
        "plotlyServerURL": "https://plot.ly"
       },
       "data": [
        {
         "line": {
          "width": 5
         },
         "marker": {
          "color": "Red",
          "size": 10
         },
         "mode": "lines",
         "name": "2021",
         "type": "scatter",
         "x": [
          "00:00",
          "06:00",
          "06:10",
          "06:20",
          "06:30",
          "06:40",
          "06:50",
          "07:00",
          "07:10",
          "07:20",
          "07:30",
          "07:40",
          "07:50",
          "08:00",
          "08:10",
          "08:20",
          "08:30",
          "08:40",
          "08:50",
          "09:00",
          "09:10",
          "09:20",
          "09:30",
          "09:40",
          "09:50",
          "10:00",
          "10:10",
          "10:20",
          "10:30",
          "10:40",
          "10:50",
          "11:00",
          "11:10",
          "11:20",
          "11:30",
          "11:40",
          "11:50",
          "12:00",
          "12:10",
          "12:20",
          "12:30",
          "12:40",
          "12:50",
          "13:00",
          "13:10",
          "13:20",
          "13:30",
          "13:40",
          "13:50",
          "14:00",
          "14:10",
          "14:20",
          "14:30",
          "14:40",
          "14:50",
          "15:00",
          "15:10",
          "15:20",
          "15:30",
          "15:40",
          "15:50",
          "16:00",
          "16:10",
          "16:20",
          "16:30",
          "16:40",
          "16:50",
          "17:00",
          "17:10",
          "17:20",
          "17:30",
          "17:40",
          "17:50",
          "18:00",
          "18:10",
          "18:20",
          "18:30",
          "18:40",
          "18:50",
          "19:00",
          "19:10",
          "19:20",
          "19:30",
          "19:40",
          "19:50",
          "20:00",
          "20:10",
          "20:20",
          "20:30",
          "20:40",
          "20:50",
          "21:00"
         ],
         "y": [
          0.004143646408839779,
          0.017857142857142856,
          0.012362637362637362,
          0.04532967032967033,
          0,
          0,
          0,
          0,
          0,
          0.005494505494505495,
          0.050824175824175824,
          0.038461538461538464,
          0.054945054945054944,
          0.04748603351955307,
          0.03867403314917127,
          0.04143646408839779,
          0.04696132596685083,
          0.040502793296089384,
          0.03983516483516483,
          0.0702247191011236,
          0.046089385474860335,
          0.05084745762711865,
          0.061377245508982034,
          0.054285714285714284,
          0.07280219780219781,
          0.06366459627329192,
          0.034023668639053255,
          0.046610169491525424,
          0.036312849162011177,
          0.03212290502793296,
          0.03333333333333333,
          0.04915730337078652,
          0.03888888888888889,
          0.05662983425414365,
          0.04807692307692308,
          0.04583333333333333,
          0.052486187845303865,
          0.049723756906077346,
          0.03611111111111111,
          0.04143646408839779,
          0.06043956043956044,
          0.05357142857142857,
          0.049723756906077346,
          0.04857142857142857,
          0.06944444444444445,
          0.0521978021978022,
          0.0635593220338983,
          0.050824175824175824,
          0.061813186813186816,
          0.05172413793103448,
          0.07142857142857142,
          0.06906077348066299,
          0.06527777777777778,
          0.059065934065934064,
          0.07044198895027624,
          0.09203296703296704,
          0.06666666666666667,
          0.08928571428571429,
          0.1111111111111111,
          0.07596685082872928,
          0.07734806629834254,
          0.0925414364640884,
          0.0787292817679558,
          0.06353591160220995,
          0.08379120879120878,
          0.08701657458563536,
          0.07280219780219781,
          0.10027472527472528,
          0.09340659340659341,
          0.07554945054945054,
          0.12016574585635359,
          0.0673076923076923,
          0.05357142857142857,
          0.10164835164835165,
          0.07280219780219781,
          0.04532967032967033,
          0.05357142857142857,
          0.034340659340659344,
          0.03296703296703297,
          0.04945054945054945,
          0.028846153846153848,
          0.013736263736263736,
          0.020604395604395604,
          0.012362637362637362,
          0.008241758241758242,
          0.006868131868131868,
          0.006868131868131868,
          0.0013736263736263737,
          0,
          0,
          0,
          0
         ]
        },
        {
         "line": {
          "width": 5
         },
         "marker": {
          "color": "Blue",
          "size": 10
         },
         "mode": "lines",
         "name": "2022",
         "type": "scatter",
         "x": [
          "00:00",
          "06:00",
          "06:10",
          "06:20",
          "06:30",
          "06:40",
          "06:50",
          "07:00",
          "07:10",
          "07:20",
          "07:30",
          "07:40",
          "07:50",
          "08:00",
          "08:10",
          "08:20",
          "08:30",
          "08:40",
          "08:50",
          "09:00",
          "09:10",
          "09:20",
          "09:30",
          "09:40",
          "09:50",
          "10:00",
          "10:10",
          "10:20",
          "10:30",
          "10:40",
          "10:50",
          "11:00",
          "11:10",
          "11:20",
          "11:30",
          "11:40",
          "11:50",
          "12:00",
          "12:10",
          "12:20",
          "12:30",
          "12:40",
          "12:50",
          "13:00",
          "13:10",
          "13:20",
          "13:30",
          "13:40",
          "13:50",
          "14:00",
          "14:10",
          "14:20",
          "14:30",
          "14:40",
          "14:50",
          "15:00",
          "15:10",
          "15:20",
          "15:30",
          "15:40",
          "15:50",
          "16:00",
          "16:10",
          "16:20",
          "16:30",
          "16:40",
          "16:50",
          "17:00",
          "17:10",
          "17:20",
          "17:30",
          "17:40",
          "17:50",
          "18:00",
          "18:10",
          "18:20",
          "18:30",
          "18:40",
          "18:50",
          "19:00",
          "19:10",
          "19:20",
          "19:30",
          "19:40",
          "19:50",
          "20:00",
          "20:10",
          "20:20",
          "20:30",
          "20:40",
          "20:50",
          "21:00"
         ],
         "y": [
          0.0035714285714285713,
          0.007009345794392523,
          0.016355140186915886,
          0.053738317757009345,
          0,
          0,
          0,
          0,
          0,
          0,
          0.04088785046728972,
          0.014084507042253521,
          0.02453271028037383,
          0.0294811320754717,
          0.015258215962441314,
          0.01179245283018868,
          0.04245283018867924,
          0.02464788732394366,
          0.03154205607476635,
          0.056338028169014086,
          0.03773584905660377,
          0.039473684210526314,
          0.055989583333333336,
          0.052132701421800945,
          0.02738095238095238,
          0.046052631578947366,
          0.038177339901477834,
          0.029342723004694836,
          0.05306603773584906,
          0.024764150943396228,
          0.03419811320754717,
          0.04567307692307692,
          0.017605633802816902,
          0.029205607476635514,
          0.025821596244131457,
          0.031839622641509434,
          0.035046728971962614,
          0.05263157894736842,
          0.03419811320754717,
          0.028169014084507043,
          0.04812206572769953,
          0.022300469483568074,
          0.029205607476635514,
          0.03519417475728155,
          0.02843601895734597,
          0.031990521327014215,
          0.04447115384615385,
          0.03403755868544601,
          0.060141509433962265,
          0.06347150259067358,
          0.0462085308056872,
          0.038551401869158876,
          0.04460093896713615,
          0.04342723004694836,
          0.035046728971962614,
          0.07665094339622641,
          0.060141509433962265,
          0.038551401869158876,
          0.06455399061032864,
          0.04789719626168224,
          0.03873239436619718,
          0.06807511737089202,
          0.046948356807511735,
          0.05957943925233645,
          0.04929577464788732,
          0.026869158878504672,
          0.03271028037383177,
          0.08098591549295775,
          0.049528301886792456,
          0.038551401869158876,
          0.062206572769953054,
          0.02219626168224299,
          0.02336448598130841,
          0.04789719626168224,
          0.030373831775700934,
          0.026869158878504672,
          0.03387850467289719,
          0.014018691588785047,
          0.002336448598130841,
          0.02336448598130841,
          0.004672897196261682,
          0.005841121495327103,
          0.009345794392523364,
          0.005841121495327103,
          0.002336448598130841,
          0.004672897196261682,
          0,
          0,
          0,
          0,
          0,
          0
         ]
        },
        {
         "marker": {
          "color": "Green",
          "size": 10
         },
         "mode": "markers",
         "name": "Höchste Auslastung 2021",
         "type": "scatter",
         "x": [
          "17:30"
         ],
         "y": [
          0.12016574585635359
         ]
        },
        {
         "marker": {
          "color": "Orange",
          "size": 10
         },
         "mode": "markers",
         "name": "Geringste Auslastung 2021",
         "type": "scatter",
         "x": [
          "06:30"
         ],
         "y": [
          0
         ]
        },
        {
         "marker": {
          "color": "Red",
          "size": 10
         },
         "mode": "markers",
         "name": "Höchste Auslastung 2022",
         "type": "scatter",
         "x": [
          "17:00"
         ],
         "y": [
          0.08098591549295775
         ]
        },
        {
         "marker": {
          "color": "Purple",
          "size": 10
         },
         "mode": "markers",
         "name": "Geringste Auslastung 2022",
         "type": "scatter",
         "x": [
          "06:30"
         ],
         "y": [
          0
         ]
        }
       ],
       "layout": {
        "font": {
         "size": 25
        },
        "template": {
         "data": {
          "bar": [
           {
            "error_x": {
             "color": "#2a3f5f"
            },
            "error_y": {
             "color": "#2a3f5f"
            },
            "marker": {
             "line": {
              "color": "#E5ECF6",
              "width": 0.5
             },
             "pattern": {
              "fillmode": "overlay",
              "size": 10,
              "solidity": 0.2
             }
            },
            "type": "bar"
           }
          ],
          "barpolar": [
           {
            "marker": {
             "line": {
              "color": "#E5ECF6",
              "width": 0.5
             },
             "pattern": {
              "fillmode": "overlay",
              "size": 10,
              "solidity": 0.2
             }
            },
            "type": "barpolar"
           }
          ],
          "carpet": [
           {
            "aaxis": {
             "endlinecolor": "#2a3f5f",
             "gridcolor": "white",
             "linecolor": "white",
             "minorgridcolor": "white",
             "startlinecolor": "#2a3f5f"
            },
            "baxis": {
             "endlinecolor": "#2a3f5f",
             "gridcolor": "white",
             "linecolor": "white",
             "minorgridcolor": "white",
             "startlinecolor": "#2a3f5f"
            },
            "type": "carpet"
           }
          ],
          "choropleth": [
           {
            "colorbar": {
             "outlinewidth": 0,
             "ticks": ""
            },
            "type": "choropleth"
           }
          ],
          "contour": [
           {
            "colorbar": {
             "outlinewidth": 0,
             "ticks": ""
            },
            "colorscale": [
             [
              0,
              "#0d0887"
             ],
             [
              0.1111111111111111,
              "#46039f"
             ],
             [
              0.2222222222222222,
              "#7201a8"
             ],
             [
              0.3333333333333333,
              "#9c179e"
             ],
             [
              0.4444444444444444,
              "#bd3786"
             ],
             [
              0.5555555555555556,
              "#d8576b"
             ],
             [
              0.6666666666666666,
              "#ed7953"
             ],
             [
              0.7777777777777778,
              "#fb9f3a"
             ],
             [
              0.8888888888888888,
              "#fdca26"
             ],
             [
              1,
              "#f0f921"
             ]
            ],
            "type": "contour"
           }
          ],
          "contourcarpet": [
           {
            "colorbar": {
             "outlinewidth": 0,
             "ticks": ""
            },
            "type": "contourcarpet"
           }
          ],
          "heatmap": [
           {
            "colorbar": {
             "outlinewidth": 0,
             "ticks": ""
            },
            "colorscale": [
             [
              0,
              "#0d0887"
             ],
             [
              0.1111111111111111,
              "#46039f"
             ],
             [
              0.2222222222222222,
              "#7201a8"
             ],
             [
              0.3333333333333333,
              "#9c179e"
             ],
             [
              0.4444444444444444,
              "#bd3786"
             ],
             [
              0.5555555555555556,
              "#d8576b"
             ],
             [
              0.6666666666666666,
              "#ed7953"
             ],
             [
              0.7777777777777778,
              "#fb9f3a"
             ],
             [
              0.8888888888888888,
              "#fdca26"
             ],
             [
              1,
              "#f0f921"
             ]
            ],
            "type": "heatmap"
           }
          ],
          "heatmapgl": [
           {
            "colorbar": {
             "outlinewidth": 0,
             "ticks": ""
            },
            "colorscale": [
             [
              0,
              "#0d0887"
             ],
             [
              0.1111111111111111,
              "#46039f"
             ],
             [
              0.2222222222222222,
              "#7201a8"
             ],
             [
              0.3333333333333333,
              "#9c179e"
             ],
             [
              0.4444444444444444,
              "#bd3786"
             ],
             [
              0.5555555555555556,
              "#d8576b"
             ],
             [
              0.6666666666666666,
              "#ed7953"
             ],
             [
              0.7777777777777778,
              "#fb9f3a"
             ],
             [
              0.8888888888888888,
              "#fdca26"
             ],
             [
              1,
              "#f0f921"
             ]
            ],
            "type": "heatmapgl"
           }
          ],
          "histogram": [
           {
            "marker": {
             "pattern": {
              "fillmode": "overlay",
              "size": 10,
              "solidity": 0.2
             }
            },
            "type": "histogram"
           }
          ],
          "histogram2d": [
           {
            "colorbar": {
             "outlinewidth": 0,
             "ticks": ""
            },
            "colorscale": [
             [
              0,
              "#0d0887"
             ],
             [
              0.1111111111111111,
              "#46039f"
             ],
             [
              0.2222222222222222,
              "#7201a8"
             ],
             [
              0.3333333333333333,
              "#9c179e"
             ],
             [
              0.4444444444444444,
              "#bd3786"
             ],
             [
              0.5555555555555556,
              "#d8576b"
             ],
             [
              0.6666666666666666,
              "#ed7953"
             ],
             [
              0.7777777777777778,
              "#fb9f3a"
             ],
             [
              0.8888888888888888,
              "#fdca26"
             ],
             [
              1,
              "#f0f921"
             ]
            ],
            "type": "histogram2d"
           }
          ],
          "histogram2dcontour": [
           {
            "colorbar": {
             "outlinewidth": 0,
             "ticks": ""
            },
            "colorscale": [
             [
              0,
              "#0d0887"
             ],
             [
              0.1111111111111111,
              "#46039f"
             ],
             [
              0.2222222222222222,
              "#7201a8"
             ],
             [
              0.3333333333333333,
              "#9c179e"
             ],
             [
              0.4444444444444444,
              "#bd3786"
             ],
             [
              0.5555555555555556,
              "#d8576b"
             ],
             [
              0.6666666666666666,
              "#ed7953"
             ],
             [
              0.7777777777777778,
              "#fb9f3a"
             ],
             [
              0.8888888888888888,
              "#fdca26"
             ],
             [
              1,
              "#f0f921"
             ]
            ],
            "type": "histogram2dcontour"
           }
          ],
          "mesh3d": [
           {
            "colorbar": {
             "outlinewidth": 0,
             "ticks": ""
            },
            "type": "mesh3d"
           }
          ],
          "parcoords": [
           {
            "line": {
             "colorbar": {
              "outlinewidth": 0,
              "ticks": ""
             }
            },
            "type": "parcoords"
           }
          ],
          "pie": [
           {
            "automargin": true,
            "type": "pie"
           }
          ],
          "scatter": [
           {
            "fillpattern": {
             "fillmode": "overlay",
             "size": 10,
             "solidity": 0.2
            },
            "type": "scatter"
           }
          ],
          "scatter3d": [
           {
            "line": {
             "colorbar": {
              "outlinewidth": 0,
              "ticks": ""
             }
            },
            "marker": {
             "colorbar": {
              "outlinewidth": 0,
              "ticks": ""
             }
            },
            "type": "scatter3d"
           }
          ],
          "scattercarpet": [
           {
            "marker": {
             "colorbar": {
              "outlinewidth": 0,
              "ticks": ""
             }
            },
            "type": "scattercarpet"
           }
          ],
          "scattergeo": [
           {
            "marker": {
             "colorbar": {
              "outlinewidth": 0,
              "ticks": ""
             }
            },
            "type": "scattergeo"
           }
          ],
          "scattergl": [
           {
            "marker": {
             "colorbar": {
              "outlinewidth": 0,
              "ticks": ""
             }
            },
            "type": "scattergl"
           }
          ],
          "scattermapbox": [
           {
            "marker": {
             "colorbar": {
              "outlinewidth": 0,
              "ticks": ""
             }
            },
            "type": "scattermapbox"
           }
          ],
          "scatterpolar": [
           {
            "marker": {
             "colorbar": {
              "outlinewidth": 0,
              "ticks": ""
             }
            },
            "type": "scatterpolar"
           }
          ],
          "scatterpolargl": [
           {
            "marker": {
             "colorbar": {
              "outlinewidth": 0,
              "ticks": ""
             }
            },
            "type": "scatterpolargl"
           }
          ],
          "scatterternary": [
           {
            "marker": {
             "colorbar": {
              "outlinewidth": 0,
              "ticks": ""
             }
            },
            "type": "scatterternary"
           }
          ],
          "surface": [
           {
            "colorbar": {
             "outlinewidth": 0,
             "ticks": ""
            },
            "colorscale": [
             [
              0,
              "#0d0887"
             ],
             [
              0.1111111111111111,
              "#46039f"
             ],
             [
              0.2222222222222222,
              "#7201a8"
             ],
             [
              0.3333333333333333,
              "#9c179e"
             ],
             [
              0.4444444444444444,
              "#bd3786"
             ],
             [
              0.5555555555555556,
              "#d8576b"
             ],
             [
              0.6666666666666666,
              "#ed7953"
             ],
             [
              0.7777777777777778,
              "#fb9f3a"
             ],
             [
              0.8888888888888888,
              "#fdca26"
             ],
             [
              1,
              "#f0f921"
             ]
            ],
            "type": "surface"
           }
          ],
          "table": [
           {
            "cells": {
             "fill": {
              "color": "#EBF0F8"
             },
             "line": {
              "color": "white"
             }
            },
            "header": {
             "fill": {
              "color": "#C8D4E3"
             },
             "line": {
              "color": "white"
             }
            },
            "type": "table"
           }
          ]
         },
         "layout": {
          "annotationdefaults": {
           "arrowcolor": "#2a3f5f",
           "arrowhead": 0,
           "arrowwidth": 1
          },
          "autotypenumbers": "strict",
          "coloraxis": {
           "colorbar": {
            "outlinewidth": 0,
            "ticks": ""
           }
          },
          "colorscale": {
           "diverging": [
            [
             0,
             "#8e0152"
            ],
            [
             0.1,
             "#c51b7d"
            ],
            [
             0.2,
             "#de77ae"
            ],
            [
             0.3,
             "#f1b6da"
            ],
            [
             0.4,
             "#fde0ef"
            ],
            [
             0.5,
             "#f7f7f7"
            ],
            [
             0.6,
             "#e6f5d0"
            ],
            [
             0.7,
             "#b8e186"
            ],
            [
             0.8,
             "#7fbc41"
            ],
            [
             0.9,
             "#4d9221"
            ],
            [
             1,
             "#276419"
            ]
           ],
           "sequential": [
            [
             0,
             "#0d0887"
            ],
            [
             0.1111111111111111,
             "#46039f"
            ],
            [
             0.2222222222222222,
             "#7201a8"
            ],
            [
             0.3333333333333333,
             "#9c179e"
            ],
            [
             0.4444444444444444,
             "#bd3786"
            ],
            [
             0.5555555555555556,
             "#d8576b"
            ],
            [
             0.6666666666666666,
             "#ed7953"
            ],
            [
             0.7777777777777778,
             "#fb9f3a"
            ],
            [
             0.8888888888888888,
             "#fdca26"
            ],
            [
             1,
             "#f0f921"
            ]
           ],
           "sequentialminus": [
            [
             0,
             "#0d0887"
            ],
            [
             0.1111111111111111,
             "#46039f"
            ],
            [
             0.2222222222222222,
             "#7201a8"
            ],
            [
             0.3333333333333333,
             "#9c179e"
            ],
            [
             0.4444444444444444,
             "#bd3786"
            ],
            [
             0.5555555555555556,
             "#d8576b"
            ],
            [
             0.6666666666666666,
             "#ed7953"
            ],
            [
             0.7777777777777778,
             "#fb9f3a"
            ],
            [
             0.8888888888888888,
             "#fdca26"
            ],
            [
             1,
             "#f0f921"
            ]
           ]
          },
          "colorway": [
           "#636efa",
           "#EF553B",
           "#00cc96",
           "#ab63fa",
           "#FFA15A",
           "#19d3f3",
           "#FF6692",
           "#B6E880",
           "#FF97FF",
           "#FECB52"
          ],
          "font": {
           "color": "#2a3f5f"
          },
          "geo": {
           "bgcolor": "white",
           "lakecolor": "white",
           "landcolor": "#E5ECF6",
           "showlakes": true,
           "showland": true,
           "subunitcolor": "white"
          },
          "hoverlabel": {
           "align": "left"
          },
          "hovermode": "closest",
          "mapbox": {
           "style": "light"
          },
          "paper_bgcolor": "white",
          "plot_bgcolor": "#E5ECF6",
          "polar": {
           "angularaxis": {
            "gridcolor": "white",
            "linecolor": "white",
            "ticks": ""
           },
           "bgcolor": "#E5ECF6",
           "radialaxis": {
            "gridcolor": "white",
            "linecolor": "white",
            "ticks": ""
           }
          },
          "scene": {
           "xaxis": {
            "backgroundcolor": "#E5ECF6",
            "gridcolor": "white",
            "gridwidth": 2,
            "linecolor": "white",
            "showbackground": true,
            "ticks": "",
            "zerolinecolor": "white"
           },
           "yaxis": {
            "backgroundcolor": "#E5ECF6",
            "gridcolor": "white",
            "gridwidth": 2,
            "linecolor": "white",
            "showbackground": true,
            "ticks": "",
            "zerolinecolor": "white"
           },
           "zaxis": {
            "backgroundcolor": "#E5ECF6",
            "gridcolor": "white",
            "gridwidth": 2,
            "linecolor": "white",
            "showbackground": true,
            "ticks": "",
            "zerolinecolor": "white"
           }
          },
          "shapedefaults": {
           "line": {
            "color": "#2a3f5f"
           }
          },
          "ternary": {
           "aaxis": {
            "gridcolor": "white",
            "linecolor": "white",
            "ticks": ""
           },
           "baxis": {
            "gridcolor": "white",
            "linecolor": "white",
            "ticks": ""
           },
           "bgcolor": "#E5ECF6",
           "caxis": {
            "gridcolor": "white",
            "linecolor": "white",
            "ticks": ""
           }
          },
          "title": {
           "x": 0.05
          },
          "xaxis": {
           "automargin": true,
           "gridcolor": "white",
           "linecolor": "white",
           "ticks": "",
           "title": {
            "standoff": 15
           },
           "zerolinecolor": "white",
           "zerolinewidth": 2
          },
          "yaxis": {
           "automargin": true,
           "gridcolor": "white",
           "linecolor": "white",
           "ticks": "",
           "title": {
            "standoff": 15
           },
           "zerolinecolor": "white",
           "zerolinewidth": 2
          }
         }
        },
        "title": {
         "text": "Auslastung GC Kronberg Auslastung MGL 50-65 in % pro Startzeit für 2021 und 2022"
        },
        "width": 1600,
        "yaxis": {
         "tickformat": ",.0%"
        }
       }
      }
     },
     "metadata": {},
     "output_type": "display_data"
    },
    {
     "data": {
      "application/vnd.plotly.v1+json": {
       "config": {
        "plotlyServerURL": "https://plot.ly"
       },
       "data": [
        {
         "line": {
          "width": 5
         },
         "marker": {
          "color": "Red",
          "size": 10
         },
         "mode": "lines",
         "name": "2021",
         "type": "scatter",
         "x": [
          "00:00",
          "06:00",
          "06:10",
          "06:20",
          "06:30",
          "06:40",
          "06:50",
          "07:00",
          "07:10",
          "07:20",
          "07:30",
          "07:40",
          "07:50",
          "08:00",
          "08:10",
          "08:20",
          "08:30",
          "08:40",
          "08:50",
          "09:00",
          "09:10",
          "09:20",
          "09:30",
          "09:40",
          "09:50",
          "10:00",
          "10:10",
          "10:20",
          "10:30",
          "10:40",
          "10:50",
          "11:00",
          "11:10",
          "11:20",
          "11:30",
          "11:40",
          "11:50",
          "12:00",
          "12:10",
          "12:20",
          "12:30",
          "12:40",
          "12:50",
          "13:00",
          "13:10",
          "13:20",
          "13:30",
          "13:40",
          "13:50",
          "14:00",
          "14:10",
          "14:20",
          "14:30",
          "14:40",
          "14:50",
          "15:00",
          "15:10",
          "15:20",
          "15:30",
          "15:40",
          "15:50",
          "16:00",
          "16:10",
          "16:20",
          "16:30",
          "16:40",
          "16:50",
          "17:00",
          "17:10",
          "17:20",
          "17:30",
          "17:40",
          "17:50",
          "18:00",
          "18:10",
          "18:20",
          "18:30",
          "18:40",
          "18:50",
          "19:00",
          "19:10",
          "19:20",
          "19:30",
          "19:40",
          "19:50",
          "20:00",
          "20:10",
          "20:20",
          "20:30",
          "20:40",
          "20:50",
          "21:00"
         ],
         "y": [
          0.0055248618784530384,
          0.023351648351648352,
          0.009615384615384616,
          0.016483516483516484,
          0,
          0,
          0,
          0,
          0,
          0,
          0.11538461538461539,
          0.027472527472527472,
          0.054945054945054944,
          0.061452513966480445,
          0.03867403314917127,
          0.03729281767955801,
          0.0649171270718232,
          0.05446927374301676,
          0.054945054945054944,
          0.08567415730337079,
          0.0712290502793296,
          0.07627118644067797,
          0.09580838323353294,
          0.09428571428571429,
          0.11538461538461539,
          0.12577639751552794,
          0.14792899408284024,
          0.10875706214689265,
          0.10474860335195531,
          0.11033519553072625,
          0.11388888888888889,
          0.1853932584269663,
          0.15138888888888888,
          0.13259668508287292,
          0.15247252747252749,
          0.1736111111111111,
          0.13121546961325967,
          0.1505524861878453,
          0.1361111111111111,
          0.106353591160221,
          0.09752747252747253,
          0.08516483516483517,
          0.10220994475138122,
          0.15,
          0.13194444444444445,
          0.16071428571428573,
          0.14548022598870056,
          0.18681318681318682,
          0.1510989010989011,
          0.1839080459770115,
          0.15384615384615385,
          0.12292817679558012,
          0.12916666666666668,
          0.12774725274725274,
          0.0856353591160221,
          0.1401098901098901,
          0.1,
          0.10851648351648352,
          0.10833333333333334,
          0.12016574585635359,
          0.0925414364640884,
          0.1132596685082873,
          0.09668508287292818,
          0.058011049723756904,
          0.10851648351648352,
          0.06906077348066299,
          0.06593406593406594,
          0.09752747252747253,
          0.07005494505494506,
          0.0673076923076923,
          0.03314917127071823,
          0.05357142857142857,
          0.06043956043956044,
          0.03571428571428571,
          0.0260989010989011,
          0.0521978021978022,
          0.04395604395604396,
          0.012362637362637362,
          0.01510989010989011,
          0.013736263736263736,
          0.01098901098901099,
          0.01098901098901099,
          0.005494505494505495,
          0,
          0.0027472527472527475,
          0,
          0,
          0,
          0,
          0,
          0,
          0
         ]
        },
        {
         "line": {
          "width": 5
         },
         "marker": {
          "color": "Blue",
          "size": 10
         },
         "mode": "lines",
         "name": "2022",
         "type": "scatter",
         "x": [
          "00:00",
          "06:00",
          "06:10",
          "06:20",
          "06:30",
          "06:40",
          "06:50",
          "07:00",
          "07:10",
          "07:20",
          "07:30",
          "07:40",
          "07:50",
          "08:00",
          "08:10",
          "08:20",
          "08:30",
          "08:40",
          "08:50",
          "09:00",
          "09:10",
          "09:20",
          "09:30",
          "09:40",
          "09:50",
          "10:00",
          "10:10",
          "10:20",
          "10:30",
          "10:40",
          "10:50",
          "11:00",
          "11:10",
          "11:20",
          "11:30",
          "11:40",
          "11:50",
          "12:00",
          "12:10",
          "12:20",
          "12:30",
          "12:40",
          "12:50",
          "13:00",
          "13:10",
          "13:20",
          "13:30",
          "13:40",
          "13:50",
          "14:00",
          "14:10",
          "14:20",
          "14:30",
          "14:40",
          "14:50",
          "15:00",
          "15:10",
          "15:20",
          "15:30",
          "15:40",
          "15:50",
          "16:00",
          "16:10",
          "16:20",
          "16:30",
          "16:40",
          "16:50",
          "17:00",
          "17:10",
          "17:20",
          "17:30",
          "17:40",
          "17:50",
          "18:00",
          "18:10",
          "18:20",
          "18:30",
          "18:40",
          "18:50",
          "19:00",
          "19:10",
          "19:20",
          "19:30",
          "19:40",
          "19:50",
          "20:00",
          "20:10",
          "20:20",
          "20:30",
          "20:40",
          "20:50",
          "21:00"
         ],
         "y": [
          0.007142857142857143,
          0.015186915887850467,
          0.012850467289719626,
          0.036214953271028034,
          0,
          0,
          0,
          0,
          0,
          0,
          0.053738317757009345,
          0.01995305164319249,
          0.026869158878504672,
          0.0330188679245283,
          0.022300469483568074,
          0.018867924528301886,
          0.0330188679245283,
          0.04107981220657277,
          0.035046728971962614,
          0.05516431924882629,
          0.06132075471698113,
          0.10047846889952153,
          0.1015625,
          0.07582938388625593,
          0.11428571428571428,
          0.1,
          0.12807881773399016,
          0.09272300469483569,
          0.06839622641509434,
          0.05778301886792453,
          0.054245283018867926,
          0.10216346153846154,
          0.10328638497652583,
          0.06425233644859812,
          0.12089201877934272,
          0.09433962264150944,
          0.06191588785046729,
          0.08253588516746412,
          0.06839622641509434,
          0.0528169014084507,
          0.07276995305164319,
          0.05868544600938967,
          0.08294392523364486,
          0.14805825242718446,
          0.11255924170616113,
          0.13270142180094788,
          0.11298076923076923,
          0.11384976525821597,
          0.10377358490566038,
          0.11658031088082901,
          0.08412322274881516,
          0.06658878504672897,
          0.09507042253521127,
          0.0715962441314554,
          0.05023364485981308,
          0.09080188679245282,
          0.04834905660377359,
          0.07359813084112149,
          0.07746478873239436,
          0.05724299065420561,
          0.045774647887323945,
          0.07276995305164319,
          0.07042253521126761,
          0.04439252336448598,
          0.07746478873239436,
          0.04322429906542056,
          0.03271028037383177,
          0.04929577464788732,
          0.03419811320754717,
          0.02336448598130841,
          0.046948356807511735,
          0.026869158878504672,
          0.02453271028037383,
          0.026869158878504672,
          0.01985981308411215,
          0.015186915887850467,
          0.010514018691588784,
          0.007009345794392523,
          0.0011682242990654205,
          0.0011682242990654205,
          0.002336448598130841,
          0.004672897196261682,
          0,
          0.0011682242990654205,
          0.0011682242990654205,
          0,
          0,
          0,
          0,
          0,
          0,
          0
         ]
        },
        {
         "marker": {
          "color": "Green",
          "size": 10
         },
         "mode": "markers",
         "name": "Höchste Auslastung 2021",
         "type": "scatter",
         "x": [
          "13:40"
         ],
         "y": [
          0.18681318681318682
         ]
        },
        {
         "marker": {
          "color": "Orange",
          "size": 10
         },
         "mode": "markers",
         "name": "Geringste Auslastung 2021",
         "type": "scatter",
         "x": [
          "06:30"
         ],
         "y": [
          0
         ]
        },
        {
         "marker": {
          "color": "Red",
          "size": 10
         },
         "mode": "markers",
         "name": "Höchste Auslastung 2022",
         "type": "scatter",
         "x": [
          "13:00"
         ],
         "y": [
          0.14805825242718446
         ]
        },
        {
         "marker": {
          "color": "Purple",
          "size": 10
         },
         "mode": "markers",
         "name": "Geringste Auslastung 2022",
         "type": "scatter",
         "x": [
          "06:30"
         ],
         "y": [
          0
         ]
        }
       ],
       "layout": {
        "font": {
         "size": 25
        },
        "template": {
         "data": {
          "bar": [
           {
            "error_x": {
             "color": "#2a3f5f"
            },
            "error_y": {
             "color": "#2a3f5f"
            },
            "marker": {
             "line": {
              "color": "#E5ECF6",
              "width": 0.5
             },
             "pattern": {
              "fillmode": "overlay",
              "size": 10,
              "solidity": 0.2
             }
            },
            "type": "bar"
           }
          ],
          "barpolar": [
           {
            "marker": {
             "line": {
              "color": "#E5ECF6",
              "width": 0.5
             },
             "pattern": {
              "fillmode": "overlay",
              "size": 10,
              "solidity": 0.2
             }
            },
            "type": "barpolar"
           }
          ],
          "carpet": [
           {
            "aaxis": {
             "endlinecolor": "#2a3f5f",
             "gridcolor": "white",
             "linecolor": "white",
             "minorgridcolor": "white",
             "startlinecolor": "#2a3f5f"
            },
            "baxis": {
             "endlinecolor": "#2a3f5f",
             "gridcolor": "white",
             "linecolor": "white",
             "minorgridcolor": "white",
             "startlinecolor": "#2a3f5f"
            },
            "type": "carpet"
           }
          ],
          "choropleth": [
           {
            "colorbar": {
             "outlinewidth": 0,
             "ticks": ""
            },
            "type": "choropleth"
           }
          ],
          "contour": [
           {
            "colorbar": {
             "outlinewidth": 0,
             "ticks": ""
            },
            "colorscale": [
             [
              0,
              "#0d0887"
             ],
             [
              0.1111111111111111,
              "#46039f"
             ],
             [
              0.2222222222222222,
              "#7201a8"
             ],
             [
              0.3333333333333333,
              "#9c179e"
             ],
             [
              0.4444444444444444,
              "#bd3786"
             ],
             [
              0.5555555555555556,
              "#d8576b"
             ],
             [
              0.6666666666666666,
              "#ed7953"
             ],
             [
              0.7777777777777778,
              "#fb9f3a"
             ],
             [
              0.8888888888888888,
              "#fdca26"
             ],
             [
              1,
              "#f0f921"
             ]
            ],
            "type": "contour"
           }
          ],
          "contourcarpet": [
           {
            "colorbar": {
             "outlinewidth": 0,
             "ticks": ""
            },
            "type": "contourcarpet"
           }
          ],
          "heatmap": [
           {
            "colorbar": {
             "outlinewidth": 0,
             "ticks": ""
            },
            "colorscale": [
             [
              0,
              "#0d0887"
             ],
             [
              0.1111111111111111,
              "#46039f"
             ],
             [
              0.2222222222222222,
              "#7201a8"
             ],
             [
              0.3333333333333333,
              "#9c179e"
             ],
             [
              0.4444444444444444,
              "#bd3786"
             ],
             [
              0.5555555555555556,
              "#d8576b"
             ],
             [
              0.6666666666666666,
              "#ed7953"
             ],
             [
              0.7777777777777778,
              "#fb9f3a"
             ],
             [
              0.8888888888888888,
              "#fdca26"
             ],
             [
              1,
              "#f0f921"
             ]
            ],
            "type": "heatmap"
           }
          ],
          "heatmapgl": [
           {
            "colorbar": {
             "outlinewidth": 0,
             "ticks": ""
            },
            "colorscale": [
             [
              0,
              "#0d0887"
             ],
             [
              0.1111111111111111,
              "#46039f"
             ],
             [
              0.2222222222222222,
              "#7201a8"
             ],
             [
              0.3333333333333333,
              "#9c179e"
             ],
             [
              0.4444444444444444,
              "#bd3786"
             ],
             [
              0.5555555555555556,
              "#d8576b"
             ],
             [
              0.6666666666666666,
              "#ed7953"
             ],
             [
              0.7777777777777778,
              "#fb9f3a"
             ],
             [
              0.8888888888888888,
              "#fdca26"
             ],
             [
              1,
              "#f0f921"
             ]
            ],
            "type": "heatmapgl"
           }
          ],
          "histogram": [
           {
            "marker": {
             "pattern": {
              "fillmode": "overlay",
              "size": 10,
              "solidity": 0.2
             }
            },
            "type": "histogram"
           }
          ],
          "histogram2d": [
           {
            "colorbar": {
             "outlinewidth": 0,
             "ticks": ""
            },
            "colorscale": [
             [
              0,
              "#0d0887"
             ],
             [
              0.1111111111111111,
              "#46039f"
             ],
             [
              0.2222222222222222,
              "#7201a8"
             ],
             [
              0.3333333333333333,
              "#9c179e"
             ],
             [
              0.4444444444444444,
              "#bd3786"
             ],
             [
              0.5555555555555556,
              "#d8576b"
             ],
             [
              0.6666666666666666,
              "#ed7953"
             ],
             [
              0.7777777777777778,
              "#fb9f3a"
             ],
             [
              0.8888888888888888,
              "#fdca26"
             ],
             [
              1,
              "#f0f921"
             ]
            ],
            "type": "histogram2d"
           }
          ],
          "histogram2dcontour": [
           {
            "colorbar": {
             "outlinewidth": 0,
             "ticks": ""
            },
            "colorscale": [
             [
              0,
              "#0d0887"
             ],
             [
              0.1111111111111111,
              "#46039f"
             ],
             [
              0.2222222222222222,
              "#7201a8"
             ],
             [
              0.3333333333333333,
              "#9c179e"
             ],
             [
              0.4444444444444444,
              "#bd3786"
             ],
             [
              0.5555555555555556,
              "#d8576b"
             ],
             [
              0.6666666666666666,
              "#ed7953"
             ],
             [
              0.7777777777777778,
              "#fb9f3a"
             ],
             [
              0.8888888888888888,
              "#fdca26"
             ],
             [
              1,
              "#f0f921"
             ]
            ],
            "type": "histogram2dcontour"
           }
          ],
          "mesh3d": [
           {
            "colorbar": {
             "outlinewidth": 0,
             "ticks": ""
            },
            "type": "mesh3d"
           }
          ],
          "parcoords": [
           {
            "line": {
             "colorbar": {
              "outlinewidth": 0,
              "ticks": ""
             }
            },
            "type": "parcoords"
           }
          ],
          "pie": [
           {
            "automargin": true,
            "type": "pie"
           }
          ],
          "scatter": [
           {
            "fillpattern": {
             "fillmode": "overlay",
             "size": 10,
             "solidity": 0.2
            },
            "type": "scatter"
           }
          ],
          "scatter3d": [
           {
            "line": {
             "colorbar": {
              "outlinewidth": 0,
              "ticks": ""
             }
            },
            "marker": {
             "colorbar": {
              "outlinewidth": 0,
              "ticks": ""
             }
            },
            "type": "scatter3d"
           }
          ],
          "scattercarpet": [
           {
            "marker": {
             "colorbar": {
              "outlinewidth": 0,
              "ticks": ""
             }
            },
            "type": "scattercarpet"
           }
          ],
          "scattergeo": [
           {
            "marker": {
             "colorbar": {
              "outlinewidth": 0,
              "ticks": ""
             }
            },
            "type": "scattergeo"
           }
          ],
          "scattergl": [
           {
            "marker": {
             "colorbar": {
              "outlinewidth": 0,
              "ticks": ""
             }
            },
            "type": "scattergl"
           }
          ],
          "scattermapbox": [
           {
            "marker": {
             "colorbar": {
              "outlinewidth": 0,
              "ticks": ""
             }
            },
            "type": "scattermapbox"
           }
          ],
          "scatterpolar": [
           {
            "marker": {
             "colorbar": {
              "outlinewidth": 0,
              "ticks": ""
             }
            },
            "type": "scatterpolar"
           }
          ],
          "scatterpolargl": [
           {
            "marker": {
             "colorbar": {
              "outlinewidth": 0,
              "ticks": ""
             }
            },
            "type": "scatterpolargl"
           }
          ],
          "scatterternary": [
           {
            "marker": {
             "colorbar": {
              "outlinewidth": 0,
              "ticks": ""
             }
            },
            "type": "scatterternary"
           }
          ],
          "surface": [
           {
            "colorbar": {
             "outlinewidth": 0,
             "ticks": ""
            },
            "colorscale": [
             [
              0,
              "#0d0887"
             ],
             [
              0.1111111111111111,
              "#46039f"
             ],
             [
              0.2222222222222222,
              "#7201a8"
             ],
             [
              0.3333333333333333,
              "#9c179e"
             ],
             [
              0.4444444444444444,
              "#bd3786"
             ],
             [
              0.5555555555555556,
              "#d8576b"
             ],
             [
              0.6666666666666666,
              "#ed7953"
             ],
             [
              0.7777777777777778,
              "#fb9f3a"
             ],
             [
              0.8888888888888888,
              "#fdca26"
             ],
             [
              1,
              "#f0f921"
             ]
            ],
            "type": "surface"
           }
          ],
          "table": [
           {
            "cells": {
             "fill": {
              "color": "#EBF0F8"
             },
             "line": {
              "color": "white"
             }
            },
            "header": {
             "fill": {
              "color": "#C8D4E3"
             },
             "line": {
              "color": "white"
             }
            },
            "type": "table"
           }
          ]
         },
         "layout": {
          "annotationdefaults": {
           "arrowcolor": "#2a3f5f",
           "arrowhead": 0,
           "arrowwidth": 1
          },
          "autotypenumbers": "strict",
          "coloraxis": {
           "colorbar": {
            "outlinewidth": 0,
            "ticks": ""
           }
          },
          "colorscale": {
           "diverging": [
            [
             0,
             "#8e0152"
            ],
            [
             0.1,
             "#c51b7d"
            ],
            [
             0.2,
             "#de77ae"
            ],
            [
             0.3,
             "#f1b6da"
            ],
            [
             0.4,
             "#fde0ef"
            ],
            [
             0.5,
             "#f7f7f7"
            ],
            [
             0.6,
             "#e6f5d0"
            ],
            [
             0.7,
             "#b8e186"
            ],
            [
             0.8,
             "#7fbc41"
            ],
            [
             0.9,
             "#4d9221"
            ],
            [
             1,
             "#276419"
            ]
           ],
           "sequential": [
            [
             0,
             "#0d0887"
            ],
            [
             0.1111111111111111,
             "#46039f"
            ],
            [
             0.2222222222222222,
             "#7201a8"
            ],
            [
             0.3333333333333333,
             "#9c179e"
            ],
            [
             0.4444444444444444,
             "#bd3786"
            ],
            [
             0.5555555555555556,
             "#d8576b"
            ],
            [
             0.6666666666666666,
             "#ed7953"
            ],
            [
             0.7777777777777778,
             "#fb9f3a"
            ],
            [
             0.8888888888888888,
             "#fdca26"
            ],
            [
             1,
             "#f0f921"
            ]
           ],
           "sequentialminus": [
            [
             0,
             "#0d0887"
            ],
            [
             0.1111111111111111,
             "#46039f"
            ],
            [
             0.2222222222222222,
             "#7201a8"
            ],
            [
             0.3333333333333333,
             "#9c179e"
            ],
            [
             0.4444444444444444,
             "#bd3786"
            ],
            [
             0.5555555555555556,
             "#d8576b"
            ],
            [
             0.6666666666666666,
             "#ed7953"
            ],
            [
             0.7777777777777778,
             "#fb9f3a"
            ],
            [
             0.8888888888888888,
             "#fdca26"
            ],
            [
             1,
             "#f0f921"
            ]
           ]
          },
          "colorway": [
           "#636efa",
           "#EF553B",
           "#00cc96",
           "#ab63fa",
           "#FFA15A",
           "#19d3f3",
           "#FF6692",
           "#B6E880",
           "#FF97FF",
           "#FECB52"
          ],
          "font": {
           "color": "#2a3f5f"
          },
          "geo": {
           "bgcolor": "white",
           "lakecolor": "white",
           "landcolor": "#E5ECF6",
           "showlakes": true,
           "showland": true,
           "subunitcolor": "white"
          },
          "hoverlabel": {
           "align": "left"
          },
          "hovermode": "closest",
          "mapbox": {
           "style": "light"
          },
          "paper_bgcolor": "white",
          "plot_bgcolor": "#E5ECF6",
          "polar": {
           "angularaxis": {
            "gridcolor": "white",
            "linecolor": "white",
            "ticks": ""
           },
           "bgcolor": "#E5ECF6",
           "radialaxis": {
            "gridcolor": "white",
            "linecolor": "white",
            "ticks": ""
           }
          },
          "scene": {
           "xaxis": {
            "backgroundcolor": "#E5ECF6",
            "gridcolor": "white",
            "gridwidth": 2,
            "linecolor": "white",
            "showbackground": true,
            "ticks": "",
            "zerolinecolor": "white"
           },
           "yaxis": {
            "backgroundcolor": "#E5ECF6",
            "gridcolor": "white",
            "gridwidth": 2,
            "linecolor": "white",
            "showbackground": true,
            "ticks": "",
            "zerolinecolor": "white"
           },
           "zaxis": {
            "backgroundcolor": "#E5ECF6",
            "gridcolor": "white",
            "gridwidth": 2,
            "linecolor": "white",
            "showbackground": true,
            "ticks": "",
            "zerolinecolor": "white"
           }
          },
          "shapedefaults": {
           "line": {
            "color": "#2a3f5f"
           }
          },
          "ternary": {
           "aaxis": {
            "gridcolor": "white",
            "linecolor": "white",
            "ticks": ""
           },
           "baxis": {
            "gridcolor": "white",
            "linecolor": "white",
            "ticks": ""
           },
           "bgcolor": "#E5ECF6",
           "caxis": {
            "gridcolor": "white",
            "linecolor": "white",
            "ticks": ""
           }
          },
          "title": {
           "x": 0.05
          },
          "xaxis": {
           "automargin": true,
           "gridcolor": "white",
           "linecolor": "white",
           "ticks": "",
           "title": {
            "standoff": 15
           },
           "zerolinecolor": "white",
           "zerolinewidth": 2
          },
          "yaxis": {
           "automargin": true,
           "gridcolor": "white",
           "linecolor": "white",
           "ticks": "",
           "title": {
            "standoff": 15
           },
           "zerolinecolor": "white",
           "zerolinewidth": 2
          }
         }
        },
        "title": {
         "text": "Auslastung GC Kronberg Auslastung MGL 65+ in % pro Startzeit für 2021 und 2022"
        },
        "width": 1600,
        "yaxis": {
         "tickformat": ",.0%"
        }
       }
      }
     },
     "metadata": {},
     "output_type": "display_data"
    },
    {
     "ename": "TypeError",
     "evalue": "Could not convert AprJunAugSepAprAprAprAprAprAprAprAprAprAprAprAprAprAprAprAprAprAprAprAprAprAprAprAprAprAprAprAprAprMaiMaiMaiMaiMaiMaiMaiMaiMaiMaiJunJunJunJunJunJunJunJunJunJunJunJunJunJunJunJunJunJunJulJulJulJulJulJulJulJulJulJulJulJulJulJulJulJulJulJulJulJulJulJulJulJulJulJulJulJulJulJulJulAugAugAugAugAugAugAugAugAugAugAugAugAugAugAugAugAugAugAugAugAugAugAugAugAugAugAugAugAugAugSepSepSepSepSepSepSepSepSepSepSepSepSepSepSepSepSepSepSepSepSepSepSepSepSepSepSepSepSepOktOktOktOktOktOktOktOktOktOktOktOktOktOktOktOktOktOktOktOktOktOktOktOktOktOktOktOktOktOkt to numeric",
     "output_type": "error",
     "traceback": [
      "\u001b[0;31m---------------------------------------------------------------------------\u001b[0m",
      "\u001b[0;31mNotImplementedError\u001b[0m                       Traceback (most recent call last)",
      "File \u001b[0;32m/opt/homebrew/lib/python3.10/site-packages/pandas/core/groupby/groupby.py:1763\u001b[0m, in \u001b[0;36mGroupBy._cython_agg_general.<locals>.array_func\u001b[0;34m(values)\u001b[0m\n\u001b[1;32m   1762\u001b[0m \u001b[39mtry\u001b[39;00m:\n\u001b[0;32m-> 1763\u001b[0m     result \u001b[39m=\u001b[39m \u001b[39mself\u001b[39;49m\u001b[39m.\u001b[39;49mgrouper\u001b[39m.\u001b[39;49m_cython_operation(\n\u001b[1;32m   1764\u001b[0m         \u001b[39m\"\u001b[39;49m\u001b[39maggregate\u001b[39;49m\u001b[39m\"\u001b[39;49m,\n\u001b[1;32m   1765\u001b[0m         values,\n\u001b[1;32m   1766\u001b[0m         how,\n\u001b[1;32m   1767\u001b[0m         axis\u001b[39m=\u001b[39;49mdata\u001b[39m.\u001b[39;49mndim \u001b[39m-\u001b[39;49m \u001b[39m1\u001b[39;49m,\n\u001b[1;32m   1768\u001b[0m         min_count\u001b[39m=\u001b[39;49mmin_count,\n\u001b[1;32m   1769\u001b[0m         \u001b[39m*\u001b[39;49m\u001b[39m*\u001b[39;49mkwargs,\n\u001b[1;32m   1770\u001b[0m     )\n\u001b[1;32m   1771\u001b[0m \u001b[39mexcept\u001b[39;00m \u001b[39mNotImplementedError\u001b[39;00m:\n\u001b[1;32m   1772\u001b[0m     \u001b[39m# generally if we have numeric_only=False\u001b[39;00m\n\u001b[1;32m   1773\u001b[0m     \u001b[39m# and non-applicable functions\u001b[39;00m\n\u001b[1;32m   1774\u001b[0m     \u001b[39m# try to python agg\u001b[39;00m\n\u001b[1;32m   1775\u001b[0m     \u001b[39m# TODO: shouldn't min_count matter?\u001b[39;00m\n",
      "File \u001b[0;32m/opt/homebrew/lib/python3.10/site-packages/pandas/core/groupby/ops.py:1039\u001b[0m, in \u001b[0;36mBaseGrouper._cython_operation\u001b[0;34m(self, kind, values, how, axis, min_count, **kwargs)\u001b[0m\n\u001b[1;32m   1038\u001b[0m ngroups \u001b[39m=\u001b[39m \u001b[39mself\u001b[39m\u001b[39m.\u001b[39mngroups\n\u001b[0;32m-> 1039\u001b[0m \u001b[39mreturn\u001b[39;00m cy_op\u001b[39m.\u001b[39;49mcython_operation(\n\u001b[1;32m   1040\u001b[0m     values\u001b[39m=\u001b[39;49mvalues,\n\u001b[1;32m   1041\u001b[0m     axis\u001b[39m=\u001b[39;49maxis,\n\u001b[1;32m   1042\u001b[0m     min_count\u001b[39m=\u001b[39;49mmin_count,\n\u001b[1;32m   1043\u001b[0m     comp_ids\u001b[39m=\u001b[39;49mids,\n\u001b[1;32m   1044\u001b[0m     ngroups\u001b[39m=\u001b[39;49mngroups,\n\u001b[1;32m   1045\u001b[0m     \u001b[39m*\u001b[39;49m\u001b[39m*\u001b[39;49mkwargs,\n\u001b[1;32m   1046\u001b[0m )\n",
      "File \u001b[0;32m/opt/homebrew/lib/python3.10/site-packages/pandas/core/groupby/ops.py:708\u001b[0m, in \u001b[0;36mWrappedCythonOp.cython_operation\u001b[0;34m(self, values, axis, min_count, comp_ids, ngroups, **kwargs)\u001b[0m\n\u001b[1;32m    700\u001b[0m     \u001b[39mreturn\u001b[39;00m \u001b[39mself\u001b[39m\u001b[39m.\u001b[39m_ea_wrap_cython_operation(\n\u001b[1;32m    701\u001b[0m         values,\n\u001b[1;32m    702\u001b[0m         min_count\u001b[39m=\u001b[39mmin_count,\n\u001b[0;32m   (...)\u001b[0m\n\u001b[1;32m    705\u001b[0m         \u001b[39m*\u001b[39m\u001b[39m*\u001b[39mkwargs,\n\u001b[1;32m    706\u001b[0m     )\n\u001b[0;32m--> 708\u001b[0m \u001b[39mreturn\u001b[39;00m \u001b[39mself\u001b[39;49m\u001b[39m.\u001b[39;49m_cython_op_ndim_compat(\n\u001b[1;32m    709\u001b[0m     values,\n\u001b[1;32m    710\u001b[0m     min_count\u001b[39m=\u001b[39;49mmin_count,\n\u001b[1;32m    711\u001b[0m     ngroups\u001b[39m=\u001b[39;49mngroups,\n\u001b[1;32m    712\u001b[0m     comp_ids\u001b[39m=\u001b[39;49mcomp_ids,\n\u001b[1;32m    713\u001b[0m     mask\u001b[39m=\u001b[39;49m\u001b[39mNone\u001b[39;49;00m,\n\u001b[1;32m    714\u001b[0m     \u001b[39m*\u001b[39;49m\u001b[39m*\u001b[39;49mkwargs,\n\u001b[1;32m    715\u001b[0m )\n",
      "File \u001b[0;32m/opt/homebrew/lib/python3.10/site-packages/pandas/core/groupby/ops.py:512\u001b[0m, in \u001b[0;36mWrappedCythonOp._cython_op_ndim_compat\u001b[0;34m(self, values, min_count, ngroups, comp_ids, mask, result_mask, **kwargs)\u001b[0m\n\u001b[1;32m    511\u001b[0m     result_mask \u001b[39m=\u001b[39m result_mask[\u001b[39mNone\u001b[39;00m, :]\n\u001b[0;32m--> 512\u001b[0m res \u001b[39m=\u001b[39m \u001b[39mself\u001b[39;49m\u001b[39m.\u001b[39;49m_call_cython_op(\n\u001b[1;32m    513\u001b[0m     values2d,\n\u001b[1;32m    514\u001b[0m     min_count\u001b[39m=\u001b[39;49mmin_count,\n\u001b[1;32m    515\u001b[0m     ngroups\u001b[39m=\u001b[39;49mngroups,\n\u001b[1;32m    516\u001b[0m     comp_ids\u001b[39m=\u001b[39;49mcomp_ids,\n\u001b[1;32m    517\u001b[0m     mask\u001b[39m=\u001b[39;49mmask,\n\u001b[1;32m    518\u001b[0m     result_mask\u001b[39m=\u001b[39;49mresult_mask,\n\u001b[1;32m    519\u001b[0m     \u001b[39m*\u001b[39;49m\u001b[39m*\u001b[39;49mkwargs,\n\u001b[1;32m    520\u001b[0m )\n\u001b[1;32m    521\u001b[0m \u001b[39mif\u001b[39;00m res\u001b[39m.\u001b[39mshape[\u001b[39m0\u001b[39m] \u001b[39m==\u001b[39m \u001b[39m1\u001b[39m:\n",
      "File \u001b[0;32m/opt/homebrew/lib/python3.10/site-packages/pandas/core/groupby/ops.py:571\u001b[0m, in \u001b[0;36mWrappedCythonOp._call_cython_op\u001b[0;34m(self, values, min_count, ngroups, comp_ids, mask, result_mask, **kwargs)\u001b[0m\n\u001b[1;32m    570\u001b[0m out_shape \u001b[39m=\u001b[39m \u001b[39mself\u001b[39m\u001b[39m.\u001b[39m_get_output_shape(ngroups, values)\n\u001b[0;32m--> 571\u001b[0m func \u001b[39m=\u001b[39m \u001b[39mself\u001b[39;49m\u001b[39m.\u001b[39;49m_get_cython_function(\u001b[39mself\u001b[39;49m\u001b[39m.\u001b[39;49mkind, \u001b[39mself\u001b[39;49m\u001b[39m.\u001b[39;49mhow, values\u001b[39m.\u001b[39;49mdtype, is_numeric)\n\u001b[1;32m    572\u001b[0m values \u001b[39m=\u001b[39m \u001b[39mself\u001b[39m\u001b[39m.\u001b[39m_get_cython_vals(values)\n",
      "File \u001b[0;32m/opt/homebrew/lib/python3.10/site-packages/pandas/core/groupby/ops.py:192\u001b[0m, in \u001b[0;36mWrappedCythonOp._get_cython_function\u001b[0;34m(cls, kind, how, dtype, is_numeric)\u001b[0m\n\u001b[1;32m    190\u001b[0m \u001b[39melif\u001b[39;00m \u001b[39m\"\u001b[39m\u001b[39mobject\u001b[39m\u001b[39m\"\u001b[39m \u001b[39mnot\u001b[39;00m \u001b[39min\u001b[39;00m f\u001b[39m.\u001b[39m__signatures__:\n\u001b[1;32m    191\u001b[0m     \u001b[39m# raise NotImplementedError here rather than TypeError later\u001b[39;00m\n\u001b[0;32m--> 192\u001b[0m     \u001b[39mraise\u001b[39;00m \u001b[39mNotImplementedError\u001b[39;00m(\n\u001b[1;32m    193\u001b[0m         \u001b[39mf\u001b[39m\u001b[39m\"\u001b[39m\u001b[39mfunction is not implemented for this dtype: \u001b[39m\u001b[39m\"\u001b[39m\n\u001b[1;32m    194\u001b[0m         \u001b[39mf\u001b[39m\u001b[39m\"\u001b[39m\u001b[39m[how->\u001b[39m\u001b[39m{\u001b[39;00mhow\u001b[39m}\u001b[39;00m\u001b[39m,dtype->\u001b[39m\u001b[39m{\u001b[39;00mdtype_str\u001b[39m}\u001b[39;00m\u001b[39m]\u001b[39m\u001b[39m\"\u001b[39m\n\u001b[1;32m    195\u001b[0m     )\n\u001b[1;32m    196\u001b[0m \u001b[39mreturn\u001b[39;00m f\n",
      "\u001b[0;31mNotImplementedError\u001b[0m: function is not implemented for this dtype: [how->mean,dtype->object]",
      "\nDuring handling of the above exception, another exception occurred:\n",
      "\u001b[0;31mValueError\u001b[0m                                Traceback (most recent call last)",
      "File \u001b[0;32m/opt/homebrew/lib/python3.10/site-packages/pandas/core/nanops.py:1630\u001b[0m, in \u001b[0;36m_ensure_numeric\u001b[0;34m(x)\u001b[0m\n\u001b[1;32m   1629\u001b[0m \u001b[39mtry\u001b[39;00m:\n\u001b[0;32m-> 1630\u001b[0m     x \u001b[39m=\u001b[39m \u001b[39mfloat\u001b[39;49m(x)\n\u001b[1;32m   1631\u001b[0m \u001b[39mexcept\u001b[39;00m (\u001b[39mTypeError\u001b[39;00m, \u001b[39mValueError\u001b[39;00m):\n\u001b[1;32m   1632\u001b[0m     \u001b[39m# e.g. \"1+1j\" or \"foo\"\u001b[39;00m\n",
      "\u001b[0;31mValueError\u001b[0m: could not convert string to float: 'AprJunAugSepAprAprAprAprAprAprAprAprAprAprAprAprAprAprAprAprAprAprAprAprAprAprAprAprAprAprAprAprAprMaiMaiMaiMaiMaiMaiMaiMaiMaiMaiJunJunJunJunJunJunJunJunJunJunJunJunJunJunJunJunJunJunJulJulJulJulJulJulJulJulJulJulJulJulJulJulJulJulJulJulJulJulJulJulJulJulJulJulJulJulJulJulJulAugAugAugAugAugAugAugAugAugAugAugAugAugAugAugAugAugAugAugAugAugAugAugAugAugAugAugAugAugAugSepSepSepSepSepSepSepSepSepSepSepSepSepSepSepSepSepSepSepSepSepSepSepSepSepSepSepSepSepOktOktOktOktOktOktOktOktOktOktOktOktOktOktOktOktOktOktOktOktOktOktOktOktOktOktOktOktOktOkt'",
      "\nDuring handling of the above exception, another exception occurred:\n",
      "\u001b[0;31mValueError\u001b[0m                                Traceback (most recent call last)",
      "File \u001b[0;32m/opt/homebrew/lib/python3.10/site-packages/pandas/core/nanops.py:1634\u001b[0m, in \u001b[0;36m_ensure_numeric\u001b[0;34m(x)\u001b[0m\n\u001b[1;32m   1633\u001b[0m \u001b[39mtry\u001b[39;00m:\n\u001b[0;32m-> 1634\u001b[0m     x \u001b[39m=\u001b[39m \u001b[39mcomplex\u001b[39;49m(x)\n\u001b[1;32m   1635\u001b[0m \u001b[39mexcept\u001b[39;00m \u001b[39mValueError\u001b[39;00m \u001b[39mas\u001b[39;00m err:\n\u001b[1;32m   1636\u001b[0m     \u001b[39m# e.g. \"foo\"\u001b[39;00m\n",
      "\u001b[0;31mValueError\u001b[0m: complex() arg is a malformed string",
      "\nThe above exception was the direct cause of the following exception:\n",
      "\u001b[0;31mTypeError\u001b[0m                                 Traceback (most recent call last)",
      "Cell \u001b[0;32mIn[46], line 3\u001b[0m\n\u001b[1;32m      1\u001b[0m \u001b[39mfor\u001b[39;00m col \u001b[39min\u001b[39;00m data\u001b[39m.\u001b[39mcolumns:\n\u001b[1;32m      2\u001b[0m     \u001b[39mif\u001b[39;00m col \u001b[39mnot\u001b[39;00m \u001b[39min\u001b[39;00m [\u001b[39m\"\u001b[39m\u001b[39mAuslastung \u001b[39m\u001b[39m%\u001b[39m\u001b[39m\"\u001b[39m, \u001b[39m\"\u001b[39m\u001b[39mGesamt\u001b[39m\u001b[39m\"\u001b[39m, \u001b[39m'\u001b[39m\u001b[39mJahr\u001b[39m\u001b[39m'\u001b[39m, \u001b[39m'\u001b[39m\u001b[39mMonat\u001b[39m\u001b[39m'\u001b[39m, \u001b[39m'\u001b[39m\u001b[39mTag\u001b[39m\u001b[39m'\u001b[39m, \u001b[39m'\u001b[39m\u001b[39mWochentag\u001b[39m\u001b[39m'\u001b[39m, \u001b[39m'\u001b[39m\u001b[39mSaison\u001b[39m\u001b[39m'\u001b[39m, \u001b[39m'\u001b[39m\u001b[39mMax Kap\u001b[39m\u001b[39m'\u001b[39m, \u001b[39m'\u001b[39m\u001b[39mSperrung.\u001b[39m\u001b[39m'\u001b[39m, \u001b[39m'\u001b[39m\u001b[39mInternet\u001b[39m\u001b[39m'\u001b[39m, \u001b[39m'\u001b[39m\u001b[39mWeekend\u001b[39m\u001b[39m'\u001b[39m, \u001b[39m'\u001b[39m\u001b[39mStunde\u001b[39m\u001b[39m'\u001b[39m, \u001b[39m'\u001b[39m\u001b[39mMinute\u001b[39m\u001b[39m'\u001b[39m, \u001b[39m'\u001b[39m\u001b[39mtime\u001b[39m\u001b[39m'\u001b[39m, \u001b[39m\"\u001b[39m\u001b[39mdavon freie Kap\u001b[39m\u001b[39m\"\u001b[39m, \u001b[39m\"\u001b[39m\u001b[39mGäste\u001b[39m\u001b[39m\"\u001b[39m, \u001b[39m\"\u001b[39m\u001b[39mMGL Gesa.\u001b[39m\u001b[39m\"\u001b[39m, \u001b[39m\"\u001b[39m\u001b[39mJugend\u001b[39m\u001b[39m\"\u001b[39m, \u001b[39m\"\u001b[39m\u001b[39mMGL 18-40\u001b[39m\u001b[39m\"\u001b[39m, \u001b[39m\"\u001b[39m\u001b[39mMGL 40-50\u001b[39m\u001b[39m\"\u001b[39m, \u001b[39m\"\u001b[39m\u001b[39mMGL 50-65\u001b[39m\u001b[39m\"\u001b[39m, \u001b[39m\"\u001b[39m\u001b[39mMGL 65+\u001b[39m\u001b[39m\"\u001b[39m]:\n\u001b[0;32m----> 3\u001b[0m         data2 \u001b[39m=\u001b[39m data\u001b[39m.\u001b[39;49mgroupby([\u001b[39m'\u001b[39;49m\u001b[39mJahr\u001b[39;49m\u001b[39m'\u001b[39;49m, \u001b[39m\"\u001b[39;49m\u001b[39mtime\u001b[39;49m\u001b[39m\"\u001b[39;49m])[col]\u001b[39m.\u001b[39;49mmean()\n\u001b[1;32m      4\u001b[0m         data2 \u001b[39m=\u001b[39m data2\u001b[39m.\u001b[39mreset_index()\n\u001b[1;32m      5\u001b[0m         \u001b[39m#fig = px.line(data2, x='time', y=col, color='Jahr', title=f'Auslastung GC Kronberg {col} in % pro Startzeit für 2021 und 2022', labels={'time': 'Startzeit', col: 'Auslastung in %'})\u001b[39;00m\n",
      "File \u001b[0;32m/opt/homebrew/lib/python3.10/site-packages/pandas/core/groupby/groupby.py:2152\u001b[0m, in \u001b[0;36mGroupBy.mean\u001b[0;34m(self, numeric_only, engine, engine_kwargs)\u001b[0m\n\u001b[1;32m   2150\u001b[0m     \u001b[39mreturn\u001b[39;00m \u001b[39mself\u001b[39m\u001b[39m.\u001b[39m_numba_agg_general(sliding_mean, engine_kwargs)\n\u001b[1;32m   2151\u001b[0m \u001b[39melse\u001b[39;00m:\n\u001b[0;32m-> 2152\u001b[0m     result \u001b[39m=\u001b[39m \u001b[39mself\u001b[39;49m\u001b[39m.\u001b[39;49m_cython_agg_general(\n\u001b[1;32m   2153\u001b[0m         \u001b[39m\"\u001b[39;49m\u001b[39mmean\u001b[39;49m\u001b[39m\"\u001b[39;49m,\n\u001b[1;32m   2154\u001b[0m         alt\u001b[39m=\u001b[39;49m\u001b[39mlambda\u001b[39;49;00m x: Series(x)\u001b[39m.\u001b[39;49mmean(numeric_only\u001b[39m=\u001b[39;49mnumeric_only_bool),\n\u001b[1;32m   2155\u001b[0m         numeric_only\u001b[39m=\u001b[39;49mnumeric_only,\n\u001b[1;32m   2156\u001b[0m     )\n\u001b[1;32m   2157\u001b[0m     \u001b[39mreturn\u001b[39;00m result\u001b[39m.\u001b[39m__finalize__(\u001b[39mself\u001b[39m\u001b[39m.\u001b[39mobj, method\u001b[39m=\u001b[39m\u001b[39m\"\u001b[39m\u001b[39mgroupby\u001b[39m\u001b[39m\"\u001b[39m)\n",
      "File \u001b[0;32m/opt/homebrew/lib/python3.10/site-packages/pandas/core/groupby/groupby.py:1782\u001b[0m, in \u001b[0;36mGroupBy._cython_agg_general\u001b[0;34m(self, how, alt, numeric_only, min_count, ignore_failures, **kwargs)\u001b[0m\n\u001b[1;32m   1778\u001b[0m     \u001b[39mreturn\u001b[39;00m result\n\u001b[1;32m   1780\u001b[0m \u001b[39m# TypeError -> we may have an exception in trying to aggregate\u001b[39;00m\n\u001b[1;32m   1781\u001b[0m \u001b[39m#  continue and exclude the block\u001b[39;00m\n\u001b[0;32m-> 1782\u001b[0m new_mgr \u001b[39m=\u001b[39m data\u001b[39m.\u001b[39;49mgrouped_reduce(array_func, ignore_failures\u001b[39m=\u001b[39;49mignore_failures)\n\u001b[1;32m   1784\u001b[0m \u001b[39mif\u001b[39;00m \u001b[39mnot\u001b[39;00m is_ser \u001b[39mand\u001b[39;00m \u001b[39mlen\u001b[39m(new_mgr) \u001b[39m<\u001b[39m orig_len:\n\u001b[1;32m   1785\u001b[0m     warn_dropping_nuisance_columns_deprecated(\u001b[39mtype\u001b[39m(\u001b[39mself\u001b[39m), how, numeric_only)\n",
      "File \u001b[0;32m/opt/homebrew/lib/python3.10/site-packages/pandas/core/internals/base.py:199\u001b[0m, in \u001b[0;36mSingleDataManager.grouped_reduce\u001b[0;34m(self, func, ignore_failures)\u001b[0m\n\u001b[1;32m    193\u001b[0m \u001b[39m\u001b[39m\u001b[39m\"\"\"\u001b[39;00m\n\u001b[1;32m    194\u001b[0m \u001b[39mignore_failures : bool, default False\u001b[39;00m\n\u001b[1;32m    195\u001b[0m \u001b[39m    Not used; for compatibility with ArrayManager/BlockManager.\u001b[39;00m\n\u001b[1;32m    196\u001b[0m \u001b[39m\"\"\"\u001b[39;00m\n\u001b[1;32m    198\u001b[0m arr \u001b[39m=\u001b[39m \u001b[39mself\u001b[39m\u001b[39m.\u001b[39marray\n\u001b[0;32m--> 199\u001b[0m res \u001b[39m=\u001b[39m func(arr)\n\u001b[1;32m    200\u001b[0m index \u001b[39m=\u001b[39m default_index(\u001b[39mlen\u001b[39m(res))\n\u001b[1;32m    202\u001b[0m mgr \u001b[39m=\u001b[39m \u001b[39mtype\u001b[39m(\u001b[39mself\u001b[39m)\u001b[39m.\u001b[39mfrom_array(res, index)\n",
      "File \u001b[0;32m/opt/homebrew/lib/python3.10/site-packages/pandas/core/groupby/groupby.py:1776\u001b[0m, in \u001b[0;36mGroupBy._cython_agg_general.<locals>.array_func\u001b[0;34m(values)\u001b[0m\n\u001b[1;32m   1763\u001b[0m     result \u001b[39m=\u001b[39m \u001b[39mself\u001b[39m\u001b[39m.\u001b[39mgrouper\u001b[39m.\u001b[39m_cython_operation(\n\u001b[1;32m   1764\u001b[0m         \u001b[39m\"\u001b[39m\u001b[39maggregate\u001b[39m\u001b[39m\"\u001b[39m,\n\u001b[1;32m   1765\u001b[0m         values,\n\u001b[0;32m   (...)\u001b[0m\n\u001b[1;32m   1769\u001b[0m         \u001b[39m*\u001b[39m\u001b[39m*\u001b[39mkwargs,\n\u001b[1;32m   1770\u001b[0m     )\n\u001b[1;32m   1771\u001b[0m \u001b[39mexcept\u001b[39;00m \u001b[39mNotImplementedError\u001b[39;00m:\n\u001b[1;32m   1772\u001b[0m     \u001b[39m# generally if we have numeric_only=False\u001b[39;00m\n\u001b[1;32m   1773\u001b[0m     \u001b[39m# and non-applicable functions\u001b[39;00m\n\u001b[1;32m   1774\u001b[0m     \u001b[39m# try to python agg\u001b[39;00m\n\u001b[1;32m   1775\u001b[0m     \u001b[39m# TODO: shouldn't min_count matter?\u001b[39;00m\n\u001b[0;32m-> 1776\u001b[0m     result \u001b[39m=\u001b[39m \u001b[39mself\u001b[39;49m\u001b[39m.\u001b[39;49m_agg_py_fallback(values, ndim\u001b[39m=\u001b[39;49mdata\u001b[39m.\u001b[39;49mndim, alt\u001b[39m=\u001b[39;49malt)\n\u001b[1;32m   1778\u001b[0m \u001b[39mreturn\u001b[39;00m result\n",
      "File \u001b[0;32m/opt/homebrew/lib/python3.10/site-packages/pandas/core/groupby/groupby.py:1717\u001b[0m, in \u001b[0;36mGroupBy._agg_py_fallback\u001b[0;34m(self, values, ndim, alt)\u001b[0m\n\u001b[1;32m   1712\u001b[0m     ser \u001b[39m=\u001b[39m df\u001b[39m.\u001b[39miloc[:, \u001b[39m0\u001b[39m]\n\u001b[1;32m   1714\u001b[0m \u001b[39m# We do not get here with UDFs, so we know that our dtype\u001b[39;00m\n\u001b[1;32m   1715\u001b[0m \u001b[39m#  should always be preserved by the implemented aggregations\u001b[39;00m\n\u001b[1;32m   1716\u001b[0m \u001b[39m# TODO: Is this exactly right; see WrappedCythonOp get_result_dtype?\u001b[39;00m\n\u001b[0;32m-> 1717\u001b[0m res_values \u001b[39m=\u001b[39m \u001b[39mself\u001b[39;49m\u001b[39m.\u001b[39;49mgrouper\u001b[39m.\u001b[39;49magg_series(ser, alt, preserve_dtype\u001b[39m=\u001b[39;49m\u001b[39mTrue\u001b[39;49;00m)\n\u001b[1;32m   1719\u001b[0m \u001b[39mif\u001b[39;00m \u001b[39misinstance\u001b[39m(values, Categorical):\n\u001b[1;32m   1720\u001b[0m     \u001b[39m# Because we only get here with known dtype-preserving\u001b[39;00m\n\u001b[1;32m   1721\u001b[0m     \u001b[39m#  reductions, we cast back to Categorical.\u001b[39;00m\n\u001b[1;32m   1722\u001b[0m     \u001b[39m# TODO: if we ever get \"rank\" working, exclude it here.\u001b[39;00m\n\u001b[1;32m   1723\u001b[0m     res_values \u001b[39m=\u001b[39m \u001b[39mtype\u001b[39m(values)\u001b[39m.\u001b[39m_from_sequence(res_values, dtype\u001b[39m=\u001b[39mvalues\u001b[39m.\u001b[39mdtype)\n",
      "File \u001b[0;32m/opt/homebrew/lib/python3.10/site-packages/pandas/core/groupby/ops.py:1081\u001b[0m, in \u001b[0;36mBaseGrouper.agg_series\u001b[0;34m(self, obj, func, preserve_dtype)\u001b[0m\n\u001b[1;32m   1078\u001b[0m     preserve_dtype \u001b[39m=\u001b[39m \u001b[39mTrue\u001b[39;00m\n\u001b[1;32m   1080\u001b[0m \u001b[39melse\u001b[39;00m:\n\u001b[0;32m-> 1081\u001b[0m     result \u001b[39m=\u001b[39m \u001b[39mself\u001b[39;49m\u001b[39m.\u001b[39;49m_aggregate_series_pure_python(obj, func)\n\u001b[1;32m   1083\u001b[0m npvalues \u001b[39m=\u001b[39m lib\u001b[39m.\u001b[39mmaybe_convert_objects(result, try_float\u001b[39m=\u001b[39m\u001b[39mFalse\u001b[39;00m)\n\u001b[1;32m   1084\u001b[0m \u001b[39mif\u001b[39;00m preserve_dtype:\n",
      "File \u001b[0;32m/opt/homebrew/lib/python3.10/site-packages/pandas/core/groupby/ops.py:1104\u001b[0m, in \u001b[0;36mBaseGrouper._aggregate_series_pure_python\u001b[0;34m(self, obj, func)\u001b[0m\n\u001b[1;32m   1101\u001b[0m splitter \u001b[39m=\u001b[39m get_splitter(obj, ids, ngroups, axis\u001b[39m=\u001b[39m\u001b[39m0\u001b[39m)\n\u001b[1;32m   1103\u001b[0m \u001b[39mfor\u001b[39;00m i, group \u001b[39min\u001b[39;00m \u001b[39menumerate\u001b[39m(splitter):\n\u001b[0;32m-> 1104\u001b[0m     res \u001b[39m=\u001b[39m func(group)\n\u001b[1;32m   1105\u001b[0m     res \u001b[39m=\u001b[39m libreduction\u001b[39m.\u001b[39mextract_result(res)\n\u001b[1;32m   1107\u001b[0m     \u001b[39mif\u001b[39;00m \u001b[39mnot\u001b[39;00m initialized:\n\u001b[1;32m   1108\u001b[0m         \u001b[39m# We only do this validation on the first iteration\u001b[39;00m\n",
      "File \u001b[0;32m/opt/homebrew/lib/python3.10/site-packages/pandas/core/groupby/groupby.py:2154\u001b[0m, in \u001b[0;36mGroupBy.mean.<locals>.<lambda>\u001b[0;34m(x)\u001b[0m\n\u001b[1;32m   2150\u001b[0m     \u001b[39mreturn\u001b[39;00m \u001b[39mself\u001b[39m\u001b[39m.\u001b[39m_numba_agg_general(sliding_mean, engine_kwargs)\n\u001b[1;32m   2151\u001b[0m \u001b[39melse\u001b[39;00m:\n\u001b[1;32m   2152\u001b[0m     result \u001b[39m=\u001b[39m \u001b[39mself\u001b[39m\u001b[39m.\u001b[39m_cython_agg_general(\n\u001b[1;32m   2153\u001b[0m         \u001b[39m\"\u001b[39m\u001b[39mmean\u001b[39m\u001b[39m\"\u001b[39m,\n\u001b[0;32m-> 2154\u001b[0m         alt\u001b[39m=\u001b[39m\u001b[39mlambda\u001b[39;00m x: Series(x)\u001b[39m.\u001b[39;49mmean(numeric_only\u001b[39m=\u001b[39;49mnumeric_only_bool),\n\u001b[1;32m   2155\u001b[0m         numeric_only\u001b[39m=\u001b[39mnumeric_only,\n\u001b[1;32m   2156\u001b[0m     )\n\u001b[1;32m   2157\u001b[0m     \u001b[39mreturn\u001b[39;00m result\u001b[39m.\u001b[39m__finalize__(\u001b[39mself\u001b[39m\u001b[39m.\u001b[39mobj, method\u001b[39m=\u001b[39m\u001b[39m\"\u001b[39m\u001b[39mgroupby\u001b[39m\u001b[39m\"\u001b[39m)\n",
      "File \u001b[0;32m/opt/homebrew/lib/python3.10/site-packages/pandas/core/generic.py:11847\u001b[0m, in \u001b[0;36mNDFrame._add_numeric_operations.<locals>.mean\u001b[0;34m(self, axis, skipna, level, numeric_only, **kwargs)\u001b[0m\n\u001b[1;32m  11829\u001b[0m \u001b[39m@doc\u001b[39m(\n\u001b[1;32m  11830\u001b[0m     _num_doc,\n\u001b[1;32m  11831\u001b[0m     desc\u001b[39m=\u001b[39m\u001b[39m\"\u001b[39m\u001b[39mReturn the mean of the values over the requested axis.\u001b[39m\u001b[39m\"\u001b[39m,\n\u001b[0;32m   (...)\u001b[0m\n\u001b[1;32m  11845\u001b[0m     \u001b[39m*\u001b[39m\u001b[39m*\u001b[39mkwargs,\n\u001b[1;32m  11846\u001b[0m ):\n\u001b[0;32m> 11847\u001b[0m     \u001b[39mreturn\u001b[39;00m NDFrame\u001b[39m.\u001b[39;49mmean(\u001b[39mself\u001b[39;49m, axis, skipna, level, numeric_only, \u001b[39m*\u001b[39;49m\u001b[39m*\u001b[39;49mkwargs)\n",
      "File \u001b[0;32m/opt/homebrew/lib/python3.10/site-packages/pandas/core/generic.py:11401\u001b[0m, in \u001b[0;36mNDFrame.mean\u001b[0;34m(self, axis, skipna, level, numeric_only, **kwargs)\u001b[0m\n\u001b[1;32m  11393\u001b[0m \u001b[39mdef\u001b[39;00m \u001b[39mmean\u001b[39m(\n\u001b[1;32m  11394\u001b[0m     \u001b[39mself\u001b[39m,\n\u001b[1;32m  11395\u001b[0m     axis: Axis \u001b[39m|\u001b[39m \u001b[39mNone\u001b[39;00m \u001b[39m|\u001b[39m lib\u001b[39m.\u001b[39mNoDefault \u001b[39m=\u001b[39m lib\u001b[39m.\u001b[39mno_default,\n\u001b[0;32m   (...)\u001b[0m\n\u001b[1;32m  11399\u001b[0m     \u001b[39m*\u001b[39m\u001b[39m*\u001b[39mkwargs,\n\u001b[1;32m  11400\u001b[0m ) \u001b[39m-\u001b[39m\u001b[39m>\u001b[39m Series \u001b[39m|\u001b[39m \u001b[39mfloat\u001b[39m:\n\u001b[0;32m> 11401\u001b[0m     \u001b[39mreturn\u001b[39;00m \u001b[39mself\u001b[39;49m\u001b[39m.\u001b[39;49m_stat_function(\n\u001b[1;32m  11402\u001b[0m         \u001b[39m\"\u001b[39;49m\u001b[39mmean\u001b[39;49m\u001b[39m\"\u001b[39;49m, nanops\u001b[39m.\u001b[39;49mnanmean, axis, skipna, level, numeric_only, \u001b[39m*\u001b[39;49m\u001b[39m*\u001b[39;49mkwargs\n\u001b[1;32m  11403\u001b[0m     )\n",
      "File \u001b[0;32m/opt/homebrew/lib/python3.10/site-packages/pandas/core/generic.py:11353\u001b[0m, in \u001b[0;36mNDFrame._stat_function\u001b[0;34m(self, name, func, axis, skipna, level, numeric_only, **kwargs)\u001b[0m\n\u001b[1;32m  11343\u001b[0m     warnings\u001b[39m.\u001b[39mwarn(\n\u001b[1;32m  11344\u001b[0m         \u001b[39m\"\u001b[39m\u001b[39mUsing the level keyword in DataFrame and Series aggregations is \u001b[39m\u001b[39m\"\u001b[39m\n\u001b[1;32m  11345\u001b[0m         \u001b[39m\"\u001b[39m\u001b[39mdeprecated and will be removed in a future version. Use groupby \u001b[39m\u001b[39m\"\u001b[39m\n\u001b[0;32m   (...)\u001b[0m\n\u001b[1;32m  11348\u001b[0m         stacklevel\u001b[39m=\u001b[39mfind_stack_level(),\n\u001b[1;32m  11349\u001b[0m     )\n\u001b[1;32m  11350\u001b[0m     \u001b[39mreturn\u001b[39;00m \u001b[39mself\u001b[39m\u001b[39m.\u001b[39m_agg_by_level(\n\u001b[1;32m  11351\u001b[0m         name, axis\u001b[39m=\u001b[39maxis, level\u001b[39m=\u001b[39mlevel, skipna\u001b[39m=\u001b[39mskipna, numeric_only\u001b[39m=\u001b[39mnumeric_only\n\u001b[1;32m  11352\u001b[0m     )\n\u001b[0;32m> 11353\u001b[0m \u001b[39mreturn\u001b[39;00m \u001b[39mself\u001b[39;49m\u001b[39m.\u001b[39;49m_reduce(\n\u001b[1;32m  11354\u001b[0m     func, name\u001b[39m=\u001b[39;49mname, axis\u001b[39m=\u001b[39;49maxis, skipna\u001b[39m=\u001b[39;49mskipna, numeric_only\u001b[39m=\u001b[39;49mnumeric_only\n\u001b[1;32m  11355\u001b[0m )\n",
      "File \u001b[0;32m/opt/homebrew/lib/python3.10/site-packages/pandas/core/series.py:4816\u001b[0m, in \u001b[0;36mSeries._reduce\u001b[0;34m(self, op, name, axis, skipna, numeric_only, filter_type, **kwds)\u001b[0m\n\u001b[1;32m   4812\u001b[0m     \u001b[39mraise\u001b[39;00m \u001b[39mNotImplementedError\u001b[39;00m(\n\u001b[1;32m   4813\u001b[0m         \u001b[39mf\u001b[39m\u001b[39m\"\u001b[39m\u001b[39mSeries.\u001b[39m\u001b[39m{\u001b[39;00mname\u001b[39m}\u001b[39;00m\u001b[39m does not implement \u001b[39m\u001b[39m{\u001b[39;00mkwd_name\u001b[39m}\u001b[39;00m\u001b[39m.\u001b[39m\u001b[39m\"\u001b[39m\n\u001b[1;32m   4814\u001b[0m     )\n\u001b[1;32m   4815\u001b[0m \u001b[39mwith\u001b[39;00m np\u001b[39m.\u001b[39merrstate(\u001b[39mall\u001b[39m\u001b[39m=\u001b[39m\u001b[39m\"\u001b[39m\u001b[39mignore\u001b[39m\u001b[39m\"\u001b[39m):\n\u001b[0;32m-> 4816\u001b[0m     \u001b[39mreturn\u001b[39;00m op(delegate, skipna\u001b[39m=\u001b[39;49mskipna, \u001b[39m*\u001b[39;49m\u001b[39m*\u001b[39;49mkwds)\n",
      "File \u001b[0;32m/opt/homebrew/lib/python3.10/site-packages/pandas/core/nanops.py:93\u001b[0m, in \u001b[0;36mdisallow.__call__.<locals>._f\u001b[0;34m(*args, **kwargs)\u001b[0m\n\u001b[1;32m     91\u001b[0m \u001b[39mtry\u001b[39;00m:\n\u001b[1;32m     92\u001b[0m     \u001b[39mwith\u001b[39;00m np\u001b[39m.\u001b[39merrstate(invalid\u001b[39m=\u001b[39m\u001b[39m\"\u001b[39m\u001b[39mignore\u001b[39m\u001b[39m\"\u001b[39m):\n\u001b[0;32m---> 93\u001b[0m         \u001b[39mreturn\u001b[39;00m f(\u001b[39m*\u001b[39;49margs, \u001b[39m*\u001b[39;49m\u001b[39m*\u001b[39;49mkwargs)\n\u001b[1;32m     94\u001b[0m \u001b[39mexcept\u001b[39;00m \u001b[39mValueError\u001b[39;00m \u001b[39mas\u001b[39;00m e:\n\u001b[1;32m     95\u001b[0m     \u001b[39m# we want to transform an object array\u001b[39;00m\n\u001b[1;32m     96\u001b[0m     \u001b[39m# ValueError message to the more typical TypeError\u001b[39;00m\n\u001b[1;32m     97\u001b[0m     \u001b[39m# e.g. this is normally a disallowed function on\u001b[39;00m\n\u001b[1;32m     98\u001b[0m     \u001b[39m# object arrays that contain strings\u001b[39;00m\n\u001b[1;32m     99\u001b[0m     \u001b[39mif\u001b[39;00m is_object_dtype(args[\u001b[39m0\u001b[39m]):\n",
      "File \u001b[0;32m/opt/homebrew/lib/python3.10/site-packages/pandas/core/nanops.py:155\u001b[0m, in \u001b[0;36mbottleneck_switch.__call__.<locals>.f\u001b[0;34m(values, axis, skipna, **kwds)\u001b[0m\n\u001b[1;32m    153\u001b[0m         result \u001b[39m=\u001b[39m alt(values, axis\u001b[39m=\u001b[39maxis, skipna\u001b[39m=\u001b[39mskipna, \u001b[39m*\u001b[39m\u001b[39m*\u001b[39mkwds)\n\u001b[1;32m    154\u001b[0m \u001b[39melse\u001b[39;00m:\n\u001b[0;32m--> 155\u001b[0m     result \u001b[39m=\u001b[39m alt(values, axis\u001b[39m=\u001b[39;49maxis, skipna\u001b[39m=\u001b[39;49mskipna, \u001b[39m*\u001b[39;49m\u001b[39m*\u001b[39;49mkwds)\n\u001b[1;32m    157\u001b[0m \u001b[39mreturn\u001b[39;00m result\n",
      "File \u001b[0;32m/opt/homebrew/lib/python3.10/site-packages/pandas/core/nanops.py:418\u001b[0m, in \u001b[0;36m_datetimelike_compat.<locals>.new_func\u001b[0;34m(values, axis, skipna, mask, **kwargs)\u001b[0m\n\u001b[1;32m    415\u001b[0m \u001b[39mif\u001b[39;00m datetimelike \u001b[39mand\u001b[39;00m mask \u001b[39mis\u001b[39;00m \u001b[39mNone\u001b[39;00m:\n\u001b[1;32m    416\u001b[0m     mask \u001b[39m=\u001b[39m isna(values)\n\u001b[0;32m--> 418\u001b[0m result \u001b[39m=\u001b[39m func(values, axis\u001b[39m=\u001b[39;49maxis, skipna\u001b[39m=\u001b[39;49mskipna, mask\u001b[39m=\u001b[39;49mmask, \u001b[39m*\u001b[39;49m\u001b[39m*\u001b[39;49mkwargs)\n\u001b[1;32m    420\u001b[0m \u001b[39mif\u001b[39;00m datetimelike:\n\u001b[1;32m    421\u001b[0m     result \u001b[39m=\u001b[39m _wrap_results(result, orig_values\u001b[39m.\u001b[39mdtype, fill_value\u001b[39m=\u001b[39miNaT)\n",
      "File \u001b[0;32m/opt/homebrew/lib/python3.10/site-packages/pandas/core/nanops.py:706\u001b[0m, in \u001b[0;36mnanmean\u001b[0;34m(values, axis, skipna, mask)\u001b[0m\n\u001b[1;32m    703\u001b[0m     dtype_count \u001b[39m=\u001b[39m dtype\n\u001b[1;32m    705\u001b[0m count \u001b[39m=\u001b[39m _get_counts(values\u001b[39m.\u001b[39mshape, mask, axis, dtype\u001b[39m=\u001b[39mdtype_count)\n\u001b[0;32m--> 706\u001b[0m the_sum \u001b[39m=\u001b[39m _ensure_numeric(values\u001b[39m.\u001b[39;49msum(axis, dtype\u001b[39m=\u001b[39;49mdtype_sum))\n\u001b[1;32m    708\u001b[0m \u001b[39mif\u001b[39;00m axis \u001b[39mis\u001b[39;00m \u001b[39mnot\u001b[39;00m \u001b[39mNone\u001b[39;00m \u001b[39mand\u001b[39;00m \u001b[39mgetattr\u001b[39m(the_sum, \u001b[39m\"\u001b[39m\u001b[39mndim\u001b[39m\u001b[39m\"\u001b[39m, \u001b[39mFalse\u001b[39;00m):\n\u001b[1;32m    709\u001b[0m     count \u001b[39m=\u001b[39m cast(np\u001b[39m.\u001b[39mndarray, count)\n",
      "File \u001b[0;32m/opt/homebrew/lib/python3.10/site-packages/pandas/core/nanops.py:1637\u001b[0m, in \u001b[0;36m_ensure_numeric\u001b[0;34m(x)\u001b[0m\n\u001b[1;32m   1634\u001b[0m             x \u001b[39m=\u001b[39m \u001b[39mcomplex\u001b[39m(x)\n\u001b[1;32m   1635\u001b[0m         \u001b[39mexcept\u001b[39;00m \u001b[39mValueError\u001b[39;00m \u001b[39mas\u001b[39;00m err:\n\u001b[1;32m   1636\u001b[0m             \u001b[39m# e.g. \"foo\"\u001b[39;00m\n\u001b[0;32m-> 1637\u001b[0m             \u001b[39mraise\u001b[39;00m \u001b[39mTypeError\u001b[39;00m(\u001b[39mf\u001b[39m\u001b[39m\"\u001b[39m\u001b[39mCould not convert \u001b[39m\u001b[39m{\u001b[39;00mx\u001b[39m}\u001b[39;00m\u001b[39m to numeric\u001b[39m\u001b[39m\"\u001b[39m) \u001b[39mfrom\u001b[39;00m \u001b[39merr\u001b[39;00m\n\u001b[1;32m   1638\u001b[0m \u001b[39mreturn\u001b[39;00m x\n",
      "\u001b[0;31mTypeError\u001b[0m: Could not convert AprJunAugSepAprAprAprAprAprAprAprAprAprAprAprAprAprAprAprAprAprAprAprAprAprAprAprAprAprAprAprAprAprMaiMaiMaiMaiMaiMaiMaiMaiMaiMaiJunJunJunJunJunJunJunJunJunJunJunJunJunJunJunJunJunJunJulJulJulJulJulJulJulJulJulJulJulJulJulJulJulJulJulJulJulJulJulJulJulJulJulJulJulJulJulJulJulAugAugAugAugAugAugAugAugAugAugAugAugAugAugAugAugAugAugAugAugAugAugAugAugAugAugAugAugAugAugSepSepSepSepSepSepSepSepSepSepSepSepSepSepSepSepSepSepSepSepSepSepSepSepSepSepSepSepSepOktOktOktOktOktOktOktOktOktOktOktOktOktOktOktOktOktOktOktOktOktOktOktOktOktOktOktOktOktOkt to numeric"
     ]
    }
   ],
   "source": [
    "for col in data.columns:\n",
    "    if col not in [\"Auslastung %\", \"Gesamt\", 'Jahr', 'Monat', 'Tag', 'Wochentag', 'Saison', 'Max Kap', 'Sperrung.', 'Internet', 'Weekend', 'Stunde', 'Minute', 'time', \"davon freie Kap\", \"Gäste\", \"MGL Gesa.\", \"Jugend\", \"MGL 18-40\", \"MGL 40-50\", \"MGL 50-65\", \"MGL 65+\"]:\n",
    "        data2 = data.groupby(['Jahr', \"time\"])[col].mean()\n",
    "        data2 = data2.reset_index()\n",
    "        #fig = px.line(data2, x='time', y=col, color='Jahr', title=f'Auslastung GC Kronberg {col} in % pro Startzeit für 2021 und 2022', labels={'time': 'Startzeit', col: 'Auslastung in %'})\n",
    "        \n",
    "        fig = go.Figure()\n",
    "        fig.add_trace(go.Scatter(x=data2[data2[\"Jahr\"] == 2021][\"time\"], y=data2[data2[\"Jahr\"] == 2021][col], mode=\"lines\", name=\"2021\", marker=dict(color=\"Red\", size=10), line=dict(width=5)))\n",
    "        fig.add_trace(go.Scatter(x=data2[data2[\"Jahr\"] == 2022][\"time\"], y=data2[data2[\"Jahr\"] == 2022][col], mode=\"lines\", name=\"2022\", marker=dict(color=\"Blue\", size=10), line=dict(width=5)))\n",
    "        \n",
    "        #title \n",
    "        fig.update_layout(title=f'Auslastung GC Kronberg {col} in % pro Startzeit für 2021 und 2022', font=dict(size=20))\n",
    "        \n",
    "        #plot data in the same graph\n",
    "        data3 = data.groupby([\"time\"])[col].mean()\n",
    "        data3 = data3.reset_index()\n",
    "       # fig.add_trace(go.Scatter(x=data3[\"time\"], y=data3[col], mode=\"lines\", name=\"Durchschnitt\", marker=dict(color=\"Black\", size=10)))\n",
    "        fig.layout.yaxis.tickformat = ',.0%'\n",
    "        fig.update_layout(font=dict(size=25))\n",
    "        \n",
    "        fig.update_layout(width=1600)\n",
    "            \n",
    "        data2_2021 = data2[data2[\"Jahr\"] == 2021]\n",
    "        data2_2022 = data2[data2[\"Jahr\"] == 2022]\n",
    "        \n",
    "        # markiere max und min für jedes Jahr\n",
    "        fig.add_trace(go.Scatter(x=[data2_2021[data2_2021[col] == data2_2021[col].max()][\"time\"].values[0]], y=[data2_2021[col].max()], mode=\"markers\", name=\"Höchste Auslastung 2021\", marker=dict(color=\"Green\", size=10)))\n",
    "        fig.add_trace(go.Scatter(x=[data2_2021[data2_2021[col] == data2_2021[col].min()][\"time\"].values[0]], y=[data2_2021[col].min()], mode=\"markers\", name=\"Geringste Auslastung 2021\", marker=dict(color=\"Orange\", size=10)))\n",
    "        fig.add_trace(go.Scatter(x=[data2_2022[data2_2022[col] == data2_2022[col].max()][\"time\"].values[0]], y=[data2_2022[col].max()], mode=\"markers\", name=\"Höchste Auslastung 2022\", marker=dict(color=\"Red\", size=10)))\n",
    "        fig.add_trace(go.Scatter(x=[data2_2022[data2_2022[col] == data2_2022[col].min()][\"time\"].values[0]], y=[data2_2022[col].min()], mode=\"markers\", name=\"Geringste Auslastung 2022\", marker=dict(color=\"Purple\", size=10)))\n",
    "           \n",
    "        #fig.add_trace(go.Scatter(x=[data3[data3[col] == data3[col].max()][\"time\"].values[0]], y=[data3[col].max()], mode=\"markers\", name=\"Höchste Auslastung 21/22\", marker=dict(color=\"Black\", size=10)))\n",
    "       # fig.add_trace(go.Scatter(x=[data3[data3[col] == data3[col].min()][\"time\"].values[0]], y=[data3[col].min()], mode=\"markers\", name=\"Geringste Auslastung 21/22\", marker=dict(color=\"Yellow\", size=10)))\n",
    "     \n",
    "        fig.write_image(f\"../plots/gc_kronberg_jahr_startzeit/{col}.png\")\n",
    "        fig.show()\n",
    "        fig.add_shape(type=\"line\", x0=0, y0=1, x1=max(data2[\"time\"]), y1=1, line=dict(color=\"Red\", width=2))\n",
    "        fig.write_image(f\"../plots/gc_kronberg_jahr_startzeit/{col}_with_max.png\")\n",
    "       # fig.show()"
   ]
  },
  {
   "cell_type": "code",
   "execution_count": null,
   "metadata": {},
   "outputs": [],
   "source": [
    "for col in data.columns:\n",
    "    if col not in [\"Auslastung %\", \"Gesamt\", 'Jahr', 'Monat', 'Tag', 'Wochentag', 'Saison', 'Max Kap', 'Sperrung.', 'Internet', 'Weekend', 'Stunde', 'Minute', 'time', \"davon freie Kap\", \"Gäste\", \"MGL Gesa.\", \"Jugend\", \"MGL 18-40\", \"MGL 40-50\", \"MGL 50-65\", \"MGL 65+\"]:\n",
    "        data2 = data.groupby(['Saison', \"time\"])[col].mean()\n",
    "        data2 = data2.reset_index()\n",
    "        fig = px.line(data2, x='time', y=col, color='Saison', title=f'Auslastung GC Kronberg {col} in % pro Startzeit für Saison in 2021 und 2022', labels={'time': 'Startzeit', col: 'Auslastung in %'})\n",
    "        \n",
    "        #plot data in the same graph\n",
    "        data3 = data.groupby([\"time\"])[col].mean()\n",
    "        data3 = data3.reset_index()\n",
    "       # fig.add_trace(go.Scatter(x=data3[\"Wochentag\"], y=data3[col], mode=\"lines\", name=\"Durchschnitt\", marker=dict(color=\"Black\", size=10)))\n",
    "        fig.layout.yaxis.tickformat = ',.0%'\n",
    "        \n",
    "        fig.update_layout(width=2000)\n",
    "\n",
    "        \n",
    "        data2_apr_mai = data2[data2[\"Saison\"] == \"April - Mai\"]\n",
    "        data2_juni_juli = data2[data2[\"Saison\"] == \"Juni - Juli\"]\n",
    "        data2_aug_sept = data2[data2[\"Saison\"] == \"August - September\"]\n",
    "        data2_okt = data2[data2[\"Saison\"] == \"Oktober\"]\n",
    "        \n",
    "        # markiere max und min für jedes Jahr\n",
    "        fig.add_trace(go.Scatter(x=[data2_apr_mai[data2_apr_mai[col] == data2_apr_mai[col].max()][\"time\"].values[0]], y=[data2_apr_mai[col].max()], mode=\"markers\", name=\"Höchste Auslastung April - Mai\", marker=dict(color=\"Green\", size=10)))\n",
    "        fig.add_trace(go.Scatter(x=[data2_apr_mai[data2_apr_mai[col] == data2_apr_mai[col].min()][\"time\"].values[0]], y=[data2_apr_mai[col].min()], mode=\"markers\", name=\"Geringste Auslastung April - Mai\", marker=dict(color=\"Orange\", size=10)))\n",
    "        fig.add_trace(go.Scatter(x=[data2_juni_juli[data2_juni_juli[col] == data2_juni_juli[col].max()][\"time\"].values[0]], y=[data2_juni_juli[col].max()], mode=\"markers\", name=\"Höchste Auslastung Juni - Juli\", marker=dict(color=\"Red\", size=10)))\n",
    "        fig.add_trace(go.Scatter(x=[data2_juni_juli[data2_juni_juli[col] == data2_juni_juli[col].min()][\"time\"].values[0]], y=[data2_juni_juli[col].min()], mode=\"markers\", name=\"Geringste Auslastung Juni - Juli\", marker=dict(color=\"Purple\", size=10)))\n",
    "        fig.add_trace(go.Scatter(x=[data2_aug_sept[data2_aug_sept[col] == data2_aug_sept[col].max()][\"time\"].values[0]], y=[data2_aug_sept[col].max()], mode=\"markers\", name=\"Höchste Auslastung August - September\", marker=dict(color=\"Blue\", size=10))) \n",
    "        fig.add_trace(go.Scatter(x=[data2_aug_sept[data2_aug_sept[col] == data2_aug_sept[col].min()][\"time\"].values[0]], y=[data2_aug_sept[col].min()], mode=\"markers\", name=\"Geringste Auslastung August - September\", marker=dict(color=\"Pink\", size=10)))\n",
    "        fig.add_trace(go.Scatter(x=[data2_okt[data2_okt[col] == data2_okt[col].max()][\"time\"].values[0]], y=[data2_okt[col].max()], mode=\"markers\", name=\"Höchste Auslastung Oktober\", marker=dict(color=\"Brown\", size=10)))\n",
    "        fig.add_trace(go.Scatter(x=[data2_okt[data2_okt[col] == data2_okt[col].min()][\"time\"].values[0]], y=[data2_okt[col].min()], mode=\"markers\", name=\"Geringste Auslastung Oktober\", marker=dict(color=\"Grey\", size=10)))\n",
    "     \n",
    "          \n",
    "        #fig.add_trace(go.Scatter(x=[data3[data3[col] == data3[col].max()][\"Wochentag\"].values[0]], y=[data3[col].max()], mode=\"markers\", name=\"Höchste Auslastung 21/22\", marker=dict(color=\"Black\", size=10)))\n",
    "        #fig.add_trace(go.Scatter(x=[data3[data3[col] == data3[col].min()][\"Wochentag\"].values[0]], y=[data3[col].min()], mode=\"markers\", name=\"Geringste Auslastung 21/22\", marker=dict(color=\"Yellow\", size=10)))\n",
    "     \n",
    "        fig.write_image(f\"../plots/gc_kronberg_saison_startzeit/{col}.png\")\n",
    "        fig.show()\n",
    "        fig.add_shape(type=\"line\", x0=0, y0=1, x1=max(data2[\"time\"]), y1=1, line=dict(color=\"Red\", width=2))\n",
    "        fig.write_image(f\"../plots/gc_kronberg_saison_startzeit/{col}_with_max.png\")\n",
    "       # fig.show()"
   ]
  },
  {
   "cell_type": "code",
   "execution_count": null,
   "metadata": {},
   "outputs": [],
   "source": [
    "for col in data.columns:\n",
    "    if col not in [\"Auslastung %\", \"Gesamt\", 'Jahr', 'Monat', 'Tag', 'Wochentag', 'Saison', 'Max Kap', 'Sperrung.', 'Internet', 'Weekend', 'Stunde', 'Minute', 'time', \"davon freie Kap\", \"Gäste\", \"MGL Gesa.\", \"Jugend\", \"MGL 18-40\", \"MGL 40-50\", \"MGL 50-65\", \"MGL 65+\"]:\n",
    "        data2 = data[data[\"Stunde\"].isin([6, 7, 8, 9, 10, 11, 12, 13, 14, 15, 16, 17, 18, 19, 20, 21, 22])]\n",
    "        data2 = data2.groupby(['Jahr', \"Stunde\"])[col].mean()\n",
    "        data2 = data2.reset_index()\n",
    "        fig = px.line(data2, x='Stunde', y=col, color='Jahr', title=f'Auslastung GC Kronberg {col} in % pro Stunde für 2021 und 2022', labels={'Stunde': 'Stunde', col: 'Auslastung in %'})\n",
    "        \n",
    "        #plot data in the same graph\n",
    "        data3 = data.groupby([\"Stunde\"])[col].mean()\n",
    "        data3 = data3.reset_index()\n",
    "       # fig.add_trace(go.Scatter(x=data3[\"Stunde\"], y=data3[col], mode=\"lines\", name=\"Durchschnitt\", marker=dict(color=\"Black\", size=10)))\n",
    "        \n",
    "        fig.layout.yaxis.tickformat = ',.0%'\n",
    "        fig.update_xaxes(tickvals=[0, 1, 2, 3, 4, 5, 6, 7, 8, 9, 10, 11, 12, 13, 14, 15, 16, 17, 18, 19, 20, 21, 22, 23])\n",
    "        \n",
    "        fig.update_layout(width=1600)\n",
    "            \n",
    "        data2_2021 = data2[data2[\"Jahr\"] == 2021]\n",
    "        data2_2022 = data2[data2[\"Jahr\"] == 2022]\n",
    "        \n",
    "        # markiere max und min für jedes Jahr\n",
    "        fig.add_trace(go.Scatter(x=[data2_2021[data2_2021[col] == data2_2021[col].max()][\"Stunde\"].values[0]], y=[data2_2021[col].max()], mode=\"markers\", name=\"Höchste Auslastung 2021\", marker=dict(color=\"Green\", size=10)))\n",
    "        fig.add_trace(go.Scatter(x=[data2_2021[data2_2021[col] == data2_2021[col].min()][\"Stunde\"].values[0]], y=[data2_2021[col].min()], mode=\"markers\", name=\"Geringste Auslastung 2021\", marker=dict(color=\"Orange\", size=10)))\n",
    "        fig.add_trace(go.Scatter(x=[data2_2022[data2_2022[col] == data2_2022[col].max()][\"Stunde\"].values[0]], y=[data2_2022[col].max()], mode=\"markers\", name=\"Höchste Auslastung 2022\", marker=dict(color=\"Red\", size=10)))\n",
    "        fig.add_trace(go.Scatter(x=[data2_2022[data2_2022[col] == data2_2022[col].min()][\"Stunde\"].values[0]], y=[data2_2022[col].min()], mode=\"markers\", name=\"Geringste Auslastung 2022\", marker=dict(color=\"Purple\", size=10)))\n",
    "           \n",
    "     #   fig.add_trace(go.Scatter(x=[data3[data3[col] == data3[col].max()][\"Stunde\"].values[0]], y=[data3[col].max()], mode=\"markers\", name=\"Höchste Auslastung 21/22\", marker=dict(color=\"Black\", size=10)))\n",
    "      #  fig.add_trace(go.Scatter(x=[data3[data3[col] == data3[col].min()][\"Stunde\"].values[0]], y=[data3[col].min()], mode=\"markers\", name=\"Geringste Auslastung 21/22\", marker=dict(color=\"Yellow\", size=10)))\n",
    "     \n",
    "        fig.write_image(f\"../plots/gc_kronberg_jahr_stunde/{col}.png\")\n",
    "        fig.show()\n",
    "        fig.add_shape(type=\"line\", x0=0, y0=1, x1=max(data2[\"Stunde\"]), y1=1, line=dict(color=\"Red\", width=2))\n",
    "        fig.write_image(f\"../plots/gc_kronberg_jahr_stunde/{col}_with_max.png\")\n",
    "       # fig.show()"
   ]
  },
  {
   "cell_type": "code",
   "execution_count": null,
   "metadata": {},
   "outputs": [],
   "source": [
    "for col in data.columns:\n",
    "    if col not in [\"Auslastung %\", \"Gesamt\", 'Jahr', 'Monat', 'Tag', 'Wochentag', 'Saison', 'Max Kap', 'Sperrung.', 'Internet', 'Weekend', 'Stunde', 'Minute', 'time', \"davon freie Kap\", \"Gäste\", \"MGL Gesa.\", \"Jugend\", \"MGL 18-40\", \"MGL 40-50\", \"MGL 50-65\", \"MGL 65+\"]:\n",
    "        data2 = data[data[\"Stunde\"].isin([6, 7, 8, 9, 10, 11, 12, 13, 14, 15, 16, 17, 18, 19, 20, 21, 22])]\n",
    "        data2 = data2.groupby(['Saison', \"Stunde\"])[col].mean()\n",
    "        data2 = data2.reset_index()\n",
    "        fig = px.line(data2, x='Stunde', y=col, color='Saison', title=f'Auslastung GC Kronberg {col} in % pro Stunde für Saison in 2021 und 2022', labels={'Stunde': 'Stunde', col: 'Auslastung in %'})\n",
    "        \n",
    "        #plot data in the same graph\n",
    "        data3 = data.groupby([\"Stunde\"])[col].mean()\n",
    "        data3 = data3.reset_index()\n",
    "       # fig.add_trace(go.Scatter(x=data3[\"Wochentag\"], y=data3[col], mode=\"lines\", name=\"Durchschnitt\", marker=dict(color=\"Black\", size=10)))\n",
    "        \n",
    "        fig.layout.yaxis.tickformat = ',.0%'\n",
    "        \n",
    "        fig.update_xaxes(tickvals=[0, 1, 2, 3, 4, 5, 6, 7, 8, 9, 10, 11, 12, 13, 14, 15, 16, 17, 18, 19, 20, 21, 22, 23])\n",
    "        \n",
    "        fig.update_layout(width=1600)\n",
    "\n",
    "        data2_apr_mai = data2[data2[\"Saison\"] == \"April - Mai\"]\n",
    "        data2_juni_juli = data2[data2[\"Saison\"] == \"Juni - Juli\"]\n",
    "        data2_aug_sept = data2[data2[\"Saison\"] == \"August - September\"]\n",
    "        data2_okt = data2[data2[\"Saison\"] == \"Oktober\"]\n",
    "        \n",
    "        # markiere max und min für jedes Jahr\n",
    "        fig.add_trace(go.Scatter(x=[data2_apr_mai[data2_apr_mai[col] == data2_apr_mai[col].max()][\"Stunde\"].values[0]], y=[data2_apr_mai[col].max()], mode=\"markers\", name=\"Höchste Auslastung April - Mai\", marker=dict(color=\"Green\", size=10)))\n",
    "        fig.add_trace(go.Scatter(x=[data2_apr_mai[data2_apr_mai[col] == data2_apr_mai[col].min()][\"Stunde\"].values[0]], y=[data2_apr_mai[col].min()], mode=\"markers\", name=\"Geringste Auslastung April - Mai\", marker=dict(color=\"Orange\", size=10)))\n",
    "        fig.add_trace(go.Scatter(x=[data2_juni_juli[data2_juni_juli[col] == data2_juni_juli[col].max()][\"Stunde\"].values[0]], y=[data2_juni_juli[col].max()], mode=\"markers\", name=\"Höchste Auslastung Juni - Juli\", marker=dict(color=\"Red\", size=10)))\n",
    "        fig.add_trace(go.Scatter(x=[data2_juni_juli[data2_juni_juli[col] == data2_juni_juli[col].min()][\"Stunde\"].values[0]], y=[data2_juni_juli[col].min()], mode=\"markers\", name=\"Geringste Auslastung Juni - Juli\", marker=dict(color=\"Purple\", size=10)))\n",
    "        fig.add_trace(go.Scatter(x=[data2_aug_sept[data2_aug_sept[col] == data2_aug_sept[col].max()][\"Stunde\"].values[0]], y=[data2_aug_sept[col].max()], mode=\"markers\", name=\"Höchste Auslastung August - September\", marker=dict(color=\"Blue\", size=10))) \n",
    "        fig.add_trace(go.Scatter(x=[data2_aug_sept[data2_aug_sept[col] == data2_aug_sept[col].min()][\"Stunde\"].values[0]], y=[data2_aug_sept[col].min()], mode=\"markers\", name=\"Geringste Auslastung August - September\", marker=dict(color=\"Pink\", size=10)))\n",
    "        fig.add_trace(go.Scatter(x=[data2_okt[data2_okt[col] == data2_okt[col].max()][\"Stunde\"].values[0]], y=[data2_okt[col].max()], mode=\"markers\", name=\"Höchste Auslastung Oktober\", marker=dict(color=\"Brown\", size=10)))\n",
    "        fig.add_trace(go.Scatter(x=[data2_okt[data2_okt[col] == data2_okt[col].min()][\"Stunde\"].values[0]], y=[data2_okt[col].min()], mode=\"markers\", name=\"Geringste Auslastung Oktober\", marker=dict(color=\"Grey\", size=10)))\n",
    "          \n",
    "        #fig.add_trace(go.Scatter(x=[data3[data3[col] == data3[col].max()][\"Wochentag\"].values[0]], y=[data3[col].max()], mode=\"markers\", name=\"Höchste Auslastung 21/22\", marker=dict(color=\"Black\", size=10)))\n",
    "        #fig.add_trace(go.Scatter(x=[data3[data3[col] == data3[col].min()][\"Wochentag\"].values[0]], y=[data3[col].min()], mode=\"markers\", name=\"Geringste Auslastung 21/22\", marker=dict(color=\"Yellow\", size=10)))\n",
    "     \n",
    "        fig.write_image(f\"../plots/gc_kronberg_saison_stunde/{col}.png\")\n",
    "        fig.show()\n",
    "        fig.add_shape(type=\"line\", x0=0, y0=1, x1=max(data2[\"Stunde\"]), y1=1, line=dict(color=\"Red\", width=2))\n",
    "        fig.write_image(f\"../plots/gc_kronberg_saison_stunde/{col}_with_max.png\")\n",
    "       # fig.show()"
   ]
  },
  {
   "cell_type": "code",
   "execution_count": null,
   "metadata": {},
   "outputs": [],
   "source": [
    "data_2021 = data[data[\"Jahr\"] == 2021]\n",
    "data_2022 = data[data[\"Jahr\"] == 2022]\n",
    "\n",
    "plot_data_2021 = data_2021.groupby([\"Wochentag\", \"time\"])[\"Auslastung %\"].mean().reset_index()\n",
    "plot_data_2022 = data_2022.groupby([\"Wochentag\", \"time\"])[\"Auslastung %\"].mean().reset_index()\n",
    "plot_data_both = data.groupby([\"Wochentag\", \"time\"])[\"Auslastung %\"].mean().reset_index()\n",
    "\n",
    "day_dict = {\"Mo\": \"Montag\", \"Di\": \"Dienstag\", \"Mi\": \"Mittwoch\", \"Do\": \"Donnerstag\", \"Fr\": \"Freitag\", \"Sa\": \"Samstag\", \"So\": \"Sonntag\"}\n",
    "\n",
    "os.makedirs(\"../plots/gc_kronberg_tag_startzeit\", exist_ok=True)\n",
    "\n",
    "for day in data_2021[\"Wochentag\"].unique():\n",
    "    data2 = plot_data_2021[plot_data_2021[\"Wochentag\"] == day]\n",
    "    data3 = plot_data_2022[plot_data_2022[\"Wochentag\"] == day]\n",
    "    fig = px.line(data2, x='time', y=\"Auslastung %\", title=f'Auslastung der Startzeiten in % für {day_dict[day]}e in 2021', labels={'time': 'Startzeit', 'Auslastung %': 'Auslastung in %'})\n",
    "    fig.update_layout(width=1600)\n",
    "    fig.update_yaxes(tickformat = ',.0%')\n",
    "    fig.show()\n",
    "    \n",
    "    fig2 = px.line(data3, x='time', y=\"Auslastung %\", title=f'Auslastung der Startzeiten in % für {day_dict[day]}e in 2022', labels={'time': 'Startzeit', 'Auslastung %': 'Auslastung in %'})\n",
    "    fig2.update_layout(width=1600)\n",
    "    fig2.update_yaxes(tickformat = ',.0%')\n",
    "    fig2.show()\n",
    "    \n",
    "    fig3 = px.line(plot_data_both[plot_data_both[\"Wochentag\"] == day], x='time', y=\"Auslastung %\", title=f'Auslastung der Startzeiten in % für {day_dict[day]}e in 2021 und 2022', labels={'time': 'Startzeit', 'Auslastung %': 'Auslastung in %'})\n",
    "    fig3.update_layout(width=1600)\n",
    "    fig3.update_yaxes(tickformat = ',.0%')\n",
    "    fig3.show()\n",
    "    \n",
    "    fig.write_image(f\"../plots/gc_kronberg_tag_startzeit/{day}_2021.png\")\n",
    "    fig2.write_image(f\"../plots/gc_kronberg_tag_startzeit/{day}_2022.png\")"
   ]
  },
  {
   "cell_type": "code",
   "execution_count": null,
   "metadata": {},
   "outputs": [],
   "source": [
    "data2 = pd.DataFrame(data.groupby(['Wochentag', \"time\"])[\"Auslastung Gesamt\"].mean())\n",
    "data2 = data2.reset_index()\n",
    "\n",
    "times = [\"06:00\", \"07:00\", \"08:00\", \"09:00\", \"10:00\", \"11:00\", \"12:00\", \"13:00\", \"14:00\", \"15:00\", \"16:00\", \"17:00\", \"18:00\", \"19:00\", \"20:00\", \"21:00\", \"22:00\"]\n",
    "\n",
    "os.makedirs(\"../csv/best_times\", exist_ok=True)\n",
    "\n",
    "for i in range(len(times)-2):\n",
    "    print(times[i] +\" - \"+ times[i+2])\n",
    "    data2[(data2[\"time\"] >= times[i]) & (data2[\"time\"] <= times[i+2])].sort_values(by=[\"Wochentag\", \"Auslastung Gesamt\"]).to_csv(f\"../csv/best_times/{times[i]}_{times[i+2]}.csv\")\n",
    "                                            "
   ]
  },
  {
   "cell_type": "code",
   "execution_count": null,
   "metadata": {},
   "outputs": [],
   "source": [
    "data2 = pd.DataFrame(data.groupby(['Wochentag', \"time\"])[\"Auslastung Gesamt\"].mean())\n",
    "data2 = data2.reset_index()\n",
    "\n",
    "starttime = \"17:00\"\n",
    "endtime = \"17:30\"\n",
    "\n",
    "day = \"Montag\"\n",
    "\n",
    "if(day == \"\"):\n",
    "    show_data = data2[(data2[\"time\"] >= starttime) & (data2[\"time\"] <= endtime)].sort_values(by=[\"Wochentag\", \"Auslastung Gesamt\"])\n",
    "else:\n",
    "    show_data = data2[(data2[\"time\"] >= starttime) & (data2[\"time\"] <= endtime) & (data2[\"Wochentag\"] == day)].sort_values(by=[\"Wochentag\", \"Auslastung Gesamt\"])\n",
    "    \n",
    "show_data.head(50).to_csv(f\"../csv/best_times/{starttime}_{endtime}_{day}.csv\")\n",
    "show_data.head(50)"
   ]
  },
  {
   "cell_type": "code",
   "execution_count": null,
   "metadata": {},
   "outputs": [],
   "source": [
    "fig, axes = plt.subplots(nrows=4,ncols=2)\n",
    "fig.set_size_inches(12, 18)\n",
    "sns.boxplot(data=data,y=\"Gesamt\",orient=\"v\",ax=axes[0][0])\n",
    "sns.boxplot(data=data,y=\"Gesamt\",x=\"Saison\",orient=\"v\",ax=axes[0][1])\n",
    "sns.boxplot(data=data,y=\"Gesamt\",x=\"Tag\",orient=\"v\",ax=axes[1][0])\n",
    "sns.boxplot(data=data,y=\"Gesamt\",x=\"Weekend\",orient=\"v\",ax=axes[1][1])\n",
    "sns.boxplot(data=data,y=\"Gesamt\",x=\"Wochentag\",orient=\"v\",ax=axes[2][0])\n",
    "sns.boxplot(data=data,y=\"Gesamt\",x=\"Monat\",orient=\"v\",ax=axes[2][1])\n",
    "sns.boxplot(data=data,y=\"Gesamt\",x=\"Jahr\",orient=\"v\",ax=axes[3][0])\n",
    "\n",
    "axes[0][0].set(ylabel='Gesamt',title=\"Box Plot On Count\")\n",
    "axes[0][1].set(xlabel='Saison', ylabel='Count',title=\"Box Plot On Count Across Saison\")\n",
    "axes[1][0].set(xlabel='Tag', ylabel='Count',title=\"Box Plot On Count Across Tag\")\n",
    "axes[1][1].set(xlabel='Weekend', ylabel='Count',title=\"Box Plot On Count Across Weekend\")\n",
    "axes[2][0].set(xlabel='Wochentag', ylabel='Count',title=\"Box Plot On Count Across Wochentag\")\n",
    "axes[2][1].set(xlabel='Monat', ylabel='Count',title=\"Box Plot On Count Across Monat\")\n",
    "axes[3][0].set(xlabel='Jahr', ylabel='Count',title=\"Box Plot On Count Across Jahr\")"
   ]
  }
 ],
 "metadata": {
  "kernelspec": {
   "display_name": "Python 3",
   "language": "python",
   "name": "python3"
  },
  "language_info": {
   "codemirror_mode": {
    "name": "ipython",
    "version": 3
   },
   "file_extension": ".py",
   "mimetype": "text/x-python",
   "name": "python",
   "nbconvert_exporter": "python",
   "pygments_lexer": "ipython3",
   "version": "3.10.9"
  },
  "orig_nbformat": 4
 },
 "nbformat": 4,
 "nbformat_minor": 2
}
